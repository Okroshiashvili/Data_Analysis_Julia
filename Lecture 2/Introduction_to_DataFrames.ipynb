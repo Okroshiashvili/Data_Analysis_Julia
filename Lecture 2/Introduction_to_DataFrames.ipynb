{
 "cells": [
  {
   "cell_type": "markdown",
   "metadata": {},
   "source": [
    "# Introduction to `DataFrames.jl`\n",
    "\n",
    "---\n",
    "\n",
    "**DataFrames.jl** is a Julia library which can be used to manipulate, clean, and query data. It was created by [Bogumił Kamiński](https://github.com/bkamins) in 2013, and is an open source project. DataFrames.jl provides a set of tools for working with tabular data in Julia.  Its design and functionality are similar to those of Pandas\n",
    "\n",
    "\n",
    "\n",
    "### Lecture outline\n",
    "\n",
    "---\n",
    "\n",
    "* Construct DataFrame\n",
    "\n",
    "\n",
    "* Shape, Size, Type, and Dimension of DataFrame\n",
    "\n",
    "\n",
    "* Selection and Filtering\n",
    "\n",
    "\n",
    "* Set index, reset index, and reindex\n",
    "\n",
    "\n",
    "* Dropping Entries\n",
    "\n",
    "\n",
    "* Sorting\n",
    "\n",
    "\n",
    "* Column Rename, Reorder, Insertion, Deletion\n",
    "\n",
    "\n",
    "* Unique Values and Value Counts\n",
    "\n",
    "\n",
    "* Statistics with DataFrame"
   ]
  },
  {
   "cell_type": "markdown",
   "metadata": {},
   "source": [
    "#### Reference\n",
    "\n",
    "---\n",
    "\n",
    "[DataFrames tutorial by Bogumił Kamiński](https://github.com/bkamins/Julia-DataFrames-Tutorial)"
   ]
  },
  {
   "cell_type": "code",
   "execution_count": 1,
   "metadata": {
    "ExecuteTime": {
     "end_time": "2021-05-22T12:19:23.892000+04:00",
     "start_time": "2021-05-22T08:19:01.971Z"
    }
   },
   "outputs": [],
   "source": [
    "using Query\n",
    "using Queryverse\n",
    "using Statistics\n",
    "using StatsBase\n",
    "using DataFrames\n",
    "using FreqTables\n",
    "using Pipe: @pipe\n",
    "using Random"
   ]
  },
  {
   "cell_type": "code",
   "execution_count": 2,
   "metadata": {
    "ExecuteTime": {
     "end_time": "2021-05-22T12:19:24.788000+04:00",
     "start_time": "2021-05-22T08:19:02.623Z"
    }
   },
   "outputs": [
    {
     "data": {
      "text/plain": [
       "100"
      ]
     },
     "execution_count": 2,
     "metadata": {},
     "output_type": "execute_result"
    }
   ],
   "source": [
    "# Set number of columns to be shown\n",
    "ENV[\"COLUMNS\"] = 1000\n",
    "\n",
    "# Ser number of rows to be shown\n",
    "ENV[\"LINES\"] = 100"
   ]
  },
  {
   "cell_type": "markdown",
   "metadata": {},
   "source": [
    "## Construct DataFrames\n",
    "\n",
    "---\n",
    "\n",
    "Here, we will see how to create `DataFrame` using `DataFrame()` constructor"
   ]
  },
  {
   "cell_type": "code",
   "execution_count": 3,
   "metadata": {
    "ExecuteTime": {
     "end_time": "2021-05-22T12:19:28.868000+04:00",
     "start_time": "2021-05-22T08:19:04.029Z"
    }
   },
   "outputs": [
    {
     "data": {
      "text/html": [
       "<table class=\"data-frame\"><thead><tr><th></th></tr><tr><th></th></tr></thead><tbody><p>0 rows × 0 columns</p></tbody></table>"
      ],
      "text/latex": [
       "\\begin{tabular}{r|}\n",
       "\t& \\\\\n",
       "\t\\hline\n",
       "\t& \\\\\n",
       "\t\\hline\n",
       "\\end{tabular}\n"
      ],
      "text/plain": [
       "\u001b[1m0×0 DataFrame\u001b[0m"
      ]
     },
     "execution_count": 3,
     "metadata": {},
     "output_type": "execute_result"
    }
   ],
   "source": [
    "# Empty DataFrame\n",
    "\n",
    "DataFrame()"
   ]
  },
  {
   "cell_type": "code",
   "execution_count": 4,
   "metadata": {
    "ExecuteTime": {
     "end_time": "2021-05-22T12:19:30.040000+04:00",
     "start_time": "2021-05-22T08:19:04.547Z"
    }
   },
   "outputs": [
    {
     "data": {
      "text/html": [
       "<table class=\"data-frame\"><thead><tr><th></th><th>A</th><th>B</th><th>C</th><th>D</th></tr><tr><th></th><th>Int64</th><th>Float64</th><th>String</th><th>Int64</th></tr></thead><tbody><p>5 rows × 4 columns</p><tr><th>1</th><td>1</td><td>0.896732</td><td>Wmn</td><td>5</td></tr><tr><th>2</th><td>2</td><td>0.538045</td><td>XcZ</td><td>5</td></tr><tr><th>3</th><td>3</td><td>0.203244</td><td>BnX</td><td>5</td></tr><tr><th>4</th><td>4</td><td>0.439507</td><td>1LH</td><td>5</td></tr><tr><th>5</th><td>5</td><td>0.962897</td><td>AT7</td><td>5</td></tr></tbody></table>"
      ],
      "text/latex": [
       "\\begin{tabular}{r|cccc}\n",
       "\t& A & B & C & D\\\\\n",
       "\t\\hline\n",
       "\t& Int64 & Float64 & String & Int64\\\\\n",
       "\t\\hline\n",
       "\t1 & 1 & 0.896732 & Wmn & 5 \\\\\n",
       "\t2 & 2 & 0.538045 & XcZ & 5 \\\\\n",
       "\t3 & 3 & 0.203244 & BnX & 5 \\\\\n",
       "\t4 & 4 & 0.439507 & 1LH & 5 \\\\\n",
       "\t5 & 5 & 0.962897 & AT7 & 5 \\\\\n",
       "\\end{tabular}\n"
      ],
      "text/plain": [
       "\u001b[1m5×4 DataFrame\u001b[0m\n",
       "\u001b[1m Row \u001b[0m│\u001b[1m A     \u001b[0m\u001b[1m B        \u001b[0m\u001b[1m C      \u001b[0m\u001b[1m D     \u001b[0m\n",
       "\u001b[1m     \u001b[0m│\u001b[90m Int64 \u001b[0m\u001b[90m Float64  \u001b[0m\u001b[90m String \u001b[0m\u001b[90m Int64 \u001b[0m\n",
       "─────┼────────────────────────────────\n",
       "   1 │     1  0.896732  Wmn         5\n",
       "   2 │     2  0.538045  XcZ         5\n",
       "   3 │     3  0.203244  BnX         5\n",
       "   4 │     4  0.439507  1LH         5\n",
       "   5 │     5  0.962897  AT7         5"
      ]
     },
     "execution_count": 4,
     "metadata": {},
     "output_type": "execute_result"
    }
   ],
   "source": [
    "# DataFrame using keyword arguments\n",
    "\n",
    "DataFrame(A=1:5, B=rand(5), C=randstring.([3, 3, 3, 3, 3]), D=5)"
   ]
  },
  {
   "cell_type": "code",
   "execution_count": 5,
   "metadata": {
    "ExecuteTime": {
     "end_time": "2021-05-22T12:22:37.842000+04:00",
     "start_time": "2021-05-22T08:22:37.325Z"
    }
   },
   "outputs": [
    {
     "data": {
      "text/html": [
       "<table class=\"data-frame\"><thead><tr><th></th><th>population</th><th>state</th><th>year</th></tr><tr><th></th><th>Float64</th><th>String</th><th>Int64</th></tr></thead><tbody><p>6 rows × 3 columns</p><tr><th>1</th><td>1.5</td><td>Ohio</td><td>2000</td></tr><tr><th>2</th><td>1.7</td><td>Ohio</td><td>2001</td></tr><tr><th>3</th><td>3.6</td><td>Ohio</td><td>2002</td></tr><tr><th>4</th><td>2.4</td><td>Nevada</td><td>2001</td></tr><tr><th>5</th><td>2.9</td><td>Nevada</td><td>2002</td></tr><tr><th>6</th><td>3.2</td><td>Nevada</td><td>2003</td></tr></tbody></table>"
      ],
      "text/latex": [
       "\\begin{tabular}{r|ccc}\n",
       "\t& population & state & year\\\\\n",
       "\t\\hline\n",
       "\t& Float64 & String & Int64\\\\\n",
       "\t\\hline\n",
       "\t1 & 1.5 & Ohio & 2000 \\\\\n",
       "\t2 & 1.7 & Ohio & 2001 \\\\\n",
       "\t3 & 3.6 & Ohio & 2002 \\\\\n",
       "\t4 & 2.4 & Nevada & 2001 \\\\\n",
       "\t5 & 2.9 & Nevada & 2002 \\\\\n",
       "\t6 & 3.2 & Nevada & 2003 \\\\\n",
       "\\end{tabular}\n"
      ],
      "text/plain": [
       "\u001b[1m6×3 DataFrame\u001b[0m\n",
       "\u001b[1m Row \u001b[0m│\u001b[1m population \u001b[0m\u001b[1m state  \u001b[0m\u001b[1m year  \u001b[0m\n",
       "\u001b[1m     \u001b[0m│\u001b[90m Float64    \u001b[0m\u001b[90m String \u001b[0m\u001b[90m Int64 \u001b[0m\n",
       "─────┼───────────────────────────\n",
       "   1 │        1.5  Ohio     2000\n",
       "   2 │        1.7  Ohio     2001\n",
       "   3 │        3.6  Ohio     2002\n",
       "   4 │        2.4  Nevada   2001\n",
       "   5 │        2.9  Nevada   2002\n",
       "   6 │        3.2  Nevada   2003"
      ]
     },
     "execution_count": 5,
     "metadata": {},
     "output_type": "execute_result"
    }
   ],
   "source": [
    "# Create DataFrame from dictionary\n",
    "\n",
    "\n",
    "data = Dict(\"state\" => [\"Ohio\", \"Ohio\", \"Ohio\", \"Nevada\", \"Nevada\", \"Nevada\"],\n",
    "        \"year\" => [2000, 2001, 2002, 2001, 2002, 2003],\n",
    "        \"population\" => [1.5, 1.7, 3.6, 2.4, 2.9, 3.2])\n",
    "\n",
    "\n",
    "DataFrame(data)"
   ]
  },
  {
   "cell_type": "markdown",
   "metadata": {},
   "source": [
    "We can directly put Julia dict in `DataFrame()` constructor. The difference between this and the above approach is that here I will use `Symbol` to denote column names"
   ]
  },
  {
   "cell_type": "code",
   "execution_count": 6,
   "metadata": {
    "ExecuteTime": {
     "end_time": "2021-05-22T12:22:38.181000+04:00",
     "start_time": "2021-05-22T08:22:38.094Z"
    }
   },
   "outputs": [
    {
     "data": {
      "text/html": [
       "<table class=\"data-frame\"><thead><tr><th></th><th>state</th><th>population</th><th>year</th></tr><tr><th></th><th>String</th><th>Int64</th><th>Int64</th></tr></thead><tbody><p>6 rows × 3 columns</p><tr><th>1</th><td>Ohio</td><td>2000</td><td>2000</td></tr><tr><th>2</th><td>Ohio</td><td>2001</td><td>2001</td></tr><tr><th>3</th><td>Ohio</td><td>2002</td><td>2002</td></tr><tr><th>4</th><td>Nevada</td><td>2001</td><td>2001</td></tr><tr><th>5</th><td>Nevada</td><td>2002</td><td>2002</td></tr><tr><th>6</th><td>Nevada</td><td>2003</td><td>2003</td></tr></tbody></table>"
      ],
      "text/latex": [
       "\\begin{tabular}{r|ccc}\n",
       "\t& state & population & year\\\\\n",
       "\t\\hline\n",
       "\t& String & Int64 & Int64\\\\\n",
       "\t\\hline\n",
       "\t1 & Ohio & 2000 & 2000 \\\\\n",
       "\t2 & Ohio & 2001 & 2001 \\\\\n",
       "\t3 & Ohio & 2002 & 2002 \\\\\n",
       "\t4 & Nevada & 2001 & 2001 \\\\\n",
       "\t5 & Nevada & 2002 & 2002 \\\\\n",
       "\t6 & Nevada & 2003 & 2003 \\\\\n",
       "\\end{tabular}\n"
      ],
      "text/plain": [
       "\u001b[1m6×3 DataFrame\u001b[0m\n",
       "\u001b[1m Row \u001b[0m│\u001b[1m state  \u001b[0m\u001b[1m population \u001b[0m\u001b[1m year  \u001b[0m\n",
       "\u001b[1m     \u001b[0m│\u001b[90m String \u001b[0m\u001b[90m Int64      \u001b[0m\u001b[90m Int64 \u001b[0m\n",
       "─────┼───────────────────────────\n",
       "   1 │ Ohio          2000   2000\n",
       "   2 │ Ohio          2001   2001\n",
       "   3 │ Ohio          2002   2002\n",
       "   4 │ Nevada        2001   2001\n",
       "   5 │ Nevada        2002   2002\n",
       "   6 │ Nevada        2003   2003"
      ]
     },
     "execution_count": 6,
     "metadata": {},
     "output_type": "execute_result"
    }
   ],
   "source": [
    "DataFrame(:state => [\"Ohio\", \"Ohio\", \"Ohio\", \"Nevada\", \"Nevada\", \"Nevada\"],\n",
    "    :population => [2000, 2001, 2002, 2001, 2002, 2003],\n",
    "    :year => [2000, 2001, 2002, 2001, 2002, 2003])"
   ]
  },
  {
   "cell_type": "markdown",
   "metadata": {},
   "source": [
    "Despite the fact that using `Symbols` is preferred as it's faster, `DataFrame()` constructor can accept the string keys in dict"
   ]
  },
  {
   "cell_type": "code",
   "execution_count": 7,
   "metadata": {
    "ExecuteTime": {
     "end_time": "2021-05-22T12:22:53.207000+04:00",
     "start_time": "2021-05-22T08:22:53.121Z"
    }
   },
   "outputs": [
    {
     "data": {
      "text/html": [
       "<table class=\"data-frame\"><thead><tr><th></th><th>state</th><th>population</th><th>year</th></tr><tr><th></th><th>String</th><th>Int64</th><th>Int64</th></tr></thead><tbody><p>6 rows × 3 columns</p><tr><th>1</th><td>Ohio</td><td>2000</td><td>2000</td></tr><tr><th>2</th><td>Ohio</td><td>2001</td><td>2001</td></tr><tr><th>3</th><td>Ohio</td><td>2002</td><td>2002</td></tr><tr><th>4</th><td>Nevada</td><td>2001</td><td>2001</td></tr><tr><th>5</th><td>Nevada</td><td>2002</td><td>2002</td></tr><tr><th>6</th><td>Nevada</td><td>2003</td><td>2003</td></tr></tbody></table>"
      ],
      "text/latex": [
       "\\begin{tabular}{r|ccc}\n",
       "\t& state & population & year\\\\\n",
       "\t\\hline\n",
       "\t& String & Int64 & Int64\\\\\n",
       "\t\\hline\n",
       "\t1 & Ohio & 2000 & 2000 \\\\\n",
       "\t2 & Ohio & 2001 & 2001 \\\\\n",
       "\t3 & Ohio & 2002 & 2002 \\\\\n",
       "\t4 & Nevada & 2001 & 2001 \\\\\n",
       "\t5 & Nevada & 2002 & 2002 \\\\\n",
       "\t6 & Nevada & 2003 & 2003 \\\\\n",
       "\\end{tabular}\n"
      ],
      "text/plain": [
       "\u001b[1m6×3 DataFrame\u001b[0m\n",
       "\u001b[1m Row \u001b[0m│\u001b[1m state  \u001b[0m\u001b[1m population \u001b[0m\u001b[1m year  \u001b[0m\n",
       "\u001b[1m     \u001b[0m│\u001b[90m String \u001b[0m\u001b[90m Int64      \u001b[0m\u001b[90m Int64 \u001b[0m\n",
       "─────┼───────────────────────────\n",
       "   1 │ Ohio          2000   2000\n",
       "   2 │ Ohio          2001   2001\n",
       "   3 │ Ohio          2002   2002\n",
       "   4 │ Nevada        2001   2001\n",
       "   5 │ Nevada        2002   2002\n",
       "   6 │ Nevada        2003   2003"
      ]
     },
     "execution_count": 7,
     "metadata": {},
     "output_type": "execute_result"
    }
   ],
   "source": [
    "DataFrame(\"state\" => [\"Ohio\", \"Ohio\", \"Ohio\", \"Nevada\", \"Nevada\", \"Nevada\"],\n",
    "    \"population\" => [2000, 2001, 2002, 2001, 2002, 2003],\n",
    "    \"year\" => [2000, 2001, 2002, 2001, 2002, 2003])"
   ]
  },
  {
   "cell_type": "markdown",
   "metadata": {},
   "source": [
    "Create DataFrame using array of Pairs"
   ]
  },
  {
   "cell_type": "code",
   "execution_count": 8,
   "metadata": {
    "ExecuteTime": {
     "end_time": "2021-05-22T12:22:56.035000+04:00",
     "start_time": "2021-05-22T08:22:54.178Z"
    }
   },
   "outputs": [
    {
     "data": {
      "text/plain": [
       "3-element Array{Pair{Symbol,Array{T,1} where T},1}:\n",
       "      :state => [\"Ohio\", \"Ohio\", \"Ohio\", \"Nevada\", \"Nevada\", \"Nevada\"]\n",
       " :population => [2000, 2001, 2002, 2001, 2002, 2003]\n",
       "       :year => [2000, 2001, 2002, 2001, 2002, 2003]"
      ]
     },
     "execution_count": 8,
     "metadata": {},
     "output_type": "execute_result"
    }
   ],
   "source": [
    "[:state => [\"Ohio\", \"Ohio\", \"Ohio\", \"Nevada\", \"Nevada\", \"Nevada\"],\n",
    "    :population => [2000, 2001, 2002, 2001, 2002, 2003],\n",
    "    :year => [2000, 2001, 2002, 2001, 2002, 2003]]"
   ]
  },
  {
   "cell_type": "code",
   "execution_count": 9,
   "metadata": {
    "ExecuteTime": {
     "end_time": "2021-05-22T12:22:57.050000+04:00",
     "start_time": "2021-05-22T08:22:57.002Z"
    }
   },
   "outputs": [
    {
     "data": {
      "text/html": [
       "<table class=\"data-frame\"><thead><tr><th></th><th>state</th><th>population</th><th>year</th></tr><tr><th></th><th>String</th><th>Int64</th><th>Int64</th></tr></thead><tbody><p>6 rows × 3 columns</p><tr><th>1</th><td>Ohio</td><td>2000</td><td>2000</td></tr><tr><th>2</th><td>Ohio</td><td>2001</td><td>2001</td></tr><tr><th>3</th><td>Ohio</td><td>2002</td><td>2002</td></tr><tr><th>4</th><td>Nevada</td><td>2001</td><td>2001</td></tr><tr><th>5</th><td>Nevada</td><td>2002</td><td>2002</td></tr><tr><th>6</th><td>Nevada</td><td>2003</td><td>2003</td></tr></tbody></table>"
      ],
      "text/latex": [
       "\\begin{tabular}{r|ccc}\n",
       "\t& state & population & year\\\\\n",
       "\t\\hline\n",
       "\t& String & Int64 & Int64\\\\\n",
       "\t\\hline\n",
       "\t1 & Ohio & 2000 & 2000 \\\\\n",
       "\t2 & Ohio & 2001 & 2001 \\\\\n",
       "\t3 & Ohio & 2002 & 2002 \\\\\n",
       "\t4 & Nevada & 2001 & 2001 \\\\\n",
       "\t5 & Nevada & 2002 & 2002 \\\\\n",
       "\t6 & Nevada & 2003 & 2003 \\\\\n",
       "\\end{tabular}\n"
      ],
      "text/plain": [
       "\u001b[1m6×3 DataFrame\u001b[0m\n",
       "\u001b[1m Row \u001b[0m│\u001b[1m state  \u001b[0m\u001b[1m population \u001b[0m\u001b[1m year  \u001b[0m\n",
       "\u001b[1m     \u001b[0m│\u001b[90m String \u001b[0m\u001b[90m Int64      \u001b[0m\u001b[90m Int64 \u001b[0m\n",
       "─────┼───────────────────────────\n",
       "   1 │ Ohio          2000   2000\n",
       "   2 │ Ohio          2001   2001\n",
       "   3 │ Ohio          2002   2002\n",
       "   4 │ Nevada        2001   2001\n",
       "   5 │ Nevada        2002   2002\n",
       "   6 │ Nevada        2003   2003"
      ]
     },
     "execution_count": 9,
     "metadata": {},
     "output_type": "execute_result"
    }
   ],
   "source": [
    "DataFrame([:state => [\"Ohio\", \"Ohio\", \"Ohio\", \"Nevada\", \"Nevada\", \"Nevada\"],\n",
    "    :population => [2000, 2001, 2002, 2001, 2002, 2003],\n",
    "    :year => [2000, 2001, 2002, 2001, 2002, 2003]])"
   ]
  },
  {
   "cell_type": "code",
   "execution_count": 10,
   "metadata": {
    "ExecuteTime": {
     "end_time": "2021-05-22T12:22:58.474000+04:00",
     "start_time": "2021-05-22T08:22:58.396Z"
    }
   },
   "outputs": [
    {
     "data": {
      "text/html": [
       "<table class=\"data-frame\"><thead><tr><th></th><th>x_1</th><th>x_2</th><th>x_3</th></tr><tr><th></th><th>Float64</th><th>Float64</th><th>Float64</th></tr></thead><tbody><p>5 rows × 3 columns</p><tr><th>1</th><td>0.928456</td><td>0.739668</td><td>0.741296</td></tr><tr><th>2</th><td>0.755392</td><td>0.382829</td><td>0.0748615</td></tr><tr><th>3</th><td>0.125733</td><td>0.427613</td><td>0.608526</td></tr><tr><th>4</th><td>0.947184</td><td>0.692397</td><td>0.864952</td></tr><tr><th>5</th><td>0.65746</td><td>0.710979</td><td>0.859322</td></tr></tbody></table>"
      ],
      "text/latex": [
       "\\begin{tabular}{r|ccc}\n",
       "\t& x\\_1 & x\\_2 & x\\_3\\\\\n",
       "\t\\hline\n",
       "\t& Float64 & Float64 & Float64\\\\\n",
       "\t\\hline\n",
       "\t1 & 0.928456 & 0.739668 & 0.741296 \\\\\n",
       "\t2 & 0.755392 & 0.382829 & 0.0748615 \\\\\n",
       "\t3 & 0.125733 & 0.427613 & 0.608526 \\\\\n",
       "\t4 & 0.947184 & 0.692397 & 0.864952 \\\\\n",
       "\t5 & 0.65746 & 0.710979 & 0.859322 \\\\\n",
       "\\end{tabular}\n"
      ],
      "text/plain": [
       "\u001b[1m5×3 DataFrame\u001b[0m\n",
       "\u001b[1m Row \u001b[0m│\u001b[1m x_1      \u001b[0m\u001b[1m x_2      \u001b[0m\u001b[1m x_3       \u001b[0m\n",
       "\u001b[1m     \u001b[0m│\u001b[90m Float64  \u001b[0m\u001b[90m Float64  \u001b[0m\u001b[90m Float64   \u001b[0m\n",
       "─────┼───────────────────────────────\n",
       "   1 │ 0.928456  0.739668  0.741296\n",
       "   2 │ 0.755392  0.382829  0.0748615\n",
       "   3 │ 0.125733  0.427613  0.608526\n",
       "   4 │ 0.947184  0.692397  0.864952\n",
       "   5 │ 0.65746   0.710979  0.859322"
      ]
     },
     "execution_count": 10,
     "metadata": {},
     "output_type": "execute_result"
    }
   ],
   "source": [
    "# Create DataFrame from vector of vectors\n",
    "\n",
    "DataFrame([rand(5) for i in 1:3], [:x_1, :x_2, :x_3]) # Explicitly indicate column names"
   ]
  },
  {
   "cell_type": "code",
   "execution_count": 11,
   "metadata": {
    "ExecuteTime": {
     "end_time": "2021-05-22T12:22:59.784000+04:00",
     "start_time": "2021-05-22T08:22:59.724Z"
    }
   },
   "outputs": [
    {
     "data": {
      "text/html": [
       "<table class=\"data-frame\"><thead><tr><th></th><th>x1</th><th>x2</th><th>x3</th></tr><tr><th></th><th>Float64</th><th>Float64</th><th>Float64</th></tr></thead><tbody><p>5 rows × 3 columns</p><tr><th>1</th><td>0.852818</td><td>0.0977098</td><td>0.144751</td></tr><tr><th>2</th><td>0.576489</td><td>0.593719</td><td>0.64337</td></tr><tr><th>3</th><td>0.275742</td><td>0.31446</td><td>0.810752</td></tr><tr><th>4</th><td>0.66125</td><td>0.80754</td><td>0.114432</td></tr><tr><th>5</th><td>0.485622</td><td>0.584418</td><td>0.412229</td></tr></tbody></table>"
      ],
      "text/latex": [
       "\\begin{tabular}{r|ccc}\n",
       "\t& x1 & x2 & x3\\\\\n",
       "\t\\hline\n",
       "\t& Float64 & Float64 & Float64\\\\\n",
       "\t\\hline\n",
       "\t1 & 0.852818 & 0.0977098 & 0.144751 \\\\\n",
       "\t2 & 0.576489 & 0.593719 & 0.64337 \\\\\n",
       "\t3 & 0.275742 & 0.31446 & 0.810752 \\\\\n",
       "\t4 & 0.66125 & 0.80754 & 0.114432 \\\\\n",
       "\t5 & 0.485622 & 0.584418 & 0.412229 \\\\\n",
       "\\end{tabular}\n"
      ],
      "text/plain": [
       "\u001b[1m5×3 DataFrame\u001b[0m\n",
       "\u001b[1m Row \u001b[0m│\u001b[1m x1       \u001b[0m\u001b[1m x2        \u001b[0m\u001b[1m x3       \u001b[0m\n",
       "\u001b[1m     \u001b[0m│\u001b[90m Float64  \u001b[0m\u001b[90m Float64   \u001b[0m\u001b[90m Float64  \u001b[0m\n",
       "─────┼───────────────────────────────\n",
       "   1 │ 0.852818  0.0977098  0.144751\n",
       "   2 │ 0.576489  0.593719   0.64337\n",
       "   3 │ 0.275742  0.31446    0.810752\n",
       "   4 │ 0.66125   0.80754    0.114432\n",
       "   5 │ 0.485622  0.584418   0.412229"
      ]
     },
     "execution_count": 11,
     "metadata": {},
     "output_type": "execute_result"
    }
   ],
   "source": [
    "# Create DataFrame from vector of vectors\n",
    "\n",
    "DataFrame([rand(5) for i in 1:3], :auto) # Automatically generate column names"
   ]
  },
  {
   "cell_type": "code",
   "execution_count": 12,
   "metadata": {
    "ExecuteTime": {
     "end_time": "2021-05-22T12:23:01.628000+04:00",
     "start_time": "2021-05-22T08:23:01.082Z"
    }
   },
   "outputs": [
    {
     "data": {
      "text/html": [
       "<table class=\"data-frame\"><thead><tr><th></th><th>A</th><th>B</th></tr><tr><th></th><th>String</th><th>Any</th></tr></thead><tbody><p>5 rows × 2 columns</p><tr><th>1</th><td>a</td><td>1</td></tr><tr><th>2</th><td>b</td><td>2</td></tr><tr><th>3</th><td>c</td><td>3</td></tr><tr><th>4</th><td>d</td><td>4</td></tr><tr><th>5</th><td>e</td><td>5</td></tr></tbody></table>"
      ],
      "text/latex": [
       "\\begin{tabular}{r|cc}\n",
       "\t& A & B\\\\\n",
       "\t\\hline\n",
       "\t& String & Any\\\\\n",
       "\t\\hline\n",
       "\t1 & a & 1 \\\\\n",
       "\t2 & b & 2 \\\\\n",
       "\t3 & c & 3 \\\\\n",
       "\t4 & d & 4 \\\\\n",
       "\t5 & e & 5 \\\\\n",
       "\\end{tabular}\n"
      ],
      "text/plain": [
       "\u001b[1m5×2 DataFrame\u001b[0m\n",
       "\u001b[1m Row \u001b[0m│\u001b[1m A      \u001b[0m\u001b[1m B   \u001b[0m\n",
       "\u001b[1m     \u001b[0m│\u001b[90m String \u001b[0m\u001b[90m Any \u001b[0m\n",
       "─────┼─────────────\n",
       "   1 │ a       1\n",
       "   2 │ b       2\n",
       "   3 │ c       3\n",
       "   4 │ d       4\n",
       "   5 │ e       5"
      ]
     },
     "execution_count": 12,
     "metadata": {},
     "output_type": "execute_result"
    }
   ],
   "source": [
    "# Create DataFrae from vector of NamedTuple\n",
    "\n",
    "v = [(A=\"a\", B=1), (A=\"b\", B=\"2\"), (A=\"c\", B=3), (A=\"d\", B=4), (A=\"e\", B=5)]\n",
    "\n",
    "DataFrame(v)"
   ]
  },
  {
   "cell_type": "code",
   "execution_count": 13,
   "metadata": {
    "ExecuteTime": {
     "end_time": "2021-05-22T12:23:02.538000+04:00",
     "start_time": "2021-05-22T08:23:02.470Z"
    }
   },
   "outputs": [
    {
     "data": {
      "text/html": [
       "<table class=\"data-frame\"><thead><tr><th></th><th>A</th><th>B</th></tr><tr><th></th><th>Int64</th><th>String</th></tr></thead><tbody><p>5 rows × 2 columns</p><tr><th>1</th><td>1</td><td>l</td></tr><tr><th>2</th><td>2</td><td>G</td></tr><tr><th>3</th><td>3</td><td>X</td></tr><tr><th>4</th><td>4</td><td>e</td></tr><tr><th>5</th><td>5</td><td>w</td></tr></tbody></table>"
      ],
      "text/latex": [
       "\\begin{tabular}{r|cc}\n",
       "\t& A & B\\\\\n",
       "\t\\hline\n",
       "\t& Int64 & String\\\\\n",
       "\t\\hline\n",
       "\t1 & 1 & l \\\\\n",
       "\t2 & 2 & G \\\\\n",
       "\t3 & 3 & X \\\\\n",
       "\t4 & 4 & e \\\\\n",
       "\t5 & 5 & w \\\\\n",
       "\\end{tabular}\n"
      ],
      "text/plain": [
       "\u001b[1m5×2 DataFrame\u001b[0m\n",
       "\u001b[1m Row \u001b[0m│\u001b[1m A     \u001b[0m\u001b[1m B      \u001b[0m\n",
       "\u001b[1m     \u001b[0m│\u001b[90m Int64 \u001b[0m\u001b[90m String \u001b[0m\n",
       "─────┼───────────────\n",
       "   1 │     1  l\n",
       "   2 │     2  G\n",
       "   3 │     3  X\n",
       "   4 │     4  e\n",
       "   5 │     5  w"
      ]
     },
     "execution_count": 13,
     "metadata": {},
     "output_type": "execute_result"
    }
   ],
   "source": [
    "# Create DataFrame from NamedTuple of vectors\n",
    "\n",
    "n = (A=1:5, B=randstring.([1, 1, 1, 1, 1]))\n",
    "\n",
    "DataFrame(n)"
   ]
  },
  {
   "cell_type": "code",
   "execution_count": 14,
   "metadata": {
    "ExecuteTime": {
     "end_time": "2021-05-22T12:23:03.554000+04:00",
     "start_time": "2021-05-22T08:23:03.472Z"
    }
   },
   "outputs": [
    {
     "data": {
      "text/html": [
       "<table class=\"data-frame\"><thead><tr><th></th><th>x1</th><th>x2</th><th>x3</th><th>x4</th><th>x5</th></tr><tr><th></th><th>Float64</th><th>Float64</th><th>Float64</th><th>Float64</th><th>Float64</th></tr></thead><tbody><p>5 rows × 5 columns</p><tr><th>1</th><td>0.582313</td><td>0.475727</td><td>0.982768</td><td>0.181704</td><td>0.317192</td></tr><tr><th>2</th><td>0.541174</td><td>0.974219</td><td>0.204863</td><td>0.865081</td><td>0.817155</td></tr><tr><th>3</th><td>0.237217</td><td>0.506213</td><td>0.936781</td><td>0.879051</td><td>0.191098</td></tr><tr><th>4</th><td>0.959608</td><td>0.237945</td><td>0.943663</td><td>0.429553</td><td>0.409399</td></tr><tr><th>5</th><td>0.272961</td><td>0.000790154</td><td>0.844619</td><td>0.124696</td><td>0.894408</td></tr></tbody></table>"
      ],
      "text/latex": [
       "\\begin{tabular}{r|ccccc}\n",
       "\t& x1 & x2 & x3 & x4 & x5\\\\\n",
       "\t\\hline\n",
       "\t& Float64 & Float64 & Float64 & Float64 & Float64\\\\\n",
       "\t\\hline\n",
       "\t1 & 0.582313 & 0.475727 & 0.982768 & 0.181704 & 0.317192 \\\\\n",
       "\t2 & 0.541174 & 0.974219 & 0.204863 & 0.865081 & 0.817155 \\\\\n",
       "\t3 & 0.237217 & 0.506213 & 0.936781 & 0.879051 & 0.191098 \\\\\n",
       "\t4 & 0.959608 & 0.237945 & 0.943663 & 0.429553 & 0.409399 \\\\\n",
       "\t5 & 0.272961 & 0.000790154 & 0.844619 & 0.124696 & 0.894408 \\\\\n",
       "\\end{tabular}\n"
      ],
      "text/plain": [
       "\u001b[1m5×5 DataFrame\u001b[0m\n",
       "\u001b[1m Row \u001b[0m│\u001b[1m x1       \u001b[0m\u001b[1m x2          \u001b[0m\u001b[1m x3       \u001b[0m\u001b[1m x4       \u001b[0m\u001b[1m x5       \u001b[0m\n",
       "\u001b[1m     \u001b[0m│\u001b[90m Float64  \u001b[0m\u001b[90m Float64     \u001b[0m\u001b[90m Float64  \u001b[0m\u001b[90m Float64  \u001b[0m\u001b[90m Float64  \u001b[0m\n",
       "─────┼─────────────────────────────────────────────────────\n",
       "   1 │ 0.582313  0.475727     0.982768  0.181704  0.317192\n",
       "   2 │ 0.541174  0.974219     0.204863  0.865081  0.817155\n",
       "   3 │ 0.237217  0.506213     0.936781  0.879051  0.191098\n",
       "   4 │ 0.959608  0.237945     0.943663  0.429553  0.409399\n",
       "   5 │ 0.272961  0.000790154  0.844619  0.124696  0.894408"
      ]
     },
     "execution_count": 14,
     "metadata": {},
     "output_type": "execute_result"
    }
   ],
   "source": [
    "# Create DataFrame from matrix\n",
    "\n",
    "DataFrame(rand(5, 5), :auto)"
   ]
  },
  {
   "cell_type": "markdown",
   "metadata": {},
   "source": [
    "## Shape, Size, Type, and Dimension of DataFrame"
   ]
  },
  {
   "cell_type": "code",
   "execution_count": 15,
   "metadata": {
    "ExecuteTime": {
     "end_time": "2021-05-22T12:23:05.746000+04:00",
     "start_time": "2021-05-22T08:23:05.734Z"
    }
   },
   "outputs": [
    {
     "data": {
      "text/html": [
       "<table class=\"data-frame\"><thead><tr><th></th><th>population</th><th>state</th><th>year</th></tr><tr><th></th><th>Float64</th><th>String</th><th>Int64</th></tr></thead><tbody><p>6 rows × 3 columns</p><tr><th>1</th><td>1.5</td><td>Ohio</td><td>2000</td></tr><tr><th>2</th><td>1.7</td><td>Ohio</td><td>2001</td></tr><tr><th>3</th><td>3.6</td><td>Ohio</td><td>2002</td></tr><tr><th>4</th><td>2.4</td><td>Nevada</td><td>2001</td></tr><tr><th>5</th><td>2.9</td><td>Nevada</td><td>2002</td></tr><tr><th>6</th><td>3.2</td><td>Nevada</td><td>2003</td></tr></tbody></table>"
      ],
      "text/latex": [
       "\\begin{tabular}{r|ccc}\n",
       "\t& population & state & year\\\\\n",
       "\t\\hline\n",
       "\t& Float64 & String & Int64\\\\\n",
       "\t\\hline\n",
       "\t1 & 1.5 & Ohio & 2000 \\\\\n",
       "\t2 & 1.7 & Ohio & 2001 \\\\\n",
       "\t3 & 3.6 & Ohio & 2002 \\\\\n",
       "\t4 & 2.4 & Nevada & 2001 \\\\\n",
       "\t5 & 2.9 & Nevada & 2002 \\\\\n",
       "\t6 & 3.2 & Nevada & 2003 \\\\\n",
       "\\end{tabular}\n"
      ],
      "text/plain": [
       "\u001b[1m6×3 DataFrame\u001b[0m\n",
       "\u001b[1m Row \u001b[0m│\u001b[1m population \u001b[0m\u001b[1m state  \u001b[0m\u001b[1m year  \u001b[0m\n",
       "\u001b[1m     \u001b[0m│\u001b[90m Float64    \u001b[0m\u001b[90m String \u001b[0m\u001b[90m Int64 \u001b[0m\n",
       "─────┼───────────────────────────\n",
       "   1 │        1.5  Ohio     2000\n",
       "   2 │        1.7  Ohio     2001\n",
       "   3 │        3.6  Ohio     2002\n",
       "   4 │        2.4  Nevada   2001\n",
       "   5 │        2.9  Nevada   2002\n",
       "   6 │        3.2  Nevada   2003"
      ]
     },
     "execution_count": 15,
     "metadata": {},
     "output_type": "execute_result"
    }
   ],
   "source": [
    "data = Dict(\"state\" => [\"Ohio\", \"Ohio\", \"Ohio\", \"Nevada\", \"Nevada\", \"Nevada\"],\n",
    "        \"year\" => [2000, 2001, 2002, 2001, 2002, 2003],\n",
    "        \"population\" => [1.5, 1.7, 3.6, 2.4, 2.9, 3.2])\n",
    "\n",
    "\n",
    "df = DataFrame(data)"
   ]
  },
  {
   "cell_type": "code",
   "execution_count": 16,
   "metadata": {
    "ExecuteTime": {
     "end_time": "2021-05-22T12:23:07.114000+04:00",
     "start_time": "2021-05-22T08:23:06.861Z"
    }
   },
   "outputs": [
    {
     "data": {
      "text/plain": [
       "(6, 3)"
      ]
     },
     "execution_count": 16,
     "metadata": {},
     "output_type": "execute_result"
    }
   ],
   "source": [
    "size(df) # Retruns number of rows and columns"
   ]
  },
  {
   "cell_type": "code",
   "execution_count": 17,
   "metadata": {
    "ExecuteTime": {
     "end_time": "2021-05-22T12:23:07.279000+04:00",
     "start_time": "2021-05-22T08:23:07.276Z"
    }
   },
   "outputs": [
    {
     "data": {
      "text/plain": [
       "6"
      ]
     },
     "execution_count": 17,
     "metadata": {},
     "output_type": "execute_result"
    }
   ],
   "source": [
    "nrow(df) # Returns number of rows"
   ]
  },
  {
   "cell_type": "code",
   "execution_count": 18,
   "metadata": {
    "ExecuteTime": {
     "end_time": "2021-05-22T12:23:07.621000+04:00",
     "start_time": "2021-05-22T08:23:07.609Z"
    }
   },
   "outputs": [
    {
     "data": {
      "text/plain": [
       "3"
      ]
     },
     "execution_count": 18,
     "metadata": {},
     "output_type": "execute_result"
    }
   ],
   "source": [
    "ncol(df) # Retruns number of columns"
   ]
  },
  {
   "cell_type": "code",
   "execution_count": 19,
   "metadata": {
    "ExecuteTime": {
     "end_time": "2021-05-22T12:23:07.874000+04:00",
     "start_time": "2021-05-22T08:23:07.870Z"
    }
   },
   "outputs": [
    {
     "data": {
      "text/plain": [
       "2"
      ]
     },
     "execution_count": 19,
     "metadata": {},
     "output_type": "execute_result"
    }
   ],
   "source": [
    "ndims(df) # Number of dimensions or number of axis"
   ]
  },
  {
   "cell_type": "code",
   "execution_count": 20,
   "metadata": {
    "ExecuteTime": {
     "end_time": "2021-05-22T12:23:08.932000+04:00",
     "start_time": "2021-05-22T08:23:08.144Z"
    }
   },
   "outputs": [
    {
     "data": {
      "text/plain": [
       "3-element Array{DataType,1}:\n",
       " Float64\n",
       " String\n",
       " Int64"
      ]
     },
     "execution_count": 20,
     "metadata": {},
     "output_type": "execute_result"
    }
   ],
   "source": [
    "eltype.(eachcol(df)) # Element types of columns"
   ]
  },
  {
   "cell_type": "code",
   "execution_count": 21,
   "metadata": {
    "ExecuteTime": {
     "end_time": "2021-05-22T12:23:10.157000+04:00",
     "start_time": "2021-05-22T08:23:08.404Z"
    }
   },
   "outputs": [
    {
     "data": {
      "text/html": [
       "<table class=\"data-frame\"><thead><tr><th></th><th>variable</th><th>eltype</th></tr><tr><th></th><th>Symbol</th><th>DataType</th></tr></thead><tbody><p>3 rows × 2 columns</p><tr><th>1</th><td>population</td><td>Float64</td></tr><tr><th>2</th><td>state</td><td>String</td></tr><tr><th>3</th><td>year</td><td>Int64</td></tr></tbody></table>"
      ],
      "text/latex": [
       "\\begin{tabular}{r|cc}\n",
       "\t& variable & eltype\\\\\n",
       "\t\\hline\n",
       "\t& Symbol & DataType\\\\\n",
       "\t\\hline\n",
       "\t1 & population & Float64 \\\\\n",
       "\t2 & state & String \\\\\n",
       "\t3 & year & Int64 \\\\\n",
       "\\end{tabular}\n"
      ],
      "text/plain": [
       "\u001b[1m3×2 DataFrame\u001b[0m\n",
       "\u001b[1m Row \u001b[0m│\u001b[1m variable   \u001b[0m\u001b[1m eltype   \u001b[0m\n",
       "\u001b[1m     \u001b[0m│\u001b[90m Symbol     \u001b[0m\u001b[90m DataType \u001b[0m\n",
       "─────┼──────────────────────\n",
       "   1 │ population  Float64\n",
       "   2 │ state       String\n",
       "   3 │ year        Int64"
      ]
     },
     "execution_count": 21,
     "metadata": {},
     "output_type": "execute_result"
    }
   ],
   "source": [
    "describe(df, :eltype) # Same as above"
   ]
  },
  {
   "cell_type": "code",
   "execution_count": 22,
   "metadata": {
    "ExecuteTime": {
     "end_time": "2021-05-22T12:23:10.865000+04:00",
     "start_time": "2021-05-22T08:23:09.388Z"
    }
   },
   "outputs": [
    {
     "data": {
      "text/plain": [
       "3-element Array{String,1}:\n",
       " \"population\"\n",
       " \"state\"\n",
       " \"year\""
      ]
     },
     "execution_count": 22,
     "metadata": {},
     "output_type": "execute_result"
    }
   ],
   "source": [
    "# Extract column names\n",
    "\n",
    "names(df)"
   ]
  },
  {
   "cell_type": "code",
   "execution_count": 23,
   "metadata": {
    "ExecuteTime": {
     "end_time": "2021-05-22T12:23:13.178000+04:00",
     "start_time": "2021-05-22T08:23:12.501Z"
    }
   },
   "outputs": [
    {
     "data": {
      "text/plain": [
       "3-element Array{Symbol,1}:\n",
       " :population\n",
       " :state\n",
       " :year"
      ]
     },
     "execution_count": 23,
     "metadata": {},
     "output_type": "execute_result"
    }
   ],
   "source": [
    "# Column names as Symbols\n",
    "\n",
    "propertynames(df)"
   ]
  },
  {
   "cell_type": "markdown",
   "metadata": {},
   "source": [
    "## Selection and Filtering"
   ]
  },
  {
   "cell_type": "code",
   "execution_count": 24,
   "metadata": {
    "ExecuteTime": {
     "end_time": "2021-05-22T12:23:20.109000+04:00",
     "start_time": "2021-05-22T08:23:15.728Z"
    }
   },
   "outputs": [
    {
     "data": {
      "text/html": [
       "<table class=\"data-frame\"><thead><tr><th></th><th>Serial No.</th><th>GRE Score</th><th>TOEFL Score</th><th>University Rating</th><th>SOP</th><th>LOR</th><th>CGPA</th><th>Research</th><th>Chance of Admit </th></tr><tr><th></th><th>Int64</th><th>Int64</th><th>Int64</th><th>Int64</th><th>Float64</th><th>Float64</th><th>Float64</th><th>Int64</th><th>Float64</th></tr></thead><tbody><p>5 rows × 9 columns</p><tr><th>1</th><td>1</td><td>337</td><td>118</td><td>4</td><td>4.5</td><td>4.5</td><td>9.65</td><td>1</td><td>0.92</td></tr><tr><th>2</th><td>2</td><td>324</td><td>107</td><td>4</td><td>4.0</td><td>4.5</td><td>8.87</td><td>1</td><td>0.76</td></tr><tr><th>3</th><td>3</td><td>316</td><td>104</td><td>3</td><td>3.0</td><td>3.5</td><td>8.0</td><td>1</td><td>0.72</td></tr><tr><th>4</th><td>4</td><td>322</td><td>110</td><td>3</td><td>3.5</td><td>2.5</td><td>8.67</td><td>1</td><td>0.8</td></tr><tr><th>5</th><td>5</td><td>314</td><td>103</td><td>2</td><td>2.0</td><td>3.0</td><td>8.21</td><td>0</td><td>0.65</td></tr></tbody></table>"
      ],
      "text/latex": [
       "\\begin{tabular}{r|ccccccccc}\n",
       "\t& Serial No. & GRE Score & TOEFL Score & University Rating & SOP & LOR & CGPA & Research & Chance of Admit \\\\\n",
       "\t\\hline\n",
       "\t& Int64 & Int64 & Int64 & Int64 & Float64 & Float64 & Float64 & Int64 & Float64\\\\\n",
       "\t\\hline\n",
       "\t1 & 1 & 337 & 118 & 4 & 4.5 & 4.5 & 9.65 & 1 & 0.92 \\\\\n",
       "\t2 & 2 & 324 & 107 & 4 & 4.0 & 4.5 & 8.87 & 1 & 0.76 \\\\\n",
       "\t3 & 3 & 316 & 104 & 3 & 3.0 & 3.5 & 8.0 & 1 & 0.72 \\\\\n",
       "\t4 & 4 & 322 & 110 & 3 & 3.5 & 2.5 & 8.67 & 1 & 0.8 \\\\\n",
       "\t5 & 5 & 314 & 103 & 2 & 2.0 & 3.0 & 8.21 & 0 & 0.65 \\\\\n",
       "\\end{tabular}\n"
      ],
      "text/plain": [
       "\u001b[1m5×9 DataFrame\u001b[0m\n",
       "\u001b[1m Row \u001b[0m│\u001b[1m Serial No. \u001b[0m\u001b[1m GRE Score \u001b[0m\u001b[1m TOEFL Score \u001b[0m\u001b[1m University Rating \u001b[0m\u001b[1m SOP     \u001b[0m\u001b[1m LOR     \u001b[0m\u001b[1m CGPA    \u001b[0m\u001b[1m Research \u001b[0m\u001b[1m Chance of Admit  \u001b[0m\n",
       "\u001b[1m     \u001b[0m│\u001b[90m Int64      \u001b[0m\u001b[90m Int64     \u001b[0m\u001b[90m Int64       \u001b[0m\u001b[90m Int64             \u001b[0m\u001b[90m Float64 \u001b[0m\u001b[90m Float64 \u001b[0m\u001b[90m Float64 \u001b[0m\u001b[90m Int64    \u001b[0m\u001b[90m Float64          \u001b[0m\n",
       "─────┼──────────────────────────────────────────────────────────────────────────────────────────────────────────────\n",
       "   1 │          1        337          118                  4      4.5      4.5     9.65         1              0.92\n",
       "   2 │          2        324          107                  4      4.0      4.5     8.87         1              0.76\n",
       "   3 │          3        316          104                  3      3.0      3.5     8.0          1              0.72\n",
       "   4 │          4        322          110                  3      3.5      2.5     8.67         1              0.8\n",
       "   5 │          5        314          103                  2      2.0      3.0     8.21         0              0.65"
      ]
     },
     "execution_count": 24,
     "metadata": {},
     "output_type": "execute_result"
    }
   ],
   "source": [
    "# Let read CSV file and perform indexing, selection and filtering\n",
    "\n",
    "df = DataFrame(load(\"data/admission.csv\"))\n",
    "\n",
    "first(df, 5)"
   ]
  },
  {
   "cell_type": "code",
   "execution_count": 25,
   "metadata": {
    "ExecuteTime": {
     "end_time": "2021-05-22T12:23:21.028000+04:00",
     "start_time": "2021-05-22T08:23:16.128Z"
    },
    "scrolled": true
   },
   "outputs": [
    {
     "data": {
      "text/plain": [
       "400-element Array{Float64,1}:\n",
       " 4.5\n",
       " 4.0\n",
       " 3.0\n",
       " 3.5\n",
       " 2.0\n",
       " 4.5\n",
       " 3.0\n",
       " 3.0\n",
       " 2.0\n",
       " 3.5\n",
       " 3.5\n",
       " 4.0\n",
       " 4.0\n",
       " 4.0\n",
       " 3.5\n",
       " 3.5\n",
       " 4.0\n",
       " 4.0\n",
       " 4.0\n",
       " 3.5\n",
       " 3.0\n",
       " 3.0\n",
       " 5.0\n",
       " 5.0\n",
       " 4.0\n",
       " 4.5\n",
       " 4.5\n",
       " 1.5\n",
       " 2.0\n",
       " 1.5\n",
       " 3.0\n",
       " 4.0\n",
       " 3.0\n",
       " 4.0\n",
       " 4.0\n",
       " 5.0\n",
       " 4.0\n",
       " 1.0\n",
       " 3.0\n",
       " 4.0\n",
       " 3.5\n",
       " 2.5\n",
       " 2.5\n",
       " 4.5\n",
       " 4.5\n",
       " 5.0\n",
       " 4.0\n",
       " 4.5\n",
       " ⋮\n",
       " 3.5\n",
       " 2.5\n",
       " 2.0\n",
       " 3.5\n",
       " 3.5\n",
       " 2.5\n",
       " 2.0\n",
       " 4.0\n",
       " 4.0\n",
       " 4.5\n",
       " 2.5\n",
       " 3.5\n",
       " 4.5\n",
       " 3.5\n",
       " 1.0\n",
       " 2.0\n",
       " 2.0\n",
       " 2.5\n",
       " 3.5\n",
       " 4.5\n",
       " 3.0\n",
       " 2.0\n",
       " 2.0\n",
       " 2.5\n",
       " 1.5\n",
       " 2.0\n",
       " 2.5\n",
       " 3.5\n",
       " 3.0\n",
       " 4.5\n",
       " 3.0\n",
       " 5.0\n",
       " 5.0\n",
       " 2.5\n",
       " 2.0\n",
       " 1.5\n",
       " 3.5\n",
       " 2.0\n",
       " 2.0\n",
       " 4.0\n",
       " 3.0\n",
       " 4.5\n",
       " 3.5\n",
       " 3.0\n",
       " 5.0\n",
       " 3.5\n",
       " 5.0"
      ]
     },
     "execution_count": 25,
     "metadata": {},
     "output_type": "execute_result"
    }
   ],
   "source": [
    "# Select only one column\n",
    "\n",
    "df.SOP\n",
    "\n",
    "df.\"SOP\"\n",
    "\n",
    "df[!, :SOP]\n",
    "\n",
    "df[!, \"SOP\"]"
   ]
  },
  {
   "cell_type": "code",
   "execution_count": 26,
   "metadata": {
    "ExecuteTime": {
     "end_time": "2021-05-22T12:23:21.149000+04:00",
     "start_time": "2021-05-22T08:23:17.706Z"
    },
    "scrolled": true
   },
   "outputs": [
    {
     "data": {
      "text/html": [
       "<table class=\"data-frame\"><thead><tr><th></th><th>SOP</th><th>LOR</th></tr><tr><th></th><th>Float64</th><th>Float64</th></tr></thead><tbody><p>400 rows × 2 columns</p><tr><th>1</th><td>4.5</td><td>4.5</td></tr><tr><th>2</th><td>4.0</td><td>4.5</td></tr><tr><th>3</th><td>3.0</td><td>3.5</td></tr><tr><th>4</th><td>3.5</td><td>2.5</td></tr><tr><th>5</th><td>2.0</td><td>3.0</td></tr><tr><th>6</th><td>4.5</td><td>3.0</td></tr><tr><th>7</th><td>3.0</td><td>4.0</td></tr><tr><th>8</th><td>3.0</td><td>4.0</td></tr><tr><th>9</th><td>2.0</td><td>1.5</td></tr><tr><th>10</th><td>3.5</td><td>3.0</td></tr><tr><th>11</th><td>3.5</td><td>4.0</td></tr><tr><th>12</th><td>4.0</td><td>4.5</td></tr><tr><th>13</th><td>4.0</td><td>4.5</td></tr><tr><th>14</th><td>4.0</td><td>3.0</td></tr><tr><th>15</th><td>3.5</td><td>2.0</td></tr><tr><th>16</th><td>3.5</td><td>2.5</td></tr><tr><th>17</th><td>4.0</td><td>3.0</td></tr><tr><th>18</th><td>4.0</td><td>3.0</td></tr><tr><th>19</th><td>4.0</td><td>3.0</td></tr><tr><th>20</th><td>3.5</td><td>3.0</td></tr><tr><th>21</th><td>3.0</td><td>2.0</td></tr><tr><th>22</th><td>3.0</td><td>2.0</td></tr><tr><th>23</th><td>5.0</td><td>5.0</td></tr><tr><th>24</th><td>5.0</td><td>4.5</td></tr><tr><th>25</th><td>4.0</td><td>3.5</td></tr><tr><th>26</th><td>4.5</td><td>4.5</td></tr><tr><th>27</th><td>4.5</td><td>3.5</td></tr><tr><th>28</th><td>1.5</td><td>2.5</td></tr><tr><th>29</th><td>2.0</td><td>2.0</td></tr><tr><th>30</th><td>1.5</td><td>2.0</td></tr><tr><th>31</th><td>3.0</td><td>3.0</td></tr><tr><th>32</th><td>4.0</td><td>4.0</td></tr><tr><th>33</th><td>3.0</td><td>4.5</td></tr><tr><th>34</th><td>4.0</td><td>4.0</td></tr><tr><th>35</th><td>4.0</td><td>5.0</td></tr><tr><th>36</th><td>5.0</td><td>5.0</td></tr><tr><th>37</th><td>4.0</td><td>4.0</td></tr><tr><th>38</th><td>1.0</td><td>2.0</td></tr><tr><th>39</th><td>3.0</td><td>1.5</td></tr><tr><th>40</th><td>4.0</td><td>3.5</td></tr><tr><th>41</th><td>3.5</td><td>3.0</td></tr><tr><th>42</th><td>2.5</td><td>2.5</td></tr><tr><th>43</th><td>2.5</td><td>2.0</td></tr><tr><th>44</th><td>4.5</td><td>4.0</td></tr><tr><th>45</th><td>4.5</td><td>4.0</td></tr><tr><th>46</th><td>5.0</td><td>4.0</td></tr><tr><th>47</th><td>4.0</td><td>5.0</td></tr><tr><th>48</th><td>4.5</td><td>4.0</td></tr><tr><th>49</th><td>3.5</td><td>5.0</td></tr><tr><th>50</th><td>3.0</td><td>4.0</td></tr><tr><th>51</th><td>2.5</td><td>4.5</td></tr><tr><th>52</th><td>1.5</td><td>3.5</td></tr><tr><th>53</th><td>4.0</td><td>3.0</td></tr><tr><th>54</th><td>4.0</td><td>2.5</td></tr><tr><th>55</th><td>3.0</td><td>3.5</td></tr><tr><th>56</th><td>3.0</td><td>3.0</td></tr><tr><th>57</th><td>2.0</td><td>3.0</td></tr><tr><th>58</th><td>4.0</td><td>2.0</td></tr><tr><th>59</th><td>3.0</td><td>2.0</td></tr><tr><th>60</th><td>2.0</td><td>2.0</td></tr><tr><th>61</th><td>3.0</td><td>3.0</td></tr><tr><th>62</th><td>4.0</td><td>3.0</td></tr><tr><th>63</th><td>3.0</td><td>3.0</td></tr><tr><th>64</th><td>4.0</td><td>3.0</td></tr><tr><th>65</th><td>3.0</td><td>3.5</td></tr><tr><th>66</th><td>3.5</td><td>3.5</td></tr><tr><th>67</th><td>3.0</td><td>3.0</td></tr><tr><th>68</th><td>3.5</td><td>3.5</td></tr><tr><th>69</th><td>3.5</td><td>4.0</td></tr><tr><th>70</th><td>4.5</td><td>4.0</td></tr><tr><th>71</th><td>5.0</td><td>5.0</td></tr><tr><th>72</th><td>5.0</td><td>5.0</td></tr><tr><th>73</th><td>5.0</td><td>5.0</td></tr><tr><th>74</th><td>4.5</td><td>4.0</td></tr><tr><th>75</th><td>3.0</td><td>5.0</td></tr><tr><th>76</th><td>2.0</td><td>4.0</td></tr><tr><th>77</th><td>3.0</td><td>3.0</td></tr><tr><th>78</th><td>3.0</td><td>2.0</td></tr><tr><th>79</th><td>3.0</td><td>2.0</td></tr><tr><th>80</th><td>1.5</td><td>2.0</td></tr><tr><th>81</th><td>2.0</td><td>3.0</td></tr><tr><th>82</th><td>5.0</td><td>5.0</td></tr><tr><th>83</th><td>5.0</td><td>4.5</td></tr><tr><th>84</th><td>4.0</td><td>4.5</td></tr><tr><th>85</th><td>4.5</td><td>4.5</td></tr><tr><th>86</th><td>4.5</td><td>3.5</td></tr><tr><th>87</th><td>4.5</td><td>3.5</td></tr><tr><th>88</th><td>3.5</td><td>3.0</td></tr><tr><th>89</th><td>4.5</td><td>3.5</td></tr><tr><th>90</th><td>4.5</td><td>3.5</td></tr><tr><th>91</th><td>4.0</td><td>4.0</td></tr><tr><th>92</th><td>5.0</td><td>3.5</td></tr><tr><th>93</th><td>4.0</td><td>3.0</td></tr><tr><th>94</th><td>3.0</td><td>3.0</td></tr><tr><th>95</th><td>2.0</td><td>2.5</td></tr><tr><th>96</th><td>1.5</td><td>2.5</td></tr><tr><th>97</th><td>3.0</td><td>3.0</td></tr><tr><th>98</th><td>4.0</td><td>4.0</td></tr><tr><th>99</th><td>5.0</td><td>4.5</td></tr><tr><th>100</th><td>4.0</td><td>4.0</td></tr><tr><th>&vellip;</th><td>&vellip;</td><td>&vellip;</td></tr></tbody></table>"
      ],
      "text/latex": [
       "\\begin{tabular}{r|cc}\n",
       "\t& SOP & LOR\\\\\n",
       "\t\\hline\n",
       "\t& Float64 & Float64\\\\\n",
       "\t\\hline\n",
       "\t1 & 4.5 & 4.5 \\\\\n",
       "\t2 & 4.0 & 4.5 \\\\\n",
       "\t3 & 3.0 & 3.5 \\\\\n",
       "\t4 & 3.5 & 2.5 \\\\\n",
       "\t5 & 2.0 & 3.0 \\\\\n",
       "\t6 & 4.5 & 3.0 \\\\\n",
       "\t7 & 3.0 & 4.0 \\\\\n",
       "\t8 & 3.0 & 4.0 \\\\\n",
       "\t9 & 2.0 & 1.5 \\\\\n",
       "\t10 & 3.5 & 3.0 \\\\\n",
       "\t11 & 3.5 & 4.0 \\\\\n",
       "\t12 & 4.0 & 4.5 \\\\\n",
       "\t13 & 4.0 & 4.5 \\\\\n",
       "\t14 & 4.0 & 3.0 \\\\\n",
       "\t15 & 3.5 & 2.0 \\\\\n",
       "\t16 & 3.5 & 2.5 \\\\\n",
       "\t17 & 4.0 & 3.0 \\\\\n",
       "\t18 & 4.0 & 3.0 \\\\\n",
       "\t19 & 4.0 & 3.0 \\\\\n",
       "\t20 & 3.5 & 3.0 \\\\\n",
       "\t21 & 3.0 & 2.0 \\\\\n",
       "\t22 & 3.0 & 2.0 \\\\\n",
       "\t23 & 5.0 & 5.0 \\\\\n",
       "\t24 & 5.0 & 4.5 \\\\\n",
       "\t25 & 4.0 & 3.5 \\\\\n",
       "\t26 & 4.5 & 4.5 \\\\\n",
       "\t27 & 4.5 & 3.5 \\\\\n",
       "\t28 & 1.5 & 2.5 \\\\\n",
       "\t29 & 2.0 & 2.0 \\\\\n",
       "\t30 & 1.5 & 2.0 \\\\\n",
       "\t31 & 3.0 & 3.0 \\\\\n",
       "\t32 & 4.0 & 4.0 \\\\\n",
       "\t33 & 3.0 & 4.5 \\\\\n",
       "\t34 & 4.0 & 4.0 \\\\\n",
       "\t35 & 4.0 & 5.0 \\\\\n",
       "\t36 & 5.0 & 5.0 \\\\\n",
       "\t37 & 4.0 & 4.0 \\\\\n",
       "\t38 & 1.0 & 2.0 \\\\\n",
       "\t39 & 3.0 & 1.5 \\\\\n",
       "\t40 & 4.0 & 3.5 \\\\\n",
       "\t41 & 3.5 & 3.0 \\\\\n",
       "\t42 & 2.5 & 2.5 \\\\\n",
       "\t43 & 2.5 & 2.0 \\\\\n",
       "\t44 & 4.5 & 4.0 \\\\\n",
       "\t45 & 4.5 & 4.0 \\\\\n",
       "\t46 & 5.0 & 4.0 \\\\\n",
       "\t47 & 4.0 & 5.0 \\\\\n",
       "\t48 & 4.5 & 4.0 \\\\\n",
       "\t49 & 3.5 & 5.0 \\\\\n",
       "\t50 & 3.0 & 4.0 \\\\\n",
       "\t51 & 2.5 & 4.5 \\\\\n",
       "\t52 & 1.5 & 3.5 \\\\\n",
       "\t53 & 4.0 & 3.0 \\\\\n",
       "\t54 & 4.0 & 2.5 \\\\\n",
       "\t55 & 3.0 & 3.5 \\\\\n",
       "\t56 & 3.0 & 3.0 \\\\\n",
       "\t57 & 2.0 & 3.0 \\\\\n",
       "\t58 & 4.0 & 2.0 \\\\\n",
       "\t59 & 3.0 & 2.0 \\\\\n",
       "\t60 & 2.0 & 2.0 \\\\\n",
       "\t61 & 3.0 & 3.0 \\\\\n",
       "\t62 & 4.0 & 3.0 \\\\\n",
       "\t63 & 3.0 & 3.0 \\\\\n",
       "\t64 & 4.0 & 3.0 \\\\\n",
       "\t65 & 3.0 & 3.5 \\\\\n",
       "\t66 & 3.5 & 3.5 \\\\\n",
       "\t67 & 3.0 & 3.0 \\\\\n",
       "\t68 & 3.5 & 3.5 \\\\\n",
       "\t69 & 3.5 & 4.0 \\\\\n",
       "\t70 & 4.5 & 4.0 \\\\\n",
       "\t71 & 5.0 & 5.0 \\\\\n",
       "\t72 & 5.0 & 5.0 \\\\\n",
       "\t73 & 5.0 & 5.0 \\\\\n",
       "\t74 & 4.5 & 4.0 \\\\\n",
       "\t75 & 3.0 & 5.0 \\\\\n",
       "\t76 & 2.0 & 4.0 \\\\\n",
       "\t77 & 3.0 & 3.0 \\\\\n",
       "\t78 & 3.0 & 2.0 \\\\\n",
       "\t79 & 3.0 & 2.0 \\\\\n",
       "\t80 & 1.5 & 2.0 \\\\\n",
       "\t81 & 2.0 & 3.0 \\\\\n",
       "\t82 & 5.0 & 5.0 \\\\\n",
       "\t83 & 5.0 & 4.5 \\\\\n",
       "\t84 & 4.0 & 4.5 \\\\\n",
       "\t85 & 4.5 & 4.5 \\\\\n",
       "\t86 & 4.5 & 3.5 \\\\\n",
       "\t87 & 4.5 & 3.5 \\\\\n",
       "\t88 & 3.5 & 3.0 \\\\\n",
       "\t89 & 4.5 & 3.5 \\\\\n",
       "\t90 & 4.5 & 3.5 \\\\\n",
       "\t91 & 4.0 & 4.0 \\\\\n",
       "\t92 & 5.0 & 3.5 \\\\\n",
       "\t93 & 4.0 & 3.0 \\\\\n",
       "\t94 & 3.0 & 3.0 \\\\\n",
       "\t95 & 2.0 & 2.5 \\\\\n",
       "\t96 & 1.5 & 2.5 \\\\\n",
       "\t97 & 3.0 & 3.0 \\\\\n",
       "\t98 & 4.0 & 4.0 \\\\\n",
       "\t99 & 5.0 & 4.5 \\\\\n",
       "\t100 & 4.0 & 4.0 \\\\\n",
       "\t$\\dots$ & $\\dots$ & $\\dots$ \\\\\n",
       "\\end{tabular}\n"
      ],
      "text/plain": [
       "\u001b[1m400×2 DataFrame\u001b[0m\n",
       "\u001b[1m Row \u001b[0m│\u001b[1m SOP     \u001b[0m\u001b[1m LOR     \u001b[0m\n",
       "\u001b[1m     \u001b[0m│\u001b[90m Float64 \u001b[0m\u001b[90m Float64 \u001b[0m\n",
       "─────┼──────────────────\n",
       "   1 │     4.5      4.5\n",
       "   2 │     4.0      4.5\n",
       "   3 │     3.0      3.5\n",
       "   4 │     3.5      2.5\n",
       "   5 │     2.0      3.0\n",
       "   6 │     4.5      3.0\n",
       "   7 │     3.0      4.0\n",
       "   8 │     3.0      4.0\n",
       "   9 │     2.0      1.5\n",
       "  10 │     3.5      3.0\n",
       "  11 │     3.5      4.0\n",
       "  12 │     4.0      4.5\n",
       "  13 │     4.0      4.5\n",
       "  14 │     4.0      3.0\n",
       "  15 │     3.5      2.0\n",
       "  16 │     3.5      2.5\n",
       "  17 │     4.0      3.0\n",
       "  18 │     4.0      3.0\n",
       "  19 │     4.0      3.0\n",
       "  20 │     3.5      3.0\n",
       "  21 │     3.0      2.0\n",
       "  22 │     3.0      2.0\n",
       "  23 │     5.0      5.0\n",
       "  24 │     5.0      4.5\n",
       "  25 │     4.0      3.5\n",
       "  26 │     4.5      4.5\n",
       "  27 │     4.5      3.5\n",
       "  28 │     1.5      2.5\n",
       "  29 │     2.0      2.0\n",
       "  30 │     1.5      2.0\n",
       "  31 │     3.0      3.0\n",
       "  32 │     4.0      4.0\n",
       "  33 │     3.0      4.5\n",
       "  34 │     4.0      4.0\n",
       "  35 │     4.0      5.0\n",
       "  36 │     5.0      5.0\n",
       "  37 │     4.0      4.0\n",
       "  38 │     1.0      2.0\n",
       "  39 │     3.0      1.5\n",
       "  40 │     4.0      3.5\n",
       "  41 │     3.5      3.0\n",
       "  42 │     2.5      2.5\n",
       "  43 │     2.5      2.0\n",
       "  44 │     4.5      4.0\n",
       "  45 │     4.5      4.0\n",
       "  46 │     5.0      4.0\n",
       "  ⋮  │    ⋮        ⋮\n",
       " 356 │     2.0      3.5\n",
       " 357 │     3.5      4.0\n",
       " 358 │     3.5      3.5\n",
       " 359 │     2.5      2.0\n",
       " 360 │     2.0      1.5\n",
       " 361 │     4.0      5.0\n",
       " 362 │     4.0      3.5\n",
       " 363 │     4.5      5.0\n",
       " 364 │     2.5      3.0\n",
       " 365 │     3.5      4.0\n",
       " 366 │     4.5      3.0\n",
       " 367 │     3.5      4.5\n",
       " 368 │     1.0      2.5\n",
       " 369 │     2.0      2.0\n",
       " 370 │     2.0      3.0\n",
       " 371 │     2.5      2.5\n",
       " 372 │     3.5      3.0\n",
       " 373 │     4.5      4.0\n",
       " 374 │     3.0      3.0\n",
       " 375 │     2.0      2.5\n",
       " 376 │     2.0      2.5\n",
       " 377 │     2.5      2.0\n",
       " 378 │     1.5      2.0\n",
       " 379 │     2.0      2.5\n",
       " 380 │     2.5      3.0\n",
       " 381 │     3.5      4.0\n",
       " 382 │     3.0      3.5\n",
       " 383 │     4.5      4.0\n",
       " 384 │     3.0      3.5\n",
       " 385 │     5.0      5.0\n",
       " 386 │     5.0      5.0\n",
       " 387 │     2.5      3.5\n",
       " 388 │     2.0      3.5\n",
       " 389 │     1.5      2.0\n",
       " 390 │     3.5      4.0\n",
       " 391 │     2.0      2.5\n",
       " 392 │     2.0      3.0\n",
       " 393 │     4.0      3.5\n",
       " 394 │     3.0      3.0\n",
       " 395 │     4.5      4.0\n",
       " 396 │     3.5      3.5\n",
       " 397 │     3.0      3.5\n",
       " 398 │     5.0      4.5\n",
       " 399 │     3.5      4.0\n",
       " 400 │     5.0      4.0\n",
       "\u001b[36m        309 rows omitted\u001b[0m"
      ]
     },
     "execution_count": 26,
     "metadata": {},
     "output_type": "execute_result"
    }
   ],
   "source": [
    "# Select two or more columns\n",
    "\n",
    "df[!, [:SOP, :LOR]]\n",
    "\n",
    "df[!, [\"SOP\", \"LOR\"]]"
   ]
  },
  {
   "cell_type": "markdown",
   "metadata": {},
   "source": [
    "### Selection\n",
    "\n",
    "---\n",
    "\n",
    "`DataFrames.jl` does not have dedicated methods for column and row selection such as Pandas `loc` and `iloc`. Selection is performed using by square brackets."
   ]
  },
  {
   "cell_type": "code",
   "execution_count": 27,
   "metadata": {
    "ExecuteTime": {
     "end_time": "2021-05-22T12:23:21.199000+04:00",
     "start_time": "2021-05-22T08:23:21.058Z"
    }
   },
   "outputs": [
    {
     "data": {
      "text/html": [
       "<table class=\"data-frame\"><thead><tr><th></th><th>Serial No.</th><th>GRE Score</th><th>TOEFL Score</th><th>University Rating</th><th>SOP</th><th>LOR</th><th>CGPA</th><th>Research</th><th>Chance of Admit </th></tr><tr><th></th><th>Int64</th><th>Int64</th><th>Int64</th><th>Int64</th><th>Float64</th><th>Float64</th><th>Float64</th><th>Int64</th><th>Float64</th></tr></thead><tbody><p>3 rows × 9 columns</p><tr><th>1</th><td>398</td><td>330</td><td>116</td><td>4</td><td>5.0</td><td>4.5</td><td>9.45</td><td>1</td><td>0.91</td></tr><tr><th>2</th><td>399</td><td>312</td><td>103</td><td>3</td><td>3.5</td><td>4.0</td><td>8.78</td><td>0</td><td>0.67</td></tr><tr><th>3</th><td>400</td><td>333</td><td>117</td><td>4</td><td>5.0</td><td>4.0</td><td>9.66</td><td>1</td><td>0.95</td></tr></tbody></table>"
      ],
      "text/latex": [
       "\\begin{tabular}{r|ccccccccc}\n",
       "\t& Serial No. & GRE Score & TOEFL Score & University Rating & SOP & LOR & CGPA & Research & Chance of Admit \\\\\n",
       "\t\\hline\n",
       "\t& Int64 & Int64 & Int64 & Int64 & Float64 & Float64 & Float64 & Int64 & Float64\\\\\n",
       "\t\\hline\n",
       "\t1 & 398 & 330 & 116 & 4 & 5.0 & 4.5 & 9.45 & 1 & 0.91 \\\\\n",
       "\t2 & 399 & 312 & 103 & 3 & 3.5 & 4.0 & 8.78 & 0 & 0.67 \\\\\n",
       "\t3 & 400 & 333 & 117 & 4 & 5.0 & 4.0 & 9.66 & 1 & 0.95 \\\\\n",
       "\\end{tabular}\n"
      ],
      "text/plain": [
       "\u001b[1m3×9 DataFrame\u001b[0m\n",
       "\u001b[1m Row \u001b[0m│\u001b[1m Serial No. \u001b[0m\u001b[1m GRE Score \u001b[0m\u001b[1m TOEFL Score \u001b[0m\u001b[1m University Rating \u001b[0m\u001b[1m SOP     \u001b[0m\u001b[1m LOR     \u001b[0m\u001b[1m CGPA    \u001b[0m\u001b[1m Research \u001b[0m\u001b[1m Chance of Admit  \u001b[0m\n",
       "\u001b[1m     \u001b[0m│\u001b[90m Int64      \u001b[0m\u001b[90m Int64     \u001b[0m\u001b[90m Int64       \u001b[0m\u001b[90m Int64             \u001b[0m\u001b[90m Float64 \u001b[0m\u001b[90m Float64 \u001b[0m\u001b[90m Float64 \u001b[0m\u001b[90m Int64    \u001b[0m\u001b[90m Float64          \u001b[0m\n",
       "─────┼──────────────────────────────────────────────────────────────────────────────────────────────────────────────\n",
       "   1 │        398        330          116                  4      5.0      4.5     9.45         1              0.91\n",
       "   2 │        399        312          103                  3      3.5      4.0     8.78         0              0.67\n",
       "   3 │        400        333          117                  4      5.0      4.0     9.66         1              0.95"
      ]
     },
     "execution_count": 27,
     "metadata": {},
     "output_type": "execute_result"
    }
   ],
   "source": [
    "first(df) # Select first row by default\n",
    "\n",
    "first(df, 3) # Select first 3 rows\n",
    "\n",
    "\n",
    "last(df) # Select last row by default\n",
    "\n",
    "last(df, 3) # Select last 3 rows"
   ]
  },
  {
   "cell_type": "markdown",
   "metadata": {
    "ExecuteTime": {
     "end_time": "2020-12-14T18:44:30.271001Z",
     "start_time": "2020-12-14T18:44:30.268494Z"
    }
   },
   "source": [
    "Selection using axis labels. Purely label-location based indexer. Analogue of Pandas `loc`"
   ]
  },
  {
   "cell_type": "code",
   "execution_count": 28,
   "metadata": {
    "ExecuteTime": {
     "end_time": "2021-05-22T12:23:23.640000+04:00",
     "start_time": "2021-05-22T08:23:23.428Z"
    },
    "scrolled": true
   },
   "outputs": [
    {
     "data": {
      "text/html": [
       "<table class=\"data-frame\"><thead><tr><th></th><th>SOP</th><th>LOR</th><th>CGPA</th><th>Research</th></tr><tr><th></th><th>Float64</th><th>Float64</th><th>Float64</th><th>Int64</th></tr></thead><tbody><p>6 rows × 4 columns</p><tr><th>1</th><td>2.0</td><td>3.0</td><td>8.21</td><td>0</td></tr><tr><th>2</th><td>4.5</td><td>3.0</td><td>9.34</td><td>1</td></tr><tr><th>3</th><td>3.0</td><td>4.0</td><td>8.2</td><td>1</td></tr><tr><th>4</th><td>3.0</td><td>4.0</td><td>7.9</td><td>0</td></tr><tr><th>5</th><td>2.0</td><td>1.5</td><td>8.0</td><td>0</td></tr><tr><th>6</th><td>3.5</td><td>3.0</td><td>8.6</td><td>0</td></tr></tbody></table>"
      ],
      "text/latex": [
       "\\begin{tabular}{r|cccc}\n",
       "\t& SOP & LOR & CGPA & Research\\\\\n",
       "\t\\hline\n",
       "\t& Float64 & Float64 & Float64 & Int64\\\\\n",
       "\t\\hline\n",
       "\t1 & 2.0 & 3.0 & 8.21 & 0 \\\\\n",
       "\t2 & 4.5 & 3.0 & 9.34 & 1 \\\\\n",
       "\t3 & 3.0 & 4.0 & 8.2 & 1 \\\\\n",
       "\t4 & 3.0 & 4.0 & 7.9 & 0 \\\\\n",
       "\t5 & 2.0 & 1.5 & 8.0 & 0 \\\\\n",
       "\t6 & 3.5 & 3.0 & 8.6 & 0 \\\\\n",
       "\\end{tabular}\n"
      ],
      "text/plain": [
       "\u001b[1m6×4 DataFrame\u001b[0m\n",
       "\u001b[1m Row \u001b[0m│\u001b[1m SOP     \u001b[0m\u001b[1m LOR     \u001b[0m\u001b[1m CGPA    \u001b[0m\u001b[1m Research \u001b[0m\n",
       "\u001b[1m     \u001b[0m│\u001b[90m Float64 \u001b[0m\u001b[90m Float64 \u001b[0m\u001b[90m Float64 \u001b[0m\u001b[90m Int64    \u001b[0m\n",
       "─────┼─────────────────────────────────────\n",
       "   1 │     2.0      3.0     8.21         0\n",
       "   2 │     4.5      3.0     9.34         1\n",
       "   3 │     3.0      4.0     8.2          1\n",
       "   4 │     3.0      4.0     7.9          0\n",
       "   5 │     2.0      1.5     8.0          0\n",
       "   6 │     3.5      3.0     8.6          0"
      ]
     },
     "execution_count": 28,
     "metadata": {},
     "output_type": "execute_result"
    }
   ],
   "source": [
    "df[:, :] # Select all rows and columns\n",
    "\n",
    "df[:, \"SOP\"] # Select all rows and one column\n",
    "\n",
    "df[1:3, \"SOP\"] # Select first three entries of one column\n",
    "\n",
    "df[1:10, [\"GRE Score\", \"TOEFL Score\"]] # Select first 10 entries of two or more columns\n",
    "\n",
    "df[5:10, Between(:SOP, :Research)] # Select range of rows and range of columns"
   ]
  },
  {
   "cell_type": "markdown",
   "metadata": {},
   "source": [
    "Selecting using integers. Purely integer-location based indexing. Analogue of Pandas `iloc`"
   ]
  },
  {
   "cell_type": "code",
   "execution_count": 29,
   "metadata": {
    "ExecuteTime": {
     "end_time": "2021-05-22T12:23:25.348000+04:00",
     "start_time": "2021-05-22T08:23:25.187Z"
    }
   },
   "outputs": [
    {
     "data": {
      "text/html": [
       "<table class=\"data-frame\"><thead><tr><th></th><th>Serial No.</th><th>GRE Score</th><th>TOEFL Score</th></tr><tr><th></th><th>Int64</th><th>Int64</th><th>Int64</th></tr></thead><tbody><p>3 rows × 3 columns</p><tr><th>1</th><td>1</td><td>337</td><td>118</td></tr><tr><th>2</th><td>2</td><td>324</td><td>107</td></tr><tr><th>3</th><td>3</td><td>316</td><td>104</td></tr></tbody></table>"
      ],
      "text/latex": [
       "\\begin{tabular}{r|ccc}\n",
       "\t& Serial No. & GRE Score & TOEFL Score\\\\\n",
       "\t\\hline\n",
       "\t& Int64 & Int64 & Int64\\\\\n",
       "\t\\hline\n",
       "\t1 & 1 & 337 & 118 \\\\\n",
       "\t2 & 2 & 324 & 107 \\\\\n",
       "\t3 & 3 & 316 & 104 \\\\\n",
       "\\end{tabular}\n"
      ],
      "text/plain": [
       "\u001b[1m3×3 DataFrame\u001b[0m\n",
       "\u001b[1m Row \u001b[0m│\u001b[1m Serial No. \u001b[0m\u001b[1m GRE Score \u001b[0m\u001b[1m TOEFL Score \u001b[0m\n",
       "\u001b[1m     \u001b[0m│\u001b[90m Int64      \u001b[0m\u001b[90m Int64     \u001b[0m\u001b[90m Int64       \u001b[0m\n",
       "─────┼────────────────────────────────────\n",
       "   1 │          1        337          118\n",
       "   2 │          2        324          107\n",
       "   3 │          3        316          104"
      ]
     },
     "execution_count": 29,
     "metadata": {},
     "output_type": "execute_result"
    }
   ],
   "source": [
    "df[1, 1] # Select first element of the first column\n",
    "\n",
    "df[2, :] # Select only one row\n",
    "\n",
    "df[1:5, :] # Select range of rows\n",
    "\n",
    "df[1:5, 1] # Select 5 rows of the first columns\n",
    "\n",
    "df[1:10, 2:5] # Select row as well as column range\n",
    "\n",
    "df[[1, 2, 3], [1, 2, 3]] # Select particular rows and columns"
   ]
  },
  {
   "cell_type": "markdown",
   "metadata": {},
   "source": [
    "### Boolean Indexing\n",
    "\n",
    "---\n",
    "\n",
    "Moreover, we can perform row and column selection based on boolean indexing. This is more like to select rows or columns which satisfy pre-defined condition(s).\n",
    "\n",
    "\n",
    "Boolean indexing means to use boolean series, only True and/or False to select rows or columns."
   ]
  },
  {
   "cell_type": "code",
   "execution_count": 30,
   "metadata": {
    "ExecuteTime": {
     "end_time": "2021-05-22T12:23:26.695000+04:00",
     "start_time": "2021-05-22T08:23:26.686Z"
    }
   },
   "outputs": [
    {
     "data": {
      "text/html": [
       "<table class=\"data-frame\"><thead><tr><th></th><th>Serial No.</th><th>GRE Score</th><th>TOEFL Score</th><th>University Rating</th><th>SOP</th><th>LOR</th><th>CGPA</th><th>Research</th><th>Chance of Admit </th></tr><tr><th></th><th>Int64</th><th>Int64</th><th>Int64</th><th>Int64</th><th>Float64</th><th>Float64</th><th>Float64</th><th>Int64</th><th>Float64</th></tr></thead><tbody><p>5 rows × 9 columns</p><tr><th>1</th><td>1</td><td>337</td><td>118</td><td>4</td><td>4.5</td><td>4.5</td><td>9.65</td><td>1</td><td>0.92</td></tr><tr><th>2</th><td>2</td><td>324</td><td>107</td><td>4</td><td>4.0</td><td>4.5</td><td>8.87</td><td>1</td><td>0.76</td></tr><tr><th>3</th><td>3</td><td>316</td><td>104</td><td>3</td><td>3.0</td><td>3.5</td><td>8.0</td><td>1</td><td>0.72</td></tr><tr><th>4</th><td>4</td><td>322</td><td>110</td><td>3</td><td>3.5</td><td>2.5</td><td>8.67</td><td>1</td><td>0.8</td></tr><tr><th>5</th><td>5</td><td>314</td><td>103</td><td>2</td><td>2.0</td><td>3.0</td><td>8.21</td><td>0</td><td>0.65</td></tr></tbody></table>"
      ],
      "text/latex": [
       "\\begin{tabular}{r|ccccccccc}\n",
       "\t& Serial No. & GRE Score & TOEFL Score & University Rating & SOP & LOR & CGPA & Research & Chance of Admit \\\\\n",
       "\t\\hline\n",
       "\t& Int64 & Int64 & Int64 & Int64 & Float64 & Float64 & Float64 & Int64 & Float64\\\\\n",
       "\t\\hline\n",
       "\t1 & 1 & 337 & 118 & 4 & 4.5 & 4.5 & 9.65 & 1 & 0.92 \\\\\n",
       "\t2 & 2 & 324 & 107 & 4 & 4.0 & 4.5 & 8.87 & 1 & 0.76 \\\\\n",
       "\t3 & 3 & 316 & 104 & 3 & 3.0 & 3.5 & 8.0 & 1 & 0.72 \\\\\n",
       "\t4 & 4 & 322 & 110 & 3 & 3.5 & 2.5 & 8.67 & 1 & 0.8 \\\\\n",
       "\t5 & 5 & 314 & 103 & 2 & 2.0 & 3.0 & 8.21 & 0 & 0.65 \\\\\n",
       "\\end{tabular}\n"
      ],
      "text/plain": [
       "\u001b[1m5×9 DataFrame\u001b[0m\n",
       "\u001b[1m Row \u001b[0m│\u001b[1m Serial No. \u001b[0m\u001b[1m GRE Score \u001b[0m\u001b[1m TOEFL Score \u001b[0m\u001b[1m University Rating \u001b[0m\u001b[1m SOP     \u001b[0m\u001b[1m LOR     \u001b[0m\u001b[1m CGPA    \u001b[0m\u001b[1m Research \u001b[0m\u001b[1m Chance of Admit  \u001b[0m\n",
       "\u001b[1m     \u001b[0m│\u001b[90m Int64      \u001b[0m\u001b[90m Int64     \u001b[0m\u001b[90m Int64       \u001b[0m\u001b[90m Int64             \u001b[0m\u001b[90m Float64 \u001b[0m\u001b[90m Float64 \u001b[0m\u001b[90m Float64 \u001b[0m\u001b[90m Int64    \u001b[0m\u001b[90m Float64          \u001b[0m\n",
       "─────┼──────────────────────────────────────────────────────────────────────────────────────────────────────────────\n",
       "   1 │          1        337          118                  4      4.5      4.5     9.65         1              0.92\n",
       "   2 │          2        324          107                  4      4.0      4.5     8.87         1              0.76\n",
       "   3 │          3        316          104                  3      3.0      3.5     8.0          1              0.72\n",
       "   4 │          4        322          110                  3      3.5      2.5     8.67         1              0.8\n",
       "   5 │          5        314          103                  2      2.0      3.0     8.21         0              0.65"
      ]
     },
     "execution_count": 30,
     "metadata": {},
     "output_type": "execute_result"
    }
   ],
   "source": [
    "first(df, 5)"
   ]
  },
  {
   "cell_type": "code",
   "execution_count": 31,
   "metadata": {
    "ExecuteTime": {
     "end_time": "2021-05-22T12:23:27.227000+04:00",
     "start_time": "2021-05-22T08:23:26.982Z"
    },
    "scrolled": true
   },
   "outputs": [
    {
     "data": {
      "text/html": [
       "<table class=\"data-frame\"><thead><tr><th></th><th>Serial No.</th><th>GRE Score</th><th>TOEFL Score</th><th>University Rating</th><th>SOP</th><th>LOR</th><th>CGPA</th><th>Research</th><th>Chance of Admit </th></tr><tr><th></th><th>Int64</th><th>Int64</th><th>Int64</th><th>Int64</th><th>Float64</th><th>Float64</th><th>Float64</th><th>Int64</th><th>Float64</th></tr></thead><tbody><p>306 rows × 9 columns</p><tr><th>1</th><td>2</td><td>324</td><td>107</td><td>4</td><td>4.0</td><td>4.5</td><td>8.87</td><td>1</td><td>0.76</td></tr><tr><th>2</th><td>3</td><td>316</td><td>104</td><td>3</td><td>3.0</td><td>3.5</td><td>8.0</td><td>1</td><td>0.72</td></tr><tr><th>3</th><td>4</td><td>322</td><td>110</td><td>3</td><td>3.5</td><td>2.5</td><td>8.67</td><td>1</td><td>0.8</td></tr><tr><th>4</th><td>5</td><td>314</td><td>103</td><td>2</td><td>2.0</td><td>3.0</td><td>8.21</td><td>0</td><td>0.65</td></tr><tr><th>5</th><td>7</td><td>321</td><td>109</td><td>3</td><td>3.0</td><td>4.0</td><td>8.2</td><td>1</td><td>0.75</td></tr><tr><th>6</th><td>8</td><td>308</td><td>101</td><td>2</td><td>3.0</td><td>4.0</td><td>7.9</td><td>0</td><td>0.68</td></tr><tr><th>7</th><td>9</td><td>302</td><td>102</td><td>1</td><td>2.0</td><td>1.5</td><td>8.0</td><td>0</td><td>0.5</td></tr><tr><th>8</th><td>10</td><td>323</td><td>108</td><td>3</td><td>3.5</td><td>3.0</td><td>8.6</td><td>0</td><td>0.45</td></tr><tr><th>9</th><td>11</td><td>325</td><td>106</td><td>3</td><td>3.5</td><td>4.0</td><td>8.4</td><td>1</td><td>0.52</td></tr><tr><th>10</th><td>14</td><td>307</td><td>109</td><td>3</td><td>4.0</td><td>3.0</td><td>8.0</td><td>1</td><td>0.62</td></tr><tr><th>11</th><td>15</td><td>311</td><td>104</td><td>3</td><td>3.5</td><td>2.0</td><td>8.2</td><td>1</td><td>0.61</td></tr><tr><th>12</th><td>16</td><td>314</td><td>105</td><td>3</td><td>3.5</td><td>2.5</td><td>8.3</td><td>0</td><td>0.54</td></tr><tr><th>13</th><td>17</td><td>317</td><td>107</td><td>3</td><td>4.0</td><td>3.0</td><td>8.7</td><td>0</td><td>0.66</td></tr><tr><th>14</th><td>18</td><td>319</td><td>106</td><td>3</td><td>4.0</td><td>3.0</td><td>8.0</td><td>1</td><td>0.65</td></tr><tr><th>15</th><td>19</td><td>318</td><td>110</td><td>3</td><td>4.0</td><td>3.0</td><td>8.8</td><td>0</td><td>0.63</td></tr><tr><th>16</th><td>20</td><td>303</td><td>102</td><td>3</td><td>3.5</td><td>3.0</td><td>8.5</td><td>0</td><td>0.62</td></tr><tr><th>17</th><td>21</td><td>312</td><td>107</td><td>3</td><td>3.0</td><td>2.0</td><td>7.9</td><td>1</td><td>0.64</td></tr><tr><th>18</th><td>22</td><td>325</td><td>114</td><td>4</td><td>3.0</td><td>2.0</td><td>8.4</td><td>0</td><td>0.7</td></tr><tr><th>19</th><td>27</td><td>322</td><td>109</td><td>5</td><td>4.5</td><td>3.5</td><td>8.8</td><td>0</td><td>0.76</td></tr><tr><th>20</th><td>28</td><td>298</td><td>98</td><td>2</td><td>1.5</td><td>2.5</td><td>7.5</td><td>1</td><td>0.44</td></tr><tr><th>21</th><td>29</td><td>295</td><td>93</td><td>1</td><td>2.0</td><td>2.0</td><td>7.2</td><td>0</td><td>0.46</td></tr><tr><th>22</th><td>30</td><td>310</td><td>99</td><td>2</td><td>1.5</td><td>2.0</td><td>7.3</td><td>0</td><td>0.54</td></tr><tr><th>23</th><td>31</td><td>300</td><td>97</td><td>2</td><td>3.0</td><td>3.0</td><td>8.1</td><td>1</td><td>0.65</td></tr><tr><th>24</th><td>36</td><td>320</td><td>110</td><td>5</td><td>5.0</td><td>5.0</td><td>9.2</td><td>1</td><td>0.88</td></tr><tr><th>25</th><td>37</td><td>299</td><td>106</td><td>2</td><td>4.0</td><td>4.0</td><td>8.4</td><td>0</td><td>0.64</td></tr><tr><th>26</th><td>38</td><td>300</td><td>105</td><td>1</td><td>1.0</td><td>2.0</td><td>7.8</td><td>0</td><td>0.58</td></tr><tr><th>27</th><td>39</td><td>304</td><td>105</td><td>1</td><td>3.0</td><td>1.5</td><td>7.5</td><td>0</td><td>0.52</td></tr><tr><th>28</th><td>40</td><td>307</td><td>108</td><td>2</td><td>4.0</td><td>3.5</td><td>7.7</td><td>0</td><td>0.48</td></tr><tr><th>29</th><td>41</td><td>308</td><td>110</td><td>3</td><td>3.5</td><td>3.0</td><td>8.0</td><td>1</td><td>0.46</td></tr><tr><th>30</th><td>42</td><td>316</td><td>105</td><td>2</td><td>2.5</td><td>2.5</td><td>8.2</td><td>1</td><td>0.49</td></tr><tr><th>31</th><td>43</td><td>313</td><td>107</td><td>2</td><td>2.5</td><td>2.0</td><td>8.5</td><td>1</td><td>0.53</td></tr><tr><th>32</th><td>46</td><td>322</td><td>110</td><td>5</td><td>5.0</td><td>4.0</td><td>9.1</td><td>1</td><td>0.88</td></tr><tr><th>33</th><td>49</td><td>321</td><td>110</td><td>3</td><td>3.5</td><td>5.0</td><td>8.85</td><td>1</td><td>0.82</td></tr><tr><th>34</th><td>51</td><td>313</td><td>98</td><td>3</td><td>2.5</td><td>4.5</td><td>8.3</td><td>1</td><td>0.76</td></tr><tr><th>35</th><td>52</td><td>312</td><td>100</td><td>2</td><td>1.5</td><td>3.5</td><td>7.9</td><td>1</td><td>0.56</td></tr><tr><th>36</th><td>54</td><td>324</td><td>112</td><td>4</td><td>4.0</td><td>2.5</td><td>8.1</td><td>1</td><td>0.72</td></tr><tr><th>37</th><td>55</td><td>322</td><td>110</td><td>3</td><td>3.0</td><td>3.5</td><td>8.0</td><td>0</td><td>0.7</td></tr><tr><th>38</th><td>56</td><td>320</td><td>103</td><td>3</td><td>3.0</td><td>3.0</td><td>7.7</td><td>0</td><td>0.64</td></tr><tr><th>39</th><td>57</td><td>316</td><td>102</td><td>3</td><td>2.0</td><td>3.0</td><td>7.4</td><td>0</td><td>0.64</td></tr><tr><th>40</th><td>58</td><td>298</td><td>99</td><td>2</td><td>4.0</td><td>2.0</td><td>7.6</td><td>0</td><td>0.46</td></tr><tr><th>41</th><td>59</td><td>300</td><td>99</td><td>1</td><td>3.0</td><td>2.0</td><td>6.8</td><td>1</td><td>0.36</td></tr><tr><th>42</th><td>60</td><td>311</td><td>104</td><td>2</td><td>2.0</td><td>2.0</td><td>8.3</td><td>0</td><td>0.42</td></tr><tr><th>43</th><td>61</td><td>309</td><td>100</td><td>2</td><td>3.0</td><td>3.0</td><td>8.1</td><td>0</td><td>0.48</td></tr><tr><th>44</th><td>62</td><td>307</td><td>101</td><td>3</td><td>4.0</td><td>3.0</td><td>8.2</td><td>0</td><td>0.47</td></tr><tr><th>45</th><td>63</td><td>304</td><td>105</td><td>2</td><td>3.0</td><td>3.0</td><td>8.2</td><td>1</td><td>0.54</td></tr><tr><th>46</th><td>64</td><td>315</td><td>107</td><td>2</td><td>4.0</td><td>3.0</td><td>8.5</td><td>1</td><td>0.56</td></tr><tr><th>47</th><td>65</td><td>325</td><td>111</td><td>3</td><td>3.0</td><td>3.5</td><td>8.7</td><td>0</td><td>0.52</td></tr><tr><th>48</th><td>66</td><td>325</td><td>112</td><td>4</td><td>3.5</td><td>3.5</td><td>8.92</td><td>0</td><td>0.55</td></tr><tr><th>49</th><td>68</td><td>316</td><td>107</td><td>2</td><td>3.5</td><td>3.5</td><td>8.64</td><td>1</td><td>0.57</td></tr><tr><th>50</th><td>69</td><td>318</td><td>109</td><td>3</td><td>3.5</td><td>4.0</td><td>9.22</td><td>1</td><td>0.68</td></tr><tr><th>51</th><td>73</td><td>321</td><td>111</td><td>5</td><td>5.0</td><td>5.0</td><td>9.45</td><td>1</td><td>0.93</td></tr><tr><th>52</th><td>74</td><td>314</td><td>108</td><td>4</td><td>4.5</td><td>4.0</td><td>9.04</td><td>1</td><td>0.84</td></tr><tr><th>53</th><td>75</td><td>314</td><td>106</td><td>3</td><td>3.0</td><td>5.0</td><td>8.9</td><td>0</td><td>0.74</td></tr><tr><th>54</th><td>78</td><td>301</td><td>99</td><td>2</td><td>3.0</td><td>2.0</td><td>8.22</td><td>0</td><td>0.64</td></tr><tr><th>55</th><td>79</td><td>296</td><td>95</td><td>2</td><td>3.0</td><td>2.0</td><td>7.54</td><td>1</td><td>0.44</td></tr><tr><th>56</th><td>80</td><td>294</td><td>93</td><td>1</td><td>1.5</td><td>2.0</td><td>7.36</td><td>0</td><td>0.46</td></tr><tr><th>57</th><td>81</td><td>312</td><td>105</td><td>3</td><td>2.0</td><td>3.0</td><td>8.02</td><td>1</td><td>0.5</td></tr><tr><th>58</th><td>83</td><td>320</td><td>110</td><td>5</td><td>5.0</td><td>4.5</td><td>9.22</td><td>1</td><td>0.92</td></tr><tr><th>59</th><td>84</td><td>322</td><td>115</td><td>5</td><td>4.0</td><td>4.5</td><td>9.36</td><td>1</td><td>0.92</td></tr><tr><th>60</th><td>86</td><td>319</td><td>103</td><td>4</td><td>4.5</td><td>3.5</td><td>8.66</td><td>0</td><td>0.76</td></tr><tr><th>61</th><td>87</td><td>315</td><td>106</td><td>3</td><td>4.5</td><td>3.5</td><td>8.42</td><td>0</td><td>0.72</td></tr><tr><th>62</th><td>88</td><td>317</td><td>107</td><td>2</td><td>3.5</td><td>3.0</td><td>8.28</td><td>0</td><td>0.66</td></tr><tr><th>63</th><td>89</td><td>314</td><td>108</td><td>3</td><td>4.5</td><td>3.5</td><td>8.14</td><td>0</td><td>0.64</td></tr><tr><th>64</th><td>90</td><td>316</td><td>109</td><td>4</td><td>4.5</td><td>3.5</td><td>8.76</td><td>1</td><td>0.74</td></tr><tr><th>65</th><td>91</td><td>318</td><td>106</td><td>2</td><td>4.0</td><td>4.0</td><td>7.92</td><td>1</td><td>0.64</td></tr><tr><th>66</th><td>92</td><td>299</td><td>97</td><td>3</td><td>5.0</td><td>3.5</td><td>7.66</td><td>0</td><td>0.38</td></tr><tr><th>67</th><td>93</td><td>298</td><td>98</td><td>2</td><td>4.0</td><td>3.0</td><td>8.03</td><td>0</td><td>0.34</td></tr><tr><th>68</th><td>94</td><td>301</td><td>97</td><td>2</td><td>3.0</td><td>3.0</td><td>7.88</td><td>1</td><td>0.44</td></tr><tr><th>69</th><td>95</td><td>303</td><td>99</td><td>3</td><td>2.0</td><td>2.5</td><td>7.66</td><td>0</td><td>0.36</td></tr><tr><th>70</th><td>96</td><td>304</td><td>100</td><td>4</td><td>1.5</td><td>2.5</td><td>7.84</td><td>0</td><td>0.42</td></tr><tr><th>71</th><td>97</td><td>306</td><td>100</td><td>2</td><td>3.0</td><td>3.0</td><td>8.0</td><td>0</td><td>0.48</td></tr><tr><th>72</th><td>100</td><td>323</td><td>113</td><td>3</td><td>4.0</td><td>4.0</td><td>8.88</td><td>1</td><td>0.79</td></tr><tr><th>73</th><td>101</td><td>322</td><td>107</td><td>3</td><td>3.5</td><td>3.5</td><td>8.46</td><td>1</td><td>0.71</td></tr><tr><th>74</th><td>102</td><td>312</td><td>105</td><td>2</td><td>2.5</td><td>3.0</td><td>8.12</td><td>0</td><td>0.64</td></tr><tr><th>75</th><td>103</td><td>314</td><td>106</td><td>2</td><td>4.0</td><td>3.5</td><td>8.25</td><td>0</td><td>0.62</td></tr><tr><th>76</th><td>104</td><td>317</td><td>104</td><td>2</td><td>4.5</td><td>4.0</td><td>8.47</td><td>0</td><td>0.57</td></tr><tr><th>77</th><td>106</td><td>316</td><td>110</td><td>3</td><td>4.0</td><td>4.5</td><td>8.78</td><td>1</td><td>0.69</td></tr><tr><th>78</th><td>110</td><td>304</td><td>103</td><td>5</td><td>5.0</td><td>4.0</td><td>8.64</td><td>0</td><td>0.68</td></tr><tr><th>79</th><td>111</td><td>305</td><td>108</td><td>5</td><td>3.0</td><td>3.0</td><td>8.48</td><td>0</td><td>0.61</td></tr><tr><th>80</th><td>112</td><td>321</td><td>109</td><td>4</td><td>4.0</td><td>4.0</td><td>8.68</td><td>1</td><td>0.69</td></tr><tr><th>81</th><td>113</td><td>301</td><td>107</td><td>3</td><td>3.5</td><td>3.5</td><td>8.34</td><td>1</td><td>0.62</td></tr><tr><th>82</th><td>114</td><td>320</td><td>110</td><td>2</td><td>4.0</td><td>3.5</td><td>8.56</td><td>0</td><td>0.72</td></tr><tr><th>83</th><td>115</td><td>311</td><td>105</td><td>3</td><td>3.5</td><td>3.0</td><td>8.45</td><td>1</td><td>0.59</td></tr><tr><th>84</th><td>116</td><td>310</td><td>106</td><td>4</td><td>4.5</td><td>4.5</td><td>9.04</td><td>1</td><td>0.66</td></tr><tr><th>85</th><td>117</td><td>299</td><td>102</td><td>3</td><td>4.0</td><td>3.5</td><td>8.62</td><td>0</td><td>0.56</td></tr><tr><th>86</th><td>118</td><td>290</td><td>104</td><td>4</td><td>2.0</td><td>2.5</td><td>7.46</td><td>0</td><td>0.45</td></tr><tr><th>87</th><td>119</td><td>296</td><td>99</td><td>2</td><td>3.0</td><td>3.5</td><td>7.28</td><td>0</td><td>0.47</td></tr><tr><th>88</th><td>123</td><td>310</td><td>106</td><td>4</td><td>1.5</td><td>2.5</td><td>8.36</td><td>0</td><td>0.57</td></tr><tr><th>89</th><td>124</td><td>308</td><td>108</td><td>3</td><td>3.5</td><td>3.5</td><td>8.22</td><td>0</td><td>0.61</td></tr><tr><th>90</th><td>125</td><td>301</td><td>106</td><td>4</td><td>2.5</td><td>3.0</td><td>8.47</td><td>0</td><td>0.57</td></tr><tr><th>91</th><td>126</td><td>300</td><td>100</td><td>3</td><td>2.0</td><td>3.0</td><td>8.66</td><td>1</td><td>0.64</td></tr><tr><th>92</th><td>127</td><td>323</td><td>113</td><td>3</td><td>4.0</td><td>3.0</td><td>9.32</td><td>1</td><td>0.85</td></tr><tr><th>93</th><td>128</td><td>319</td><td>112</td><td>3</td><td>2.5</td><td>2.0</td><td>8.71</td><td>1</td><td>0.78</td></tr><tr><th>94</th><td>132</td><td>303</td><td>105</td><td>5</td><td>5.0</td><td>4.5</td><td>8.65</td><td>0</td><td>0.77</td></tr><tr><th>95</th><td>133</td><td>309</td><td>105</td><td>5</td><td>3.5</td><td>3.5</td><td>8.56</td><td>0</td><td>0.71</td></tr><tr><th>96</th><td>134</td><td>323</td><td>112</td><td>5</td><td>4.0</td><td>4.5</td><td>8.78</td><td>0</td><td>0.79</td></tr><tr><th>97</th><td>136</td><td>314</td><td>109</td><td>4</td><td>3.5</td><td>4.0</td><td>8.77</td><td>1</td><td>0.82</td></tr><tr><th>98</th><td>137</td><td>312</td><td>103</td><td>3</td><td>5.0</td><td>4.0</td><td>8.45</td><td>0</td><td>0.76</td></tr><tr><th>99</th><td>138</td><td>316</td><td>100</td><td>2</td><td>1.5</td><td>3.0</td><td>8.16</td><td>1</td><td>0.71</td></tr><tr><th>100</th><td>140</td><td>318</td><td>109</td><td>1</td><td>3.5</td><td>3.5</td><td>9.12</td><td>0</td><td>0.78</td></tr><tr><th>&vellip;</th><td>&vellip;</td><td>&vellip;</td><td>&vellip;</td><td>&vellip;</td><td>&vellip;</td><td>&vellip;</td><td>&vellip;</td><td>&vellip;</td><td>&vellip;</td></tr></tbody></table>"
      ],
      "text/latex": [
       "\\begin{tabular}{r|ccccccccc}\n",
       "\t& Serial No. & GRE Score & TOEFL Score & University Rating & SOP & LOR & CGPA & Research & Chance of Admit \\\\\n",
       "\t\\hline\n",
       "\t& Int64 & Int64 & Int64 & Int64 & Float64 & Float64 & Float64 & Int64 & Float64\\\\\n",
       "\t\\hline\n",
       "\t1 & 2 & 324 & 107 & 4 & 4.0 & 4.5 & 8.87 & 1 & 0.76 \\\\\n",
       "\t2 & 3 & 316 & 104 & 3 & 3.0 & 3.5 & 8.0 & 1 & 0.72 \\\\\n",
       "\t3 & 4 & 322 & 110 & 3 & 3.5 & 2.5 & 8.67 & 1 & 0.8 \\\\\n",
       "\t4 & 5 & 314 & 103 & 2 & 2.0 & 3.0 & 8.21 & 0 & 0.65 \\\\\n",
       "\t5 & 7 & 321 & 109 & 3 & 3.0 & 4.0 & 8.2 & 1 & 0.75 \\\\\n",
       "\t6 & 8 & 308 & 101 & 2 & 3.0 & 4.0 & 7.9 & 0 & 0.68 \\\\\n",
       "\t7 & 9 & 302 & 102 & 1 & 2.0 & 1.5 & 8.0 & 0 & 0.5 \\\\\n",
       "\t8 & 10 & 323 & 108 & 3 & 3.5 & 3.0 & 8.6 & 0 & 0.45 \\\\\n",
       "\t9 & 11 & 325 & 106 & 3 & 3.5 & 4.0 & 8.4 & 1 & 0.52 \\\\\n",
       "\t10 & 14 & 307 & 109 & 3 & 4.0 & 3.0 & 8.0 & 1 & 0.62 \\\\\n",
       "\t11 & 15 & 311 & 104 & 3 & 3.5 & 2.0 & 8.2 & 1 & 0.61 \\\\\n",
       "\t12 & 16 & 314 & 105 & 3 & 3.5 & 2.5 & 8.3 & 0 & 0.54 \\\\\n",
       "\t13 & 17 & 317 & 107 & 3 & 4.0 & 3.0 & 8.7 & 0 & 0.66 \\\\\n",
       "\t14 & 18 & 319 & 106 & 3 & 4.0 & 3.0 & 8.0 & 1 & 0.65 \\\\\n",
       "\t15 & 19 & 318 & 110 & 3 & 4.0 & 3.0 & 8.8 & 0 & 0.63 \\\\\n",
       "\t16 & 20 & 303 & 102 & 3 & 3.5 & 3.0 & 8.5 & 0 & 0.62 \\\\\n",
       "\t17 & 21 & 312 & 107 & 3 & 3.0 & 2.0 & 7.9 & 1 & 0.64 \\\\\n",
       "\t18 & 22 & 325 & 114 & 4 & 3.0 & 2.0 & 8.4 & 0 & 0.7 \\\\\n",
       "\t19 & 27 & 322 & 109 & 5 & 4.5 & 3.5 & 8.8 & 0 & 0.76 \\\\\n",
       "\t20 & 28 & 298 & 98 & 2 & 1.5 & 2.5 & 7.5 & 1 & 0.44 \\\\\n",
       "\t21 & 29 & 295 & 93 & 1 & 2.0 & 2.0 & 7.2 & 0 & 0.46 \\\\\n",
       "\t22 & 30 & 310 & 99 & 2 & 1.5 & 2.0 & 7.3 & 0 & 0.54 \\\\\n",
       "\t23 & 31 & 300 & 97 & 2 & 3.0 & 3.0 & 8.1 & 1 & 0.65 \\\\\n",
       "\t24 & 36 & 320 & 110 & 5 & 5.0 & 5.0 & 9.2 & 1 & 0.88 \\\\\n",
       "\t25 & 37 & 299 & 106 & 2 & 4.0 & 4.0 & 8.4 & 0 & 0.64 \\\\\n",
       "\t26 & 38 & 300 & 105 & 1 & 1.0 & 2.0 & 7.8 & 0 & 0.58 \\\\\n",
       "\t27 & 39 & 304 & 105 & 1 & 3.0 & 1.5 & 7.5 & 0 & 0.52 \\\\\n",
       "\t28 & 40 & 307 & 108 & 2 & 4.0 & 3.5 & 7.7 & 0 & 0.48 \\\\\n",
       "\t29 & 41 & 308 & 110 & 3 & 3.5 & 3.0 & 8.0 & 1 & 0.46 \\\\\n",
       "\t30 & 42 & 316 & 105 & 2 & 2.5 & 2.5 & 8.2 & 1 & 0.49 \\\\\n",
       "\t31 & 43 & 313 & 107 & 2 & 2.5 & 2.0 & 8.5 & 1 & 0.53 \\\\\n",
       "\t32 & 46 & 322 & 110 & 5 & 5.0 & 4.0 & 9.1 & 1 & 0.88 \\\\\n",
       "\t33 & 49 & 321 & 110 & 3 & 3.5 & 5.0 & 8.85 & 1 & 0.82 \\\\\n",
       "\t34 & 51 & 313 & 98 & 3 & 2.5 & 4.5 & 8.3 & 1 & 0.76 \\\\\n",
       "\t35 & 52 & 312 & 100 & 2 & 1.5 & 3.5 & 7.9 & 1 & 0.56 \\\\\n",
       "\t36 & 54 & 324 & 112 & 4 & 4.0 & 2.5 & 8.1 & 1 & 0.72 \\\\\n",
       "\t37 & 55 & 322 & 110 & 3 & 3.0 & 3.5 & 8.0 & 0 & 0.7 \\\\\n",
       "\t38 & 56 & 320 & 103 & 3 & 3.0 & 3.0 & 7.7 & 0 & 0.64 \\\\\n",
       "\t39 & 57 & 316 & 102 & 3 & 2.0 & 3.0 & 7.4 & 0 & 0.64 \\\\\n",
       "\t40 & 58 & 298 & 99 & 2 & 4.0 & 2.0 & 7.6 & 0 & 0.46 \\\\\n",
       "\t41 & 59 & 300 & 99 & 1 & 3.0 & 2.0 & 6.8 & 1 & 0.36 \\\\\n",
       "\t42 & 60 & 311 & 104 & 2 & 2.0 & 2.0 & 8.3 & 0 & 0.42 \\\\\n",
       "\t43 & 61 & 309 & 100 & 2 & 3.0 & 3.0 & 8.1 & 0 & 0.48 \\\\\n",
       "\t44 & 62 & 307 & 101 & 3 & 4.0 & 3.0 & 8.2 & 0 & 0.47 \\\\\n",
       "\t45 & 63 & 304 & 105 & 2 & 3.0 & 3.0 & 8.2 & 1 & 0.54 \\\\\n",
       "\t46 & 64 & 315 & 107 & 2 & 4.0 & 3.0 & 8.5 & 1 & 0.56 \\\\\n",
       "\t47 & 65 & 325 & 111 & 3 & 3.0 & 3.5 & 8.7 & 0 & 0.52 \\\\\n",
       "\t48 & 66 & 325 & 112 & 4 & 3.5 & 3.5 & 8.92 & 0 & 0.55 \\\\\n",
       "\t49 & 68 & 316 & 107 & 2 & 3.5 & 3.5 & 8.64 & 1 & 0.57 \\\\\n",
       "\t50 & 69 & 318 & 109 & 3 & 3.5 & 4.0 & 9.22 & 1 & 0.68 \\\\\n",
       "\t51 & 73 & 321 & 111 & 5 & 5.0 & 5.0 & 9.45 & 1 & 0.93 \\\\\n",
       "\t52 & 74 & 314 & 108 & 4 & 4.5 & 4.0 & 9.04 & 1 & 0.84 \\\\\n",
       "\t53 & 75 & 314 & 106 & 3 & 3.0 & 5.0 & 8.9 & 0 & 0.74 \\\\\n",
       "\t54 & 78 & 301 & 99 & 2 & 3.0 & 2.0 & 8.22 & 0 & 0.64 \\\\\n",
       "\t55 & 79 & 296 & 95 & 2 & 3.0 & 2.0 & 7.54 & 1 & 0.44 \\\\\n",
       "\t56 & 80 & 294 & 93 & 1 & 1.5 & 2.0 & 7.36 & 0 & 0.46 \\\\\n",
       "\t57 & 81 & 312 & 105 & 3 & 2.0 & 3.0 & 8.02 & 1 & 0.5 \\\\\n",
       "\t58 & 83 & 320 & 110 & 5 & 5.0 & 4.5 & 9.22 & 1 & 0.92 \\\\\n",
       "\t59 & 84 & 322 & 115 & 5 & 4.0 & 4.5 & 9.36 & 1 & 0.92 \\\\\n",
       "\t60 & 86 & 319 & 103 & 4 & 4.5 & 3.5 & 8.66 & 0 & 0.76 \\\\\n",
       "\t61 & 87 & 315 & 106 & 3 & 4.5 & 3.5 & 8.42 & 0 & 0.72 \\\\\n",
       "\t62 & 88 & 317 & 107 & 2 & 3.5 & 3.0 & 8.28 & 0 & 0.66 \\\\\n",
       "\t63 & 89 & 314 & 108 & 3 & 4.5 & 3.5 & 8.14 & 0 & 0.64 \\\\\n",
       "\t64 & 90 & 316 & 109 & 4 & 4.5 & 3.5 & 8.76 & 1 & 0.74 \\\\\n",
       "\t65 & 91 & 318 & 106 & 2 & 4.0 & 4.0 & 7.92 & 1 & 0.64 \\\\\n",
       "\t66 & 92 & 299 & 97 & 3 & 5.0 & 3.5 & 7.66 & 0 & 0.38 \\\\\n",
       "\t67 & 93 & 298 & 98 & 2 & 4.0 & 3.0 & 8.03 & 0 & 0.34 \\\\\n",
       "\t68 & 94 & 301 & 97 & 2 & 3.0 & 3.0 & 7.88 & 1 & 0.44 \\\\\n",
       "\t69 & 95 & 303 & 99 & 3 & 2.0 & 2.5 & 7.66 & 0 & 0.36 \\\\\n",
       "\t70 & 96 & 304 & 100 & 4 & 1.5 & 2.5 & 7.84 & 0 & 0.42 \\\\\n",
       "\t71 & 97 & 306 & 100 & 2 & 3.0 & 3.0 & 8.0 & 0 & 0.48 \\\\\n",
       "\t72 & 100 & 323 & 113 & 3 & 4.0 & 4.0 & 8.88 & 1 & 0.79 \\\\\n",
       "\t73 & 101 & 322 & 107 & 3 & 3.5 & 3.5 & 8.46 & 1 & 0.71 \\\\\n",
       "\t74 & 102 & 312 & 105 & 2 & 2.5 & 3.0 & 8.12 & 0 & 0.64 \\\\\n",
       "\t75 & 103 & 314 & 106 & 2 & 4.0 & 3.5 & 8.25 & 0 & 0.62 \\\\\n",
       "\t76 & 104 & 317 & 104 & 2 & 4.5 & 4.0 & 8.47 & 0 & 0.57 \\\\\n",
       "\t77 & 106 & 316 & 110 & 3 & 4.0 & 4.5 & 8.78 & 1 & 0.69 \\\\\n",
       "\t78 & 110 & 304 & 103 & 5 & 5.0 & 4.0 & 8.64 & 0 & 0.68 \\\\\n",
       "\t79 & 111 & 305 & 108 & 5 & 3.0 & 3.0 & 8.48 & 0 & 0.61 \\\\\n",
       "\t80 & 112 & 321 & 109 & 4 & 4.0 & 4.0 & 8.68 & 1 & 0.69 \\\\\n",
       "\t81 & 113 & 301 & 107 & 3 & 3.5 & 3.5 & 8.34 & 1 & 0.62 \\\\\n",
       "\t82 & 114 & 320 & 110 & 2 & 4.0 & 3.5 & 8.56 & 0 & 0.72 \\\\\n",
       "\t83 & 115 & 311 & 105 & 3 & 3.5 & 3.0 & 8.45 & 1 & 0.59 \\\\\n",
       "\t84 & 116 & 310 & 106 & 4 & 4.5 & 4.5 & 9.04 & 1 & 0.66 \\\\\n",
       "\t85 & 117 & 299 & 102 & 3 & 4.0 & 3.5 & 8.62 & 0 & 0.56 \\\\\n",
       "\t86 & 118 & 290 & 104 & 4 & 2.0 & 2.5 & 7.46 & 0 & 0.45 \\\\\n",
       "\t87 & 119 & 296 & 99 & 2 & 3.0 & 3.5 & 7.28 & 0 & 0.47 \\\\\n",
       "\t88 & 123 & 310 & 106 & 4 & 1.5 & 2.5 & 8.36 & 0 & 0.57 \\\\\n",
       "\t89 & 124 & 308 & 108 & 3 & 3.5 & 3.5 & 8.22 & 0 & 0.61 \\\\\n",
       "\t90 & 125 & 301 & 106 & 4 & 2.5 & 3.0 & 8.47 & 0 & 0.57 \\\\\n",
       "\t91 & 126 & 300 & 100 & 3 & 2.0 & 3.0 & 8.66 & 1 & 0.64 \\\\\n",
       "\t92 & 127 & 323 & 113 & 3 & 4.0 & 3.0 & 9.32 & 1 & 0.85 \\\\\n",
       "\t93 & 128 & 319 & 112 & 3 & 2.5 & 2.0 & 8.71 & 1 & 0.78 \\\\\n",
       "\t94 & 132 & 303 & 105 & 5 & 5.0 & 4.5 & 8.65 & 0 & 0.77 \\\\\n",
       "\t95 & 133 & 309 & 105 & 5 & 3.5 & 3.5 & 8.56 & 0 & 0.71 \\\\\n",
       "\t96 & 134 & 323 & 112 & 5 & 4.0 & 4.5 & 8.78 & 0 & 0.79 \\\\\n",
       "\t97 & 136 & 314 & 109 & 4 & 3.5 & 4.0 & 8.77 & 1 & 0.82 \\\\\n",
       "\t98 & 137 & 312 & 103 & 3 & 5.0 & 4.0 & 8.45 & 0 & 0.76 \\\\\n",
       "\t99 & 138 & 316 & 100 & 2 & 1.5 & 3.0 & 8.16 & 1 & 0.71 \\\\\n",
       "\t100 & 140 & 318 & 109 & 1 & 3.5 & 3.5 & 9.12 & 0 & 0.78 \\\\\n",
       "\t$\\dots$ & $\\dots$ & $\\dots$ & $\\dots$ & $\\dots$ & $\\dots$ & $\\dots$ & $\\dots$ & $\\dots$ & $\\dots$ \\\\\n",
       "\\end{tabular}\n"
      ],
      "text/plain": [
       "\u001b[1m306×9 DataFrame\u001b[0m\n",
       "\u001b[1m Row \u001b[0m│\u001b[1m Serial No. \u001b[0m\u001b[1m GRE Score \u001b[0m\u001b[1m TOEFL Score \u001b[0m\u001b[1m University Rating \u001b[0m\u001b[1m SOP     \u001b[0m\u001b[1m LOR     \u001b[0m\u001b[1m CGPA    \u001b[0m\u001b[1m Research \u001b[0m\u001b[1m Chance of Admit  \u001b[0m\n",
       "\u001b[1m     \u001b[0m│\u001b[90m Int64      \u001b[0m\u001b[90m Int64     \u001b[0m\u001b[90m Int64       \u001b[0m\u001b[90m Int64             \u001b[0m\u001b[90m Float64 \u001b[0m\u001b[90m Float64 \u001b[0m\u001b[90m Float64 \u001b[0m\u001b[90m Int64    \u001b[0m\u001b[90m Float64          \u001b[0m\n",
       "─────┼──────────────────────────────────────────────────────────────────────────────────────────────────────────────\n",
       "   1 │          2        324          107                  4      4.0      4.5     8.87         1              0.76\n",
       "   2 │          3        316          104                  3      3.0      3.5     8.0          1              0.72\n",
       "   3 │          4        322          110                  3      3.5      2.5     8.67         1              0.8\n",
       "   4 │          5        314          103                  2      2.0      3.0     8.21         0              0.65\n",
       "   5 │          7        321          109                  3      3.0      4.0     8.2          1              0.75\n",
       "   6 │          8        308          101                  2      3.0      4.0     7.9          0              0.68\n",
       "   7 │          9        302          102                  1      2.0      1.5     8.0          0              0.5\n",
       "   8 │         10        323          108                  3      3.5      3.0     8.6          0              0.45\n",
       "   9 │         11        325          106                  3      3.5      4.0     8.4          1              0.52\n",
       "  10 │         14        307          109                  3      4.0      3.0     8.0          1              0.62\n",
       "  11 │         15        311          104                  3      3.5      2.0     8.2          1              0.61\n",
       "  12 │         16        314          105                  3      3.5      2.5     8.3          0              0.54\n",
       "  13 │         17        317          107                  3      4.0      3.0     8.7          0              0.66\n",
       "  14 │         18        319          106                  3      4.0      3.0     8.0          1              0.65\n",
       "  15 │         19        318          110                  3      4.0      3.0     8.8          0              0.63\n",
       "  16 │         20        303          102                  3      3.5      3.0     8.5          0              0.62\n",
       "  17 │         21        312          107                  3      3.0      2.0     7.9          1              0.64\n",
       "  18 │         22        325          114                  4      3.0      2.0     8.4          0              0.7\n",
       "  19 │         27        322          109                  5      4.5      3.5     8.8          0              0.76\n",
       "  20 │         28        298           98                  2      1.5      2.5     7.5          1              0.44\n",
       "  21 │         29        295           93                  1      2.0      2.0     7.2          0              0.46\n",
       "  22 │         30        310           99                  2      1.5      2.0     7.3          0              0.54\n",
       "  23 │         31        300           97                  2      3.0      3.0     8.1          1              0.65\n",
       "  24 │         36        320          110                  5      5.0      5.0     9.2          1              0.88\n",
       "  25 │         37        299          106                  2      4.0      4.0     8.4          0              0.64\n",
       "  26 │         38        300          105                  1      1.0      2.0     7.8          0              0.58\n",
       "  27 │         39        304          105                  1      3.0      1.5     7.5          0              0.52\n",
       "  28 │         40        307          108                  2      4.0      3.5     7.7          0              0.48\n",
       "  29 │         41        308          110                  3      3.5      3.0     8.0          1              0.46\n",
       "  30 │         42        316          105                  2      2.5      2.5     8.2          1              0.49\n",
       "  31 │         43        313          107                  2      2.5      2.0     8.5          1              0.53\n",
       "  32 │         46        322          110                  5      5.0      4.0     9.1          1              0.88\n",
       "  33 │         49        321          110                  3      3.5      5.0     8.85         1              0.82\n",
       "  34 │         51        313           98                  3      2.5      4.5     8.3          1              0.76\n",
       "  35 │         52        312          100                  2      1.5      3.5     7.9          1              0.56\n",
       "  36 │         54        324          112                  4      4.0      2.5     8.1          1              0.72\n",
       "  37 │         55        322          110                  3      3.0      3.5     8.0          0              0.7\n",
       "  38 │         56        320          103                  3      3.0      3.0     7.7          0              0.64\n",
       "  39 │         57        316          102                  3      2.0      3.0     7.4          0              0.64\n",
       "  40 │         58        298           99                  2      4.0      2.0     7.6          0              0.46\n",
       "  41 │         59        300           99                  1      3.0      2.0     6.8          1              0.36\n",
       "  42 │         60        311          104                  2      2.0      2.0     8.3          0              0.42\n",
       "  43 │         61        309          100                  2      3.0      3.0     8.1          0              0.48\n",
       "  44 │         62        307          101                  3      4.0      3.0     8.2          0              0.47\n",
       "  45 │         63        304          105                  2      3.0      3.0     8.2          1              0.54\n",
       "  46 │         64        315          107                  2      4.0      3.0     8.5          1              0.56\n",
       "  ⋮  │     ⋮           ⋮           ⋮               ⋮             ⋮        ⋮        ⋮        ⋮             ⋮\n",
       " 262 │        345        295           96                  2      1.5      2.0     7.34         0              0.47\n",
       " 263 │        346        316           98                  1      1.5      2.0     7.43         0              0.49\n",
       " 264 │        347        304           97                  2      1.5      2.0     7.64         0              0.47\n",
       " 265 │        348        299           94                  1      1.0      1.0     7.34         0              0.42\n",
       " 266 │        349        302           99                  1      2.0      2.0     7.25         0              0.57\n",
       " 267 │        350        313          101                  3      2.5      3.0     8.04         0              0.62\n",
       " 268 │        351        318          107                  3      3.0      3.5     8.27         1              0.74\n",
       " 269 │        352        325          110                  4      3.5      4.0     8.67         1              0.73\n",
       " 270 │        353        303          100                  2      3.0      3.5     8.06         1              0.64\n",
       " 271 │        354        300          102                  3      3.5      2.5     8.17         0              0.63\n",
       " 272 │        355        297           98                  2      2.5      3.0     7.67         0              0.59\n",
       " 273 │        356        317          106                  2      2.0      3.5     8.12         0              0.73\n",
       " 274 │        358        301          104                  2      3.5      3.5     7.89         1              0.68\n",
       " 275 │        359        314          105                  2      2.5      2.0     7.64         0              0.7\n",
       " 276 │        360        321          107                  2      2.0      1.5     8.44         0              0.81\n",
       " 277 │        361        322          110                  3      4.0      5.0     8.64         1              0.85\n",
       " 278 │        364        306          103                  2      2.5      3.0     8.36         0              0.69\n",
       " 279 │        365        313          102                  3      3.5      4.0     8.9          1              0.77\n",
       " 280 │        367        320          104                  3      3.5      4.5     8.34         1              0.74\n",
       " 281 │        368        311           98                  1      1.0      2.5     7.46         0              0.57\n",
       " 282 │        369        298           92                  1      2.0      2.0     7.88         0              0.51\n",
       " 283 │        370        301           98                  1      2.0      3.0     8.03         1              0.67\n",
       " 284 │        371        310          103                  2      2.5      2.5     8.24         0              0.72\n",
       " 285 │        372        324          110                  3      3.5      3.0     9.22         1              0.89\n",
       " 286 │        374        321          109                  3      3.0      3.0     8.54         1              0.79\n",
       " 287 │        375        315          105                  2      2.0      2.5     7.65         0              0.39\n",
       " 288 │        376        304          101                  2      2.0      2.5     7.66         0              0.38\n",
       " 289 │        377        297           96                  2      2.5      2.0     7.43         0              0.34\n",
       " 290 │        378        290          100                  1      1.5      2.0     7.56         0              0.47\n",
       " 291 │        379        303           98                  1      2.0      2.5     7.65         0              0.56\n",
       " 292 │        380        311           99                  1      2.5      3.0     8.43         1              0.71\n",
       " 293 │        381        322          104                  3      3.5      4.0     8.84         1              0.78\n",
       " 294 │        382        319          105                  3      3.0      3.5     8.67         1              0.73\n",
       " 295 │        383        324          110                  4      4.5      4.0     9.15         1              0.82\n",
       " 296 │        384        300          100                  3      3.0      3.5     8.26         0              0.62\n",
       " 297 │        387        302          101                  2      2.5      3.5     7.96         0              0.46\n",
       " 298 │        388        307          105                  2      2.0      3.5     8.1          0              0.53\n",
       " 299 │        389        296           97                  2      1.5      2.0     7.8          0              0.49\n",
       " 300 │        390        320          108                  3      3.5      4.0     8.44         1              0.76\n",
       " 301 │        391        314          102                  2      2.0      2.5     8.24         0              0.64\n",
       " 302 │        392        318          106                  3      2.0      3.0     8.65         0              0.71\n",
       " 303 │        394        317          104                  2      3.0      3.0     8.76         0              0.77\n",
       " 304 │        396        324          110                  3      3.5      3.5     9.04         1              0.82\n",
       " 305 │        397        325          107                  3      3.0      3.5     9.11         1              0.84\n",
       " 306 │        399        312          103                  3      3.5      4.0     8.78         0              0.67\n",
       "\u001b[36m                                                                                                    215 rows omitted\u001b[0m"
      ]
     },
     "execution_count": 31,
     "metadata": {},
     "output_type": "execute_result"
    }
   ],
   "source": [
    "df[!, \"GRE Score\"] .> 325 # Returns boolean Series. True when condition is True, otherwise False\n",
    "\n",
    "df[df[!, \"GRE Score\"] .> 325, :] # Returns corresponding DataFrame. Where True\n",
    "\n",
    "df[.!(df[!, \"GRE Score\"] .> 325), :] # Returns DataFrame where False"
   ]
  },
  {
   "cell_type": "code",
   "execution_count": 32,
   "metadata": {
    "ExecuteTime": {
     "end_time": "2021-05-22T12:23:27.519000+04:00",
     "start_time": "2021-05-22T08:23:27.436Z"
    },
    "scrolled": true
   },
   "outputs": [
    {
     "data": {
      "text/html": [
       "<table class=\"data-frame\"><thead><tr><th></th><th>SOP</th><th>LOR</th></tr><tr><th></th><th>Float64</th><th>Float64</th></tr></thead><tbody><p>306 rows × 2 columns</p><tr><th>1</th><td>4.0</td><td>4.5</td></tr><tr><th>2</th><td>3.0</td><td>3.5</td></tr><tr><th>3</th><td>3.5</td><td>2.5</td></tr><tr><th>4</th><td>2.0</td><td>3.0</td></tr><tr><th>5</th><td>3.0</td><td>4.0</td></tr><tr><th>6</th><td>3.0</td><td>4.0</td></tr><tr><th>7</th><td>2.0</td><td>1.5</td></tr><tr><th>8</th><td>3.5</td><td>3.0</td></tr><tr><th>9</th><td>3.5</td><td>4.0</td></tr><tr><th>10</th><td>4.0</td><td>3.0</td></tr><tr><th>11</th><td>3.5</td><td>2.0</td></tr><tr><th>12</th><td>3.5</td><td>2.5</td></tr><tr><th>13</th><td>4.0</td><td>3.0</td></tr><tr><th>14</th><td>4.0</td><td>3.0</td></tr><tr><th>15</th><td>4.0</td><td>3.0</td></tr><tr><th>16</th><td>3.5</td><td>3.0</td></tr><tr><th>17</th><td>3.0</td><td>2.0</td></tr><tr><th>18</th><td>3.0</td><td>2.0</td></tr><tr><th>19</th><td>4.5</td><td>3.5</td></tr><tr><th>20</th><td>1.5</td><td>2.5</td></tr><tr><th>21</th><td>2.0</td><td>2.0</td></tr><tr><th>22</th><td>1.5</td><td>2.0</td></tr><tr><th>23</th><td>3.0</td><td>3.0</td></tr><tr><th>24</th><td>5.0</td><td>5.0</td></tr><tr><th>25</th><td>4.0</td><td>4.0</td></tr><tr><th>26</th><td>1.0</td><td>2.0</td></tr><tr><th>27</th><td>3.0</td><td>1.5</td></tr><tr><th>28</th><td>4.0</td><td>3.5</td></tr><tr><th>29</th><td>3.5</td><td>3.0</td></tr><tr><th>30</th><td>2.5</td><td>2.5</td></tr><tr><th>31</th><td>2.5</td><td>2.0</td></tr><tr><th>32</th><td>5.0</td><td>4.0</td></tr><tr><th>33</th><td>3.5</td><td>5.0</td></tr><tr><th>34</th><td>2.5</td><td>4.5</td></tr><tr><th>35</th><td>1.5</td><td>3.5</td></tr><tr><th>36</th><td>4.0</td><td>2.5</td></tr><tr><th>37</th><td>3.0</td><td>3.5</td></tr><tr><th>38</th><td>3.0</td><td>3.0</td></tr><tr><th>39</th><td>2.0</td><td>3.0</td></tr><tr><th>40</th><td>4.0</td><td>2.0</td></tr><tr><th>41</th><td>3.0</td><td>2.0</td></tr><tr><th>42</th><td>2.0</td><td>2.0</td></tr><tr><th>43</th><td>3.0</td><td>3.0</td></tr><tr><th>44</th><td>4.0</td><td>3.0</td></tr><tr><th>45</th><td>3.0</td><td>3.0</td></tr><tr><th>46</th><td>4.0</td><td>3.0</td></tr><tr><th>47</th><td>3.0</td><td>3.5</td></tr><tr><th>48</th><td>3.5</td><td>3.5</td></tr><tr><th>49</th><td>3.5</td><td>3.5</td></tr><tr><th>50</th><td>3.5</td><td>4.0</td></tr><tr><th>51</th><td>5.0</td><td>5.0</td></tr><tr><th>52</th><td>4.5</td><td>4.0</td></tr><tr><th>53</th><td>3.0</td><td>5.0</td></tr><tr><th>54</th><td>3.0</td><td>2.0</td></tr><tr><th>55</th><td>3.0</td><td>2.0</td></tr><tr><th>56</th><td>1.5</td><td>2.0</td></tr><tr><th>57</th><td>2.0</td><td>3.0</td></tr><tr><th>58</th><td>5.0</td><td>4.5</td></tr><tr><th>59</th><td>4.0</td><td>4.5</td></tr><tr><th>60</th><td>4.5</td><td>3.5</td></tr><tr><th>61</th><td>4.5</td><td>3.5</td></tr><tr><th>62</th><td>3.5</td><td>3.0</td></tr><tr><th>63</th><td>4.5</td><td>3.5</td></tr><tr><th>64</th><td>4.5</td><td>3.5</td></tr><tr><th>65</th><td>4.0</td><td>4.0</td></tr><tr><th>66</th><td>5.0</td><td>3.5</td></tr><tr><th>67</th><td>4.0</td><td>3.0</td></tr><tr><th>68</th><td>3.0</td><td>3.0</td></tr><tr><th>69</th><td>2.0</td><td>2.5</td></tr><tr><th>70</th><td>1.5</td><td>2.5</td></tr><tr><th>71</th><td>3.0</td><td>3.0</td></tr><tr><th>72</th><td>4.0</td><td>4.0</td></tr><tr><th>73</th><td>3.5</td><td>3.5</td></tr><tr><th>74</th><td>2.5</td><td>3.0</td></tr><tr><th>75</th><td>4.0</td><td>3.5</td></tr><tr><th>76</th><td>4.5</td><td>4.0</td></tr><tr><th>77</th><td>4.0</td><td>4.5</td></tr><tr><th>78</th><td>5.0</td><td>4.0</td></tr><tr><th>79</th><td>3.0</td><td>3.0</td></tr><tr><th>80</th><td>4.0</td><td>4.0</td></tr><tr><th>81</th><td>3.5</td><td>3.5</td></tr><tr><th>82</th><td>4.0</td><td>3.5</td></tr><tr><th>83</th><td>3.5</td><td>3.0</td></tr><tr><th>84</th><td>4.5</td><td>4.5</td></tr><tr><th>85</th><td>4.0</td><td>3.5</td></tr><tr><th>86</th><td>2.0</td><td>2.5</td></tr><tr><th>87</th><td>3.0</td><td>3.5</td></tr><tr><th>88</th><td>1.5</td><td>2.5</td></tr><tr><th>89</th><td>3.5</td><td>3.5</td></tr><tr><th>90</th><td>2.5</td><td>3.0</td></tr><tr><th>91</th><td>2.0</td><td>3.0</td></tr><tr><th>92</th><td>4.0</td><td>3.0</td></tr><tr><th>93</th><td>2.5</td><td>2.0</td></tr><tr><th>94</th><td>5.0</td><td>4.5</td></tr><tr><th>95</th><td>3.5</td><td>3.5</td></tr><tr><th>96</th><td>4.0</td><td>4.5</td></tr><tr><th>97</th><td>3.5</td><td>4.0</td></tr><tr><th>98</th><td>5.0</td><td>4.0</td></tr><tr><th>99</th><td>1.5</td><td>3.0</td></tr><tr><th>100</th><td>3.5</td><td>3.5</td></tr><tr><th>&vellip;</th><td>&vellip;</td><td>&vellip;</td></tr></tbody></table>"
      ],
      "text/latex": [
       "\\begin{tabular}{r|cc}\n",
       "\t& SOP & LOR\\\\\n",
       "\t\\hline\n",
       "\t& Float64 & Float64\\\\\n",
       "\t\\hline\n",
       "\t1 & 4.0 & 4.5 \\\\\n",
       "\t2 & 3.0 & 3.5 \\\\\n",
       "\t3 & 3.5 & 2.5 \\\\\n",
       "\t4 & 2.0 & 3.0 \\\\\n",
       "\t5 & 3.0 & 4.0 \\\\\n",
       "\t6 & 3.0 & 4.0 \\\\\n",
       "\t7 & 2.0 & 1.5 \\\\\n",
       "\t8 & 3.5 & 3.0 \\\\\n",
       "\t9 & 3.5 & 4.0 \\\\\n",
       "\t10 & 4.0 & 3.0 \\\\\n",
       "\t11 & 3.5 & 2.0 \\\\\n",
       "\t12 & 3.5 & 2.5 \\\\\n",
       "\t13 & 4.0 & 3.0 \\\\\n",
       "\t14 & 4.0 & 3.0 \\\\\n",
       "\t15 & 4.0 & 3.0 \\\\\n",
       "\t16 & 3.5 & 3.0 \\\\\n",
       "\t17 & 3.0 & 2.0 \\\\\n",
       "\t18 & 3.0 & 2.0 \\\\\n",
       "\t19 & 4.5 & 3.5 \\\\\n",
       "\t20 & 1.5 & 2.5 \\\\\n",
       "\t21 & 2.0 & 2.0 \\\\\n",
       "\t22 & 1.5 & 2.0 \\\\\n",
       "\t23 & 3.0 & 3.0 \\\\\n",
       "\t24 & 5.0 & 5.0 \\\\\n",
       "\t25 & 4.0 & 4.0 \\\\\n",
       "\t26 & 1.0 & 2.0 \\\\\n",
       "\t27 & 3.0 & 1.5 \\\\\n",
       "\t28 & 4.0 & 3.5 \\\\\n",
       "\t29 & 3.5 & 3.0 \\\\\n",
       "\t30 & 2.5 & 2.5 \\\\\n",
       "\t31 & 2.5 & 2.0 \\\\\n",
       "\t32 & 5.0 & 4.0 \\\\\n",
       "\t33 & 3.5 & 5.0 \\\\\n",
       "\t34 & 2.5 & 4.5 \\\\\n",
       "\t35 & 1.5 & 3.5 \\\\\n",
       "\t36 & 4.0 & 2.5 \\\\\n",
       "\t37 & 3.0 & 3.5 \\\\\n",
       "\t38 & 3.0 & 3.0 \\\\\n",
       "\t39 & 2.0 & 3.0 \\\\\n",
       "\t40 & 4.0 & 2.0 \\\\\n",
       "\t41 & 3.0 & 2.0 \\\\\n",
       "\t42 & 2.0 & 2.0 \\\\\n",
       "\t43 & 3.0 & 3.0 \\\\\n",
       "\t44 & 4.0 & 3.0 \\\\\n",
       "\t45 & 3.0 & 3.0 \\\\\n",
       "\t46 & 4.0 & 3.0 \\\\\n",
       "\t47 & 3.0 & 3.5 \\\\\n",
       "\t48 & 3.5 & 3.5 \\\\\n",
       "\t49 & 3.5 & 3.5 \\\\\n",
       "\t50 & 3.5 & 4.0 \\\\\n",
       "\t51 & 5.0 & 5.0 \\\\\n",
       "\t52 & 4.5 & 4.0 \\\\\n",
       "\t53 & 3.0 & 5.0 \\\\\n",
       "\t54 & 3.0 & 2.0 \\\\\n",
       "\t55 & 3.0 & 2.0 \\\\\n",
       "\t56 & 1.5 & 2.0 \\\\\n",
       "\t57 & 2.0 & 3.0 \\\\\n",
       "\t58 & 5.0 & 4.5 \\\\\n",
       "\t59 & 4.0 & 4.5 \\\\\n",
       "\t60 & 4.5 & 3.5 \\\\\n",
       "\t61 & 4.5 & 3.5 \\\\\n",
       "\t62 & 3.5 & 3.0 \\\\\n",
       "\t63 & 4.5 & 3.5 \\\\\n",
       "\t64 & 4.5 & 3.5 \\\\\n",
       "\t65 & 4.0 & 4.0 \\\\\n",
       "\t66 & 5.0 & 3.5 \\\\\n",
       "\t67 & 4.0 & 3.0 \\\\\n",
       "\t68 & 3.0 & 3.0 \\\\\n",
       "\t69 & 2.0 & 2.5 \\\\\n",
       "\t70 & 1.5 & 2.5 \\\\\n",
       "\t71 & 3.0 & 3.0 \\\\\n",
       "\t72 & 4.0 & 4.0 \\\\\n",
       "\t73 & 3.5 & 3.5 \\\\\n",
       "\t74 & 2.5 & 3.0 \\\\\n",
       "\t75 & 4.0 & 3.5 \\\\\n",
       "\t76 & 4.5 & 4.0 \\\\\n",
       "\t77 & 4.0 & 4.5 \\\\\n",
       "\t78 & 5.0 & 4.0 \\\\\n",
       "\t79 & 3.0 & 3.0 \\\\\n",
       "\t80 & 4.0 & 4.0 \\\\\n",
       "\t81 & 3.5 & 3.5 \\\\\n",
       "\t82 & 4.0 & 3.5 \\\\\n",
       "\t83 & 3.5 & 3.0 \\\\\n",
       "\t84 & 4.5 & 4.5 \\\\\n",
       "\t85 & 4.0 & 3.5 \\\\\n",
       "\t86 & 2.0 & 2.5 \\\\\n",
       "\t87 & 3.0 & 3.5 \\\\\n",
       "\t88 & 1.5 & 2.5 \\\\\n",
       "\t89 & 3.5 & 3.5 \\\\\n",
       "\t90 & 2.5 & 3.0 \\\\\n",
       "\t91 & 2.0 & 3.0 \\\\\n",
       "\t92 & 4.0 & 3.0 \\\\\n",
       "\t93 & 2.5 & 2.0 \\\\\n",
       "\t94 & 5.0 & 4.5 \\\\\n",
       "\t95 & 3.5 & 3.5 \\\\\n",
       "\t96 & 4.0 & 4.5 \\\\\n",
       "\t97 & 3.5 & 4.0 \\\\\n",
       "\t98 & 5.0 & 4.0 \\\\\n",
       "\t99 & 1.5 & 3.0 \\\\\n",
       "\t100 & 3.5 & 3.5 \\\\\n",
       "\t$\\dots$ & $\\dots$ & $\\dots$ \\\\\n",
       "\\end{tabular}\n"
      ],
      "text/plain": [
       "\u001b[1m306×2 DataFrame\u001b[0m\n",
       "\u001b[1m Row \u001b[0m│\u001b[1m SOP     \u001b[0m\u001b[1m LOR     \u001b[0m\n",
       "\u001b[1m     \u001b[0m│\u001b[90m Float64 \u001b[0m\u001b[90m Float64 \u001b[0m\n",
       "─────┼──────────────────\n",
       "   1 │     4.0      4.5\n",
       "   2 │     3.0      3.5\n",
       "   3 │     3.5      2.5\n",
       "   4 │     2.0      3.0\n",
       "   5 │     3.0      4.0\n",
       "   6 │     3.0      4.0\n",
       "   7 │     2.0      1.5\n",
       "   8 │     3.5      3.0\n",
       "   9 │     3.5      4.0\n",
       "  10 │     4.0      3.0\n",
       "  11 │     3.5      2.0\n",
       "  12 │     3.5      2.5\n",
       "  13 │     4.0      3.0\n",
       "  14 │     4.0      3.0\n",
       "  15 │     4.0      3.0\n",
       "  16 │     3.5      3.0\n",
       "  17 │     3.0      2.0\n",
       "  18 │     3.0      2.0\n",
       "  19 │     4.5      3.5\n",
       "  20 │     1.5      2.5\n",
       "  21 │     2.0      2.0\n",
       "  22 │     1.5      2.0\n",
       "  23 │     3.0      3.0\n",
       "  24 │     5.0      5.0\n",
       "  25 │     4.0      4.0\n",
       "  26 │     1.0      2.0\n",
       "  27 │     3.0      1.5\n",
       "  28 │     4.0      3.5\n",
       "  29 │     3.5      3.0\n",
       "  30 │     2.5      2.5\n",
       "  31 │     2.5      2.0\n",
       "  32 │     5.0      4.0\n",
       "  33 │     3.5      5.0\n",
       "  34 │     2.5      4.5\n",
       "  35 │     1.5      3.5\n",
       "  36 │     4.0      2.5\n",
       "  37 │     3.0      3.5\n",
       "  38 │     3.0      3.0\n",
       "  39 │     2.0      3.0\n",
       "  40 │     4.0      2.0\n",
       "  41 │     3.0      2.0\n",
       "  42 │     2.0      2.0\n",
       "  43 │     3.0      3.0\n",
       "  44 │     4.0      3.0\n",
       "  45 │     3.0      3.0\n",
       "  46 │     4.0      3.0\n",
       "  ⋮  │    ⋮        ⋮\n",
       " 262 │     1.5      2.0\n",
       " 263 │     1.5      2.0\n",
       " 264 │     1.5      2.0\n",
       " 265 │     1.0      1.0\n",
       " 266 │     2.0      2.0\n",
       " 267 │     2.5      3.0\n",
       " 268 │     3.0      3.5\n",
       " 269 │     3.5      4.0\n",
       " 270 │     3.0      3.5\n",
       " 271 │     3.5      2.5\n",
       " 272 │     2.5      3.0\n",
       " 273 │     2.0      3.5\n",
       " 274 │     3.5      3.5\n",
       " 275 │     2.5      2.0\n",
       " 276 │     2.0      1.5\n",
       " 277 │     4.0      5.0\n",
       " 278 │     2.5      3.0\n",
       " 279 │     3.5      4.0\n",
       " 280 │     3.5      4.5\n",
       " 281 │     1.0      2.5\n",
       " 282 │     2.0      2.0\n",
       " 283 │     2.0      3.0\n",
       " 284 │     2.5      2.5\n",
       " 285 │     3.5      3.0\n",
       " 286 │     3.0      3.0\n",
       " 287 │     2.0      2.5\n",
       " 288 │     2.0      2.5\n",
       " 289 │     2.5      2.0\n",
       " 290 │     1.5      2.0\n",
       " 291 │     2.0      2.5\n",
       " 292 │     2.5      3.0\n",
       " 293 │     3.5      4.0\n",
       " 294 │     3.0      3.5\n",
       " 295 │     4.5      4.0\n",
       " 296 │     3.0      3.5\n",
       " 297 │     2.5      3.5\n",
       " 298 │     2.0      3.5\n",
       " 299 │     1.5      2.0\n",
       " 300 │     3.5      4.0\n",
       " 301 │     2.0      2.5\n",
       " 302 │     2.0      3.0\n",
       " 303 │     3.0      3.0\n",
       " 304 │     3.5      3.5\n",
       " 305 │     3.0      3.5\n",
       " 306 │     3.5      4.0\n",
       "\u001b[36m        215 rows omitted\u001b[0m"
      ]
     },
     "execution_count": 32,
     "metadata": {},
     "output_type": "execute_result"
    }
   ],
   "source": [
    "df[.!(df[!, \"GRE Score\"] .> 325), [:SOP, :LOR]]"
   ]
  },
  {
   "cell_type": "markdown",
   "metadata": {},
   "source": [
    "#### Chained Conditionals\n",
    "\n",
    "With the chained conditionals, we can filter DataFrame based on several conditions chained by using logic operators."
   ]
  },
  {
   "cell_type": "code",
   "execution_count": 33,
   "metadata": {
    "ExecuteTime": {
     "end_time": "2021-05-22T12:23:29.099000+04:00",
     "start_time": "2021-05-22T08:23:29.092Z"
    }
   },
   "outputs": [
    {
     "data": {
      "text/html": [
       "<table class=\"data-frame\"><thead><tr><th></th><th>Serial No.</th><th>GRE Score</th><th>TOEFL Score</th><th>University Rating</th><th>SOP</th><th>LOR</th><th>CGPA</th><th>Research</th><th>Chance of Admit </th></tr><tr><th></th><th>Int64</th><th>Int64</th><th>Int64</th><th>Int64</th><th>Float64</th><th>Float64</th><th>Float64</th><th>Int64</th><th>Float64</th></tr></thead><tbody><p>5 rows × 9 columns</p><tr><th>1</th><td>1</td><td>337</td><td>118</td><td>4</td><td>4.5</td><td>4.5</td><td>9.65</td><td>1</td><td>0.92</td></tr><tr><th>2</th><td>2</td><td>324</td><td>107</td><td>4</td><td>4.0</td><td>4.5</td><td>8.87</td><td>1</td><td>0.76</td></tr><tr><th>3</th><td>3</td><td>316</td><td>104</td><td>3</td><td>3.0</td><td>3.5</td><td>8.0</td><td>1</td><td>0.72</td></tr><tr><th>4</th><td>4</td><td>322</td><td>110</td><td>3</td><td>3.5</td><td>2.5</td><td>8.67</td><td>1</td><td>0.8</td></tr><tr><th>5</th><td>5</td><td>314</td><td>103</td><td>2</td><td>2.0</td><td>3.0</td><td>8.21</td><td>0</td><td>0.65</td></tr></tbody></table>"
      ],
      "text/latex": [
       "\\begin{tabular}{r|ccccccccc}\n",
       "\t& Serial No. & GRE Score & TOEFL Score & University Rating & SOP & LOR & CGPA & Research & Chance of Admit \\\\\n",
       "\t\\hline\n",
       "\t& Int64 & Int64 & Int64 & Int64 & Float64 & Float64 & Float64 & Int64 & Float64\\\\\n",
       "\t\\hline\n",
       "\t1 & 1 & 337 & 118 & 4 & 4.5 & 4.5 & 9.65 & 1 & 0.92 \\\\\n",
       "\t2 & 2 & 324 & 107 & 4 & 4.0 & 4.5 & 8.87 & 1 & 0.76 \\\\\n",
       "\t3 & 3 & 316 & 104 & 3 & 3.0 & 3.5 & 8.0 & 1 & 0.72 \\\\\n",
       "\t4 & 4 & 322 & 110 & 3 & 3.5 & 2.5 & 8.67 & 1 & 0.8 \\\\\n",
       "\t5 & 5 & 314 & 103 & 2 & 2.0 & 3.0 & 8.21 & 0 & 0.65 \\\\\n",
       "\\end{tabular}\n"
      ],
      "text/plain": [
       "\u001b[1m5×9 DataFrame\u001b[0m\n",
       "\u001b[1m Row \u001b[0m│\u001b[1m Serial No. \u001b[0m\u001b[1m GRE Score \u001b[0m\u001b[1m TOEFL Score \u001b[0m\u001b[1m University Rating \u001b[0m\u001b[1m SOP     \u001b[0m\u001b[1m LOR     \u001b[0m\u001b[1m CGPA    \u001b[0m\u001b[1m Research \u001b[0m\u001b[1m Chance of Admit  \u001b[0m\n",
       "\u001b[1m     \u001b[0m│\u001b[90m Int64      \u001b[0m\u001b[90m Int64     \u001b[0m\u001b[90m Int64       \u001b[0m\u001b[90m Int64             \u001b[0m\u001b[90m Float64 \u001b[0m\u001b[90m Float64 \u001b[0m\u001b[90m Float64 \u001b[0m\u001b[90m Int64    \u001b[0m\u001b[90m Float64          \u001b[0m\n",
       "─────┼──────────────────────────────────────────────────────────────────────────────────────────────────────────────\n",
       "   1 │          1        337          118                  4      4.5      4.5     9.65         1              0.92\n",
       "   2 │          2        324          107                  4      4.0      4.5     8.87         1              0.76\n",
       "   3 │          3        316          104                  3      3.0      3.5     8.0          1              0.72\n",
       "   4 │          4        322          110                  3      3.5      2.5     8.67         1              0.8\n",
       "   5 │          5        314          103                  2      2.0      3.0     8.21         0              0.65"
      ]
     },
     "execution_count": 33,
     "metadata": {},
     "output_type": "execute_result"
    }
   ],
   "source": [
    "first(df, 5)"
   ]
  },
  {
   "cell_type": "code",
   "execution_count": 34,
   "metadata": {
    "ExecuteTime": {
     "end_time": "2021-05-22T12:23:30.240000+04:00",
     "start_time": "2021-05-22T08:23:29.340Z"
    },
    "scrolled": true
   },
   "outputs": [
    {
     "data": {
      "text/plain": [
       "400-element BitArray{1}:\n",
       " 1\n",
       " 1\n",
       " 0\n",
       " 1\n",
       " 1\n",
       " 1\n",
       " 1\n",
       " 0\n",
       " 0\n",
       " 1\n",
       " 1\n",
       " 1\n",
       " 1\n",
       " 0\n",
       " 1\n",
       " 1\n",
       " 1\n",
       " 0\n",
       " 1\n",
       " 1\n",
       " 0\n",
       " 1\n",
       " 1\n",
       " 1\n",
       " 1\n",
       " 1\n",
       " 1\n",
       " 0\n",
       " 0\n",
       " 0\n",
       " 1\n",
       " 1\n",
       " 1\n",
       " 1\n",
       " 1\n",
       " 1\n",
       " 1\n",
       " 0\n",
       " 0\n",
       " 0\n",
       " 0\n",
       " 1\n",
       " 1\n",
       " 1\n",
       " 1\n",
       " 1\n",
       " 1\n",
       " 1\n",
       " ⋮\n",
       " 1\n",
       " 0\n",
       " 1\n",
       " 1\n",
       " 0\n",
       " 0\n",
       " 1\n",
       " 1\n",
       " 1\n",
       " 1\n",
       " 1\n",
       " 1\n",
       " 1\n",
       " 1\n",
       " 0\n",
       " 0\n",
       " 1\n",
       " 1\n",
       " 1\n",
       " 1\n",
       " 1\n",
       " 0\n",
       " 0\n",
       " 0\n",
       " 0\n",
       " 0\n",
       " 1\n",
       " 1\n",
       " 1\n",
       " 1\n",
       " 1\n",
       " 1\n",
       " 1\n",
       " 0\n",
       " 1\n",
       " 0\n",
       " 1\n",
       " 1\n",
       " 1\n",
       " 1\n",
       " 1\n",
       " 1\n",
       " 1\n",
       " 1\n",
       " 1\n",
       " 1\n",
       " 1"
      ]
     },
     "execution_count": 34,
     "metadata": {},
     "output_type": "execute_result"
    }
   ],
   "source": [
    "condition_one = (df[!, \"GRE Score\"] .> 325)\n",
    "\n",
    "condition_two = (df[!, \"Research\"] .== 1)\n",
    "\n",
    "condition_three = (df[!, \"CGPA\"] .> 8.00)"
   ]
  },
  {
   "cell_type": "markdown",
   "metadata": {},
   "source": [
    "**Note**, I'm broadcasting the bitwise `AND` operator"
   ]
  },
  {
   "cell_type": "code",
   "execution_count": 35,
   "metadata": {
    "ExecuteTime": {
     "end_time": "2021-05-22T12:23:31.788000+04:00",
     "start_time": "2021-05-22T08:23:31.518Z"
    },
    "scrolled": true
   },
   "outputs": [
    {
     "data": {
      "text/html": [
       "<table class=\"data-frame\"><thead><tr><th></th><th>Serial No.</th><th>GRE Score</th><th>TOEFL Score</th><th>University Rating</th><th>SOP</th><th>LOR</th><th>CGPA</th><th>Research</th><th>Chance of Admit </th></tr><tr><th></th><th>Int64</th><th>Int64</th><th>Int64</th><th>Int64</th><th>Float64</th><th>Float64</th><th>Float64</th><th>Int64</th><th>Float64</th></tr></thead><tbody><p>211 rows × 9 columns</p><tr><th>1</th><td>1</td><td>337</td><td>118</td><td>4</td><td>4.5</td><td>4.5</td><td>9.65</td><td>1</td><td>0.92</td></tr><tr><th>2</th><td>2</td><td>324</td><td>107</td><td>4</td><td>4.0</td><td>4.5</td><td>8.87</td><td>1</td><td>0.76</td></tr><tr><th>3</th><td>4</td><td>322</td><td>110</td><td>3</td><td>3.5</td><td>2.5</td><td>8.67</td><td>1</td><td>0.8</td></tr><tr><th>4</th><td>6</td><td>330</td><td>115</td><td>5</td><td>4.5</td><td>3.0</td><td>9.34</td><td>1</td><td>0.9</td></tr><tr><th>5</th><td>7</td><td>321</td><td>109</td><td>3</td><td>3.0</td><td>4.0</td><td>8.2</td><td>1</td><td>0.75</td></tr><tr><th>6</th><td>11</td><td>325</td><td>106</td><td>3</td><td>3.5</td><td>4.0</td><td>8.4</td><td>1</td><td>0.52</td></tr><tr><th>7</th><td>12</td><td>327</td><td>111</td><td>4</td><td>4.0</td><td>4.5</td><td>9.0</td><td>1</td><td>0.84</td></tr><tr><th>8</th><td>13</td><td>328</td><td>112</td><td>4</td><td>4.0</td><td>4.5</td><td>9.1</td><td>1</td><td>0.78</td></tr><tr><th>9</th><td>15</td><td>311</td><td>104</td><td>3</td><td>3.5</td><td>2.0</td><td>8.2</td><td>1</td><td>0.61</td></tr><tr><th>10</th><td>23</td><td>328</td><td>116</td><td>5</td><td>5.0</td><td>5.0</td><td>9.5</td><td>1</td><td>0.94</td></tr><tr><th>11</th><td>24</td><td>334</td><td>119</td><td>5</td><td>5.0</td><td>4.5</td><td>9.7</td><td>1</td><td>0.95</td></tr><tr><th>12</th><td>25</td><td>336</td><td>119</td><td>5</td><td>4.0</td><td>3.5</td><td>9.8</td><td>1</td><td>0.97</td></tr><tr><th>13</th><td>26</td><td>340</td><td>120</td><td>5</td><td>4.5</td><td>4.5</td><td>9.6</td><td>1</td><td>0.94</td></tr><tr><th>14</th><td>31</td><td>300</td><td>97</td><td>2</td><td>3.0</td><td>3.0</td><td>8.1</td><td>1</td><td>0.65</td></tr><tr><th>15</th><td>32</td><td>327</td><td>103</td><td>3</td><td>4.0</td><td>4.0</td><td>8.3</td><td>1</td><td>0.74</td></tr><tr><th>16</th><td>33</td><td>338</td><td>118</td><td>4</td><td>3.0</td><td>4.5</td><td>9.4</td><td>1</td><td>0.91</td></tr><tr><th>17</th><td>34</td><td>340</td><td>114</td><td>5</td><td>4.0</td><td>4.0</td><td>9.6</td><td>1</td><td>0.9</td></tr><tr><th>18</th><td>35</td><td>331</td><td>112</td><td>5</td><td>4.0</td><td>5.0</td><td>9.8</td><td>1</td><td>0.94</td></tr><tr><th>19</th><td>36</td><td>320</td><td>110</td><td>5</td><td>5.0</td><td>5.0</td><td>9.2</td><td>1</td><td>0.88</td></tr><tr><th>20</th><td>42</td><td>316</td><td>105</td><td>2</td><td>2.5</td><td>2.5</td><td>8.2</td><td>1</td><td>0.49</td></tr><tr><th>21</th><td>43</td><td>313</td><td>107</td><td>2</td><td>2.5</td><td>2.0</td><td>8.5</td><td>1</td><td>0.53</td></tr><tr><th>22</th><td>44</td><td>332</td><td>117</td><td>4</td><td>4.5</td><td>4.0</td><td>9.1</td><td>0</td><td>0.87</td></tr><tr><th>23</th><td>45</td><td>326</td><td>113</td><td>5</td><td>4.5</td><td>4.0</td><td>9.4</td><td>1</td><td>0.91</td></tr><tr><th>24</th><td>46</td><td>322</td><td>110</td><td>5</td><td>5.0</td><td>4.0</td><td>9.1</td><td>1</td><td>0.88</td></tr><tr><th>25</th><td>47</td><td>329</td><td>114</td><td>5</td><td>4.0</td><td>5.0</td><td>9.3</td><td>1</td><td>0.86</td></tr><tr><th>26</th><td>48</td><td>339</td><td>119</td><td>5</td><td>4.5</td><td>4.0</td><td>9.7</td><td>0</td><td>0.89</td></tr><tr><th>27</th><td>49</td><td>321</td><td>110</td><td>3</td><td>3.5</td><td>5.0</td><td>8.85</td><td>1</td><td>0.82</td></tr><tr><th>28</th><td>50</td><td>327</td><td>111</td><td>4</td><td>3.0</td><td>4.0</td><td>8.4</td><td>1</td><td>0.78</td></tr><tr><th>29</th><td>51</td><td>313</td><td>98</td><td>3</td><td>2.5</td><td>4.5</td><td>8.3</td><td>1</td><td>0.76</td></tr><tr><th>30</th><td>53</td><td>334</td><td>116</td><td>4</td><td>4.0</td><td>3.0</td><td>8.0</td><td>1</td><td>0.78</td></tr><tr><th>31</th><td>54</td><td>324</td><td>112</td><td>4</td><td>4.0</td><td>2.5</td><td>8.1</td><td>1</td><td>0.72</td></tr><tr><th>32</th><td>63</td><td>304</td><td>105</td><td>2</td><td>3.0</td><td>3.0</td><td>8.2</td><td>1</td><td>0.54</td></tr><tr><th>33</th><td>64</td><td>315</td><td>107</td><td>2</td><td>4.0</td><td>3.0</td><td>8.5</td><td>1</td><td>0.56</td></tr><tr><th>34</th><td>67</td><td>327</td><td>114</td><td>3</td><td>3.0</td><td>3.0</td><td>9.02</td><td>0</td><td>0.61</td></tr><tr><th>35</th><td>68</td><td>316</td><td>107</td><td>2</td><td>3.5</td><td>3.5</td><td>8.64</td><td>1</td><td>0.57</td></tr><tr><th>36</th><td>69</td><td>318</td><td>109</td><td>3</td><td>3.5</td><td>4.0</td><td>9.22</td><td>1</td><td>0.68</td></tr><tr><th>37</th><td>70</td><td>328</td><td>115</td><td>4</td><td>4.5</td><td>4.0</td><td>9.16</td><td>1</td><td>0.78</td></tr><tr><th>38</th><td>71</td><td>332</td><td>118</td><td>5</td><td>5.0</td><td>5.0</td><td>9.64</td><td>1</td><td>0.94</td></tr><tr><th>39</th><td>72</td><td>336</td><td>112</td><td>5</td><td>5.0</td><td>5.0</td><td>9.76</td><td>1</td><td>0.96</td></tr><tr><th>40</th><td>73</td><td>321</td><td>111</td><td>5</td><td>5.0</td><td>5.0</td><td>9.45</td><td>1</td><td>0.93</td></tr><tr><th>41</th><td>74</td><td>314</td><td>108</td><td>4</td><td>4.5</td><td>4.0</td><td>9.04</td><td>1</td><td>0.84</td></tr><tr><th>42</th><td>76</td><td>329</td><td>114</td><td>2</td><td>2.0</td><td>4.0</td><td>8.56</td><td>1</td><td>0.72</td></tr><tr><th>43</th><td>77</td><td>327</td><td>112</td><td>3</td><td>3.0</td><td>3.0</td><td>8.72</td><td>1</td><td>0.74</td></tr><tr><th>44</th><td>81</td><td>312</td><td>105</td><td>3</td><td>2.0</td><td>3.0</td><td>8.02</td><td>1</td><td>0.5</td></tr><tr><th>45</th><td>82</td><td>340</td><td>120</td><td>4</td><td>5.0</td><td>5.0</td><td>9.5</td><td>1</td><td>0.96</td></tr><tr><th>46</th><td>83</td><td>320</td><td>110</td><td>5</td><td>5.0</td><td>4.5</td><td>9.22</td><td>1</td><td>0.92</td></tr><tr><th>47</th><td>84</td><td>322</td><td>115</td><td>5</td><td>4.0</td><td>4.5</td><td>9.36</td><td>1</td><td>0.92</td></tr><tr><th>48</th><td>85</td><td>340</td><td>115</td><td>5</td><td>4.5</td><td>4.5</td><td>9.45</td><td>1</td><td>0.94</td></tr><tr><th>49</th><td>90</td><td>316</td><td>109</td><td>4</td><td>4.5</td><td>3.5</td><td>8.76</td><td>1</td><td>0.74</td></tr><tr><th>50</th><td>98</td><td>331</td><td>120</td><td>3</td><td>4.0</td><td>4.0</td><td>8.96</td><td>1</td><td>0.86</td></tr><tr><th>51</th><td>99</td><td>332</td><td>119</td><td>4</td><td>5.0</td><td>4.5</td><td>9.24</td><td>1</td><td>0.9</td></tr><tr><th>52</th><td>100</td><td>323</td><td>113</td><td>3</td><td>4.0</td><td>4.0</td><td>8.88</td><td>1</td><td>0.79</td></tr><tr><th>53</th><td>101</td><td>322</td><td>107</td><td>3</td><td>3.5</td><td>3.5</td><td>8.46</td><td>1</td><td>0.71</td></tr><tr><th>54</th><td>105</td><td>326</td><td>112</td><td>3</td><td>3.5</td><td>3.0</td><td>9.05</td><td>1</td><td>0.74</td></tr><tr><th>55</th><td>106</td><td>316</td><td>110</td><td>3</td><td>4.0</td><td>4.5</td><td>8.78</td><td>1</td><td>0.69</td></tr><tr><th>56</th><td>107</td><td>329</td><td>111</td><td>4</td><td>4.5</td><td>4.5</td><td>9.18</td><td>1</td><td>0.87</td></tr><tr><th>57</th><td>108</td><td>338</td><td>117</td><td>4</td><td>3.5</td><td>4.5</td><td>9.46</td><td>1</td><td>0.91</td></tr><tr><th>58</th><td>109</td><td>331</td><td>116</td><td>5</td><td>5.0</td><td>5.0</td><td>9.38</td><td>1</td><td>0.93</td></tr><tr><th>59</th><td>112</td><td>321</td><td>109</td><td>4</td><td>4.0</td><td>4.0</td><td>8.68</td><td>1</td><td>0.69</td></tr><tr><th>60</th><td>113</td><td>301</td><td>107</td><td>3</td><td>3.5</td><td>3.5</td><td>8.34</td><td>1</td><td>0.62</td></tr><tr><th>61</th><td>115</td><td>311</td><td>105</td><td>3</td><td>3.5</td><td>3.0</td><td>8.45</td><td>1</td><td>0.59</td></tr><tr><th>62</th><td>116</td><td>310</td><td>106</td><td>4</td><td>4.5</td><td>4.5</td><td>9.04</td><td>1</td><td>0.66</td></tr><tr><th>63</th><td>120</td><td>327</td><td>104</td><td>5</td><td>3.0</td><td>3.5</td><td>8.84</td><td>1</td><td>0.71</td></tr><tr><th>64</th><td>121</td><td>335</td><td>117</td><td>5</td><td>5.0</td><td>5.0</td><td>9.56</td><td>1</td><td>0.94</td></tr><tr><th>65</th><td>122</td><td>334</td><td>119</td><td>5</td><td>4.5</td><td>4.5</td><td>9.48</td><td>1</td><td>0.94</td></tr><tr><th>66</th><td>126</td><td>300</td><td>100</td><td>3</td><td>2.0</td><td>3.0</td><td>8.66</td><td>1</td><td>0.64</td></tr><tr><th>67</th><td>127</td><td>323</td><td>113</td><td>3</td><td>4.0</td><td>3.0</td><td>9.32</td><td>1</td><td>0.85</td></tr><tr><th>68</th><td>128</td><td>319</td><td>112</td><td>3</td><td>2.5</td><td>2.0</td><td>8.71</td><td>1</td><td>0.78</td></tr><tr><th>69</th><td>129</td><td>326</td><td>112</td><td>3</td><td>3.5</td><td>3.0</td><td>9.1</td><td>1</td><td>0.84</td></tr><tr><th>70</th><td>130</td><td>333</td><td>118</td><td>5</td><td>5.0</td><td>5.0</td><td>9.35</td><td>1</td><td>0.92</td></tr><tr><th>71</th><td>131</td><td>339</td><td>114</td><td>5</td><td>4.0</td><td>4.5</td><td>9.76</td><td>1</td><td>0.96</td></tr><tr><th>72</th><td>135</td><td>333</td><td>113</td><td>5</td><td>4.0</td><td>4.0</td><td>9.28</td><td>1</td><td>0.89</td></tr><tr><th>73</th><td>136</td><td>314</td><td>109</td><td>4</td><td>3.5</td><td>4.0</td><td>8.77</td><td>1</td><td>0.82</td></tr><tr><th>74</th><td>138</td><td>316</td><td>100</td><td>2</td><td>1.5</td><td>3.0</td><td>8.16</td><td>1</td><td>0.71</td></tr><tr><th>75</th><td>139</td><td>326</td><td>116</td><td>2</td><td>4.5</td><td>3.0</td><td>9.08</td><td>1</td><td>0.8</td></tr><tr><th>76</th><td>141</td><td>329</td><td>110</td><td>2</td><td>4.0</td><td>3.0</td><td>9.15</td><td>1</td><td>0.84</td></tr><tr><th>77</th><td>142</td><td>332</td><td>118</td><td>2</td><td>4.5</td><td>3.5</td><td>9.36</td><td>1</td><td>0.9</td></tr><tr><th>78</th><td>143</td><td>331</td><td>115</td><td>5</td><td>4.0</td><td>3.5</td><td>9.44</td><td>1</td><td>0.92</td></tr><tr><th>79</th><td>144</td><td>340</td><td>120</td><td>4</td><td>4.5</td><td>4.0</td><td>9.92</td><td>1</td><td>0.97</td></tr><tr><th>80</th><td>145</td><td>325</td><td>112</td><td>2</td><td>3.0</td><td>3.5</td><td>8.96</td><td>1</td><td>0.8</td></tr><tr><th>81</th><td>146</td><td>320</td><td>113</td><td>2</td><td>2.0</td><td>2.5</td><td>8.64</td><td>1</td><td>0.81</td></tr><tr><th>82</th><td>148</td><td>326</td><td>114</td><td>3</td><td>3.0</td><td>3.0</td><td>9.11</td><td>1</td><td>0.83</td></tr><tr><th>83</th><td>149</td><td>339</td><td>116</td><td>4</td><td>4.0</td><td>3.5</td><td>9.8</td><td>1</td><td>0.96</td></tr><tr><th>84</th><td>150</td><td>311</td><td>106</td><td>2</td><td>3.5</td><td>3.0</td><td>8.26</td><td>1</td><td>0.79</td></tr><tr><th>85</th><td>151</td><td>334</td><td>114</td><td>4</td><td>4.0</td><td>4.0</td><td>9.43</td><td>1</td><td>0.93</td></tr><tr><th>86</th><td>152</td><td>332</td><td>116</td><td>5</td><td>5.0</td><td>5.0</td><td>9.28</td><td>1</td><td>0.94</td></tr><tr><th>87</th><td>153</td><td>321</td><td>112</td><td>5</td><td>5.0</td><td>5.0</td><td>9.06</td><td>1</td><td>0.86</td></tr><tr><th>88</th><td>155</td><td>326</td><td>108</td><td>3</td><td>3.0</td><td>3.5</td><td>8.89</td><td>0</td><td>0.8</td></tr><tr><th>89</th><td>165</td><td>329</td><td>111</td><td>4</td><td>4.5</td><td>4.0</td><td>9.01</td><td>1</td><td>0.81</td></tr><tr><th>90</th><td>171</td><td>312</td><td>101</td><td>2</td><td>2.5</td><td>3.5</td><td>8.04</td><td>1</td><td>0.68</td></tr><tr><th>91</th><td>172</td><td>334</td><td>117</td><td>5</td><td>4.0</td><td>4.5</td><td>9.07</td><td>1</td><td>0.89</td></tr><tr><th>92</th><td>173</td><td>322</td><td>110</td><td>4</td><td>4.0</td><td>5.0</td><td>9.13</td><td>1</td><td>0.86</td></tr><tr><th>93</th><td>174</td><td>323</td><td>113</td><td>4</td><td>4.0</td><td>4.5</td><td>9.23</td><td>1</td><td>0.89</td></tr><tr><th>94</th><td>175</td><td>321</td><td>111</td><td>4</td><td>4.0</td><td>4.0</td><td>8.97</td><td>1</td><td>0.87</td></tr><tr><th>95</th><td>176</td><td>320</td><td>111</td><td>4</td><td>4.5</td><td>3.5</td><td>8.87</td><td>1</td><td>0.85</td></tr><tr><th>96</th><td>177</td><td>329</td><td>119</td><td>4</td><td>4.5</td><td>4.5</td><td>9.16</td><td>1</td><td>0.9</td></tr><tr><th>97</th><td>186</td><td>327</td><td>113</td><td>4</td><td>4.5</td><td>4.5</td><td>9.11</td><td>1</td><td>0.89</td></tr><tr><th>98</th><td>187</td><td>317</td><td>107</td><td>3</td><td>3.5</td><td>3.0</td><td>8.68</td><td>1</td><td>0.84</td></tr><tr><th>99</th><td>188</td><td>335</td><td>118</td><td>5</td><td>4.5</td><td>3.5</td><td>9.44</td><td>1</td><td>0.93</td></tr><tr><th>100</th><td>189</td><td>331</td><td>115</td><td>5</td><td>4.5</td><td>3.5</td><td>9.36</td><td>1</td><td>0.93</td></tr><tr><th>&vellip;</th><td>&vellip;</td><td>&vellip;</td><td>&vellip;</td><td>&vellip;</td><td>&vellip;</td><td>&vellip;</td><td>&vellip;</td><td>&vellip;</td><td>&vellip;</td></tr></tbody></table>"
      ],
      "text/latex": [
       "\\begin{tabular}{r|ccccccccc}\n",
       "\t& Serial No. & GRE Score & TOEFL Score & University Rating & SOP & LOR & CGPA & Research & Chance of Admit \\\\\n",
       "\t\\hline\n",
       "\t& Int64 & Int64 & Int64 & Int64 & Float64 & Float64 & Float64 & Int64 & Float64\\\\\n",
       "\t\\hline\n",
       "\t1 & 1 & 337 & 118 & 4 & 4.5 & 4.5 & 9.65 & 1 & 0.92 \\\\\n",
       "\t2 & 2 & 324 & 107 & 4 & 4.0 & 4.5 & 8.87 & 1 & 0.76 \\\\\n",
       "\t3 & 4 & 322 & 110 & 3 & 3.5 & 2.5 & 8.67 & 1 & 0.8 \\\\\n",
       "\t4 & 6 & 330 & 115 & 5 & 4.5 & 3.0 & 9.34 & 1 & 0.9 \\\\\n",
       "\t5 & 7 & 321 & 109 & 3 & 3.0 & 4.0 & 8.2 & 1 & 0.75 \\\\\n",
       "\t6 & 11 & 325 & 106 & 3 & 3.5 & 4.0 & 8.4 & 1 & 0.52 \\\\\n",
       "\t7 & 12 & 327 & 111 & 4 & 4.0 & 4.5 & 9.0 & 1 & 0.84 \\\\\n",
       "\t8 & 13 & 328 & 112 & 4 & 4.0 & 4.5 & 9.1 & 1 & 0.78 \\\\\n",
       "\t9 & 15 & 311 & 104 & 3 & 3.5 & 2.0 & 8.2 & 1 & 0.61 \\\\\n",
       "\t10 & 23 & 328 & 116 & 5 & 5.0 & 5.0 & 9.5 & 1 & 0.94 \\\\\n",
       "\t11 & 24 & 334 & 119 & 5 & 5.0 & 4.5 & 9.7 & 1 & 0.95 \\\\\n",
       "\t12 & 25 & 336 & 119 & 5 & 4.0 & 3.5 & 9.8 & 1 & 0.97 \\\\\n",
       "\t13 & 26 & 340 & 120 & 5 & 4.5 & 4.5 & 9.6 & 1 & 0.94 \\\\\n",
       "\t14 & 31 & 300 & 97 & 2 & 3.0 & 3.0 & 8.1 & 1 & 0.65 \\\\\n",
       "\t15 & 32 & 327 & 103 & 3 & 4.0 & 4.0 & 8.3 & 1 & 0.74 \\\\\n",
       "\t16 & 33 & 338 & 118 & 4 & 3.0 & 4.5 & 9.4 & 1 & 0.91 \\\\\n",
       "\t17 & 34 & 340 & 114 & 5 & 4.0 & 4.0 & 9.6 & 1 & 0.9 \\\\\n",
       "\t18 & 35 & 331 & 112 & 5 & 4.0 & 5.0 & 9.8 & 1 & 0.94 \\\\\n",
       "\t19 & 36 & 320 & 110 & 5 & 5.0 & 5.0 & 9.2 & 1 & 0.88 \\\\\n",
       "\t20 & 42 & 316 & 105 & 2 & 2.5 & 2.5 & 8.2 & 1 & 0.49 \\\\\n",
       "\t21 & 43 & 313 & 107 & 2 & 2.5 & 2.0 & 8.5 & 1 & 0.53 \\\\\n",
       "\t22 & 44 & 332 & 117 & 4 & 4.5 & 4.0 & 9.1 & 0 & 0.87 \\\\\n",
       "\t23 & 45 & 326 & 113 & 5 & 4.5 & 4.0 & 9.4 & 1 & 0.91 \\\\\n",
       "\t24 & 46 & 322 & 110 & 5 & 5.0 & 4.0 & 9.1 & 1 & 0.88 \\\\\n",
       "\t25 & 47 & 329 & 114 & 5 & 4.0 & 5.0 & 9.3 & 1 & 0.86 \\\\\n",
       "\t26 & 48 & 339 & 119 & 5 & 4.5 & 4.0 & 9.7 & 0 & 0.89 \\\\\n",
       "\t27 & 49 & 321 & 110 & 3 & 3.5 & 5.0 & 8.85 & 1 & 0.82 \\\\\n",
       "\t28 & 50 & 327 & 111 & 4 & 3.0 & 4.0 & 8.4 & 1 & 0.78 \\\\\n",
       "\t29 & 51 & 313 & 98 & 3 & 2.5 & 4.5 & 8.3 & 1 & 0.76 \\\\\n",
       "\t30 & 53 & 334 & 116 & 4 & 4.0 & 3.0 & 8.0 & 1 & 0.78 \\\\\n",
       "\t31 & 54 & 324 & 112 & 4 & 4.0 & 2.5 & 8.1 & 1 & 0.72 \\\\\n",
       "\t32 & 63 & 304 & 105 & 2 & 3.0 & 3.0 & 8.2 & 1 & 0.54 \\\\\n",
       "\t33 & 64 & 315 & 107 & 2 & 4.0 & 3.0 & 8.5 & 1 & 0.56 \\\\\n",
       "\t34 & 67 & 327 & 114 & 3 & 3.0 & 3.0 & 9.02 & 0 & 0.61 \\\\\n",
       "\t35 & 68 & 316 & 107 & 2 & 3.5 & 3.5 & 8.64 & 1 & 0.57 \\\\\n",
       "\t36 & 69 & 318 & 109 & 3 & 3.5 & 4.0 & 9.22 & 1 & 0.68 \\\\\n",
       "\t37 & 70 & 328 & 115 & 4 & 4.5 & 4.0 & 9.16 & 1 & 0.78 \\\\\n",
       "\t38 & 71 & 332 & 118 & 5 & 5.0 & 5.0 & 9.64 & 1 & 0.94 \\\\\n",
       "\t39 & 72 & 336 & 112 & 5 & 5.0 & 5.0 & 9.76 & 1 & 0.96 \\\\\n",
       "\t40 & 73 & 321 & 111 & 5 & 5.0 & 5.0 & 9.45 & 1 & 0.93 \\\\\n",
       "\t41 & 74 & 314 & 108 & 4 & 4.5 & 4.0 & 9.04 & 1 & 0.84 \\\\\n",
       "\t42 & 76 & 329 & 114 & 2 & 2.0 & 4.0 & 8.56 & 1 & 0.72 \\\\\n",
       "\t43 & 77 & 327 & 112 & 3 & 3.0 & 3.0 & 8.72 & 1 & 0.74 \\\\\n",
       "\t44 & 81 & 312 & 105 & 3 & 2.0 & 3.0 & 8.02 & 1 & 0.5 \\\\\n",
       "\t45 & 82 & 340 & 120 & 4 & 5.0 & 5.0 & 9.5 & 1 & 0.96 \\\\\n",
       "\t46 & 83 & 320 & 110 & 5 & 5.0 & 4.5 & 9.22 & 1 & 0.92 \\\\\n",
       "\t47 & 84 & 322 & 115 & 5 & 4.0 & 4.5 & 9.36 & 1 & 0.92 \\\\\n",
       "\t48 & 85 & 340 & 115 & 5 & 4.5 & 4.5 & 9.45 & 1 & 0.94 \\\\\n",
       "\t49 & 90 & 316 & 109 & 4 & 4.5 & 3.5 & 8.76 & 1 & 0.74 \\\\\n",
       "\t50 & 98 & 331 & 120 & 3 & 4.0 & 4.0 & 8.96 & 1 & 0.86 \\\\\n",
       "\t51 & 99 & 332 & 119 & 4 & 5.0 & 4.5 & 9.24 & 1 & 0.9 \\\\\n",
       "\t52 & 100 & 323 & 113 & 3 & 4.0 & 4.0 & 8.88 & 1 & 0.79 \\\\\n",
       "\t53 & 101 & 322 & 107 & 3 & 3.5 & 3.5 & 8.46 & 1 & 0.71 \\\\\n",
       "\t54 & 105 & 326 & 112 & 3 & 3.5 & 3.0 & 9.05 & 1 & 0.74 \\\\\n",
       "\t55 & 106 & 316 & 110 & 3 & 4.0 & 4.5 & 8.78 & 1 & 0.69 \\\\\n",
       "\t56 & 107 & 329 & 111 & 4 & 4.5 & 4.5 & 9.18 & 1 & 0.87 \\\\\n",
       "\t57 & 108 & 338 & 117 & 4 & 3.5 & 4.5 & 9.46 & 1 & 0.91 \\\\\n",
       "\t58 & 109 & 331 & 116 & 5 & 5.0 & 5.0 & 9.38 & 1 & 0.93 \\\\\n",
       "\t59 & 112 & 321 & 109 & 4 & 4.0 & 4.0 & 8.68 & 1 & 0.69 \\\\\n",
       "\t60 & 113 & 301 & 107 & 3 & 3.5 & 3.5 & 8.34 & 1 & 0.62 \\\\\n",
       "\t61 & 115 & 311 & 105 & 3 & 3.5 & 3.0 & 8.45 & 1 & 0.59 \\\\\n",
       "\t62 & 116 & 310 & 106 & 4 & 4.5 & 4.5 & 9.04 & 1 & 0.66 \\\\\n",
       "\t63 & 120 & 327 & 104 & 5 & 3.0 & 3.5 & 8.84 & 1 & 0.71 \\\\\n",
       "\t64 & 121 & 335 & 117 & 5 & 5.0 & 5.0 & 9.56 & 1 & 0.94 \\\\\n",
       "\t65 & 122 & 334 & 119 & 5 & 4.5 & 4.5 & 9.48 & 1 & 0.94 \\\\\n",
       "\t66 & 126 & 300 & 100 & 3 & 2.0 & 3.0 & 8.66 & 1 & 0.64 \\\\\n",
       "\t67 & 127 & 323 & 113 & 3 & 4.0 & 3.0 & 9.32 & 1 & 0.85 \\\\\n",
       "\t68 & 128 & 319 & 112 & 3 & 2.5 & 2.0 & 8.71 & 1 & 0.78 \\\\\n",
       "\t69 & 129 & 326 & 112 & 3 & 3.5 & 3.0 & 9.1 & 1 & 0.84 \\\\\n",
       "\t70 & 130 & 333 & 118 & 5 & 5.0 & 5.0 & 9.35 & 1 & 0.92 \\\\\n",
       "\t71 & 131 & 339 & 114 & 5 & 4.0 & 4.5 & 9.76 & 1 & 0.96 \\\\\n",
       "\t72 & 135 & 333 & 113 & 5 & 4.0 & 4.0 & 9.28 & 1 & 0.89 \\\\\n",
       "\t73 & 136 & 314 & 109 & 4 & 3.5 & 4.0 & 8.77 & 1 & 0.82 \\\\\n",
       "\t74 & 138 & 316 & 100 & 2 & 1.5 & 3.0 & 8.16 & 1 & 0.71 \\\\\n",
       "\t75 & 139 & 326 & 116 & 2 & 4.5 & 3.0 & 9.08 & 1 & 0.8 \\\\\n",
       "\t76 & 141 & 329 & 110 & 2 & 4.0 & 3.0 & 9.15 & 1 & 0.84 \\\\\n",
       "\t77 & 142 & 332 & 118 & 2 & 4.5 & 3.5 & 9.36 & 1 & 0.9 \\\\\n",
       "\t78 & 143 & 331 & 115 & 5 & 4.0 & 3.5 & 9.44 & 1 & 0.92 \\\\\n",
       "\t79 & 144 & 340 & 120 & 4 & 4.5 & 4.0 & 9.92 & 1 & 0.97 \\\\\n",
       "\t80 & 145 & 325 & 112 & 2 & 3.0 & 3.5 & 8.96 & 1 & 0.8 \\\\\n",
       "\t81 & 146 & 320 & 113 & 2 & 2.0 & 2.5 & 8.64 & 1 & 0.81 \\\\\n",
       "\t82 & 148 & 326 & 114 & 3 & 3.0 & 3.0 & 9.11 & 1 & 0.83 \\\\\n",
       "\t83 & 149 & 339 & 116 & 4 & 4.0 & 3.5 & 9.8 & 1 & 0.96 \\\\\n",
       "\t84 & 150 & 311 & 106 & 2 & 3.5 & 3.0 & 8.26 & 1 & 0.79 \\\\\n",
       "\t85 & 151 & 334 & 114 & 4 & 4.0 & 4.0 & 9.43 & 1 & 0.93 \\\\\n",
       "\t86 & 152 & 332 & 116 & 5 & 5.0 & 5.0 & 9.28 & 1 & 0.94 \\\\\n",
       "\t87 & 153 & 321 & 112 & 5 & 5.0 & 5.0 & 9.06 & 1 & 0.86 \\\\\n",
       "\t88 & 155 & 326 & 108 & 3 & 3.0 & 3.5 & 8.89 & 0 & 0.8 \\\\\n",
       "\t89 & 165 & 329 & 111 & 4 & 4.5 & 4.0 & 9.01 & 1 & 0.81 \\\\\n",
       "\t90 & 171 & 312 & 101 & 2 & 2.5 & 3.5 & 8.04 & 1 & 0.68 \\\\\n",
       "\t91 & 172 & 334 & 117 & 5 & 4.0 & 4.5 & 9.07 & 1 & 0.89 \\\\\n",
       "\t92 & 173 & 322 & 110 & 4 & 4.0 & 5.0 & 9.13 & 1 & 0.86 \\\\\n",
       "\t93 & 174 & 323 & 113 & 4 & 4.0 & 4.5 & 9.23 & 1 & 0.89 \\\\\n",
       "\t94 & 175 & 321 & 111 & 4 & 4.0 & 4.0 & 8.97 & 1 & 0.87 \\\\\n",
       "\t95 & 176 & 320 & 111 & 4 & 4.5 & 3.5 & 8.87 & 1 & 0.85 \\\\\n",
       "\t96 & 177 & 329 & 119 & 4 & 4.5 & 4.5 & 9.16 & 1 & 0.9 \\\\\n",
       "\t97 & 186 & 327 & 113 & 4 & 4.5 & 4.5 & 9.11 & 1 & 0.89 \\\\\n",
       "\t98 & 187 & 317 & 107 & 3 & 3.5 & 3.0 & 8.68 & 1 & 0.84 \\\\\n",
       "\t99 & 188 & 335 & 118 & 5 & 4.5 & 3.5 & 9.44 & 1 & 0.93 \\\\\n",
       "\t100 & 189 & 331 & 115 & 5 & 4.5 & 3.5 & 9.36 & 1 & 0.93 \\\\\n",
       "\t$\\dots$ & $\\dots$ & $\\dots$ & $\\dots$ & $\\dots$ & $\\dots$ & $\\dots$ & $\\dots$ & $\\dots$ & $\\dots$ \\\\\n",
       "\\end{tabular}\n"
      ],
      "text/plain": [
       "\u001b[1m211×9 DataFrame\u001b[0m\n",
       "\u001b[1m Row \u001b[0m│\u001b[1m Serial No. \u001b[0m\u001b[1m GRE Score \u001b[0m\u001b[1m TOEFL Score \u001b[0m\u001b[1m University Rating \u001b[0m\u001b[1m SOP     \u001b[0m\u001b[1m LOR     \u001b[0m\u001b[1m CGPA    \u001b[0m\u001b[1m Research \u001b[0m\u001b[1m Chance of Admit  \u001b[0m\n",
       "\u001b[1m     \u001b[0m│\u001b[90m Int64      \u001b[0m\u001b[90m Int64     \u001b[0m\u001b[90m Int64       \u001b[0m\u001b[90m Int64             \u001b[0m\u001b[90m Float64 \u001b[0m\u001b[90m Float64 \u001b[0m\u001b[90m Float64 \u001b[0m\u001b[90m Int64    \u001b[0m\u001b[90m Float64          \u001b[0m\n",
       "─────┼──────────────────────────────────────────────────────────────────────────────────────────────────────────────\n",
       "   1 │          1        337          118                  4      4.5      4.5     9.65         1              0.92\n",
       "   2 │          2        324          107                  4      4.0      4.5     8.87         1              0.76\n",
       "   3 │          4        322          110                  3      3.5      2.5     8.67         1              0.8\n",
       "   4 │          6        330          115                  5      4.5      3.0     9.34         1              0.9\n",
       "   5 │          7        321          109                  3      3.0      4.0     8.2          1              0.75\n",
       "   6 │         11        325          106                  3      3.5      4.0     8.4          1              0.52\n",
       "   7 │         12        327          111                  4      4.0      4.5     9.0          1              0.84\n",
       "   8 │         13        328          112                  4      4.0      4.5     9.1          1              0.78\n",
       "   9 │         15        311          104                  3      3.5      2.0     8.2          1              0.61\n",
       "  10 │         23        328          116                  5      5.0      5.0     9.5          1              0.94\n",
       "  11 │         24        334          119                  5      5.0      4.5     9.7          1              0.95\n",
       "  12 │         25        336          119                  5      4.0      3.5     9.8          1              0.97\n",
       "  13 │         26        340          120                  5      4.5      4.5     9.6          1              0.94\n",
       "  14 │         31        300           97                  2      3.0      3.0     8.1          1              0.65\n",
       "  15 │         32        327          103                  3      4.0      4.0     8.3          1              0.74\n",
       "  16 │         33        338          118                  4      3.0      4.5     9.4          1              0.91\n",
       "  17 │         34        340          114                  5      4.0      4.0     9.6          1              0.9\n",
       "  18 │         35        331          112                  5      4.0      5.0     9.8          1              0.94\n",
       "  19 │         36        320          110                  5      5.0      5.0     9.2          1              0.88\n",
       "  20 │         42        316          105                  2      2.5      2.5     8.2          1              0.49\n",
       "  21 │         43        313          107                  2      2.5      2.0     8.5          1              0.53\n",
       "  22 │         44        332          117                  4      4.5      4.0     9.1          0              0.87\n",
       "  23 │         45        326          113                  5      4.5      4.0     9.4          1              0.91\n",
       "  24 │         46        322          110                  5      5.0      4.0     9.1          1              0.88\n",
       "  25 │         47        329          114                  5      4.0      5.0     9.3          1              0.86\n",
       "  26 │         48        339          119                  5      4.5      4.0     9.7          0              0.89\n",
       "  27 │         49        321          110                  3      3.5      5.0     8.85         1              0.82\n",
       "  28 │         50        327          111                  4      3.0      4.0     8.4          1              0.78\n",
       "  29 │         51        313           98                  3      2.5      4.5     8.3          1              0.76\n",
       "  30 │         53        334          116                  4      4.0      3.0     8.0          1              0.78\n",
       "  31 │         54        324          112                  4      4.0      2.5     8.1          1              0.72\n",
       "  32 │         63        304          105                  2      3.0      3.0     8.2          1              0.54\n",
       "  33 │         64        315          107                  2      4.0      3.0     8.5          1              0.56\n",
       "  34 │         67        327          114                  3      3.0      3.0     9.02         0              0.61\n",
       "  35 │         68        316          107                  2      3.5      3.5     8.64         1              0.57\n",
       "  36 │         69        318          109                  3      3.5      4.0     9.22         1              0.68\n",
       "  37 │         70        328          115                  4      4.5      4.0     9.16         1              0.78\n",
       "  38 │         71        332          118                  5      5.0      5.0     9.64         1              0.94\n",
       "  39 │         72        336          112                  5      5.0      5.0     9.76         1              0.96\n",
       "  40 │         73        321          111                  5      5.0      5.0     9.45         1              0.93\n",
       "  41 │         74        314          108                  4      4.5      4.0     9.04         1              0.84\n",
       "  42 │         76        329          114                  2      2.0      4.0     8.56         1              0.72\n",
       "  43 │         77        327          112                  3      3.0      3.0     8.72         1              0.74\n",
       "  44 │         81        312          105                  3      2.0      3.0     8.02         1              0.5\n",
       "  45 │         82        340          120                  4      5.0      5.0     9.5          1              0.96\n",
       "  46 │         83        320          110                  5      5.0      4.5     9.22         1              0.92\n",
       "  ⋮  │     ⋮           ⋮           ⋮               ⋮             ⋮        ⋮        ⋮        ⋮             ⋮\n",
       " 167 │        313        311          107                  4      4.5      4.5     9.0          1              0.78\n",
       " 168 │        319        324          111                  3      2.5      2.0     8.8          1              0.79\n",
       " 169 │        320        327          113                  4      3.5      3.0     8.69         1              0.8\n",
       " 170 │        321        317          106                  3      4.0      3.5     8.5          1              0.75\n",
       " 171 │        322        323          104                  3      4.0      4.0     8.44         1              0.73\n",
       " 172 │        326        326          116                  3      3.5      4.0     9.14         1              0.81\n",
       " 173 │        329        324          112                  4      4.0      3.5     8.77         1              0.8\n",
       " 174 │        331        327          113                  3      3.5      3.0     8.66         1              0.8\n",
       " 175 │        332        311          105                  2      3.0      2.0     8.12         1              0.73\n",
       " 176 │        333        308          106                  3      3.5      2.5     8.21         1              0.75\n",
       " 177 │        334        319          108                  3      3.0      3.5     8.54         1              0.71\n",
       " 178 │        335        312          107                  4      4.5      4.0     8.65         1              0.73\n",
       " 179 │        336        325          111                  4      4.0      4.5     9.11         1              0.83\n",
       " 180 │        338        332          118                  5      5.0      5.0     9.47         1              0.94\n",
       " 181 │        339        323          108                  5      4.0      4.0     8.74         1              0.81\n",
       " 182 │        340        324          107                  5      3.5      4.0     8.66         1              0.81\n",
       " 183 │        341        312          107                  3      3.0      3.0     8.46         1              0.75\n",
       " 184 │        342        326          110                  3      3.5      3.5     8.76         1              0.79\n",
       " 185 │        351        318          107                  3      3.0      3.5     8.27         1              0.74\n",
       " 186 │        352        325          110                  4      3.5      4.0     8.67         1              0.73\n",
       " 187 │        353        303          100                  2      3.0      3.5     8.06         1              0.64\n",
       " 188 │        357        327          109                  3      3.5      4.0     8.77         1              0.79\n",
       " 189 │        361        322          110                  3      4.0      5.0     8.64         1              0.85\n",
       " 190 │        362        334          116                  4      4.0      3.5     9.54         1              0.93\n",
       " 191 │        363        338          115                  5      4.5      5.0     9.23         1              0.91\n",
       " 192 │        365        313          102                  3      3.5      4.0     8.9          1              0.77\n",
       " 193 │        366        330          114                  4      4.5      3.0     9.17         1              0.86\n",
       " 194 │        367        320          104                  3      3.5      4.5     8.34         1              0.74\n",
       " 195 │        370        301           98                  1      2.0      3.0     8.03         1              0.67\n",
       " 196 │        372        324          110                  3      3.5      3.0     9.22         1              0.89\n",
       " 197 │        373        336          119                  4      4.5      4.0     9.62         1              0.95\n",
       " 198 │        374        321          109                  3      3.0      3.0     8.54         1              0.79\n",
       " 199 │        380        311           99                  1      2.5      3.0     8.43         1              0.71\n",
       " 200 │        381        322          104                  3      3.5      4.0     8.84         1              0.78\n",
       " 201 │        382        319          105                  3      3.0      3.5     8.67         1              0.73\n",
       " 202 │        383        324          110                  4      4.5      4.0     9.15         1              0.82\n",
       " 203 │        385        340          113                  4      5.0      5.0     9.74         1              0.96\n",
       " 204 │        386        335          117                  5      5.0      5.0     9.82         1              0.96\n",
       " 205 │        390        320          108                  3      3.5      4.0     8.44         1              0.76\n",
       " 206 │        393        326          112                  4      4.0      3.5     9.12         1              0.84\n",
       " 207 │        395        329          111                  4      4.5      4.0     9.23         1              0.89\n",
       " 208 │        396        324          110                  3      3.5      3.5     9.04         1              0.82\n",
       " 209 │        397        325          107                  3      3.0      3.5     9.11         1              0.84\n",
       " 210 │        398        330          116                  4      5.0      4.5     9.45         1              0.91\n",
       " 211 │        400        333          117                  4      5.0      4.0     9.66         1              0.95\n",
       "\u001b[36m                                                                                                    120 rows omitted\u001b[0m"
      ]
     },
     "execution_count": 35,
     "metadata": {},
     "output_type": "execute_result"
    }
   ],
   "source": [
    "df[condition_one .& condition_two, :] # Only select rows where BOTH conditions satisfy\n",
    "\n",
    "df[condition_one .| (condition_two .& condition_three), :] # Only select rows where ONE of the condition satisfy"
   ]
  },
  {
   "cell_type": "markdown",
   "metadata": {},
   "source": [
    "To have similar functionality of Pandas `query()` method, we need to use `Query.jl` library."
   ]
  },
  {
   "cell_type": "code",
   "execution_count": 36,
   "metadata": {
    "ExecuteTime": {
     "end_time": "2021-05-22T12:23:32.984000+04:00",
     "start_time": "2021-05-22T08:23:32.173Z"
    },
    "scrolled": true
   },
   "outputs": [
    {
     "data": {
      "text/html": [
       "<table class=\"data-frame\"><thead><tr><th></th><th>Serial No.</th><th>GRE Score</th><th>TOEFL Score</th><th>University Rating</th><th>SOP</th><th>LOR</th><th>CGPA</th><th>Research</th><th>Chance of Admit </th></tr><tr><th></th><th>Int64</th><th>Int64</th><th>Int64</th><th>Int64</th><th>Float64</th><th>Float64</th><th>Float64</th><th>Int64</th><th>Float64</th></tr></thead><tbody><p>139 rows × 9 columns</p><tr><th>1</th><td>4</td><td>322</td><td>110</td><td>3</td><td>3.5</td><td>2.5</td><td>8.67</td><td>1</td><td>0.8</td></tr><tr><th>2</th><td>6</td><td>330</td><td>115</td><td>5</td><td>4.5</td><td>3.0</td><td>9.34</td><td>1</td><td>0.9</td></tr><tr><th>3</th><td>9</td><td>302</td><td>102</td><td>1</td><td>2.0</td><td>1.5</td><td>8.0</td><td>0</td><td>0.5</td></tr><tr><th>4</th><td>10</td><td>323</td><td>108</td><td>3</td><td>3.5</td><td>3.0</td><td>8.6</td><td>0</td><td>0.45</td></tr><tr><th>5</th><td>14</td><td>307</td><td>109</td><td>3</td><td>4.0</td><td>3.0</td><td>8.0</td><td>1</td><td>0.62</td></tr><tr><th>6</th><td>15</td><td>311</td><td>104</td><td>3</td><td>3.5</td><td>2.0</td><td>8.2</td><td>1</td><td>0.61</td></tr><tr><th>7</th><td>16</td><td>314</td><td>105</td><td>3</td><td>3.5</td><td>2.5</td><td>8.3</td><td>0</td><td>0.54</td></tr><tr><th>8</th><td>17</td><td>317</td><td>107</td><td>3</td><td>4.0</td><td>3.0</td><td>8.7</td><td>0</td><td>0.66</td></tr><tr><th>9</th><td>18</td><td>319</td><td>106</td><td>3</td><td>4.0</td><td>3.0</td><td>8.0</td><td>1</td><td>0.65</td></tr><tr><th>10</th><td>19</td><td>318</td><td>110</td><td>3</td><td>4.0</td><td>3.0</td><td>8.8</td><td>0</td><td>0.63</td></tr><tr><th>11</th><td>20</td><td>303</td><td>102</td><td>3</td><td>3.5</td><td>3.0</td><td>8.5</td><td>0</td><td>0.62</td></tr><tr><th>12</th><td>21</td><td>312</td><td>107</td><td>3</td><td>3.0</td><td>2.0</td><td>7.9</td><td>1</td><td>0.64</td></tr><tr><th>13</th><td>22</td><td>325</td><td>114</td><td>4</td><td>3.0</td><td>2.0</td><td>8.4</td><td>0</td><td>0.7</td></tr><tr><th>14</th><td>24</td><td>334</td><td>119</td><td>5</td><td>5.0</td><td>4.5</td><td>9.7</td><td>1</td><td>0.95</td></tr><tr><th>15</th><td>25</td><td>336</td><td>119</td><td>5</td><td>4.0</td><td>3.5</td><td>9.8</td><td>1</td><td>0.97</td></tr><tr><th>16</th><td>27</td><td>322</td><td>109</td><td>5</td><td>4.5</td><td>3.5</td><td>8.8</td><td>0</td><td>0.76</td></tr><tr><th>17</th><td>39</td><td>304</td><td>105</td><td>1</td><td>3.0</td><td>1.5</td><td>7.5</td><td>0</td><td>0.52</td></tr><tr><th>18</th><td>40</td><td>307</td><td>108</td><td>2</td><td>4.0</td><td>3.5</td><td>7.7</td><td>0</td><td>0.48</td></tr><tr><th>19</th><td>41</td><td>308</td><td>110</td><td>3</td><td>3.5</td><td>3.0</td><td>8.0</td><td>1</td><td>0.46</td></tr><tr><th>20</th><td>43</td><td>313</td><td>107</td><td>2</td><td>2.5</td><td>2.0</td><td>8.5</td><td>1</td><td>0.53</td></tr><tr><th>21</th><td>44</td><td>332</td><td>117</td><td>4</td><td>4.5</td><td>4.0</td><td>9.1</td><td>0</td><td>0.87</td></tr><tr><th>22</th><td>45</td><td>326</td><td>113</td><td>5</td><td>4.5</td><td>4.0</td><td>9.4</td><td>1</td><td>0.91</td></tr><tr><th>23</th><td>46</td><td>322</td><td>110</td><td>5</td><td>5.0</td><td>4.0</td><td>9.1</td><td>1</td><td>0.88</td></tr><tr><th>24</th><td>48</td><td>339</td><td>119</td><td>5</td><td>4.5</td><td>4.0</td><td>9.7</td><td>0</td><td>0.89</td></tr><tr><th>25</th><td>53</td><td>334</td><td>116</td><td>4</td><td>4.0</td><td>3.0</td><td>8.0</td><td>1</td><td>0.78</td></tr><tr><th>26</th><td>54</td><td>324</td><td>112</td><td>4</td><td>4.0</td><td>2.5</td><td>8.1</td><td>1</td><td>0.72</td></tr><tr><th>27</th><td>58</td><td>298</td><td>99</td><td>2</td><td>4.0</td><td>2.0</td><td>7.6</td><td>0</td><td>0.46</td></tr><tr><th>28</th><td>59</td><td>300</td><td>99</td><td>1</td><td>3.0</td><td>2.0</td><td>6.8</td><td>1</td><td>0.36</td></tr><tr><th>29</th><td>62</td><td>307</td><td>101</td><td>3</td><td>4.0</td><td>3.0</td><td>8.2</td><td>0</td><td>0.47</td></tr><tr><th>30</th><td>64</td><td>315</td><td>107</td><td>2</td><td>4.0</td><td>3.0</td><td>8.5</td><td>1</td><td>0.56</td></tr><tr><th>31</th><td>70</td><td>328</td><td>115</td><td>4</td><td>4.5</td><td>4.0</td><td>9.16</td><td>1</td><td>0.78</td></tr><tr><th>32</th><td>74</td><td>314</td><td>108</td><td>4</td><td>4.5</td><td>4.0</td><td>9.04</td><td>1</td><td>0.84</td></tr><tr><th>33</th><td>78</td><td>301</td><td>99</td><td>2</td><td>3.0</td><td>2.0</td><td>8.22</td><td>0</td><td>0.64</td></tr><tr><th>34</th><td>79</td><td>296</td><td>95</td><td>2</td><td>3.0</td><td>2.0</td><td>7.54</td><td>1</td><td>0.44</td></tr><tr><th>35</th><td>83</td><td>320</td><td>110</td><td>5</td><td>5.0</td><td>4.5</td><td>9.22</td><td>1</td><td>0.92</td></tr><tr><th>36</th><td>86</td><td>319</td><td>103</td><td>4</td><td>4.5</td><td>3.5</td><td>8.66</td><td>0</td><td>0.76</td></tr><tr><th>37</th><td>87</td><td>315</td><td>106</td><td>3</td><td>4.5</td><td>3.5</td><td>8.42</td><td>0</td><td>0.72</td></tr><tr><th>38</th><td>88</td><td>317</td><td>107</td><td>2</td><td>3.5</td><td>3.0</td><td>8.28</td><td>0</td><td>0.66</td></tr><tr><th>39</th><td>89</td><td>314</td><td>108</td><td>3</td><td>4.5</td><td>3.5</td><td>8.14</td><td>0</td><td>0.64</td></tr><tr><th>40</th><td>90</td><td>316</td><td>109</td><td>4</td><td>4.5</td><td>3.5</td><td>8.76</td><td>1</td><td>0.74</td></tr><tr><th>41</th><td>92</td><td>299</td><td>97</td><td>3</td><td>5.0</td><td>3.5</td><td>7.66</td><td>0</td><td>0.38</td></tr><tr><th>42</th><td>93</td><td>298</td><td>98</td><td>2</td><td>4.0</td><td>3.0</td><td>8.03</td><td>0</td><td>0.34</td></tr><tr><th>43</th><td>99</td><td>332</td><td>119</td><td>4</td><td>5.0</td><td>4.5</td><td>9.24</td><td>1</td><td>0.9</td></tr><tr><th>44</th><td>103</td><td>314</td><td>106</td><td>2</td><td>4.0</td><td>3.5</td><td>8.25</td><td>0</td><td>0.62</td></tr><tr><th>45</th><td>104</td><td>317</td><td>104</td><td>2</td><td>4.5</td><td>4.0</td><td>8.47</td><td>0</td><td>0.57</td></tr><tr><th>46</th><td>105</td><td>326</td><td>112</td><td>3</td><td>3.5</td><td>3.0</td><td>9.05</td><td>1</td><td>0.74</td></tr><tr><th>47</th><td>110</td><td>304</td><td>103</td><td>5</td><td>5.0</td><td>4.0</td><td>8.64</td><td>0</td><td>0.68</td></tr><tr><th>48</th><td>114</td><td>320</td><td>110</td><td>2</td><td>4.0</td><td>3.5</td><td>8.56</td><td>0</td><td>0.72</td></tr><tr><th>49</th><td>115</td><td>311</td><td>105</td><td>3</td><td>3.5</td><td>3.0</td><td>8.45</td><td>1</td><td>0.59</td></tr><tr><th>50</th><td>117</td><td>299</td><td>102</td><td>3</td><td>4.0</td><td>3.5</td><td>8.62</td><td>0</td><td>0.56</td></tr><tr><th>51</th><td>127</td><td>323</td><td>113</td><td>3</td><td>4.0</td><td>3.0</td><td>9.32</td><td>1</td><td>0.85</td></tr><tr><th>52</th><td>128</td><td>319</td><td>112</td><td>3</td><td>2.5</td><td>2.0</td><td>8.71</td><td>1</td><td>0.78</td></tr><tr><th>53</th><td>129</td><td>326</td><td>112</td><td>3</td><td>3.5</td><td>3.0</td><td>9.1</td><td>1</td><td>0.84</td></tr><tr><th>54</th><td>132</td><td>303</td><td>105</td><td>5</td><td>5.0</td><td>4.5</td><td>8.65</td><td>0</td><td>0.77</td></tr><tr><th>55</th><td>137</td><td>312</td><td>103</td><td>3</td><td>5.0</td><td>4.0</td><td>8.45</td><td>0</td><td>0.76</td></tr><tr><th>56</th><td>139</td><td>326</td><td>116</td><td>2</td><td>4.5</td><td>3.0</td><td>9.08</td><td>1</td><td>0.8</td></tr><tr><th>57</th><td>141</td><td>329</td><td>110</td><td>2</td><td>4.0</td><td>3.0</td><td>9.15</td><td>1</td><td>0.84</td></tr><tr><th>58</th><td>142</td><td>332</td><td>118</td><td>2</td><td>4.5</td><td>3.5</td><td>9.36</td><td>1</td><td>0.9</td></tr><tr><th>59</th><td>143</td><td>331</td><td>115</td><td>5</td><td>4.0</td><td>3.5</td><td>9.44</td><td>1</td><td>0.92</td></tr><tr><th>60</th><td>144</td><td>340</td><td>120</td><td>4</td><td>4.5</td><td>4.0</td><td>9.92</td><td>1</td><td>0.97</td></tr><tr><th>61</th><td>149</td><td>339</td><td>116</td><td>4</td><td>4.0</td><td>3.5</td><td>9.8</td><td>1</td><td>0.96</td></tr><tr><th>62</th><td>150</td><td>311</td><td>106</td><td>2</td><td>3.5</td><td>3.0</td><td>8.26</td><td>1</td><td>0.79</td></tr><tr><th>63</th><td>164</td><td>317</td><td>105</td><td>3</td><td>3.5</td><td>3.0</td><td>8.56</td><td>0</td><td>0.68</td></tr><tr><th>64</th><td>165</td><td>329</td><td>111</td><td>4</td><td>4.5</td><td>4.0</td><td>9.01</td><td>1</td><td>0.81</td></tr><tr><th>65</th><td>166</td><td>322</td><td>110</td><td>5</td><td>4.5</td><td>4.0</td><td>8.97</td><td>0</td><td>0.78</td></tr><tr><th>66</th><td>176</td><td>320</td><td>111</td><td>4</td><td>4.5</td><td>3.5</td><td>8.87</td><td>1</td><td>0.85</td></tr><tr><th>67</th><td>181</td><td>300</td><td>104</td><td>3</td><td>3.5</td><td>3.0</td><td>8.16</td><td>0</td><td>0.71</td></tr><tr><th>68</th><td>187</td><td>317</td><td>107</td><td>3</td><td>3.5</td><td>3.0</td><td>8.68</td><td>1</td><td>0.84</td></tr><tr><th>69</th><td>188</td><td>335</td><td>118</td><td>5</td><td>4.5</td><td>3.5</td><td>9.44</td><td>1</td><td>0.93</td></tr><tr><th>70</th><td>189</td><td>331</td><td>115</td><td>5</td><td>4.5</td><td>3.5</td><td>9.36</td><td>1</td><td>0.93</td></tr><tr><th>71</th><td>191</td><td>324</td><td>111</td><td>5</td><td>4.5</td><td>4.0</td><td>9.16</td><td>1</td><td>0.9</td></tr><tr><th>72</th><td>193</td><td>322</td><td>114</td><td>5</td><td>4.5</td><td>4.0</td><td>8.94</td><td>1</td><td>0.86</td></tr><tr><th>73</th><td>195</td><td>316</td><td>109</td><td>3</td><td>3.5</td><td>3.0</td><td>8.76</td><td>0</td><td>0.77</td></tr><tr><th>74</th><td>197</td><td>306</td><td>105</td><td>2</td><td>3.0</td><td>2.5</td><td>8.26</td><td>0</td><td>0.73</td></tr><tr><th>75</th><td>198</td><td>310</td><td>106</td><td>2</td><td>3.5</td><td>2.5</td><td>8.33</td><td>0</td><td>0.73</td></tr><tr><th>76</th><td>202</td><td>315</td><td>110</td><td>2</td><td>3.5</td><td>3.0</td><td>8.46</td><td>1</td><td>0.72</td></tr><tr><th>77</th><td>207</td><td>315</td><td>99</td><td>2</td><td>3.5</td><td>3.0</td><td>7.89</td><td>0</td><td>0.63</td></tr><tr><th>78</th><td>211</td><td>325</td><td>108</td><td>4</td><td>4.5</td><td>4.0</td><td>9.06</td><td>1</td><td>0.79</td></tr><tr><th>79</th><td>212</td><td>328</td><td>110</td><td>4</td><td>5.0</td><td>4.0</td><td>9.14</td><td>1</td><td>0.82</td></tr><tr><th>80</th><td>214</td><td>333</td><td>119</td><td>5</td><td>5.0</td><td>4.5</td><td>9.78</td><td>1</td><td>0.96</td></tr><tr><th>81</th><td>216</td><td>330</td><td>116</td><td>5</td><td>5.0</td><td>4.5</td><td>9.36</td><td>1</td><td>0.93</td></tr><tr><th>82</th><td>223</td><td>324</td><td>113</td><td>4</td><td>4.5</td><td>4.0</td><td>8.79</td><td>0</td><td>0.76</td></tr><tr><th>83</th><td>225</td><td>305</td><td>105</td><td>2</td><td>3.0</td><td>2.0</td><td>8.23</td><td>0</td><td>0.67</td></tr><tr><th>84</th><td>228</td><td>312</td><td>110</td><td>2</td><td>3.5</td><td>3.0</td><td>8.53</td><td>0</td><td>0.64</td></tr><tr><th>85</th><td>229</td><td>318</td><td>112</td><td>3</td><td>4.0</td><td>3.5</td><td>8.67</td><td>0</td><td>0.71</td></tr><tr><th>86</th><td>232</td><td>319</td><td>106</td><td>3</td><td>3.5</td><td>2.5</td><td>8.33</td><td>1</td><td>0.74</td></tr><tr><th>87</th><td>235</td><td>330</td><td>113</td><td>5</td><td>5.0</td><td>4.0</td><td>9.31</td><td>1</td><td>0.91</td></tr><tr><th>88</th><td>236</td><td>326</td><td>111</td><td>5</td><td>4.5</td><td>4.0</td><td>9.23</td><td>1</td><td>0.88</td></tr><tr><th>89</th><td>242</td><td>317</td><td>103</td><td>2</td><td>2.5</td><td>2.0</td><td>8.15</td><td>0</td><td>0.65</td></tr><tr><th>90</th><td>243</td><td>324</td><td>115</td><td>3</td><td>3.5</td><td>3.0</td><td>8.76</td><td>1</td><td>0.7</td></tr><tr><th>91</th><td>244</td><td>325</td><td>114</td><td>3</td><td>3.5</td><td>3.0</td><td>9.04</td><td>1</td><td>0.76</td></tr><tr><th>92</th><td>246</td><td>328</td><td>110</td><td>4</td><td>4.0</td><td>2.5</td><td>9.02</td><td>1</td><td>0.81</td></tr><tr><th>93</th><td>251</td><td>320</td><td>104</td><td>3</td><td>3.0</td><td>2.5</td><td>8.57</td><td>1</td><td>0.74</td></tr><tr><th>94</th><td>260</td><td>331</td><td>119</td><td>4</td><td>5.0</td><td>4.5</td><td>9.34</td><td>1</td><td>0.9</td></tr><tr><th>95</th><td>261</td><td>327</td><td>108</td><td>5</td><td>5.0</td><td>3.5</td><td>9.13</td><td>1</td><td>0.87</td></tr><tr><th>96</th><td>264</td><td>324</td><td>111</td><td>3</td><td>2.5</td><td>1.5</td><td>8.79</td><td>1</td><td>0.7</td></tr><tr><th>97</th><td>265</td><td>325</td><td>110</td><td>2</td><td>3.0</td><td>2.5</td><td>8.76</td><td>1</td><td>0.75</td></tr><tr><th>98</th><td>276</td><td>322</td><td>110</td><td>3</td><td>3.5</td><td>3.0</td><td>8.96</td><td>1</td><td>0.78</td></tr><tr><th>99</th><td>277</td><td>329</td><td>113</td><td>5</td><td>5.0</td><td>4.5</td><td>9.45</td><td>1</td><td>0.89</td></tr><tr><th>100</th><td>281</td><td>311</td><td>102</td><td>3</td><td>4.5</td><td>4.0</td><td>8.64</td><td>1</td><td>0.68</td></tr><tr><th>&vellip;</th><td>&vellip;</td><td>&vellip;</td><td>&vellip;</td><td>&vellip;</td><td>&vellip;</td><td>&vellip;</td><td>&vellip;</td><td>&vellip;</td><td>&vellip;</td></tr></tbody></table>"
      ],
      "text/latex": [
       "\\begin{tabular}{r|ccccccccc}\n",
       "\t& Serial No. & GRE Score & TOEFL Score & University Rating & SOP & LOR & CGPA & Research & Chance of Admit \\\\\n",
       "\t\\hline\n",
       "\t& Int64 & Int64 & Int64 & Int64 & Float64 & Float64 & Float64 & Int64 & Float64\\\\\n",
       "\t\\hline\n",
       "\t1 & 4 & 322 & 110 & 3 & 3.5 & 2.5 & 8.67 & 1 & 0.8 \\\\\n",
       "\t2 & 6 & 330 & 115 & 5 & 4.5 & 3.0 & 9.34 & 1 & 0.9 \\\\\n",
       "\t3 & 9 & 302 & 102 & 1 & 2.0 & 1.5 & 8.0 & 0 & 0.5 \\\\\n",
       "\t4 & 10 & 323 & 108 & 3 & 3.5 & 3.0 & 8.6 & 0 & 0.45 \\\\\n",
       "\t5 & 14 & 307 & 109 & 3 & 4.0 & 3.0 & 8.0 & 1 & 0.62 \\\\\n",
       "\t6 & 15 & 311 & 104 & 3 & 3.5 & 2.0 & 8.2 & 1 & 0.61 \\\\\n",
       "\t7 & 16 & 314 & 105 & 3 & 3.5 & 2.5 & 8.3 & 0 & 0.54 \\\\\n",
       "\t8 & 17 & 317 & 107 & 3 & 4.0 & 3.0 & 8.7 & 0 & 0.66 \\\\\n",
       "\t9 & 18 & 319 & 106 & 3 & 4.0 & 3.0 & 8.0 & 1 & 0.65 \\\\\n",
       "\t10 & 19 & 318 & 110 & 3 & 4.0 & 3.0 & 8.8 & 0 & 0.63 \\\\\n",
       "\t11 & 20 & 303 & 102 & 3 & 3.5 & 3.0 & 8.5 & 0 & 0.62 \\\\\n",
       "\t12 & 21 & 312 & 107 & 3 & 3.0 & 2.0 & 7.9 & 1 & 0.64 \\\\\n",
       "\t13 & 22 & 325 & 114 & 4 & 3.0 & 2.0 & 8.4 & 0 & 0.7 \\\\\n",
       "\t14 & 24 & 334 & 119 & 5 & 5.0 & 4.5 & 9.7 & 1 & 0.95 \\\\\n",
       "\t15 & 25 & 336 & 119 & 5 & 4.0 & 3.5 & 9.8 & 1 & 0.97 \\\\\n",
       "\t16 & 27 & 322 & 109 & 5 & 4.5 & 3.5 & 8.8 & 0 & 0.76 \\\\\n",
       "\t17 & 39 & 304 & 105 & 1 & 3.0 & 1.5 & 7.5 & 0 & 0.52 \\\\\n",
       "\t18 & 40 & 307 & 108 & 2 & 4.0 & 3.5 & 7.7 & 0 & 0.48 \\\\\n",
       "\t19 & 41 & 308 & 110 & 3 & 3.5 & 3.0 & 8.0 & 1 & 0.46 \\\\\n",
       "\t20 & 43 & 313 & 107 & 2 & 2.5 & 2.0 & 8.5 & 1 & 0.53 \\\\\n",
       "\t21 & 44 & 332 & 117 & 4 & 4.5 & 4.0 & 9.1 & 0 & 0.87 \\\\\n",
       "\t22 & 45 & 326 & 113 & 5 & 4.5 & 4.0 & 9.4 & 1 & 0.91 \\\\\n",
       "\t23 & 46 & 322 & 110 & 5 & 5.0 & 4.0 & 9.1 & 1 & 0.88 \\\\\n",
       "\t24 & 48 & 339 & 119 & 5 & 4.5 & 4.0 & 9.7 & 0 & 0.89 \\\\\n",
       "\t25 & 53 & 334 & 116 & 4 & 4.0 & 3.0 & 8.0 & 1 & 0.78 \\\\\n",
       "\t26 & 54 & 324 & 112 & 4 & 4.0 & 2.5 & 8.1 & 1 & 0.72 \\\\\n",
       "\t27 & 58 & 298 & 99 & 2 & 4.0 & 2.0 & 7.6 & 0 & 0.46 \\\\\n",
       "\t28 & 59 & 300 & 99 & 1 & 3.0 & 2.0 & 6.8 & 1 & 0.36 \\\\\n",
       "\t29 & 62 & 307 & 101 & 3 & 4.0 & 3.0 & 8.2 & 0 & 0.47 \\\\\n",
       "\t30 & 64 & 315 & 107 & 2 & 4.0 & 3.0 & 8.5 & 1 & 0.56 \\\\\n",
       "\t31 & 70 & 328 & 115 & 4 & 4.5 & 4.0 & 9.16 & 1 & 0.78 \\\\\n",
       "\t32 & 74 & 314 & 108 & 4 & 4.5 & 4.0 & 9.04 & 1 & 0.84 \\\\\n",
       "\t33 & 78 & 301 & 99 & 2 & 3.0 & 2.0 & 8.22 & 0 & 0.64 \\\\\n",
       "\t34 & 79 & 296 & 95 & 2 & 3.0 & 2.0 & 7.54 & 1 & 0.44 \\\\\n",
       "\t35 & 83 & 320 & 110 & 5 & 5.0 & 4.5 & 9.22 & 1 & 0.92 \\\\\n",
       "\t36 & 86 & 319 & 103 & 4 & 4.5 & 3.5 & 8.66 & 0 & 0.76 \\\\\n",
       "\t37 & 87 & 315 & 106 & 3 & 4.5 & 3.5 & 8.42 & 0 & 0.72 \\\\\n",
       "\t38 & 88 & 317 & 107 & 2 & 3.5 & 3.0 & 8.28 & 0 & 0.66 \\\\\n",
       "\t39 & 89 & 314 & 108 & 3 & 4.5 & 3.5 & 8.14 & 0 & 0.64 \\\\\n",
       "\t40 & 90 & 316 & 109 & 4 & 4.5 & 3.5 & 8.76 & 1 & 0.74 \\\\\n",
       "\t41 & 92 & 299 & 97 & 3 & 5.0 & 3.5 & 7.66 & 0 & 0.38 \\\\\n",
       "\t42 & 93 & 298 & 98 & 2 & 4.0 & 3.0 & 8.03 & 0 & 0.34 \\\\\n",
       "\t43 & 99 & 332 & 119 & 4 & 5.0 & 4.5 & 9.24 & 1 & 0.9 \\\\\n",
       "\t44 & 103 & 314 & 106 & 2 & 4.0 & 3.5 & 8.25 & 0 & 0.62 \\\\\n",
       "\t45 & 104 & 317 & 104 & 2 & 4.5 & 4.0 & 8.47 & 0 & 0.57 \\\\\n",
       "\t46 & 105 & 326 & 112 & 3 & 3.5 & 3.0 & 9.05 & 1 & 0.74 \\\\\n",
       "\t47 & 110 & 304 & 103 & 5 & 5.0 & 4.0 & 8.64 & 0 & 0.68 \\\\\n",
       "\t48 & 114 & 320 & 110 & 2 & 4.0 & 3.5 & 8.56 & 0 & 0.72 \\\\\n",
       "\t49 & 115 & 311 & 105 & 3 & 3.5 & 3.0 & 8.45 & 1 & 0.59 \\\\\n",
       "\t50 & 117 & 299 & 102 & 3 & 4.0 & 3.5 & 8.62 & 0 & 0.56 \\\\\n",
       "\t51 & 127 & 323 & 113 & 3 & 4.0 & 3.0 & 9.32 & 1 & 0.85 \\\\\n",
       "\t52 & 128 & 319 & 112 & 3 & 2.5 & 2.0 & 8.71 & 1 & 0.78 \\\\\n",
       "\t53 & 129 & 326 & 112 & 3 & 3.5 & 3.0 & 9.1 & 1 & 0.84 \\\\\n",
       "\t54 & 132 & 303 & 105 & 5 & 5.0 & 4.5 & 8.65 & 0 & 0.77 \\\\\n",
       "\t55 & 137 & 312 & 103 & 3 & 5.0 & 4.0 & 8.45 & 0 & 0.76 \\\\\n",
       "\t56 & 139 & 326 & 116 & 2 & 4.5 & 3.0 & 9.08 & 1 & 0.8 \\\\\n",
       "\t57 & 141 & 329 & 110 & 2 & 4.0 & 3.0 & 9.15 & 1 & 0.84 \\\\\n",
       "\t58 & 142 & 332 & 118 & 2 & 4.5 & 3.5 & 9.36 & 1 & 0.9 \\\\\n",
       "\t59 & 143 & 331 & 115 & 5 & 4.0 & 3.5 & 9.44 & 1 & 0.92 \\\\\n",
       "\t60 & 144 & 340 & 120 & 4 & 4.5 & 4.0 & 9.92 & 1 & 0.97 \\\\\n",
       "\t61 & 149 & 339 & 116 & 4 & 4.0 & 3.5 & 9.8 & 1 & 0.96 \\\\\n",
       "\t62 & 150 & 311 & 106 & 2 & 3.5 & 3.0 & 8.26 & 1 & 0.79 \\\\\n",
       "\t63 & 164 & 317 & 105 & 3 & 3.5 & 3.0 & 8.56 & 0 & 0.68 \\\\\n",
       "\t64 & 165 & 329 & 111 & 4 & 4.5 & 4.0 & 9.01 & 1 & 0.81 \\\\\n",
       "\t65 & 166 & 322 & 110 & 5 & 4.5 & 4.0 & 8.97 & 0 & 0.78 \\\\\n",
       "\t66 & 176 & 320 & 111 & 4 & 4.5 & 3.5 & 8.87 & 1 & 0.85 \\\\\n",
       "\t67 & 181 & 300 & 104 & 3 & 3.5 & 3.0 & 8.16 & 0 & 0.71 \\\\\n",
       "\t68 & 187 & 317 & 107 & 3 & 3.5 & 3.0 & 8.68 & 1 & 0.84 \\\\\n",
       "\t69 & 188 & 335 & 118 & 5 & 4.5 & 3.5 & 9.44 & 1 & 0.93 \\\\\n",
       "\t70 & 189 & 331 & 115 & 5 & 4.5 & 3.5 & 9.36 & 1 & 0.93 \\\\\n",
       "\t71 & 191 & 324 & 111 & 5 & 4.5 & 4.0 & 9.16 & 1 & 0.9 \\\\\n",
       "\t72 & 193 & 322 & 114 & 5 & 4.5 & 4.0 & 8.94 & 1 & 0.86 \\\\\n",
       "\t73 & 195 & 316 & 109 & 3 & 3.5 & 3.0 & 8.76 & 0 & 0.77 \\\\\n",
       "\t74 & 197 & 306 & 105 & 2 & 3.0 & 2.5 & 8.26 & 0 & 0.73 \\\\\n",
       "\t75 & 198 & 310 & 106 & 2 & 3.5 & 2.5 & 8.33 & 0 & 0.73 \\\\\n",
       "\t76 & 202 & 315 & 110 & 2 & 3.5 & 3.0 & 8.46 & 1 & 0.72 \\\\\n",
       "\t77 & 207 & 315 & 99 & 2 & 3.5 & 3.0 & 7.89 & 0 & 0.63 \\\\\n",
       "\t78 & 211 & 325 & 108 & 4 & 4.5 & 4.0 & 9.06 & 1 & 0.79 \\\\\n",
       "\t79 & 212 & 328 & 110 & 4 & 5.0 & 4.0 & 9.14 & 1 & 0.82 \\\\\n",
       "\t80 & 214 & 333 & 119 & 5 & 5.0 & 4.5 & 9.78 & 1 & 0.96 \\\\\n",
       "\t81 & 216 & 330 & 116 & 5 & 5.0 & 4.5 & 9.36 & 1 & 0.93 \\\\\n",
       "\t82 & 223 & 324 & 113 & 4 & 4.5 & 4.0 & 8.79 & 0 & 0.76 \\\\\n",
       "\t83 & 225 & 305 & 105 & 2 & 3.0 & 2.0 & 8.23 & 0 & 0.67 \\\\\n",
       "\t84 & 228 & 312 & 110 & 2 & 3.5 & 3.0 & 8.53 & 0 & 0.64 \\\\\n",
       "\t85 & 229 & 318 & 112 & 3 & 4.0 & 3.5 & 8.67 & 0 & 0.71 \\\\\n",
       "\t86 & 232 & 319 & 106 & 3 & 3.5 & 2.5 & 8.33 & 1 & 0.74 \\\\\n",
       "\t87 & 235 & 330 & 113 & 5 & 5.0 & 4.0 & 9.31 & 1 & 0.91 \\\\\n",
       "\t88 & 236 & 326 & 111 & 5 & 4.5 & 4.0 & 9.23 & 1 & 0.88 \\\\\n",
       "\t89 & 242 & 317 & 103 & 2 & 2.5 & 2.0 & 8.15 & 0 & 0.65 \\\\\n",
       "\t90 & 243 & 324 & 115 & 3 & 3.5 & 3.0 & 8.76 & 1 & 0.7 \\\\\n",
       "\t91 & 244 & 325 & 114 & 3 & 3.5 & 3.0 & 9.04 & 1 & 0.76 \\\\\n",
       "\t92 & 246 & 328 & 110 & 4 & 4.0 & 2.5 & 9.02 & 1 & 0.81 \\\\\n",
       "\t93 & 251 & 320 & 104 & 3 & 3.0 & 2.5 & 8.57 & 1 & 0.74 \\\\\n",
       "\t94 & 260 & 331 & 119 & 4 & 5.0 & 4.5 & 9.34 & 1 & 0.9 \\\\\n",
       "\t95 & 261 & 327 & 108 & 5 & 5.0 & 3.5 & 9.13 & 1 & 0.87 \\\\\n",
       "\t96 & 264 & 324 & 111 & 3 & 2.5 & 1.5 & 8.79 & 1 & 0.7 \\\\\n",
       "\t97 & 265 & 325 & 110 & 2 & 3.0 & 2.5 & 8.76 & 1 & 0.75 \\\\\n",
       "\t98 & 276 & 322 & 110 & 3 & 3.5 & 3.0 & 8.96 & 1 & 0.78 \\\\\n",
       "\t99 & 277 & 329 & 113 & 5 & 5.0 & 4.5 & 9.45 & 1 & 0.89 \\\\\n",
       "\t100 & 281 & 311 & 102 & 3 & 4.5 & 4.0 & 8.64 & 1 & 0.68 \\\\\n",
       "\t$\\dots$ & $\\dots$ & $\\dots$ & $\\dots$ & $\\dots$ & $\\dots$ & $\\dots$ & $\\dots$ & $\\dots$ & $\\dots$ \\\\\n",
       "\\end{tabular}\n"
      ],
      "text/plain": [
       "\u001b[1m139×9 DataFrame\u001b[0m\n",
       "\u001b[1m Row \u001b[0m│\u001b[1m Serial No. \u001b[0m\u001b[1m GRE Score \u001b[0m\u001b[1m TOEFL Score \u001b[0m\u001b[1m University Rating \u001b[0m\u001b[1m SOP     \u001b[0m\u001b[1m LOR     \u001b[0m\u001b[1m CGPA    \u001b[0m\u001b[1m Research \u001b[0m\u001b[1m Chance of Admit  \u001b[0m\n",
       "\u001b[1m     \u001b[0m│\u001b[90m Int64      \u001b[0m\u001b[90m Int64     \u001b[0m\u001b[90m Int64       \u001b[0m\u001b[90m Int64             \u001b[0m\u001b[90m Float64 \u001b[0m\u001b[90m Float64 \u001b[0m\u001b[90m Float64 \u001b[0m\u001b[90m Int64    \u001b[0m\u001b[90m Float64          \u001b[0m\n",
       "─────┼──────────────────────────────────────────────────────────────────────────────────────────────────────────────\n",
       "   1 │          4        322          110                  3      3.5      2.5     8.67         1              0.8\n",
       "   2 │          6        330          115                  5      4.5      3.0     9.34         1              0.9\n",
       "   3 │          9        302          102                  1      2.0      1.5     8.0          0              0.5\n",
       "   4 │         10        323          108                  3      3.5      3.0     8.6          0              0.45\n",
       "   5 │         14        307          109                  3      4.0      3.0     8.0          1              0.62\n",
       "   6 │         15        311          104                  3      3.5      2.0     8.2          1              0.61\n",
       "   7 │         16        314          105                  3      3.5      2.5     8.3          0              0.54\n",
       "   8 │         17        317          107                  3      4.0      3.0     8.7          0              0.66\n",
       "   9 │         18        319          106                  3      4.0      3.0     8.0          1              0.65\n",
       "  10 │         19        318          110                  3      4.0      3.0     8.8          0              0.63\n",
       "  11 │         20        303          102                  3      3.5      3.0     8.5          0              0.62\n",
       "  12 │         21        312          107                  3      3.0      2.0     7.9          1              0.64\n",
       "  13 │         22        325          114                  4      3.0      2.0     8.4          0              0.7\n",
       "  14 │         24        334          119                  5      5.0      4.5     9.7          1              0.95\n",
       "  15 │         25        336          119                  5      4.0      3.5     9.8          1              0.97\n",
       "  16 │         27        322          109                  5      4.5      3.5     8.8          0              0.76\n",
       "  17 │         39        304          105                  1      3.0      1.5     7.5          0              0.52\n",
       "  18 │         40        307          108                  2      4.0      3.5     7.7          0              0.48\n",
       "  19 │         41        308          110                  3      3.5      3.0     8.0          1              0.46\n",
       "  20 │         43        313          107                  2      2.5      2.0     8.5          1              0.53\n",
       "  21 │         44        332          117                  4      4.5      4.0     9.1          0              0.87\n",
       "  22 │         45        326          113                  5      4.5      4.0     9.4          1              0.91\n",
       "  23 │         46        322          110                  5      5.0      4.0     9.1          1              0.88\n",
       "  24 │         48        339          119                  5      4.5      4.0     9.7          0              0.89\n",
       "  25 │         53        334          116                  4      4.0      3.0     8.0          1              0.78\n",
       "  26 │         54        324          112                  4      4.0      2.5     8.1          1              0.72\n",
       "  27 │         58        298           99                  2      4.0      2.0     7.6          0              0.46\n",
       "  28 │         59        300           99                  1      3.0      2.0     6.8          1              0.36\n",
       "  29 │         62        307          101                  3      4.0      3.0     8.2          0              0.47\n",
       "  30 │         64        315          107                  2      4.0      3.0     8.5          1              0.56\n",
       "  31 │         70        328          115                  4      4.5      4.0     9.16         1              0.78\n",
       "  32 │         74        314          108                  4      4.5      4.0     9.04         1              0.84\n",
       "  33 │         78        301           99                  2      3.0      2.0     8.22         0              0.64\n",
       "  34 │         79        296           95                  2      3.0      2.0     7.54         1              0.44\n",
       "  35 │         83        320          110                  5      5.0      4.5     9.22         1              0.92\n",
       "  36 │         86        319          103                  4      4.5      3.5     8.66         0              0.76\n",
       "  37 │         87        315          106                  3      4.5      3.5     8.42         0              0.72\n",
       "  38 │         88        317          107                  2      3.5      3.0     8.28         0              0.66\n",
       "  39 │         89        314          108                  3      4.5      3.5     8.14         0              0.64\n",
       "  40 │         90        316          109                  4      4.5      3.5     8.76         1              0.74\n",
       "  41 │         92        299           97                  3      5.0      3.5     7.66         0              0.38\n",
       "  42 │         93        298           98                  2      4.0      3.0     8.03         0              0.34\n",
       "  43 │         99        332          119                  4      5.0      4.5     9.24         1              0.9\n",
       "  44 │        103        314          106                  2      4.0      3.5     8.25         0              0.62\n",
       "  45 │        104        317          104                  2      4.5      4.0     8.47         0              0.57\n",
       "  46 │        105        326          112                  3      3.5      3.0     9.05         1              0.74\n",
       "  ⋮  │     ⋮           ⋮           ⋮               ⋮             ⋮        ⋮        ⋮        ⋮             ⋮\n",
       "  95 │        261        327          108                  5      5.0      3.5     9.13         1              0.87\n",
       "  96 │        264        324          111                  3      2.5      1.5     8.79         1              0.7\n",
       "  97 │        265        325          110                  2      3.0      2.5     8.76         1              0.75\n",
       "  98 │        276        322          110                  3      3.5      3.0     8.96         1              0.78\n",
       "  99 │        277        329          113                  5      5.0      4.5     9.45         1              0.89\n",
       " 100 │        281        311          102                  3      4.5      4.0     8.64         1              0.68\n",
       " 101 │        283        312          106                  3      4.0      3.5     8.79         1              0.81\n",
       " 102 │        285        340          112                  4      5.0      4.5     9.66         1              0.94\n",
       " 103 │        287        336          118                  5      4.5      4.0     9.19         1              0.92\n",
       " 104 │        288        324          114                  5      5.0      4.5     9.08         1              0.89\n",
       " 105 │        290        313          109                  3      4.0      3.5     9.0          0              0.79\n",
       " 106 │        294        312           98                  1      3.5      3.0     8.18         1              0.64\n",
       " 107 │        295        316          101                  2      2.5      2.0     8.32         1              0.61\n",
       " 108 │        296        317          100                  2      3.0      2.5     8.57         0              0.68\n",
       " 109 │        305        313          106                  2      2.5      2.0     8.43         0              0.62\n",
       " 110 │        307        323          110                  3      4.0      3.5     9.1          1              0.79\n",
       " 111 │        309        312          108                  3      3.5      3.0     8.53         0              0.69\n",
       " 112 │        310        308          110                  4      3.5      3.0     8.6          0              0.7\n",
       " 113 │        312        328          108                  4      4.5      4.0     9.18         1              0.84\n",
       " 114 │        314        301          100                  3      3.5      3.0     8.04         0              0.67\n",
       " 115 │        319        324          111                  3      2.5      2.0     8.8          1              0.79\n",
       " 116 │        320        327          113                  4      3.5      3.0     8.69         1              0.8\n",
       " 117 │        321        317          106                  3      4.0      3.5     8.5          1              0.75\n",
       " 118 │        325        315          104                  3      3.0      2.5     8.33         0              0.67\n",
       " 119 │        328        295          101                  2      2.5      2.0     7.86         0              0.69\n",
       " 120 │        329        324          112                  4      4.0      3.5     8.77         1              0.8\n",
       " 121 │        330        297           96                  2      2.5      1.5     7.89         0              0.43\n",
       " 122 │        331        327          113                  3      3.5      3.0     8.66         1              0.8\n",
       " 123 │        332        311          105                  2      3.0      2.0     8.12         1              0.73\n",
       " 124 │        333        308          106                  3      3.5      2.5     8.21         1              0.75\n",
       " 125 │        335        312          107                  4      4.5      4.0     8.65         1              0.73\n",
       " 126 │        337        319          110                  3      3.0      2.5     8.79         0              0.72\n",
       " 127 │        354        300          102                  3      3.5      2.5     8.17         0              0.63\n",
       " 128 │        359        314          105                  2      2.5      2.0     7.64         0              0.7\n",
       " 129 │        360        321          107                  2      2.0      1.5     8.44         0              0.81\n",
       " 130 │        362        334          116                  4      4.0      3.5     9.54         1              0.93\n",
       " 131 │        366        330          114                  4      4.5      3.0     9.17         1              0.86\n",
       " 132 │        372        324          110                  3      3.5      3.0     9.22         1              0.89\n",
       " 133 │        373        336          119                  4      4.5      4.0     9.62         1              0.95\n",
       " 134 │        377        297           96                  2      2.5      2.0     7.43         0              0.34\n",
       " 135 │        383        324          110                  4      4.5      4.0     9.15         1              0.82\n",
       " 136 │        393        326          112                  4      4.0      3.5     9.12         1              0.84\n",
       " 137 │        395        329          111                  4      4.5      4.0     9.23         1              0.89\n",
       " 138 │        398        330          116                  4      5.0      4.5     9.45         1              0.91\n",
       " 139 │        400        333          117                  4      5.0      4.0     9.66         1              0.95\n",
       "\u001b[36m                                                                                                     48 rows omitted\u001b[0m"
      ]
     },
     "execution_count": 36,
     "metadata": {},
     "output_type": "execute_result"
    }
   ],
   "source": [
    "df |> @filter(_.SOP .> _.LOR) |> DataFrame # Select rows where \"SOP\" is more than \"LOR\""
   ]
  },
  {
   "cell_type": "code",
   "execution_count": 37,
   "metadata": {
    "ExecuteTime": {
     "end_time": "2021-05-22T12:23:33.217000+04:00",
     "start_time": "2021-05-22T08:23:33.039Z"
    },
    "scrolled": true
   },
   "outputs": [
    {
     "data": {
      "text/html": [
       "<table class=\"data-frame\"><thead><tr><th></th><th>Serial No.</th><th>GRE Score</th><th>TOEFL Score</th><th>University Rating</th><th>SOP</th><th>LOR</th><th>CGPA</th><th>Research</th><th>Chance of Admit </th></tr><tr><th></th><th>Int64</th><th>Int64</th><th>Int64</th><th>Int64</th><th>Float64</th><th>Float64</th><th>Float64</th><th>Int64</th><th>Float64</th></tr></thead><tbody><p>49 rows × 9 columns</p><tr><th>1</th><td>6</td><td>330</td><td>115</td><td>5</td><td>4.5</td><td>3.0</td><td>9.34</td><td>1</td><td>0.9</td></tr><tr><th>2</th><td>24</td><td>334</td><td>119</td><td>5</td><td>5.0</td><td>4.5</td><td>9.7</td><td>1</td><td>0.95</td></tr><tr><th>3</th><td>25</td><td>336</td><td>119</td><td>5</td><td>4.0</td><td>3.5</td><td>9.8</td><td>1</td><td>0.97</td></tr><tr><th>4</th><td>44</td><td>332</td><td>117</td><td>4</td><td>4.5</td><td>4.0</td><td>9.1</td><td>0</td><td>0.87</td></tr><tr><th>5</th><td>45</td><td>326</td><td>113</td><td>5</td><td>4.5</td><td>4.0</td><td>9.4</td><td>1</td><td>0.91</td></tr><tr><th>6</th><td>46</td><td>322</td><td>110</td><td>5</td><td>5.0</td><td>4.0</td><td>9.1</td><td>1</td><td>0.88</td></tr><tr><th>7</th><td>48</td><td>339</td><td>119</td><td>5</td><td>4.5</td><td>4.0</td><td>9.7</td><td>0</td><td>0.89</td></tr><tr><th>8</th><td>70</td><td>328</td><td>115</td><td>4</td><td>4.5</td><td>4.0</td><td>9.16</td><td>1</td><td>0.78</td></tr><tr><th>9</th><td>74</td><td>314</td><td>108</td><td>4</td><td>4.5</td><td>4.0</td><td>9.04</td><td>1</td><td>0.84</td></tr><tr><th>10</th><td>83</td><td>320</td><td>110</td><td>5</td><td>5.0</td><td>4.5</td><td>9.22</td><td>1</td><td>0.92</td></tr><tr><th>11</th><td>99</td><td>332</td><td>119</td><td>4</td><td>5.0</td><td>4.5</td><td>9.24</td><td>1</td><td>0.9</td></tr><tr><th>12</th><td>105</td><td>326</td><td>112</td><td>3</td><td>3.5</td><td>3.0</td><td>9.05</td><td>1</td><td>0.74</td></tr><tr><th>13</th><td>127</td><td>323</td><td>113</td><td>3</td><td>4.0</td><td>3.0</td><td>9.32</td><td>1</td><td>0.85</td></tr><tr><th>14</th><td>129</td><td>326</td><td>112</td><td>3</td><td>3.5</td><td>3.0</td><td>9.1</td><td>1</td><td>0.84</td></tr><tr><th>15</th><td>139</td><td>326</td><td>116</td><td>2</td><td>4.5</td><td>3.0</td><td>9.08</td><td>1</td><td>0.8</td></tr><tr><th>16</th><td>141</td><td>329</td><td>110</td><td>2</td><td>4.0</td><td>3.0</td><td>9.15</td><td>1</td><td>0.84</td></tr><tr><th>17</th><td>142</td><td>332</td><td>118</td><td>2</td><td>4.5</td><td>3.5</td><td>9.36</td><td>1</td><td>0.9</td></tr><tr><th>18</th><td>143</td><td>331</td><td>115</td><td>5</td><td>4.0</td><td>3.5</td><td>9.44</td><td>1</td><td>0.92</td></tr><tr><th>19</th><td>144</td><td>340</td><td>120</td><td>4</td><td>4.5</td><td>4.0</td><td>9.92</td><td>1</td><td>0.97</td></tr><tr><th>20</th><td>149</td><td>339</td><td>116</td><td>4</td><td>4.0</td><td>3.5</td><td>9.8</td><td>1</td><td>0.96</td></tr><tr><th>21</th><td>165</td><td>329</td><td>111</td><td>4</td><td>4.5</td><td>4.0</td><td>9.01</td><td>1</td><td>0.81</td></tr><tr><th>22</th><td>188</td><td>335</td><td>118</td><td>5</td><td>4.5</td><td>3.5</td><td>9.44</td><td>1</td><td>0.93</td></tr><tr><th>23</th><td>189</td><td>331</td><td>115</td><td>5</td><td>4.5</td><td>3.5</td><td>9.36</td><td>1</td><td>0.93</td></tr><tr><th>24</th><td>191</td><td>324</td><td>111</td><td>5</td><td>4.5</td><td>4.0</td><td>9.16</td><td>1</td><td>0.9</td></tr><tr><th>25</th><td>211</td><td>325</td><td>108</td><td>4</td><td>4.5</td><td>4.0</td><td>9.06</td><td>1</td><td>0.79</td></tr><tr><th>26</th><td>212</td><td>328</td><td>110</td><td>4</td><td>5.0</td><td>4.0</td><td>9.14</td><td>1</td><td>0.82</td></tr><tr><th>27</th><td>214</td><td>333</td><td>119</td><td>5</td><td>5.0</td><td>4.5</td><td>9.78</td><td>1</td><td>0.96</td></tr><tr><th>28</th><td>216</td><td>330</td><td>116</td><td>5</td><td>5.0</td><td>4.5</td><td>9.36</td><td>1</td><td>0.93</td></tr><tr><th>29</th><td>235</td><td>330</td><td>113</td><td>5</td><td>5.0</td><td>4.0</td><td>9.31</td><td>1</td><td>0.91</td></tr><tr><th>30</th><td>236</td><td>326</td><td>111</td><td>5</td><td>4.5</td><td>4.0</td><td>9.23</td><td>1</td><td>0.88</td></tr><tr><th>31</th><td>244</td><td>325</td><td>114</td><td>3</td><td>3.5</td><td>3.0</td><td>9.04</td><td>1</td><td>0.76</td></tr><tr><th>32</th><td>246</td><td>328</td><td>110</td><td>4</td><td>4.0</td><td>2.5</td><td>9.02</td><td>1</td><td>0.81</td></tr><tr><th>33</th><td>260</td><td>331</td><td>119</td><td>4</td><td>5.0</td><td>4.5</td><td>9.34</td><td>1</td><td>0.9</td></tr><tr><th>34</th><td>261</td><td>327</td><td>108</td><td>5</td><td>5.0</td><td>3.5</td><td>9.13</td><td>1</td><td>0.87</td></tr><tr><th>35</th><td>277</td><td>329</td><td>113</td><td>5</td><td>5.0</td><td>4.5</td><td>9.45</td><td>1</td><td>0.89</td></tr><tr><th>36</th><td>285</td><td>340</td><td>112</td><td>4</td><td>5.0</td><td>4.5</td><td>9.66</td><td>1</td><td>0.94</td></tr><tr><th>37</th><td>287</td><td>336</td><td>118</td><td>5</td><td>4.5</td><td>4.0</td><td>9.19</td><td>1</td><td>0.92</td></tr><tr><th>38</th><td>288</td><td>324</td><td>114</td><td>5</td><td>5.0</td><td>4.5</td><td>9.08</td><td>1</td><td>0.89</td></tr><tr><th>39</th><td>307</td><td>323</td><td>110</td><td>3</td><td>4.0</td><td>3.5</td><td>9.1</td><td>1</td><td>0.79</td></tr><tr><th>40</th><td>312</td><td>328</td><td>108</td><td>4</td><td>4.5</td><td>4.0</td><td>9.18</td><td>1</td><td>0.84</td></tr><tr><th>41</th><td>362</td><td>334</td><td>116</td><td>4</td><td>4.0</td><td>3.5</td><td>9.54</td><td>1</td><td>0.93</td></tr><tr><th>42</th><td>366</td><td>330</td><td>114</td><td>4</td><td>4.5</td><td>3.0</td><td>9.17</td><td>1</td><td>0.86</td></tr><tr><th>43</th><td>372</td><td>324</td><td>110</td><td>3</td><td>3.5</td><td>3.0</td><td>9.22</td><td>1</td><td>0.89</td></tr><tr><th>44</th><td>373</td><td>336</td><td>119</td><td>4</td><td>4.5</td><td>4.0</td><td>9.62</td><td>1</td><td>0.95</td></tr><tr><th>45</th><td>383</td><td>324</td><td>110</td><td>4</td><td>4.5</td><td>4.0</td><td>9.15</td><td>1</td><td>0.82</td></tr><tr><th>46</th><td>393</td><td>326</td><td>112</td><td>4</td><td>4.0</td><td>3.5</td><td>9.12</td><td>1</td><td>0.84</td></tr><tr><th>47</th><td>395</td><td>329</td><td>111</td><td>4</td><td>4.5</td><td>4.0</td><td>9.23</td><td>1</td><td>0.89</td></tr><tr><th>48</th><td>398</td><td>330</td><td>116</td><td>4</td><td>5.0</td><td>4.5</td><td>9.45</td><td>1</td><td>0.91</td></tr><tr><th>49</th><td>400</td><td>333</td><td>117</td><td>4</td><td>5.0</td><td>4.0</td><td>9.66</td><td>1</td><td>0.95</td></tr></tbody></table>"
      ],
      "text/latex": [
       "\\begin{tabular}{r|ccccccccc}\n",
       "\t& Serial No. & GRE Score & TOEFL Score & University Rating & SOP & LOR & CGPA & Research & Chance of Admit \\\\\n",
       "\t\\hline\n",
       "\t& Int64 & Int64 & Int64 & Int64 & Float64 & Float64 & Float64 & Int64 & Float64\\\\\n",
       "\t\\hline\n",
       "\t1 & 6 & 330 & 115 & 5 & 4.5 & 3.0 & 9.34 & 1 & 0.9 \\\\\n",
       "\t2 & 24 & 334 & 119 & 5 & 5.0 & 4.5 & 9.7 & 1 & 0.95 \\\\\n",
       "\t3 & 25 & 336 & 119 & 5 & 4.0 & 3.5 & 9.8 & 1 & 0.97 \\\\\n",
       "\t4 & 44 & 332 & 117 & 4 & 4.5 & 4.0 & 9.1 & 0 & 0.87 \\\\\n",
       "\t5 & 45 & 326 & 113 & 5 & 4.5 & 4.0 & 9.4 & 1 & 0.91 \\\\\n",
       "\t6 & 46 & 322 & 110 & 5 & 5.0 & 4.0 & 9.1 & 1 & 0.88 \\\\\n",
       "\t7 & 48 & 339 & 119 & 5 & 4.5 & 4.0 & 9.7 & 0 & 0.89 \\\\\n",
       "\t8 & 70 & 328 & 115 & 4 & 4.5 & 4.0 & 9.16 & 1 & 0.78 \\\\\n",
       "\t9 & 74 & 314 & 108 & 4 & 4.5 & 4.0 & 9.04 & 1 & 0.84 \\\\\n",
       "\t10 & 83 & 320 & 110 & 5 & 5.0 & 4.5 & 9.22 & 1 & 0.92 \\\\\n",
       "\t11 & 99 & 332 & 119 & 4 & 5.0 & 4.5 & 9.24 & 1 & 0.9 \\\\\n",
       "\t12 & 105 & 326 & 112 & 3 & 3.5 & 3.0 & 9.05 & 1 & 0.74 \\\\\n",
       "\t13 & 127 & 323 & 113 & 3 & 4.0 & 3.0 & 9.32 & 1 & 0.85 \\\\\n",
       "\t14 & 129 & 326 & 112 & 3 & 3.5 & 3.0 & 9.1 & 1 & 0.84 \\\\\n",
       "\t15 & 139 & 326 & 116 & 2 & 4.5 & 3.0 & 9.08 & 1 & 0.8 \\\\\n",
       "\t16 & 141 & 329 & 110 & 2 & 4.0 & 3.0 & 9.15 & 1 & 0.84 \\\\\n",
       "\t17 & 142 & 332 & 118 & 2 & 4.5 & 3.5 & 9.36 & 1 & 0.9 \\\\\n",
       "\t18 & 143 & 331 & 115 & 5 & 4.0 & 3.5 & 9.44 & 1 & 0.92 \\\\\n",
       "\t19 & 144 & 340 & 120 & 4 & 4.5 & 4.0 & 9.92 & 1 & 0.97 \\\\\n",
       "\t20 & 149 & 339 & 116 & 4 & 4.0 & 3.5 & 9.8 & 1 & 0.96 \\\\\n",
       "\t21 & 165 & 329 & 111 & 4 & 4.5 & 4.0 & 9.01 & 1 & 0.81 \\\\\n",
       "\t22 & 188 & 335 & 118 & 5 & 4.5 & 3.5 & 9.44 & 1 & 0.93 \\\\\n",
       "\t23 & 189 & 331 & 115 & 5 & 4.5 & 3.5 & 9.36 & 1 & 0.93 \\\\\n",
       "\t24 & 191 & 324 & 111 & 5 & 4.5 & 4.0 & 9.16 & 1 & 0.9 \\\\\n",
       "\t25 & 211 & 325 & 108 & 4 & 4.5 & 4.0 & 9.06 & 1 & 0.79 \\\\\n",
       "\t26 & 212 & 328 & 110 & 4 & 5.0 & 4.0 & 9.14 & 1 & 0.82 \\\\\n",
       "\t27 & 214 & 333 & 119 & 5 & 5.0 & 4.5 & 9.78 & 1 & 0.96 \\\\\n",
       "\t28 & 216 & 330 & 116 & 5 & 5.0 & 4.5 & 9.36 & 1 & 0.93 \\\\\n",
       "\t29 & 235 & 330 & 113 & 5 & 5.0 & 4.0 & 9.31 & 1 & 0.91 \\\\\n",
       "\t30 & 236 & 326 & 111 & 5 & 4.5 & 4.0 & 9.23 & 1 & 0.88 \\\\\n",
       "\t31 & 244 & 325 & 114 & 3 & 3.5 & 3.0 & 9.04 & 1 & 0.76 \\\\\n",
       "\t32 & 246 & 328 & 110 & 4 & 4.0 & 2.5 & 9.02 & 1 & 0.81 \\\\\n",
       "\t33 & 260 & 331 & 119 & 4 & 5.0 & 4.5 & 9.34 & 1 & 0.9 \\\\\n",
       "\t34 & 261 & 327 & 108 & 5 & 5.0 & 3.5 & 9.13 & 1 & 0.87 \\\\\n",
       "\t35 & 277 & 329 & 113 & 5 & 5.0 & 4.5 & 9.45 & 1 & 0.89 \\\\\n",
       "\t36 & 285 & 340 & 112 & 4 & 5.0 & 4.5 & 9.66 & 1 & 0.94 \\\\\n",
       "\t37 & 287 & 336 & 118 & 5 & 4.5 & 4.0 & 9.19 & 1 & 0.92 \\\\\n",
       "\t38 & 288 & 324 & 114 & 5 & 5.0 & 4.5 & 9.08 & 1 & 0.89 \\\\\n",
       "\t39 & 307 & 323 & 110 & 3 & 4.0 & 3.5 & 9.1 & 1 & 0.79 \\\\\n",
       "\t40 & 312 & 328 & 108 & 4 & 4.5 & 4.0 & 9.18 & 1 & 0.84 \\\\\n",
       "\t41 & 362 & 334 & 116 & 4 & 4.0 & 3.5 & 9.54 & 1 & 0.93 \\\\\n",
       "\t42 & 366 & 330 & 114 & 4 & 4.5 & 3.0 & 9.17 & 1 & 0.86 \\\\\n",
       "\t43 & 372 & 324 & 110 & 3 & 3.5 & 3.0 & 9.22 & 1 & 0.89 \\\\\n",
       "\t44 & 373 & 336 & 119 & 4 & 4.5 & 4.0 & 9.62 & 1 & 0.95 \\\\\n",
       "\t45 & 383 & 324 & 110 & 4 & 4.5 & 4.0 & 9.15 & 1 & 0.82 \\\\\n",
       "\t46 & 393 & 326 & 112 & 4 & 4.0 & 3.5 & 9.12 & 1 & 0.84 \\\\\n",
       "\t47 & 395 & 329 & 111 & 4 & 4.5 & 4.0 & 9.23 & 1 & 0.89 \\\\\n",
       "\t48 & 398 & 330 & 116 & 4 & 5.0 & 4.5 & 9.45 & 1 & 0.91 \\\\\n",
       "\t49 & 400 & 333 & 117 & 4 & 5.0 & 4.0 & 9.66 & 1 & 0.95 \\\\\n",
       "\\end{tabular}\n"
      ],
      "text/plain": [
       "\u001b[1m49×9 DataFrame\u001b[0m\n",
       "\u001b[1m Row \u001b[0m│\u001b[1m Serial No. \u001b[0m\u001b[1m GRE Score \u001b[0m\u001b[1m TOEFL Score \u001b[0m\u001b[1m University Rating \u001b[0m\u001b[1m SOP     \u001b[0m\u001b[1m LOR     \u001b[0m\u001b[1m CGPA    \u001b[0m\u001b[1m Research \u001b[0m\u001b[1m Chance of Admit  \u001b[0m\n",
       "\u001b[1m     \u001b[0m│\u001b[90m Int64      \u001b[0m\u001b[90m Int64     \u001b[0m\u001b[90m Int64       \u001b[0m\u001b[90m Int64             \u001b[0m\u001b[90m Float64 \u001b[0m\u001b[90m Float64 \u001b[0m\u001b[90m Float64 \u001b[0m\u001b[90m Int64    \u001b[0m\u001b[90m Float64          \u001b[0m\n",
       "─────┼──────────────────────────────────────────────────────────────────────────────────────────────────────────────\n",
       "   1 │          6        330          115                  5      4.5      3.0     9.34         1              0.9\n",
       "   2 │         24        334          119                  5      5.0      4.5     9.7          1              0.95\n",
       "   3 │         25        336          119                  5      4.0      3.5     9.8          1              0.97\n",
       "   4 │         44        332          117                  4      4.5      4.0     9.1          0              0.87\n",
       "   5 │         45        326          113                  5      4.5      4.0     9.4          1              0.91\n",
       "   6 │         46        322          110                  5      5.0      4.0     9.1          1              0.88\n",
       "   7 │         48        339          119                  5      4.5      4.0     9.7          0              0.89\n",
       "   8 │         70        328          115                  4      4.5      4.0     9.16         1              0.78\n",
       "   9 │         74        314          108                  4      4.5      4.0     9.04         1              0.84\n",
       "  10 │         83        320          110                  5      5.0      4.5     9.22         1              0.92\n",
       "  11 │         99        332          119                  4      5.0      4.5     9.24         1              0.9\n",
       "  12 │        105        326          112                  3      3.5      3.0     9.05         1              0.74\n",
       "  13 │        127        323          113                  3      4.0      3.0     9.32         1              0.85\n",
       "  14 │        129        326          112                  3      3.5      3.0     9.1          1              0.84\n",
       "  15 │        139        326          116                  2      4.5      3.0     9.08         1              0.8\n",
       "  16 │        141        329          110                  2      4.0      3.0     9.15         1              0.84\n",
       "  17 │        142        332          118                  2      4.5      3.5     9.36         1              0.9\n",
       "  18 │        143        331          115                  5      4.0      3.5     9.44         1              0.92\n",
       "  19 │        144        340          120                  4      4.5      4.0     9.92         1              0.97\n",
       "  20 │        149        339          116                  4      4.0      3.5     9.8          1              0.96\n",
       "  21 │        165        329          111                  4      4.5      4.0     9.01         1              0.81\n",
       "  22 │        188        335          118                  5      4.5      3.5     9.44         1              0.93\n",
       "  23 │        189        331          115                  5      4.5      3.5     9.36         1              0.93\n",
       "  24 │        191        324          111                  5      4.5      4.0     9.16         1              0.9\n",
       "  25 │        211        325          108                  4      4.5      4.0     9.06         1              0.79\n",
       "  26 │        212        328          110                  4      5.0      4.0     9.14         1              0.82\n",
       "  27 │        214        333          119                  5      5.0      4.5     9.78         1              0.96\n",
       "  28 │        216        330          116                  5      5.0      4.5     9.36         1              0.93\n",
       "  29 │        235        330          113                  5      5.0      4.0     9.31         1              0.91\n",
       "  30 │        236        326          111                  5      4.5      4.0     9.23         1              0.88\n",
       "  31 │        244        325          114                  3      3.5      3.0     9.04         1              0.76\n",
       "  32 │        246        328          110                  4      4.0      2.5     9.02         1              0.81\n",
       "  33 │        260        331          119                  4      5.0      4.5     9.34         1              0.9\n",
       "  34 │        261        327          108                  5      5.0      3.5     9.13         1              0.87\n",
       "  35 │        277        329          113                  5      5.0      4.5     9.45         1              0.89\n",
       "  36 │        285        340          112                  4      5.0      4.5     9.66         1              0.94\n",
       "  37 │        287        336          118                  5      4.5      4.0     9.19         1              0.92\n",
       "  38 │        288        324          114                  5      5.0      4.5     9.08         1              0.89\n",
       "  39 │        307        323          110                  3      4.0      3.5     9.1          1              0.79\n",
       "  40 │        312        328          108                  4      4.5      4.0     9.18         1              0.84\n",
       "  41 │        362        334          116                  4      4.0      3.5     9.54         1              0.93\n",
       "  42 │        366        330          114                  4      4.5      3.0     9.17         1              0.86\n",
       "  43 │        372        324          110                  3      3.5      3.0     9.22         1              0.89\n",
       "  44 │        373        336          119                  4      4.5      4.0     9.62         1              0.95\n",
       "  45 │        383        324          110                  4      4.5      4.0     9.15         1              0.82\n",
       "  46 │        393        326          112                  4      4.0      3.5     9.12         1              0.84\n",
       "  47 │        395        329          111                  4      4.5      4.0     9.23         1              0.89\n",
       "  48 │        398        330          116                  4      5.0      4.5     9.45         1              0.91\n",
       "  49 │        400        333          117                  4      5.0      4.0     9.66         1              0.95"
      ]
     },
     "execution_count": 37,
     "metadata": {},
     "output_type": "execute_result"
    }
   ],
   "source": [
    "df |> @filter((_.SOP .> _.LOR) .& (_.CGPA .> 9)) |> DataFrame # Combine conditionals with AND"
   ]
  },
  {
   "cell_type": "markdown",
   "metadata": {},
   "source": [
    "## Set index, reset index, and reindex\n",
    "\n",
    "\n",
    "---\n",
    "\n",
    "unfortunately, these functionalities are not yet implemented in `DataFrames.jl` package. [See the following thread](https://stackoverflow.com/questions/64689023/is-it-possible-to-set-a-chosen-column-as-index-in-a-julia-dataframe)\n",
    "\n",
    "\n",
    "**The only possibility is to use `indexmap` function to map unique values of a column to its corresponding index.**"
   ]
  },
  {
   "cell_type": "code",
   "execution_count": 38,
   "metadata": {
    "ExecuteTime": {
     "end_time": "2021-05-22T12:23:35.028000+04:00",
     "start_time": "2021-05-22T08:23:35.019Z"
    }
   },
   "outputs": [
    {
     "data": {
      "text/html": [
       "<table class=\"data-frame\"><thead><tr><th></th><th>Serial No.</th><th>GRE Score</th><th>TOEFL Score</th><th>University Rating</th><th>SOP</th><th>LOR</th><th>CGPA</th><th>Research</th><th>Chance of Admit </th></tr><tr><th></th><th>Int64</th><th>Int64</th><th>Int64</th><th>Int64</th><th>Float64</th><th>Float64</th><th>Float64</th><th>Int64</th><th>Float64</th></tr></thead><tbody><p>5 rows × 9 columns</p><tr><th>1</th><td>1</td><td>337</td><td>118</td><td>4</td><td>4.5</td><td>4.5</td><td>9.65</td><td>1</td><td>0.92</td></tr><tr><th>2</th><td>2</td><td>324</td><td>107</td><td>4</td><td>4.0</td><td>4.5</td><td>8.87</td><td>1</td><td>0.76</td></tr><tr><th>3</th><td>3</td><td>316</td><td>104</td><td>3</td><td>3.0</td><td>3.5</td><td>8.0</td><td>1</td><td>0.72</td></tr><tr><th>4</th><td>4</td><td>322</td><td>110</td><td>3</td><td>3.5</td><td>2.5</td><td>8.67</td><td>1</td><td>0.8</td></tr><tr><th>5</th><td>5</td><td>314</td><td>103</td><td>2</td><td>2.0</td><td>3.0</td><td>8.21</td><td>0</td><td>0.65</td></tr></tbody></table>"
      ],
      "text/latex": [
       "\\begin{tabular}{r|ccccccccc}\n",
       "\t& Serial No. & GRE Score & TOEFL Score & University Rating & SOP & LOR & CGPA & Research & Chance of Admit \\\\\n",
       "\t\\hline\n",
       "\t& Int64 & Int64 & Int64 & Int64 & Float64 & Float64 & Float64 & Int64 & Float64\\\\\n",
       "\t\\hline\n",
       "\t1 & 1 & 337 & 118 & 4 & 4.5 & 4.5 & 9.65 & 1 & 0.92 \\\\\n",
       "\t2 & 2 & 324 & 107 & 4 & 4.0 & 4.5 & 8.87 & 1 & 0.76 \\\\\n",
       "\t3 & 3 & 316 & 104 & 3 & 3.0 & 3.5 & 8.0 & 1 & 0.72 \\\\\n",
       "\t4 & 4 & 322 & 110 & 3 & 3.5 & 2.5 & 8.67 & 1 & 0.8 \\\\\n",
       "\t5 & 5 & 314 & 103 & 2 & 2.0 & 3.0 & 8.21 & 0 & 0.65 \\\\\n",
       "\\end{tabular}\n"
      ],
      "text/plain": [
       "\u001b[1m5×9 DataFrame\u001b[0m\n",
       "\u001b[1m Row \u001b[0m│\u001b[1m Serial No. \u001b[0m\u001b[1m GRE Score \u001b[0m\u001b[1m TOEFL Score \u001b[0m\u001b[1m University Rating \u001b[0m\u001b[1m SOP     \u001b[0m\u001b[1m LOR     \u001b[0m\u001b[1m CGPA    \u001b[0m\u001b[1m Research \u001b[0m\u001b[1m Chance of Admit  \u001b[0m\n",
       "\u001b[1m     \u001b[0m│\u001b[90m Int64      \u001b[0m\u001b[90m Int64     \u001b[0m\u001b[90m Int64       \u001b[0m\u001b[90m Int64             \u001b[0m\u001b[90m Float64 \u001b[0m\u001b[90m Float64 \u001b[0m\u001b[90m Float64 \u001b[0m\u001b[90m Int64    \u001b[0m\u001b[90m Float64          \u001b[0m\n",
       "─────┼──────────────────────────────────────────────────────────────────────────────────────────────────────────────\n",
       "   1 │          1        337          118                  4      4.5      4.5     9.65         1              0.92\n",
       "   2 │          2        324          107                  4      4.0      4.5     8.87         1              0.76\n",
       "   3 │          3        316          104                  3      3.0      3.5     8.0          1              0.72\n",
       "   4 │          4        322          110                  3      3.5      2.5     8.67         1              0.8\n",
       "   5 │          5        314          103                  2      2.0      3.0     8.21         0              0.65"
      ]
     },
     "execution_count": 38,
     "metadata": {},
     "output_type": "execute_result"
    }
   ],
   "source": [
    "first(df, 5)"
   ]
  },
  {
   "cell_type": "code",
   "execution_count": 39,
   "metadata": {
    "ExecuteTime": {
     "end_time": "2021-05-22T12:23:35.903000+04:00",
     "start_time": "2021-05-22T08:23:35.275Z"
    }
   },
   "outputs": [
    {
     "data": {
      "text/plain": [
       "Dict{Float64,Int64} with 9 entries:\n",
       "  4.0 => 2\n",
       "  2.0 => 5\n",
       "  3.0 => 3\n",
       "  2.5 => 42\n",
       "  3.5 => 4\n",
       "  1.5 => 28\n",
       "  4.5 => 1\n",
       "  5.0 => 23\n",
       "  1.0 => 38"
      ]
     },
     "execution_count": 39,
     "metadata": {},
     "output_type": "execute_result"
    }
   ],
   "source": [
    "indexmap(df[!, :SOP]) # Returns unique values and its index"
   ]
  },
  {
   "cell_type": "markdown",
   "metadata": {},
   "source": [
    "## Dropping Entries\n",
    "\n",
    "---\n",
    "\n",
    "We can drop entries from rows and/or columns."
   ]
  },
  {
   "cell_type": "code",
   "execution_count": 40,
   "metadata": {
    "ExecuteTime": {
     "end_time": "2021-05-22T12:23:36.538000+04:00",
     "start_time": "2021-05-22T08:23:36.524Z"
    }
   },
   "outputs": [
    {
     "data": {
      "text/html": [
       "<table class=\"data-frame\"><thead><tr><th></th><th>Serial No.</th><th>GRE Score</th><th>TOEFL Score</th><th>University Rating</th><th>SOP</th><th>LOR</th><th>CGPA</th><th>Research</th><th>Chance of Admit </th></tr><tr><th></th><th>Int64</th><th>Int64</th><th>Int64</th><th>Int64</th><th>Float64</th><th>Float64</th><th>Float64</th><th>Int64</th><th>Float64</th></tr></thead><tbody><p>5 rows × 9 columns</p><tr><th>1</th><td>396</td><td>324</td><td>110</td><td>3</td><td>3.5</td><td>3.5</td><td>9.04</td><td>1</td><td>0.82</td></tr><tr><th>2</th><td>397</td><td>325</td><td>107</td><td>3</td><td>3.0</td><td>3.5</td><td>9.11</td><td>1</td><td>0.84</td></tr><tr><th>3</th><td>398</td><td>330</td><td>116</td><td>4</td><td>5.0</td><td>4.5</td><td>9.45</td><td>1</td><td>0.91</td></tr><tr><th>4</th><td>399</td><td>312</td><td>103</td><td>3</td><td>3.5</td><td>4.0</td><td>8.78</td><td>0</td><td>0.67</td></tr><tr><th>5</th><td>400</td><td>333</td><td>117</td><td>4</td><td>5.0</td><td>4.0</td><td>9.66</td><td>1</td><td>0.95</td></tr></tbody></table>"
      ],
      "text/latex": [
       "\\begin{tabular}{r|ccccccccc}\n",
       "\t& Serial No. & GRE Score & TOEFL Score & University Rating & SOP & LOR & CGPA & Research & Chance of Admit \\\\\n",
       "\t\\hline\n",
       "\t& Int64 & Int64 & Int64 & Int64 & Float64 & Float64 & Float64 & Int64 & Float64\\\\\n",
       "\t\\hline\n",
       "\t1 & 396 & 324 & 110 & 3 & 3.5 & 3.5 & 9.04 & 1 & 0.82 \\\\\n",
       "\t2 & 397 & 325 & 107 & 3 & 3.0 & 3.5 & 9.11 & 1 & 0.84 \\\\\n",
       "\t3 & 398 & 330 & 116 & 4 & 5.0 & 4.5 & 9.45 & 1 & 0.91 \\\\\n",
       "\t4 & 399 & 312 & 103 & 3 & 3.5 & 4.0 & 8.78 & 0 & 0.67 \\\\\n",
       "\t5 & 400 & 333 & 117 & 4 & 5.0 & 4.0 & 9.66 & 1 & 0.95 \\\\\n",
       "\\end{tabular}\n"
      ],
      "text/plain": [
       "\u001b[1m5×9 DataFrame\u001b[0m\n",
       "\u001b[1m Row \u001b[0m│\u001b[1m Serial No. \u001b[0m\u001b[1m GRE Score \u001b[0m\u001b[1m TOEFL Score \u001b[0m\u001b[1m University Rating \u001b[0m\u001b[1m SOP     \u001b[0m\u001b[1m LOR     \u001b[0m\u001b[1m CGPA    \u001b[0m\u001b[1m Research \u001b[0m\u001b[1m Chance of Admit  \u001b[0m\n",
       "\u001b[1m     \u001b[0m│\u001b[90m Int64      \u001b[0m\u001b[90m Int64     \u001b[0m\u001b[90m Int64       \u001b[0m\u001b[90m Int64             \u001b[0m\u001b[90m Float64 \u001b[0m\u001b[90m Float64 \u001b[0m\u001b[90m Float64 \u001b[0m\u001b[90m Int64    \u001b[0m\u001b[90m Float64          \u001b[0m\n",
       "─────┼──────────────────────────────────────────────────────────────────────────────────────────────────────────────\n",
       "   1 │        396        324          110                  3      3.5      3.5     9.04         1              0.82\n",
       "   2 │        397        325          107                  3      3.0      3.5     9.11         1              0.84\n",
       "   3 │        398        330          116                  4      5.0      4.5     9.45         1              0.91\n",
       "   4 │        399        312          103                  3      3.5      4.0     8.78         0              0.67\n",
       "   5 │        400        333          117                  4      5.0      4.0     9.66         1              0.95"
      ]
     },
     "execution_count": 40,
     "metadata": {},
     "output_type": "execute_result"
    }
   ],
   "source": [
    "last(df, 5)"
   ]
  },
  {
   "cell_type": "code",
   "execution_count": 41,
   "metadata": {
    "ExecuteTime": {
     "end_time": "2021-05-22T12:23:36.838000+04:00",
     "start_time": "2021-05-22T08:23:36.757Z"
    }
   },
   "outputs": [
    {
     "data": {
      "text/html": [
       "<table class=\"data-frame\"><thead><tr><th></th><th>Serial No.</th><th>GRE Score</th><th>TOEFL Score</th><th>University Rating</th><th>SOP</th><th>LOR</th><th>CGPA</th><th>Research</th><th>Chance of Admit </th></tr><tr><th></th><th>Int64</th><th>Int64</th><th>Int64</th><th>Int64</th><th>Float64</th><th>Float64</th><th>Float64</th><th>Int64</th><th>Float64</th></tr></thead><tbody><p>399 rows × 9 columns</p><tr><th>1</th><td>1</td><td>337</td><td>118</td><td>4</td><td>4.5</td><td>4.5</td><td>9.65</td><td>1</td><td>0.92</td></tr><tr><th>2</th><td>2</td><td>324</td><td>107</td><td>4</td><td>4.0</td><td>4.5</td><td>8.87</td><td>1</td><td>0.76</td></tr><tr><th>3</th><td>3</td><td>316</td><td>104</td><td>3</td><td>3.0</td><td>3.5</td><td>8.0</td><td>1</td><td>0.72</td></tr><tr><th>4</th><td>4</td><td>322</td><td>110</td><td>3</td><td>3.5</td><td>2.5</td><td>8.67</td><td>1</td><td>0.8</td></tr><tr><th>5</th><td>5</td><td>314</td><td>103</td><td>2</td><td>2.0</td><td>3.0</td><td>8.21</td><td>0</td><td>0.65</td></tr><tr><th>6</th><td>6</td><td>330</td><td>115</td><td>5</td><td>4.5</td><td>3.0</td><td>9.34</td><td>1</td><td>0.9</td></tr><tr><th>7</th><td>7</td><td>321</td><td>109</td><td>3</td><td>3.0</td><td>4.0</td><td>8.2</td><td>1</td><td>0.75</td></tr><tr><th>8</th><td>8</td><td>308</td><td>101</td><td>2</td><td>3.0</td><td>4.0</td><td>7.9</td><td>0</td><td>0.68</td></tr><tr><th>9</th><td>9</td><td>302</td><td>102</td><td>1</td><td>2.0</td><td>1.5</td><td>8.0</td><td>0</td><td>0.5</td></tr><tr><th>10</th><td>10</td><td>323</td><td>108</td><td>3</td><td>3.5</td><td>3.0</td><td>8.6</td><td>0</td><td>0.45</td></tr><tr><th>11</th><td>11</td><td>325</td><td>106</td><td>3</td><td>3.5</td><td>4.0</td><td>8.4</td><td>1</td><td>0.52</td></tr><tr><th>12</th><td>12</td><td>327</td><td>111</td><td>4</td><td>4.0</td><td>4.5</td><td>9.0</td><td>1</td><td>0.84</td></tr><tr><th>13</th><td>13</td><td>328</td><td>112</td><td>4</td><td>4.0</td><td>4.5</td><td>9.1</td><td>1</td><td>0.78</td></tr><tr><th>14</th><td>14</td><td>307</td><td>109</td><td>3</td><td>4.0</td><td>3.0</td><td>8.0</td><td>1</td><td>0.62</td></tr><tr><th>15</th><td>15</td><td>311</td><td>104</td><td>3</td><td>3.5</td><td>2.0</td><td>8.2</td><td>1</td><td>0.61</td></tr><tr><th>16</th><td>16</td><td>314</td><td>105</td><td>3</td><td>3.5</td><td>2.5</td><td>8.3</td><td>0</td><td>0.54</td></tr><tr><th>17</th><td>17</td><td>317</td><td>107</td><td>3</td><td>4.0</td><td>3.0</td><td>8.7</td><td>0</td><td>0.66</td></tr><tr><th>18</th><td>18</td><td>319</td><td>106</td><td>3</td><td>4.0</td><td>3.0</td><td>8.0</td><td>1</td><td>0.65</td></tr><tr><th>19</th><td>19</td><td>318</td><td>110</td><td>3</td><td>4.0</td><td>3.0</td><td>8.8</td><td>0</td><td>0.63</td></tr><tr><th>20</th><td>20</td><td>303</td><td>102</td><td>3</td><td>3.5</td><td>3.0</td><td>8.5</td><td>0</td><td>0.62</td></tr><tr><th>21</th><td>21</td><td>312</td><td>107</td><td>3</td><td>3.0</td><td>2.0</td><td>7.9</td><td>1</td><td>0.64</td></tr><tr><th>22</th><td>22</td><td>325</td><td>114</td><td>4</td><td>3.0</td><td>2.0</td><td>8.4</td><td>0</td><td>0.7</td></tr><tr><th>23</th><td>23</td><td>328</td><td>116</td><td>5</td><td>5.0</td><td>5.0</td><td>9.5</td><td>1</td><td>0.94</td></tr><tr><th>24</th><td>24</td><td>334</td><td>119</td><td>5</td><td>5.0</td><td>4.5</td><td>9.7</td><td>1</td><td>0.95</td></tr><tr><th>25</th><td>25</td><td>336</td><td>119</td><td>5</td><td>4.0</td><td>3.5</td><td>9.8</td><td>1</td><td>0.97</td></tr><tr><th>26</th><td>26</td><td>340</td><td>120</td><td>5</td><td>4.5</td><td>4.5</td><td>9.6</td><td>1</td><td>0.94</td></tr><tr><th>27</th><td>27</td><td>322</td><td>109</td><td>5</td><td>4.5</td><td>3.5</td><td>8.8</td><td>0</td><td>0.76</td></tr><tr><th>28</th><td>28</td><td>298</td><td>98</td><td>2</td><td>1.5</td><td>2.5</td><td>7.5</td><td>1</td><td>0.44</td></tr><tr><th>29</th><td>29</td><td>295</td><td>93</td><td>1</td><td>2.0</td><td>2.0</td><td>7.2</td><td>0</td><td>0.46</td></tr><tr><th>30</th><td>30</td><td>310</td><td>99</td><td>2</td><td>1.5</td><td>2.0</td><td>7.3</td><td>0</td><td>0.54</td></tr><tr><th>31</th><td>31</td><td>300</td><td>97</td><td>2</td><td>3.0</td><td>3.0</td><td>8.1</td><td>1</td><td>0.65</td></tr><tr><th>32</th><td>32</td><td>327</td><td>103</td><td>3</td><td>4.0</td><td>4.0</td><td>8.3</td><td>1</td><td>0.74</td></tr><tr><th>33</th><td>33</td><td>338</td><td>118</td><td>4</td><td>3.0</td><td>4.5</td><td>9.4</td><td>1</td><td>0.91</td></tr><tr><th>34</th><td>34</td><td>340</td><td>114</td><td>5</td><td>4.0</td><td>4.0</td><td>9.6</td><td>1</td><td>0.9</td></tr><tr><th>35</th><td>35</td><td>331</td><td>112</td><td>5</td><td>4.0</td><td>5.0</td><td>9.8</td><td>1</td><td>0.94</td></tr><tr><th>36</th><td>36</td><td>320</td><td>110</td><td>5</td><td>5.0</td><td>5.0</td><td>9.2</td><td>1</td><td>0.88</td></tr><tr><th>37</th><td>37</td><td>299</td><td>106</td><td>2</td><td>4.0</td><td>4.0</td><td>8.4</td><td>0</td><td>0.64</td></tr><tr><th>38</th><td>38</td><td>300</td><td>105</td><td>1</td><td>1.0</td><td>2.0</td><td>7.8</td><td>0</td><td>0.58</td></tr><tr><th>39</th><td>39</td><td>304</td><td>105</td><td>1</td><td>3.0</td><td>1.5</td><td>7.5</td><td>0</td><td>0.52</td></tr><tr><th>40</th><td>40</td><td>307</td><td>108</td><td>2</td><td>4.0</td><td>3.5</td><td>7.7</td><td>0</td><td>0.48</td></tr><tr><th>41</th><td>41</td><td>308</td><td>110</td><td>3</td><td>3.5</td><td>3.0</td><td>8.0</td><td>1</td><td>0.46</td></tr><tr><th>42</th><td>42</td><td>316</td><td>105</td><td>2</td><td>2.5</td><td>2.5</td><td>8.2</td><td>1</td><td>0.49</td></tr><tr><th>43</th><td>43</td><td>313</td><td>107</td><td>2</td><td>2.5</td><td>2.0</td><td>8.5</td><td>1</td><td>0.53</td></tr><tr><th>44</th><td>44</td><td>332</td><td>117</td><td>4</td><td>4.5</td><td>4.0</td><td>9.1</td><td>0</td><td>0.87</td></tr><tr><th>45</th><td>45</td><td>326</td><td>113</td><td>5</td><td>4.5</td><td>4.0</td><td>9.4</td><td>1</td><td>0.91</td></tr><tr><th>46</th><td>46</td><td>322</td><td>110</td><td>5</td><td>5.0</td><td>4.0</td><td>9.1</td><td>1</td><td>0.88</td></tr><tr><th>47</th><td>47</td><td>329</td><td>114</td><td>5</td><td>4.0</td><td>5.0</td><td>9.3</td><td>1</td><td>0.86</td></tr><tr><th>48</th><td>48</td><td>339</td><td>119</td><td>5</td><td>4.5</td><td>4.0</td><td>9.7</td><td>0</td><td>0.89</td></tr><tr><th>49</th><td>49</td><td>321</td><td>110</td><td>3</td><td>3.5</td><td>5.0</td><td>8.85</td><td>1</td><td>0.82</td></tr><tr><th>50</th><td>50</td><td>327</td><td>111</td><td>4</td><td>3.0</td><td>4.0</td><td>8.4</td><td>1</td><td>0.78</td></tr><tr><th>51</th><td>51</td><td>313</td><td>98</td><td>3</td><td>2.5</td><td>4.5</td><td>8.3</td><td>1</td><td>0.76</td></tr><tr><th>52</th><td>52</td><td>312</td><td>100</td><td>2</td><td>1.5</td><td>3.5</td><td>7.9</td><td>1</td><td>0.56</td></tr><tr><th>53</th><td>53</td><td>334</td><td>116</td><td>4</td><td>4.0</td><td>3.0</td><td>8.0</td><td>1</td><td>0.78</td></tr><tr><th>54</th><td>54</td><td>324</td><td>112</td><td>4</td><td>4.0</td><td>2.5</td><td>8.1</td><td>1</td><td>0.72</td></tr><tr><th>55</th><td>55</td><td>322</td><td>110</td><td>3</td><td>3.0</td><td>3.5</td><td>8.0</td><td>0</td><td>0.7</td></tr><tr><th>56</th><td>56</td><td>320</td><td>103</td><td>3</td><td>3.0</td><td>3.0</td><td>7.7</td><td>0</td><td>0.64</td></tr><tr><th>57</th><td>57</td><td>316</td><td>102</td><td>3</td><td>2.0</td><td>3.0</td><td>7.4</td><td>0</td><td>0.64</td></tr><tr><th>58</th><td>58</td><td>298</td><td>99</td><td>2</td><td>4.0</td><td>2.0</td><td>7.6</td><td>0</td><td>0.46</td></tr><tr><th>59</th><td>59</td><td>300</td><td>99</td><td>1</td><td>3.0</td><td>2.0</td><td>6.8</td><td>1</td><td>0.36</td></tr><tr><th>60</th><td>60</td><td>311</td><td>104</td><td>2</td><td>2.0</td><td>2.0</td><td>8.3</td><td>0</td><td>0.42</td></tr><tr><th>61</th><td>61</td><td>309</td><td>100</td><td>2</td><td>3.0</td><td>3.0</td><td>8.1</td><td>0</td><td>0.48</td></tr><tr><th>62</th><td>62</td><td>307</td><td>101</td><td>3</td><td>4.0</td><td>3.0</td><td>8.2</td><td>0</td><td>0.47</td></tr><tr><th>63</th><td>63</td><td>304</td><td>105</td><td>2</td><td>3.0</td><td>3.0</td><td>8.2</td><td>1</td><td>0.54</td></tr><tr><th>64</th><td>64</td><td>315</td><td>107</td><td>2</td><td>4.0</td><td>3.0</td><td>8.5</td><td>1</td><td>0.56</td></tr><tr><th>65</th><td>65</td><td>325</td><td>111</td><td>3</td><td>3.0</td><td>3.5</td><td>8.7</td><td>0</td><td>0.52</td></tr><tr><th>66</th><td>66</td><td>325</td><td>112</td><td>4</td><td>3.5</td><td>3.5</td><td>8.92</td><td>0</td><td>0.55</td></tr><tr><th>67</th><td>67</td><td>327</td><td>114</td><td>3</td><td>3.0</td><td>3.0</td><td>9.02</td><td>0</td><td>0.61</td></tr><tr><th>68</th><td>68</td><td>316</td><td>107</td><td>2</td><td>3.5</td><td>3.5</td><td>8.64</td><td>1</td><td>0.57</td></tr><tr><th>69</th><td>69</td><td>318</td><td>109</td><td>3</td><td>3.5</td><td>4.0</td><td>9.22</td><td>1</td><td>0.68</td></tr><tr><th>70</th><td>70</td><td>328</td><td>115</td><td>4</td><td>4.5</td><td>4.0</td><td>9.16</td><td>1</td><td>0.78</td></tr><tr><th>71</th><td>71</td><td>332</td><td>118</td><td>5</td><td>5.0</td><td>5.0</td><td>9.64</td><td>1</td><td>0.94</td></tr><tr><th>72</th><td>72</td><td>336</td><td>112</td><td>5</td><td>5.0</td><td>5.0</td><td>9.76</td><td>1</td><td>0.96</td></tr><tr><th>73</th><td>73</td><td>321</td><td>111</td><td>5</td><td>5.0</td><td>5.0</td><td>9.45</td><td>1</td><td>0.93</td></tr><tr><th>74</th><td>74</td><td>314</td><td>108</td><td>4</td><td>4.5</td><td>4.0</td><td>9.04</td><td>1</td><td>0.84</td></tr><tr><th>75</th><td>75</td><td>314</td><td>106</td><td>3</td><td>3.0</td><td>5.0</td><td>8.9</td><td>0</td><td>0.74</td></tr><tr><th>76</th><td>76</td><td>329</td><td>114</td><td>2</td><td>2.0</td><td>4.0</td><td>8.56</td><td>1</td><td>0.72</td></tr><tr><th>77</th><td>77</td><td>327</td><td>112</td><td>3</td><td>3.0</td><td>3.0</td><td>8.72</td><td>1</td><td>0.74</td></tr><tr><th>78</th><td>78</td><td>301</td><td>99</td><td>2</td><td>3.0</td><td>2.0</td><td>8.22</td><td>0</td><td>0.64</td></tr><tr><th>79</th><td>79</td><td>296</td><td>95</td><td>2</td><td>3.0</td><td>2.0</td><td>7.54</td><td>1</td><td>0.44</td></tr><tr><th>80</th><td>80</td><td>294</td><td>93</td><td>1</td><td>1.5</td><td>2.0</td><td>7.36</td><td>0</td><td>0.46</td></tr><tr><th>81</th><td>81</td><td>312</td><td>105</td><td>3</td><td>2.0</td><td>3.0</td><td>8.02</td><td>1</td><td>0.5</td></tr><tr><th>82</th><td>82</td><td>340</td><td>120</td><td>4</td><td>5.0</td><td>5.0</td><td>9.5</td><td>1</td><td>0.96</td></tr><tr><th>83</th><td>83</td><td>320</td><td>110</td><td>5</td><td>5.0</td><td>4.5</td><td>9.22</td><td>1</td><td>0.92</td></tr><tr><th>84</th><td>84</td><td>322</td><td>115</td><td>5</td><td>4.0</td><td>4.5</td><td>9.36</td><td>1</td><td>0.92</td></tr><tr><th>85</th><td>85</td><td>340</td><td>115</td><td>5</td><td>4.5</td><td>4.5</td><td>9.45</td><td>1</td><td>0.94</td></tr><tr><th>86</th><td>86</td><td>319</td><td>103</td><td>4</td><td>4.5</td><td>3.5</td><td>8.66</td><td>0</td><td>0.76</td></tr><tr><th>87</th><td>87</td><td>315</td><td>106</td><td>3</td><td>4.5</td><td>3.5</td><td>8.42</td><td>0</td><td>0.72</td></tr><tr><th>88</th><td>88</td><td>317</td><td>107</td><td>2</td><td>3.5</td><td>3.0</td><td>8.28</td><td>0</td><td>0.66</td></tr><tr><th>89</th><td>89</td><td>314</td><td>108</td><td>3</td><td>4.5</td><td>3.5</td><td>8.14</td><td>0</td><td>0.64</td></tr><tr><th>90</th><td>90</td><td>316</td><td>109</td><td>4</td><td>4.5</td><td>3.5</td><td>8.76</td><td>1</td><td>0.74</td></tr><tr><th>91</th><td>91</td><td>318</td><td>106</td><td>2</td><td>4.0</td><td>4.0</td><td>7.92</td><td>1</td><td>0.64</td></tr><tr><th>92</th><td>92</td><td>299</td><td>97</td><td>3</td><td>5.0</td><td>3.5</td><td>7.66</td><td>0</td><td>0.38</td></tr><tr><th>93</th><td>93</td><td>298</td><td>98</td><td>2</td><td>4.0</td><td>3.0</td><td>8.03</td><td>0</td><td>0.34</td></tr><tr><th>94</th><td>94</td><td>301</td><td>97</td><td>2</td><td>3.0</td><td>3.0</td><td>7.88</td><td>1</td><td>0.44</td></tr><tr><th>95</th><td>95</td><td>303</td><td>99</td><td>3</td><td>2.0</td><td>2.5</td><td>7.66</td><td>0</td><td>0.36</td></tr><tr><th>96</th><td>96</td><td>304</td><td>100</td><td>4</td><td>1.5</td><td>2.5</td><td>7.84</td><td>0</td><td>0.42</td></tr><tr><th>97</th><td>97</td><td>306</td><td>100</td><td>2</td><td>3.0</td><td>3.0</td><td>8.0</td><td>0</td><td>0.48</td></tr><tr><th>98</th><td>98</td><td>331</td><td>120</td><td>3</td><td>4.0</td><td>4.0</td><td>8.96</td><td>1</td><td>0.86</td></tr><tr><th>99</th><td>99</td><td>332</td><td>119</td><td>4</td><td>5.0</td><td>4.5</td><td>9.24</td><td>1</td><td>0.9</td></tr><tr><th>100</th><td>100</td><td>323</td><td>113</td><td>3</td><td>4.0</td><td>4.0</td><td>8.88</td><td>1</td><td>0.79</td></tr><tr><th>&vellip;</th><td>&vellip;</td><td>&vellip;</td><td>&vellip;</td><td>&vellip;</td><td>&vellip;</td><td>&vellip;</td><td>&vellip;</td><td>&vellip;</td><td>&vellip;</td></tr></tbody></table>"
      ],
      "text/latex": [
       "\\begin{tabular}{r|ccccccccc}\n",
       "\t& Serial No. & GRE Score & TOEFL Score & University Rating & SOP & LOR & CGPA & Research & Chance of Admit \\\\\n",
       "\t\\hline\n",
       "\t& Int64 & Int64 & Int64 & Int64 & Float64 & Float64 & Float64 & Int64 & Float64\\\\\n",
       "\t\\hline\n",
       "\t1 & 1 & 337 & 118 & 4 & 4.5 & 4.5 & 9.65 & 1 & 0.92 \\\\\n",
       "\t2 & 2 & 324 & 107 & 4 & 4.0 & 4.5 & 8.87 & 1 & 0.76 \\\\\n",
       "\t3 & 3 & 316 & 104 & 3 & 3.0 & 3.5 & 8.0 & 1 & 0.72 \\\\\n",
       "\t4 & 4 & 322 & 110 & 3 & 3.5 & 2.5 & 8.67 & 1 & 0.8 \\\\\n",
       "\t5 & 5 & 314 & 103 & 2 & 2.0 & 3.0 & 8.21 & 0 & 0.65 \\\\\n",
       "\t6 & 6 & 330 & 115 & 5 & 4.5 & 3.0 & 9.34 & 1 & 0.9 \\\\\n",
       "\t7 & 7 & 321 & 109 & 3 & 3.0 & 4.0 & 8.2 & 1 & 0.75 \\\\\n",
       "\t8 & 8 & 308 & 101 & 2 & 3.0 & 4.0 & 7.9 & 0 & 0.68 \\\\\n",
       "\t9 & 9 & 302 & 102 & 1 & 2.0 & 1.5 & 8.0 & 0 & 0.5 \\\\\n",
       "\t10 & 10 & 323 & 108 & 3 & 3.5 & 3.0 & 8.6 & 0 & 0.45 \\\\\n",
       "\t11 & 11 & 325 & 106 & 3 & 3.5 & 4.0 & 8.4 & 1 & 0.52 \\\\\n",
       "\t12 & 12 & 327 & 111 & 4 & 4.0 & 4.5 & 9.0 & 1 & 0.84 \\\\\n",
       "\t13 & 13 & 328 & 112 & 4 & 4.0 & 4.5 & 9.1 & 1 & 0.78 \\\\\n",
       "\t14 & 14 & 307 & 109 & 3 & 4.0 & 3.0 & 8.0 & 1 & 0.62 \\\\\n",
       "\t15 & 15 & 311 & 104 & 3 & 3.5 & 2.0 & 8.2 & 1 & 0.61 \\\\\n",
       "\t16 & 16 & 314 & 105 & 3 & 3.5 & 2.5 & 8.3 & 0 & 0.54 \\\\\n",
       "\t17 & 17 & 317 & 107 & 3 & 4.0 & 3.0 & 8.7 & 0 & 0.66 \\\\\n",
       "\t18 & 18 & 319 & 106 & 3 & 4.0 & 3.0 & 8.0 & 1 & 0.65 \\\\\n",
       "\t19 & 19 & 318 & 110 & 3 & 4.0 & 3.0 & 8.8 & 0 & 0.63 \\\\\n",
       "\t20 & 20 & 303 & 102 & 3 & 3.5 & 3.0 & 8.5 & 0 & 0.62 \\\\\n",
       "\t21 & 21 & 312 & 107 & 3 & 3.0 & 2.0 & 7.9 & 1 & 0.64 \\\\\n",
       "\t22 & 22 & 325 & 114 & 4 & 3.0 & 2.0 & 8.4 & 0 & 0.7 \\\\\n",
       "\t23 & 23 & 328 & 116 & 5 & 5.0 & 5.0 & 9.5 & 1 & 0.94 \\\\\n",
       "\t24 & 24 & 334 & 119 & 5 & 5.0 & 4.5 & 9.7 & 1 & 0.95 \\\\\n",
       "\t25 & 25 & 336 & 119 & 5 & 4.0 & 3.5 & 9.8 & 1 & 0.97 \\\\\n",
       "\t26 & 26 & 340 & 120 & 5 & 4.5 & 4.5 & 9.6 & 1 & 0.94 \\\\\n",
       "\t27 & 27 & 322 & 109 & 5 & 4.5 & 3.5 & 8.8 & 0 & 0.76 \\\\\n",
       "\t28 & 28 & 298 & 98 & 2 & 1.5 & 2.5 & 7.5 & 1 & 0.44 \\\\\n",
       "\t29 & 29 & 295 & 93 & 1 & 2.0 & 2.0 & 7.2 & 0 & 0.46 \\\\\n",
       "\t30 & 30 & 310 & 99 & 2 & 1.5 & 2.0 & 7.3 & 0 & 0.54 \\\\\n",
       "\t31 & 31 & 300 & 97 & 2 & 3.0 & 3.0 & 8.1 & 1 & 0.65 \\\\\n",
       "\t32 & 32 & 327 & 103 & 3 & 4.0 & 4.0 & 8.3 & 1 & 0.74 \\\\\n",
       "\t33 & 33 & 338 & 118 & 4 & 3.0 & 4.5 & 9.4 & 1 & 0.91 \\\\\n",
       "\t34 & 34 & 340 & 114 & 5 & 4.0 & 4.0 & 9.6 & 1 & 0.9 \\\\\n",
       "\t35 & 35 & 331 & 112 & 5 & 4.0 & 5.0 & 9.8 & 1 & 0.94 \\\\\n",
       "\t36 & 36 & 320 & 110 & 5 & 5.0 & 5.0 & 9.2 & 1 & 0.88 \\\\\n",
       "\t37 & 37 & 299 & 106 & 2 & 4.0 & 4.0 & 8.4 & 0 & 0.64 \\\\\n",
       "\t38 & 38 & 300 & 105 & 1 & 1.0 & 2.0 & 7.8 & 0 & 0.58 \\\\\n",
       "\t39 & 39 & 304 & 105 & 1 & 3.0 & 1.5 & 7.5 & 0 & 0.52 \\\\\n",
       "\t40 & 40 & 307 & 108 & 2 & 4.0 & 3.5 & 7.7 & 0 & 0.48 \\\\\n",
       "\t41 & 41 & 308 & 110 & 3 & 3.5 & 3.0 & 8.0 & 1 & 0.46 \\\\\n",
       "\t42 & 42 & 316 & 105 & 2 & 2.5 & 2.5 & 8.2 & 1 & 0.49 \\\\\n",
       "\t43 & 43 & 313 & 107 & 2 & 2.5 & 2.0 & 8.5 & 1 & 0.53 \\\\\n",
       "\t44 & 44 & 332 & 117 & 4 & 4.5 & 4.0 & 9.1 & 0 & 0.87 \\\\\n",
       "\t45 & 45 & 326 & 113 & 5 & 4.5 & 4.0 & 9.4 & 1 & 0.91 \\\\\n",
       "\t46 & 46 & 322 & 110 & 5 & 5.0 & 4.0 & 9.1 & 1 & 0.88 \\\\\n",
       "\t47 & 47 & 329 & 114 & 5 & 4.0 & 5.0 & 9.3 & 1 & 0.86 \\\\\n",
       "\t48 & 48 & 339 & 119 & 5 & 4.5 & 4.0 & 9.7 & 0 & 0.89 \\\\\n",
       "\t49 & 49 & 321 & 110 & 3 & 3.5 & 5.0 & 8.85 & 1 & 0.82 \\\\\n",
       "\t50 & 50 & 327 & 111 & 4 & 3.0 & 4.0 & 8.4 & 1 & 0.78 \\\\\n",
       "\t51 & 51 & 313 & 98 & 3 & 2.5 & 4.5 & 8.3 & 1 & 0.76 \\\\\n",
       "\t52 & 52 & 312 & 100 & 2 & 1.5 & 3.5 & 7.9 & 1 & 0.56 \\\\\n",
       "\t53 & 53 & 334 & 116 & 4 & 4.0 & 3.0 & 8.0 & 1 & 0.78 \\\\\n",
       "\t54 & 54 & 324 & 112 & 4 & 4.0 & 2.5 & 8.1 & 1 & 0.72 \\\\\n",
       "\t55 & 55 & 322 & 110 & 3 & 3.0 & 3.5 & 8.0 & 0 & 0.7 \\\\\n",
       "\t56 & 56 & 320 & 103 & 3 & 3.0 & 3.0 & 7.7 & 0 & 0.64 \\\\\n",
       "\t57 & 57 & 316 & 102 & 3 & 2.0 & 3.0 & 7.4 & 0 & 0.64 \\\\\n",
       "\t58 & 58 & 298 & 99 & 2 & 4.0 & 2.0 & 7.6 & 0 & 0.46 \\\\\n",
       "\t59 & 59 & 300 & 99 & 1 & 3.0 & 2.0 & 6.8 & 1 & 0.36 \\\\\n",
       "\t60 & 60 & 311 & 104 & 2 & 2.0 & 2.0 & 8.3 & 0 & 0.42 \\\\\n",
       "\t61 & 61 & 309 & 100 & 2 & 3.0 & 3.0 & 8.1 & 0 & 0.48 \\\\\n",
       "\t62 & 62 & 307 & 101 & 3 & 4.0 & 3.0 & 8.2 & 0 & 0.47 \\\\\n",
       "\t63 & 63 & 304 & 105 & 2 & 3.0 & 3.0 & 8.2 & 1 & 0.54 \\\\\n",
       "\t64 & 64 & 315 & 107 & 2 & 4.0 & 3.0 & 8.5 & 1 & 0.56 \\\\\n",
       "\t65 & 65 & 325 & 111 & 3 & 3.0 & 3.5 & 8.7 & 0 & 0.52 \\\\\n",
       "\t66 & 66 & 325 & 112 & 4 & 3.5 & 3.5 & 8.92 & 0 & 0.55 \\\\\n",
       "\t67 & 67 & 327 & 114 & 3 & 3.0 & 3.0 & 9.02 & 0 & 0.61 \\\\\n",
       "\t68 & 68 & 316 & 107 & 2 & 3.5 & 3.5 & 8.64 & 1 & 0.57 \\\\\n",
       "\t69 & 69 & 318 & 109 & 3 & 3.5 & 4.0 & 9.22 & 1 & 0.68 \\\\\n",
       "\t70 & 70 & 328 & 115 & 4 & 4.5 & 4.0 & 9.16 & 1 & 0.78 \\\\\n",
       "\t71 & 71 & 332 & 118 & 5 & 5.0 & 5.0 & 9.64 & 1 & 0.94 \\\\\n",
       "\t72 & 72 & 336 & 112 & 5 & 5.0 & 5.0 & 9.76 & 1 & 0.96 \\\\\n",
       "\t73 & 73 & 321 & 111 & 5 & 5.0 & 5.0 & 9.45 & 1 & 0.93 \\\\\n",
       "\t74 & 74 & 314 & 108 & 4 & 4.5 & 4.0 & 9.04 & 1 & 0.84 \\\\\n",
       "\t75 & 75 & 314 & 106 & 3 & 3.0 & 5.0 & 8.9 & 0 & 0.74 \\\\\n",
       "\t76 & 76 & 329 & 114 & 2 & 2.0 & 4.0 & 8.56 & 1 & 0.72 \\\\\n",
       "\t77 & 77 & 327 & 112 & 3 & 3.0 & 3.0 & 8.72 & 1 & 0.74 \\\\\n",
       "\t78 & 78 & 301 & 99 & 2 & 3.0 & 2.0 & 8.22 & 0 & 0.64 \\\\\n",
       "\t79 & 79 & 296 & 95 & 2 & 3.0 & 2.0 & 7.54 & 1 & 0.44 \\\\\n",
       "\t80 & 80 & 294 & 93 & 1 & 1.5 & 2.0 & 7.36 & 0 & 0.46 \\\\\n",
       "\t81 & 81 & 312 & 105 & 3 & 2.0 & 3.0 & 8.02 & 1 & 0.5 \\\\\n",
       "\t82 & 82 & 340 & 120 & 4 & 5.0 & 5.0 & 9.5 & 1 & 0.96 \\\\\n",
       "\t83 & 83 & 320 & 110 & 5 & 5.0 & 4.5 & 9.22 & 1 & 0.92 \\\\\n",
       "\t84 & 84 & 322 & 115 & 5 & 4.0 & 4.5 & 9.36 & 1 & 0.92 \\\\\n",
       "\t85 & 85 & 340 & 115 & 5 & 4.5 & 4.5 & 9.45 & 1 & 0.94 \\\\\n",
       "\t86 & 86 & 319 & 103 & 4 & 4.5 & 3.5 & 8.66 & 0 & 0.76 \\\\\n",
       "\t87 & 87 & 315 & 106 & 3 & 4.5 & 3.5 & 8.42 & 0 & 0.72 \\\\\n",
       "\t88 & 88 & 317 & 107 & 2 & 3.5 & 3.0 & 8.28 & 0 & 0.66 \\\\\n",
       "\t89 & 89 & 314 & 108 & 3 & 4.5 & 3.5 & 8.14 & 0 & 0.64 \\\\\n",
       "\t90 & 90 & 316 & 109 & 4 & 4.5 & 3.5 & 8.76 & 1 & 0.74 \\\\\n",
       "\t91 & 91 & 318 & 106 & 2 & 4.0 & 4.0 & 7.92 & 1 & 0.64 \\\\\n",
       "\t92 & 92 & 299 & 97 & 3 & 5.0 & 3.5 & 7.66 & 0 & 0.38 \\\\\n",
       "\t93 & 93 & 298 & 98 & 2 & 4.0 & 3.0 & 8.03 & 0 & 0.34 \\\\\n",
       "\t94 & 94 & 301 & 97 & 2 & 3.0 & 3.0 & 7.88 & 1 & 0.44 \\\\\n",
       "\t95 & 95 & 303 & 99 & 3 & 2.0 & 2.5 & 7.66 & 0 & 0.36 \\\\\n",
       "\t96 & 96 & 304 & 100 & 4 & 1.5 & 2.5 & 7.84 & 0 & 0.42 \\\\\n",
       "\t97 & 97 & 306 & 100 & 2 & 3.0 & 3.0 & 8.0 & 0 & 0.48 \\\\\n",
       "\t98 & 98 & 331 & 120 & 3 & 4.0 & 4.0 & 8.96 & 1 & 0.86 \\\\\n",
       "\t99 & 99 & 332 & 119 & 4 & 5.0 & 4.5 & 9.24 & 1 & 0.9 \\\\\n",
       "\t100 & 100 & 323 & 113 & 3 & 4.0 & 4.0 & 8.88 & 1 & 0.79 \\\\\n",
       "\t$\\dots$ & $\\dots$ & $\\dots$ & $\\dots$ & $\\dots$ & $\\dots$ & $\\dots$ & $\\dots$ & $\\dots$ & $\\dots$ \\\\\n",
       "\\end{tabular}\n"
      ],
      "text/plain": [
       "\u001b[1m399×9 DataFrame\u001b[0m\n",
       "\u001b[1m Row \u001b[0m│\u001b[1m Serial No. \u001b[0m\u001b[1m GRE Score \u001b[0m\u001b[1m TOEFL Score \u001b[0m\u001b[1m University Rating \u001b[0m\u001b[1m SOP     \u001b[0m\u001b[1m LOR     \u001b[0m\u001b[1m CGPA    \u001b[0m\u001b[1m Research \u001b[0m\u001b[1m Chance of Admit  \u001b[0m\n",
       "\u001b[1m     \u001b[0m│\u001b[90m Int64      \u001b[0m\u001b[90m Int64     \u001b[0m\u001b[90m Int64       \u001b[0m\u001b[90m Int64             \u001b[0m\u001b[90m Float64 \u001b[0m\u001b[90m Float64 \u001b[0m\u001b[90m Float64 \u001b[0m\u001b[90m Int64    \u001b[0m\u001b[90m Float64          \u001b[0m\n",
       "─────┼──────────────────────────────────────────────────────────────────────────────────────────────────────────────\n",
       "   1 │          1        337          118                  4      4.5      4.5     9.65         1              0.92\n",
       "   2 │          2        324          107                  4      4.0      4.5     8.87         1              0.76\n",
       "   3 │          3        316          104                  3      3.0      3.5     8.0          1              0.72\n",
       "   4 │          4        322          110                  3      3.5      2.5     8.67         1              0.8\n",
       "   5 │          5        314          103                  2      2.0      3.0     8.21         0              0.65\n",
       "   6 │          6        330          115                  5      4.5      3.0     9.34         1              0.9\n",
       "   7 │          7        321          109                  3      3.0      4.0     8.2          1              0.75\n",
       "   8 │          8        308          101                  2      3.0      4.0     7.9          0              0.68\n",
       "   9 │          9        302          102                  1      2.0      1.5     8.0          0              0.5\n",
       "  10 │         10        323          108                  3      3.5      3.0     8.6          0              0.45\n",
       "  11 │         11        325          106                  3      3.5      4.0     8.4          1              0.52\n",
       "  12 │         12        327          111                  4      4.0      4.5     9.0          1              0.84\n",
       "  13 │         13        328          112                  4      4.0      4.5     9.1          1              0.78\n",
       "  14 │         14        307          109                  3      4.0      3.0     8.0          1              0.62\n",
       "  15 │         15        311          104                  3      3.5      2.0     8.2          1              0.61\n",
       "  16 │         16        314          105                  3      3.5      2.5     8.3          0              0.54\n",
       "  17 │         17        317          107                  3      4.0      3.0     8.7          0              0.66\n",
       "  18 │         18        319          106                  3      4.0      3.0     8.0          1              0.65\n",
       "  19 │         19        318          110                  3      4.0      3.0     8.8          0              0.63\n",
       "  20 │         20        303          102                  3      3.5      3.0     8.5          0              0.62\n",
       "  21 │         21        312          107                  3      3.0      2.0     7.9          1              0.64\n",
       "  22 │         22        325          114                  4      3.0      2.0     8.4          0              0.7\n",
       "  23 │         23        328          116                  5      5.0      5.0     9.5          1              0.94\n",
       "  24 │         24        334          119                  5      5.0      4.5     9.7          1              0.95\n",
       "  25 │         25        336          119                  5      4.0      3.5     9.8          1              0.97\n",
       "  26 │         26        340          120                  5      4.5      4.5     9.6          1              0.94\n",
       "  27 │         27        322          109                  5      4.5      3.5     8.8          0              0.76\n",
       "  28 │         28        298           98                  2      1.5      2.5     7.5          1              0.44\n",
       "  29 │         29        295           93                  1      2.0      2.0     7.2          0              0.46\n",
       "  30 │         30        310           99                  2      1.5      2.0     7.3          0              0.54\n",
       "  31 │         31        300           97                  2      3.0      3.0     8.1          1              0.65\n",
       "  32 │         32        327          103                  3      4.0      4.0     8.3          1              0.74\n",
       "  33 │         33        338          118                  4      3.0      4.5     9.4          1              0.91\n",
       "  34 │         34        340          114                  5      4.0      4.0     9.6          1              0.9\n",
       "  35 │         35        331          112                  5      4.0      5.0     9.8          1              0.94\n",
       "  36 │         36        320          110                  5      5.0      5.0     9.2          1              0.88\n",
       "  37 │         37        299          106                  2      4.0      4.0     8.4          0              0.64\n",
       "  38 │         38        300          105                  1      1.0      2.0     7.8          0              0.58\n",
       "  39 │         39        304          105                  1      3.0      1.5     7.5          0              0.52\n",
       "  40 │         40        307          108                  2      4.0      3.5     7.7          0              0.48\n",
       "  41 │         41        308          110                  3      3.5      3.0     8.0          1              0.46\n",
       "  42 │         42        316          105                  2      2.5      2.5     8.2          1              0.49\n",
       "  43 │         43        313          107                  2      2.5      2.0     8.5          1              0.53\n",
       "  44 │         44        332          117                  4      4.5      4.0     9.1          0              0.87\n",
       "  45 │         45        326          113                  5      4.5      4.0     9.4          1              0.91\n",
       "  46 │         46        322          110                  5      5.0      4.0     9.1          1              0.88\n",
       "  ⋮  │     ⋮           ⋮           ⋮               ⋮             ⋮        ⋮        ⋮        ⋮             ⋮\n",
       " 355 │        355        297           98                  2      2.5      3.0     7.67         0              0.59\n",
       " 356 │        356        317          106                  2      2.0      3.5     8.12         0              0.73\n",
       " 357 │        357        327          109                  3      3.5      4.0     8.77         1              0.79\n",
       " 358 │        358        301          104                  2      3.5      3.5     7.89         1              0.68\n",
       " 359 │        359        314          105                  2      2.5      2.0     7.64         0              0.7\n",
       " 360 │        360        321          107                  2      2.0      1.5     8.44         0              0.81\n",
       " 361 │        361        322          110                  3      4.0      5.0     8.64         1              0.85\n",
       " 362 │        362        334          116                  4      4.0      3.5     9.54         1              0.93\n",
       " 363 │        363        338          115                  5      4.5      5.0     9.23         1              0.91\n",
       " 364 │        364        306          103                  2      2.5      3.0     8.36         0              0.69\n",
       " 365 │        365        313          102                  3      3.5      4.0     8.9          1              0.77\n",
       " 366 │        366        330          114                  4      4.5      3.0     9.17         1              0.86\n",
       " 367 │        367        320          104                  3      3.5      4.5     8.34         1              0.74\n",
       " 368 │        368        311           98                  1      1.0      2.5     7.46         0              0.57\n",
       " 369 │        369        298           92                  1      2.0      2.0     7.88         0              0.51\n",
       " 370 │        370        301           98                  1      2.0      3.0     8.03         1              0.67\n",
       " 371 │        371        310          103                  2      2.5      2.5     8.24         0              0.72\n",
       " 372 │        372        324          110                  3      3.5      3.0     9.22         1              0.89\n",
       " 373 │        373        336          119                  4      4.5      4.0     9.62         1              0.95\n",
       " 374 │        374        321          109                  3      3.0      3.0     8.54         1              0.79\n",
       " 375 │        375        315          105                  2      2.0      2.5     7.65         0              0.39\n",
       " 376 │        376        304          101                  2      2.0      2.5     7.66         0              0.38\n",
       " 377 │        377        297           96                  2      2.5      2.0     7.43         0              0.34\n",
       " 378 │        378        290          100                  1      1.5      2.0     7.56         0              0.47\n",
       " 379 │        379        303           98                  1      2.0      2.5     7.65         0              0.56\n",
       " 380 │        380        311           99                  1      2.5      3.0     8.43         1              0.71\n",
       " 381 │        381        322          104                  3      3.5      4.0     8.84         1              0.78\n",
       " 382 │        382        319          105                  3      3.0      3.5     8.67         1              0.73\n",
       " 383 │        383        324          110                  4      4.5      4.0     9.15         1              0.82\n",
       " 384 │        384        300          100                  3      3.0      3.5     8.26         0              0.62\n",
       " 385 │        385        340          113                  4      5.0      5.0     9.74         1              0.96\n",
       " 386 │        386        335          117                  5      5.0      5.0     9.82         1              0.96\n",
       " 387 │        387        302          101                  2      2.5      3.5     7.96         0              0.46\n",
       " 388 │        388        307          105                  2      2.0      3.5     8.1          0              0.53\n",
       " 389 │        389        296           97                  2      1.5      2.0     7.8          0              0.49\n",
       " 390 │        390        320          108                  3      3.5      4.0     8.44         1              0.76\n",
       " 391 │        391        314          102                  2      2.0      2.5     8.24         0              0.64\n",
       " 392 │        392        318          106                  3      2.0      3.0     8.65         0              0.71\n",
       " 393 │        393        326          112                  4      4.0      3.5     9.12         1              0.84\n",
       " 394 │        394        317          104                  2      3.0      3.0     8.76         0              0.77\n",
       " 395 │        395        329          111                  4      4.5      4.0     9.23         1              0.89\n",
       " 396 │        396        324          110                  3      3.5      3.5     9.04         1              0.82\n",
       " 397 │        397        325          107                  3      3.0      3.5     9.11         1              0.84\n",
       " 398 │        398        330          116                  4      5.0      4.5     9.45         1              0.91\n",
       " 399 │        399        312          103                  3      3.5      4.0     8.78         0              0.67\n",
       "\u001b[36m                                                                                                    308 rows omitted\u001b[0m"
      ]
     },
     "execution_count": 41,
     "metadata": {},
     "output_type": "execute_result"
    }
   ],
   "source": [
    "delete!(df, 400) # Mutationg function. Does in=place removal"
   ]
  },
  {
   "cell_type": "code",
   "execution_count": 42,
   "metadata": {
    "ExecuteTime": {
     "end_time": "2021-05-22T12:23:36.993000+04:00",
     "start_time": "2021-05-22T08:23:36.987Z"
    }
   },
   "outputs": [
    {
     "data": {
      "text/html": [
       "<table class=\"data-frame\"><thead><tr><th></th><th>Serial No.</th><th>GRE Score</th><th>TOEFL Score</th><th>University Rating</th><th>SOP</th><th>LOR</th><th>CGPA</th><th>Research</th><th>Chance of Admit </th></tr><tr><th></th><th>Int64</th><th>Int64</th><th>Int64</th><th>Int64</th><th>Float64</th><th>Float64</th><th>Float64</th><th>Int64</th><th>Float64</th></tr></thead><tbody><p>5 rows × 9 columns</p><tr><th>1</th><td>395</td><td>329</td><td>111</td><td>4</td><td>4.5</td><td>4.0</td><td>9.23</td><td>1</td><td>0.89</td></tr><tr><th>2</th><td>396</td><td>324</td><td>110</td><td>3</td><td>3.5</td><td>3.5</td><td>9.04</td><td>1</td><td>0.82</td></tr><tr><th>3</th><td>397</td><td>325</td><td>107</td><td>3</td><td>3.0</td><td>3.5</td><td>9.11</td><td>1</td><td>0.84</td></tr><tr><th>4</th><td>398</td><td>330</td><td>116</td><td>4</td><td>5.0</td><td>4.5</td><td>9.45</td><td>1</td><td>0.91</td></tr><tr><th>5</th><td>399</td><td>312</td><td>103</td><td>3</td><td>3.5</td><td>4.0</td><td>8.78</td><td>0</td><td>0.67</td></tr></tbody></table>"
      ],
      "text/latex": [
       "\\begin{tabular}{r|ccccccccc}\n",
       "\t& Serial No. & GRE Score & TOEFL Score & University Rating & SOP & LOR & CGPA & Research & Chance of Admit \\\\\n",
       "\t\\hline\n",
       "\t& Int64 & Int64 & Int64 & Int64 & Float64 & Float64 & Float64 & Int64 & Float64\\\\\n",
       "\t\\hline\n",
       "\t1 & 395 & 329 & 111 & 4 & 4.5 & 4.0 & 9.23 & 1 & 0.89 \\\\\n",
       "\t2 & 396 & 324 & 110 & 3 & 3.5 & 3.5 & 9.04 & 1 & 0.82 \\\\\n",
       "\t3 & 397 & 325 & 107 & 3 & 3.0 & 3.5 & 9.11 & 1 & 0.84 \\\\\n",
       "\t4 & 398 & 330 & 116 & 4 & 5.0 & 4.5 & 9.45 & 1 & 0.91 \\\\\n",
       "\t5 & 399 & 312 & 103 & 3 & 3.5 & 4.0 & 8.78 & 0 & 0.67 \\\\\n",
       "\\end{tabular}\n"
      ],
      "text/plain": [
       "\u001b[1m5×9 DataFrame\u001b[0m\n",
       "\u001b[1m Row \u001b[0m│\u001b[1m Serial No. \u001b[0m\u001b[1m GRE Score \u001b[0m\u001b[1m TOEFL Score \u001b[0m\u001b[1m University Rating \u001b[0m\u001b[1m SOP     \u001b[0m\u001b[1m LOR     \u001b[0m\u001b[1m CGPA    \u001b[0m\u001b[1m Research \u001b[0m\u001b[1m Chance of Admit  \u001b[0m\n",
       "\u001b[1m     \u001b[0m│\u001b[90m Int64      \u001b[0m\u001b[90m Int64     \u001b[0m\u001b[90m Int64       \u001b[0m\u001b[90m Int64             \u001b[0m\u001b[90m Float64 \u001b[0m\u001b[90m Float64 \u001b[0m\u001b[90m Float64 \u001b[0m\u001b[90m Int64    \u001b[0m\u001b[90m Float64          \u001b[0m\n",
       "─────┼──────────────────────────────────────────────────────────────────────────────────────────────────────────────\n",
       "   1 │        395        329          111                  4      4.5      4.0     9.23         1              0.89\n",
       "   2 │        396        324          110                  3      3.5      3.5     9.04         1              0.82\n",
       "   3 │        397        325          107                  3      3.0      3.5     9.11         1              0.84\n",
       "   4 │        398        330          116                  4      5.0      4.5     9.45         1              0.91\n",
       "   5 │        399        312          103                  3      3.5      4.0     8.78         0              0.67"
      ]
     },
     "execution_count": 42,
     "metadata": {},
     "output_type": "execute_result"
    }
   ],
   "source": [
    "last(df, 5)"
   ]
  },
  {
   "cell_type": "code",
   "execution_count": 43,
   "metadata": {
    "ExecuteTime": {
     "end_time": "2021-05-22T12:23:38.083000+04:00",
     "start_time": "2021-05-22T08:23:37.899Z"
    }
   },
   "outputs": [
    {
     "data": {
      "text/html": [
       "<table class=\"data-frame\"><thead><tr><th></th><th>Serial No.</th><th>GRE Score</th><th>TOEFL Score</th><th>University Rating</th><th>CGPA</th><th>Research</th><th>Chance of Admit </th></tr><tr><th></th><th>Int64</th><th>Int64</th><th>Int64</th><th>Int64</th><th>Float64</th><th>Int64</th><th>Float64</th></tr></thead><tbody><p>399 rows × 7 columns</p><tr><th>1</th><td>1</td><td>337</td><td>118</td><td>4</td><td>9.65</td><td>1</td><td>0.92</td></tr><tr><th>2</th><td>2</td><td>324</td><td>107</td><td>4</td><td>8.87</td><td>1</td><td>0.76</td></tr><tr><th>3</th><td>3</td><td>316</td><td>104</td><td>3</td><td>8.0</td><td>1</td><td>0.72</td></tr><tr><th>4</th><td>4</td><td>322</td><td>110</td><td>3</td><td>8.67</td><td>1</td><td>0.8</td></tr><tr><th>5</th><td>5</td><td>314</td><td>103</td><td>2</td><td>8.21</td><td>0</td><td>0.65</td></tr><tr><th>6</th><td>6</td><td>330</td><td>115</td><td>5</td><td>9.34</td><td>1</td><td>0.9</td></tr><tr><th>7</th><td>7</td><td>321</td><td>109</td><td>3</td><td>8.2</td><td>1</td><td>0.75</td></tr><tr><th>8</th><td>8</td><td>308</td><td>101</td><td>2</td><td>7.9</td><td>0</td><td>0.68</td></tr><tr><th>9</th><td>9</td><td>302</td><td>102</td><td>1</td><td>8.0</td><td>0</td><td>0.5</td></tr><tr><th>10</th><td>10</td><td>323</td><td>108</td><td>3</td><td>8.6</td><td>0</td><td>0.45</td></tr><tr><th>11</th><td>11</td><td>325</td><td>106</td><td>3</td><td>8.4</td><td>1</td><td>0.52</td></tr><tr><th>12</th><td>12</td><td>327</td><td>111</td><td>4</td><td>9.0</td><td>1</td><td>0.84</td></tr><tr><th>13</th><td>13</td><td>328</td><td>112</td><td>4</td><td>9.1</td><td>1</td><td>0.78</td></tr><tr><th>14</th><td>14</td><td>307</td><td>109</td><td>3</td><td>8.0</td><td>1</td><td>0.62</td></tr><tr><th>15</th><td>15</td><td>311</td><td>104</td><td>3</td><td>8.2</td><td>1</td><td>0.61</td></tr><tr><th>16</th><td>16</td><td>314</td><td>105</td><td>3</td><td>8.3</td><td>0</td><td>0.54</td></tr><tr><th>17</th><td>17</td><td>317</td><td>107</td><td>3</td><td>8.7</td><td>0</td><td>0.66</td></tr><tr><th>18</th><td>18</td><td>319</td><td>106</td><td>3</td><td>8.0</td><td>1</td><td>0.65</td></tr><tr><th>19</th><td>19</td><td>318</td><td>110</td><td>3</td><td>8.8</td><td>0</td><td>0.63</td></tr><tr><th>20</th><td>20</td><td>303</td><td>102</td><td>3</td><td>8.5</td><td>0</td><td>0.62</td></tr><tr><th>21</th><td>21</td><td>312</td><td>107</td><td>3</td><td>7.9</td><td>1</td><td>0.64</td></tr><tr><th>22</th><td>22</td><td>325</td><td>114</td><td>4</td><td>8.4</td><td>0</td><td>0.7</td></tr><tr><th>23</th><td>23</td><td>328</td><td>116</td><td>5</td><td>9.5</td><td>1</td><td>0.94</td></tr><tr><th>24</th><td>24</td><td>334</td><td>119</td><td>5</td><td>9.7</td><td>1</td><td>0.95</td></tr><tr><th>25</th><td>25</td><td>336</td><td>119</td><td>5</td><td>9.8</td><td>1</td><td>0.97</td></tr><tr><th>26</th><td>26</td><td>340</td><td>120</td><td>5</td><td>9.6</td><td>1</td><td>0.94</td></tr><tr><th>27</th><td>27</td><td>322</td><td>109</td><td>5</td><td>8.8</td><td>0</td><td>0.76</td></tr><tr><th>28</th><td>28</td><td>298</td><td>98</td><td>2</td><td>7.5</td><td>1</td><td>0.44</td></tr><tr><th>29</th><td>29</td><td>295</td><td>93</td><td>1</td><td>7.2</td><td>0</td><td>0.46</td></tr><tr><th>30</th><td>30</td><td>310</td><td>99</td><td>2</td><td>7.3</td><td>0</td><td>0.54</td></tr><tr><th>31</th><td>31</td><td>300</td><td>97</td><td>2</td><td>8.1</td><td>1</td><td>0.65</td></tr><tr><th>32</th><td>32</td><td>327</td><td>103</td><td>3</td><td>8.3</td><td>1</td><td>0.74</td></tr><tr><th>33</th><td>33</td><td>338</td><td>118</td><td>4</td><td>9.4</td><td>1</td><td>0.91</td></tr><tr><th>34</th><td>34</td><td>340</td><td>114</td><td>5</td><td>9.6</td><td>1</td><td>0.9</td></tr><tr><th>35</th><td>35</td><td>331</td><td>112</td><td>5</td><td>9.8</td><td>1</td><td>0.94</td></tr><tr><th>36</th><td>36</td><td>320</td><td>110</td><td>5</td><td>9.2</td><td>1</td><td>0.88</td></tr><tr><th>37</th><td>37</td><td>299</td><td>106</td><td>2</td><td>8.4</td><td>0</td><td>0.64</td></tr><tr><th>38</th><td>38</td><td>300</td><td>105</td><td>1</td><td>7.8</td><td>0</td><td>0.58</td></tr><tr><th>39</th><td>39</td><td>304</td><td>105</td><td>1</td><td>7.5</td><td>0</td><td>0.52</td></tr><tr><th>40</th><td>40</td><td>307</td><td>108</td><td>2</td><td>7.7</td><td>0</td><td>0.48</td></tr><tr><th>41</th><td>41</td><td>308</td><td>110</td><td>3</td><td>8.0</td><td>1</td><td>0.46</td></tr><tr><th>42</th><td>42</td><td>316</td><td>105</td><td>2</td><td>8.2</td><td>1</td><td>0.49</td></tr><tr><th>43</th><td>43</td><td>313</td><td>107</td><td>2</td><td>8.5</td><td>1</td><td>0.53</td></tr><tr><th>44</th><td>44</td><td>332</td><td>117</td><td>4</td><td>9.1</td><td>0</td><td>0.87</td></tr><tr><th>45</th><td>45</td><td>326</td><td>113</td><td>5</td><td>9.4</td><td>1</td><td>0.91</td></tr><tr><th>46</th><td>46</td><td>322</td><td>110</td><td>5</td><td>9.1</td><td>1</td><td>0.88</td></tr><tr><th>47</th><td>47</td><td>329</td><td>114</td><td>5</td><td>9.3</td><td>1</td><td>0.86</td></tr><tr><th>48</th><td>48</td><td>339</td><td>119</td><td>5</td><td>9.7</td><td>0</td><td>0.89</td></tr><tr><th>49</th><td>49</td><td>321</td><td>110</td><td>3</td><td>8.85</td><td>1</td><td>0.82</td></tr><tr><th>50</th><td>50</td><td>327</td><td>111</td><td>4</td><td>8.4</td><td>1</td><td>0.78</td></tr><tr><th>51</th><td>51</td><td>313</td><td>98</td><td>3</td><td>8.3</td><td>1</td><td>0.76</td></tr><tr><th>52</th><td>52</td><td>312</td><td>100</td><td>2</td><td>7.9</td><td>1</td><td>0.56</td></tr><tr><th>53</th><td>53</td><td>334</td><td>116</td><td>4</td><td>8.0</td><td>1</td><td>0.78</td></tr><tr><th>54</th><td>54</td><td>324</td><td>112</td><td>4</td><td>8.1</td><td>1</td><td>0.72</td></tr><tr><th>55</th><td>55</td><td>322</td><td>110</td><td>3</td><td>8.0</td><td>0</td><td>0.7</td></tr><tr><th>56</th><td>56</td><td>320</td><td>103</td><td>3</td><td>7.7</td><td>0</td><td>0.64</td></tr><tr><th>57</th><td>57</td><td>316</td><td>102</td><td>3</td><td>7.4</td><td>0</td><td>0.64</td></tr><tr><th>58</th><td>58</td><td>298</td><td>99</td><td>2</td><td>7.6</td><td>0</td><td>0.46</td></tr><tr><th>59</th><td>59</td><td>300</td><td>99</td><td>1</td><td>6.8</td><td>1</td><td>0.36</td></tr><tr><th>60</th><td>60</td><td>311</td><td>104</td><td>2</td><td>8.3</td><td>0</td><td>0.42</td></tr><tr><th>61</th><td>61</td><td>309</td><td>100</td><td>2</td><td>8.1</td><td>0</td><td>0.48</td></tr><tr><th>62</th><td>62</td><td>307</td><td>101</td><td>3</td><td>8.2</td><td>0</td><td>0.47</td></tr><tr><th>63</th><td>63</td><td>304</td><td>105</td><td>2</td><td>8.2</td><td>1</td><td>0.54</td></tr><tr><th>64</th><td>64</td><td>315</td><td>107</td><td>2</td><td>8.5</td><td>1</td><td>0.56</td></tr><tr><th>65</th><td>65</td><td>325</td><td>111</td><td>3</td><td>8.7</td><td>0</td><td>0.52</td></tr><tr><th>66</th><td>66</td><td>325</td><td>112</td><td>4</td><td>8.92</td><td>0</td><td>0.55</td></tr><tr><th>67</th><td>67</td><td>327</td><td>114</td><td>3</td><td>9.02</td><td>0</td><td>0.61</td></tr><tr><th>68</th><td>68</td><td>316</td><td>107</td><td>2</td><td>8.64</td><td>1</td><td>0.57</td></tr><tr><th>69</th><td>69</td><td>318</td><td>109</td><td>3</td><td>9.22</td><td>1</td><td>0.68</td></tr><tr><th>70</th><td>70</td><td>328</td><td>115</td><td>4</td><td>9.16</td><td>1</td><td>0.78</td></tr><tr><th>71</th><td>71</td><td>332</td><td>118</td><td>5</td><td>9.64</td><td>1</td><td>0.94</td></tr><tr><th>72</th><td>72</td><td>336</td><td>112</td><td>5</td><td>9.76</td><td>1</td><td>0.96</td></tr><tr><th>73</th><td>73</td><td>321</td><td>111</td><td>5</td><td>9.45</td><td>1</td><td>0.93</td></tr><tr><th>74</th><td>74</td><td>314</td><td>108</td><td>4</td><td>9.04</td><td>1</td><td>0.84</td></tr><tr><th>75</th><td>75</td><td>314</td><td>106</td><td>3</td><td>8.9</td><td>0</td><td>0.74</td></tr><tr><th>76</th><td>76</td><td>329</td><td>114</td><td>2</td><td>8.56</td><td>1</td><td>0.72</td></tr><tr><th>77</th><td>77</td><td>327</td><td>112</td><td>3</td><td>8.72</td><td>1</td><td>0.74</td></tr><tr><th>78</th><td>78</td><td>301</td><td>99</td><td>2</td><td>8.22</td><td>0</td><td>0.64</td></tr><tr><th>79</th><td>79</td><td>296</td><td>95</td><td>2</td><td>7.54</td><td>1</td><td>0.44</td></tr><tr><th>80</th><td>80</td><td>294</td><td>93</td><td>1</td><td>7.36</td><td>0</td><td>0.46</td></tr><tr><th>81</th><td>81</td><td>312</td><td>105</td><td>3</td><td>8.02</td><td>1</td><td>0.5</td></tr><tr><th>82</th><td>82</td><td>340</td><td>120</td><td>4</td><td>9.5</td><td>1</td><td>0.96</td></tr><tr><th>83</th><td>83</td><td>320</td><td>110</td><td>5</td><td>9.22</td><td>1</td><td>0.92</td></tr><tr><th>84</th><td>84</td><td>322</td><td>115</td><td>5</td><td>9.36</td><td>1</td><td>0.92</td></tr><tr><th>85</th><td>85</td><td>340</td><td>115</td><td>5</td><td>9.45</td><td>1</td><td>0.94</td></tr><tr><th>86</th><td>86</td><td>319</td><td>103</td><td>4</td><td>8.66</td><td>0</td><td>0.76</td></tr><tr><th>87</th><td>87</td><td>315</td><td>106</td><td>3</td><td>8.42</td><td>0</td><td>0.72</td></tr><tr><th>88</th><td>88</td><td>317</td><td>107</td><td>2</td><td>8.28</td><td>0</td><td>0.66</td></tr><tr><th>89</th><td>89</td><td>314</td><td>108</td><td>3</td><td>8.14</td><td>0</td><td>0.64</td></tr><tr><th>90</th><td>90</td><td>316</td><td>109</td><td>4</td><td>8.76</td><td>1</td><td>0.74</td></tr><tr><th>91</th><td>91</td><td>318</td><td>106</td><td>2</td><td>7.92</td><td>1</td><td>0.64</td></tr><tr><th>92</th><td>92</td><td>299</td><td>97</td><td>3</td><td>7.66</td><td>0</td><td>0.38</td></tr><tr><th>93</th><td>93</td><td>298</td><td>98</td><td>2</td><td>8.03</td><td>0</td><td>0.34</td></tr><tr><th>94</th><td>94</td><td>301</td><td>97</td><td>2</td><td>7.88</td><td>1</td><td>0.44</td></tr><tr><th>95</th><td>95</td><td>303</td><td>99</td><td>3</td><td>7.66</td><td>0</td><td>0.36</td></tr><tr><th>96</th><td>96</td><td>304</td><td>100</td><td>4</td><td>7.84</td><td>0</td><td>0.42</td></tr><tr><th>97</th><td>97</td><td>306</td><td>100</td><td>2</td><td>8.0</td><td>0</td><td>0.48</td></tr><tr><th>98</th><td>98</td><td>331</td><td>120</td><td>3</td><td>8.96</td><td>1</td><td>0.86</td></tr><tr><th>99</th><td>99</td><td>332</td><td>119</td><td>4</td><td>9.24</td><td>1</td><td>0.9</td></tr><tr><th>100</th><td>100</td><td>323</td><td>113</td><td>3</td><td>8.88</td><td>1</td><td>0.79</td></tr><tr><th>&vellip;</th><td>&vellip;</td><td>&vellip;</td><td>&vellip;</td><td>&vellip;</td><td>&vellip;</td><td>&vellip;</td><td>&vellip;</td></tr></tbody></table>"
      ],
      "text/latex": [
       "\\begin{tabular}{r|ccccccc}\n",
       "\t& Serial No. & GRE Score & TOEFL Score & University Rating & CGPA & Research & Chance of Admit \\\\\n",
       "\t\\hline\n",
       "\t& Int64 & Int64 & Int64 & Int64 & Float64 & Int64 & Float64\\\\\n",
       "\t\\hline\n",
       "\t1 & 1 & 337 & 118 & 4 & 9.65 & 1 & 0.92 \\\\\n",
       "\t2 & 2 & 324 & 107 & 4 & 8.87 & 1 & 0.76 \\\\\n",
       "\t3 & 3 & 316 & 104 & 3 & 8.0 & 1 & 0.72 \\\\\n",
       "\t4 & 4 & 322 & 110 & 3 & 8.67 & 1 & 0.8 \\\\\n",
       "\t5 & 5 & 314 & 103 & 2 & 8.21 & 0 & 0.65 \\\\\n",
       "\t6 & 6 & 330 & 115 & 5 & 9.34 & 1 & 0.9 \\\\\n",
       "\t7 & 7 & 321 & 109 & 3 & 8.2 & 1 & 0.75 \\\\\n",
       "\t8 & 8 & 308 & 101 & 2 & 7.9 & 0 & 0.68 \\\\\n",
       "\t9 & 9 & 302 & 102 & 1 & 8.0 & 0 & 0.5 \\\\\n",
       "\t10 & 10 & 323 & 108 & 3 & 8.6 & 0 & 0.45 \\\\\n",
       "\t11 & 11 & 325 & 106 & 3 & 8.4 & 1 & 0.52 \\\\\n",
       "\t12 & 12 & 327 & 111 & 4 & 9.0 & 1 & 0.84 \\\\\n",
       "\t13 & 13 & 328 & 112 & 4 & 9.1 & 1 & 0.78 \\\\\n",
       "\t14 & 14 & 307 & 109 & 3 & 8.0 & 1 & 0.62 \\\\\n",
       "\t15 & 15 & 311 & 104 & 3 & 8.2 & 1 & 0.61 \\\\\n",
       "\t16 & 16 & 314 & 105 & 3 & 8.3 & 0 & 0.54 \\\\\n",
       "\t17 & 17 & 317 & 107 & 3 & 8.7 & 0 & 0.66 \\\\\n",
       "\t18 & 18 & 319 & 106 & 3 & 8.0 & 1 & 0.65 \\\\\n",
       "\t19 & 19 & 318 & 110 & 3 & 8.8 & 0 & 0.63 \\\\\n",
       "\t20 & 20 & 303 & 102 & 3 & 8.5 & 0 & 0.62 \\\\\n",
       "\t21 & 21 & 312 & 107 & 3 & 7.9 & 1 & 0.64 \\\\\n",
       "\t22 & 22 & 325 & 114 & 4 & 8.4 & 0 & 0.7 \\\\\n",
       "\t23 & 23 & 328 & 116 & 5 & 9.5 & 1 & 0.94 \\\\\n",
       "\t24 & 24 & 334 & 119 & 5 & 9.7 & 1 & 0.95 \\\\\n",
       "\t25 & 25 & 336 & 119 & 5 & 9.8 & 1 & 0.97 \\\\\n",
       "\t26 & 26 & 340 & 120 & 5 & 9.6 & 1 & 0.94 \\\\\n",
       "\t27 & 27 & 322 & 109 & 5 & 8.8 & 0 & 0.76 \\\\\n",
       "\t28 & 28 & 298 & 98 & 2 & 7.5 & 1 & 0.44 \\\\\n",
       "\t29 & 29 & 295 & 93 & 1 & 7.2 & 0 & 0.46 \\\\\n",
       "\t30 & 30 & 310 & 99 & 2 & 7.3 & 0 & 0.54 \\\\\n",
       "\t31 & 31 & 300 & 97 & 2 & 8.1 & 1 & 0.65 \\\\\n",
       "\t32 & 32 & 327 & 103 & 3 & 8.3 & 1 & 0.74 \\\\\n",
       "\t33 & 33 & 338 & 118 & 4 & 9.4 & 1 & 0.91 \\\\\n",
       "\t34 & 34 & 340 & 114 & 5 & 9.6 & 1 & 0.9 \\\\\n",
       "\t35 & 35 & 331 & 112 & 5 & 9.8 & 1 & 0.94 \\\\\n",
       "\t36 & 36 & 320 & 110 & 5 & 9.2 & 1 & 0.88 \\\\\n",
       "\t37 & 37 & 299 & 106 & 2 & 8.4 & 0 & 0.64 \\\\\n",
       "\t38 & 38 & 300 & 105 & 1 & 7.8 & 0 & 0.58 \\\\\n",
       "\t39 & 39 & 304 & 105 & 1 & 7.5 & 0 & 0.52 \\\\\n",
       "\t40 & 40 & 307 & 108 & 2 & 7.7 & 0 & 0.48 \\\\\n",
       "\t41 & 41 & 308 & 110 & 3 & 8.0 & 1 & 0.46 \\\\\n",
       "\t42 & 42 & 316 & 105 & 2 & 8.2 & 1 & 0.49 \\\\\n",
       "\t43 & 43 & 313 & 107 & 2 & 8.5 & 1 & 0.53 \\\\\n",
       "\t44 & 44 & 332 & 117 & 4 & 9.1 & 0 & 0.87 \\\\\n",
       "\t45 & 45 & 326 & 113 & 5 & 9.4 & 1 & 0.91 \\\\\n",
       "\t46 & 46 & 322 & 110 & 5 & 9.1 & 1 & 0.88 \\\\\n",
       "\t47 & 47 & 329 & 114 & 5 & 9.3 & 1 & 0.86 \\\\\n",
       "\t48 & 48 & 339 & 119 & 5 & 9.7 & 0 & 0.89 \\\\\n",
       "\t49 & 49 & 321 & 110 & 3 & 8.85 & 1 & 0.82 \\\\\n",
       "\t50 & 50 & 327 & 111 & 4 & 8.4 & 1 & 0.78 \\\\\n",
       "\t51 & 51 & 313 & 98 & 3 & 8.3 & 1 & 0.76 \\\\\n",
       "\t52 & 52 & 312 & 100 & 2 & 7.9 & 1 & 0.56 \\\\\n",
       "\t53 & 53 & 334 & 116 & 4 & 8.0 & 1 & 0.78 \\\\\n",
       "\t54 & 54 & 324 & 112 & 4 & 8.1 & 1 & 0.72 \\\\\n",
       "\t55 & 55 & 322 & 110 & 3 & 8.0 & 0 & 0.7 \\\\\n",
       "\t56 & 56 & 320 & 103 & 3 & 7.7 & 0 & 0.64 \\\\\n",
       "\t57 & 57 & 316 & 102 & 3 & 7.4 & 0 & 0.64 \\\\\n",
       "\t58 & 58 & 298 & 99 & 2 & 7.6 & 0 & 0.46 \\\\\n",
       "\t59 & 59 & 300 & 99 & 1 & 6.8 & 1 & 0.36 \\\\\n",
       "\t60 & 60 & 311 & 104 & 2 & 8.3 & 0 & 0.42 \\\\\n",
       "\t61 & 61 & 309 & 100 & 2 & 8.1 & 0 & 0.48 \\\\\n",
       "\t62 & 62 & 307 & 101 & 3 & 8.2 & 0 & 0.47 \\\\\n",
       "\t63 & 63 & 304 & 105 & 2 & 8.2 & 1 & 0.54 \\\\\n",
       "\t64 & 64 & 315 & 107 & 2 & 8.5 & 1 & 0.56 \\\\\n",
       "\t65 & 65 & 325 & 111 & 3 & 8.7 & 0 & 0.52 \\\\\n",
       "\t66 & 66 & 325 & 112 & 4 & 8.92 & 0 & 0.55 \\\\\n",
       "\t67 & 67 & 327 & 114 & 3 & 9.02 & 0 & 0.61 \\\\\n",
       "\t68 & 68 & 316 & 107 & 2 & 8.64 & 1 & 0.57 \\\\\n",
       "\t69 & 69 & 318 & 109 & 3 & 9.22 & 1 & 0.68 \\\\\n",
       "\t70 & 70 & 328 & 115 & 4 & 9.16 & 1 & 0.78 \\\\\n",
       "\t71 & 71 & 332 & 118 & 5 & 9.64 & 1 & 0.94 \\\\\n",
       "\t72 & 72 & 336 & 112 & 5 & 9.76 & 1 & 0.96 \\\\\n",
       "\t73 & 73 & 321 & 111 & 5 & 9.45 & 1 & 0.93 \\\\\n",
       "\t74 & 74 & 314 & 108 & 4 & 9.04 & 1 & 0.84 \\\\\n",
       "\t75 & 75 & 314 & 106 & 3 & 8.9 & 0 & 0.74 \\\\\n",
       "\t76 & 76 & 329 & 114 & 2 & 8.56 & 1 & 0.72 \\\\\n",
       "\t77 & 77 & 327 & 112 & 3 & 8.72 & 1 & 0.74 \\\\\n",
       "\t78 & 78 & 301 & 99 & 2 & 8.22 & 0 & 0.64 \\\\\n",
       "\t79 & 79 & 296 & 95 & 2 & 7.54 & 1 & 0.44 \\\\\n",
       "\t80 & 80 & 294 & 93 & 1 & 7.36 & 0 & 0.46 \\\\\n",
       "\t81 & 81 & 312 & 105 & 3 & 8.02 & 1 & 0.5 \\\\\n",
       "\t82 & 82 & 340 & 120 & 4 & 9.5 & 1 & 0.96 \\\\\n",
       "\t83 & 83 & 320 & 110 & 5 & 9.22 & 1 & 0.92 \\\\\n",
       "\t84 & 84 & 322 & 115 & 5 & 9.36 & 1 & 0.92 \\\\\n",
       "\t85 & 85 & 340 & 115 & 5 & 9.45 & 1 & 0.94 \\\\\n",
       "\t86 & 86 & 319 & 103 & 4 & 8.66 & 0 & 0.76 \\\\\n",
       "\t87 & 87 & 315 & 106 & 3 & 8.42 & 0 & 0.72 \\\\\n",
       "\t88 & 88 & 317 & 107 & 2 & 8.28 & 0 & 0.66 \\\\\n",
       "\t89 & 89 & 314 & 108 & 3 & 8.14 & 0 & 0.64 \\\\\n",
       "\t90 & 90 & 316 & 109 & 4 & 8.76 & 1 & 0.74 \\\\\n",
       "\t91 & 91 & 318 & 106 & 2 & 7.92 & 1 & 0.64 \\\\\n",
       "\t92 & 92 & 299 & 97 & 3 & 7.66 & 0 & 0.38 \\\\\n",
       "\t93 & 93 & 298 & 98 & 2 & 8.03 & 0 & 0.34 \\\\\n",
       "\t94 & 94 & 301 & 97 & 2 & 7.88 & 1 & 0.44 \\\\\n",
       "\t95 & 95 & 303 & 99 & 3 & 7.66 & 0 & 0.36 \\\\\n",
       "\t96 & 96 & 304 & 100 & 4 & 7.84 & 0 & 0.42 \\\\\n",
       "\t97 & 97 & 306 & 100 & 2 & 8.0 & 0 & 0.48 \\\\\n",
       "\t98 & 98 & 331 & 120 & 3 & 8.96 & 1 & 0.86 \\\\\n",
       "\t99 & 99 & 332 & 119 & 4 & 9.24 & 1 & 0.9 \\\\\n",
       "\t100 & 100 & 323 & 113 & 3 & 8.88 & 1 & 0.79 \\\\\n",
       "\t$\\dots$ & $\\dots$ & $\\dots$ & $\\dots$ & $\\dots$ & $\\dots$ & $\\dots$ & $\\dots$ \\\\\n",
       "\\end{tabular}\n"
      ],
      "text/plain": [
       "\u001b[1m399×7 DataFrame\u001b[0m\n",
       "\u001b[1m Row \u001b[0m│\u001b[1m Serial No. \u001b[0m\u001b[1m GRE Score \u001b[0m\u001b[1m TOEFL Score \u001b[0m\u001b[1m University Rating \u001b[0m\u001b[1m CGPA    \u001b[0m\u001b[1m Research \u001b[0m\u001b[1m Chance of Admit  \u001b[0m\n",
       "\u001b[1m     \u001b[0m│\u001b[90m Int64      \u001b[0m\u001b[90m Int64     \u001b[0m\u001b[90m Int64       \u001b[0m\u001b[90m Int64             \u001b[0m\u001b[90m Float64 \u001b[0m\u001b[90m Int64    \u001b[0m\u001b[90m Float64          \u001b[0m\n",
       "─────┼────────────────────────────────────────────────────────────────────────────────────────────\n",
       "   1 │          1        337          118                  4     9.65         1              0.92\n",
       "   2 │          2        324          107                  4     8.87         1              0.76\n",
       "   3 │          3        316          104                  3     8.0          1              0.72\n",
       "   4 │          4        322          110                  3     8.67         1              0.8\n",
       "   5 │          5        314          103                  2     8.21         0              0.65\n",
       "   6 │          6        330          115                  5     9.34         1              0.9\n",
       "   7 │          7        321          109                  3     8.2          1              0.75\n",
       "   8 │          8        308          101                  2     7.9          0              0.68\n",
       "   9 │          9        302          102                  1     8.0          0              0.5\n",
       "  10 │         10        323          108                  3     8.6          0              0.45\n",
       "  11 │         11        325          106                  3     8.4          1              0.52\n",
       "  12 │         12        327          111                  4     9.0          1              0.84\n",
       "  13 │         13        328          112                  4     9.1          1              0.78\n",
       "  14 │         14        307          109                  3     8.0          1              0.62\n",
       "  15 │         15        311          104                  3     8.2          1              0.61\n",
       "  16 │         16        314          105                  3     8.3          0              0.54\n",
       "  17 │         17        317          107                  3     8.7          0              0.66\n",
       "  18 │         18        319          106                  3     8.0          1              0.65\n",
       "  19 │         19        318          110                  3     8.8          0              0.63\n",
       "  20 │         20        303          102                  3     8.5          0              0.62\n",
       "  21 │         21        312          107                  3     7.9          1              0.64\n",
       "  22 │         22        325          114                  4     8.4          0              0.7\n",
       "  23 │         23        328          116                  5     9.5          1              0.94\n",
       "  24 │         24        334          119                  5     9.7          1              0.95\n",
       "  25 │         25        336          119                  5     9.8          1              0.97\n",
       "  26 │         26        340          120                  5     9.6          1              0.94\n",
       "  27 │         27        322          109                  5     8.8          0              0.76\n",
       "  28 │         28        298           98                  2     7.5          1              0.44\n",
       "  29 │         29        295           93                  1     7.2          0              0.46\n",
       "  30 │         30        310           99                  2     7.3          0              0.54\n",
       "  31 │         31        300           97                  2     8.1          1              0.65\n",
       "  32 │         32        327          103                  3     8.3          1              0.74\n",
       "  33 │         33        338          118                  4     9.4          1              0.91\n",
       "  34 │         34        340          114                  5     9.6          1              0.9\n",
       "  35 │         35        331          112                  5     9.8          1              0.94\n",
       "  36 │         36        320          110                  5     9.2          1              0.88\n",
       "  37 │         37        299          106                  2     8.4          0              0.64\n",
       "  38 │         38        300          105                  1     7.8          0              0.58\n",
       "  39 │         39        304          105                  1     7.5          0              0.52\n",
       "  40 │         40        307          108                  2     7.7          0              0.48\n",
       "  41 │         41        308          110                  3     8.0          1              0.46\n",
       "  42 │         42        316          105                  2     8.2          1              0.49\n",
       "  43 │         43        313          107                  2     8.5          1              0.53\n",
       "  44 │         44        332          117                  4     9.1          0              0.87\n",
       "  45 │         45        326          113                  5     9.4          1              0.91\n",
       "  46 │         46        322          110                  5     9.1          1              0.88\n",
       "  ⋮  │     ⋮           ⋮           ⋮               ⋮             ⋮        ⋮             ⋮\n",
       " 355 │        355        297           98                  2     7.67         0              0.59\n",
       " 356 │        356        317          106                  2     8.12         0              0.73\n",
       " 357 │        357        327          109                  3     8.77         1              0.79\n",
       " 358 │        358        301          104                  2     7.89         1              0.68\n",
       " 359 │        359        314          105                  2     7.64         0              0.7\n",
       " 360 │        360        321          107                  2     8.44         0              0.81\n",
       " 361 │        361        322          110                  3     8.64         1              0.85\n",
       " 362 │        362        334          116                  4     9.54         1              0.93\n",
       " 363 │        363        338          115                  5     9.23         1              0.91\n",
       " 364 │        364        306          103                  2     8.36         0              0.69\n",
       " 365 │        365        313          102                  3     8.9          1              0.77\n",
       " 366 │        366        330          114                  4     9.17         1              0.86\n",
       " 367 │        367        320          104                  3     8.34         1              0.74\n",
       " 368 │        368        311           98                  1     7.46         0              0.57\n",
       " 369 │        369        298           92                  1     7.88         0              0.51\n",
       " 370 │        370        301           98                  1     8.03         1              0.67\n",
       " 371 │        371        310          103                  2     8.24         0              0.72\n",
       " 372 │        372        324          110                  3     9.22         1              0.89\n",
       " 373 │        373        336          119                  4     9.62         1              0.95\n",
       " 374 │        374        321          109                  3     8.54         1              0.79\n",
       " 375 │        375        315          105                  2     7.65         0              0.39\n",
       " 376 │        376        304          101                  2     7.66         0              0.38\n",
       " 377 │        377        297           96                  2     7.43         0              0.34\n",
       " 378 │        378        290          100                  1     7.56         0              0.47\n",
       " 379 │        379        303           98                  1     7.65         0              0.56\n",
       " 380 │        380        311           99                  1     8.43         1              0.71\n",
       " 381 │        381        322          104                  3     8.84         1              0.78\n",
       " 382 │        382        319          105                  3     8.67         1              0.73\n",
       " 383 │        383        324          110                  4     9.15         1              0.82\n",
       " 384 │        384        300          100                  3     8.26         0              0.62\n",
       " 385 │        385        340          113                  4     9.74         1              0.96\n",
       " 386 │        386        335          117                  5     9.82         1              0.96\n",
       " 387 │        387        302          101                  2     7.96         0              0.46\n",
       " 388 │        388        307          105                  2     8.1          0              0.53\n",
       " 389 │        389        296           97                  2     7.8          0              0.49\n",
       " 390 │        390        320          108                  3     8.44         1              0.76\n",
       " 391 │        391        314          102                  2     8.24         0              0.64\n",
       " 392 │        392        318          106                  3     8.65         0              0.71\n",
       " 393 │        393        326          112                  4     9.12         1              0.84\n",
       " 394 │        394        317          104                  2     8.76         0              0.77\n",
       " 395 │        395        329          111                  4     9.23         1              0.89\n",
       " 396 │        396        324          110                  3     9.04         1              0.82\n",
       " 397 │        397        325          107                  3     9.11         1              0.84\n",
       " 398 │        398        330          116                  4     9.45         1              0.91\n",
       " 399 │        399        312          103                  3     8.78         0              0.67\n",
       "\u001b[36m                                                                                  308 rows omitted\u001b[0m"
      ]
     },
     "execution_count": 43,
     "metadata": {},
     "output_type": "execute_result"
    }
   ],
   "source": [
    "select(df, Not(:SOP)) # Remove one column\n",
    "\n",
    "select(df, Not([:SOP, :LOR])) # Remove two or more columns"
   ]
  },
  {
   "cell_type": "markdown",
   "metadata": {},
   "source": [
    "## Sorting\n",
    "\n",
    "---\n",
    "\n",
    "Sorting is an important operation. We can sort DataFrame by one or several columns and with different sorting order, ascending or descending."
   ]
  },
  {
   "cell_type": "code",
   "execution_count": 44,
   "metadata": {
    "ExecuteTime": {
     "end_time": "2021-05-22T12:23:39.199000+04:00",
     "start_time": "2021-05-22T08:23:39.182Z"
    }
   },
   "outputs": [
    {
     "data": {
      "text/html": [
       "<table class=\"data-frame\"><thead><tr><th></th><th>Serial No.</th><th>GRE Score</th><th>TOEFL Score</th><th>University Rating</th><th>SOP</th><th>LOR</th><th>CGPA</th><th>Research</th><th>Chance of Admit </th></tr><tr><th></th><th>Int64</th><th>Int64</th><th>Int64</th><th>Int64</th><th>Float64</th><th>Float64</th><th>Float64</th><th>Int64</th><th>Float64</th></tr></thead><tbody><p>5 rows × 9 columns</p><tr><th>1</th><td>1</td><td>337</td><td>118</td><td>4</td><td>4.5</td><td>4.5</td><td>9.65</td><td>1</td><td>0.92</td></tr><tr><th>2</th><td>2</td><td>324</td><td>107</td><td>4</td><td>4.0</td><td>4.5</td><td>8.87</td><td>1</td><td>0.76</td></tr><tr><th>3</th><td>3</td><td>316</td><td>104</td><td>3</td><td>3.0</td><td>3.5</td><td>8.0</td><td>1</td><td>0.72</td></tr><tr><th>4</th><td>4</td><td>322</td><td>110</td><td>3</td><td>3.5</td><td>2.5</td><td>8.67</td><td>1</td><td>0.8</td></tr><tr><th>5</th><td>5</td><td>314</td><td>103</td><td>2</td><td>2.0</td><td>3.0</td><td>8.21</td><td>0</td><td>0.65</td></tr></tbody></table>"
      ],
      "text/latex": [
       "\\begin{tabular}{r|ccccccccc}\n",
       "\t& Serial No. & GRE Score & TOEFL Score & University Rating & SOP & LOR & CGPA & Research & Chance of Admit \\\\\n",
       "\t\\hline\n",
       "\t& Int64 & Int64 & Int64 & Int64 & Float64 & Float64 & Float64 & Int64 & Float64\\\\\n",
       "\t\\hline\n",
       "\t1 & 1 & 337 & 118 & 4 & 4.5 & 4.5 & 9.65 & 1 & 0.92 \\\\\n",
       "\t2 & 2 & 324 & 107 & 4 & 4.0 & 4.5 & 8.87 & 1 & 0.76 \\\\\n",
       "\t3 & 3 & 316 & 104 & 3 & 3.0 & 3.5 & 8.0 & 1 & 0.72 \\\\\n",
       "\t4 & 4 & 322 & 110 & 3 & 3.5 & 2.5 & 8.67 & 1 & 0.8 \\\\\n",
       "\t5 & 5 & 314 & 103 & 2 & 2.0 & 3.0 & 8.21 & 0 & 0.65 \\\\\n",
       "\\end{tabular}\n"
      ],
      "text/plain": [
       "\u001b[1m5×9 DataFrame\u001b[0m\n",
       "\u001b[1m Row \u001b[0m│\u001b[1m Serial No. \u001b[0m\u001b[1m GRE Score \u001b[0m\u001b[1m TOEFL Score \u001b[0m\u001b[1m University Rating \u001b[0m\u001b[1m SOP     \u001b[0m\u001b[1m LOR     \u001b[0m\u001b[1m CGPA    \u001b[0m\u001b[1m Research \u001b[0m\u001b[1m Chance of Admit  \u001b[0m\n",
       "\u001b[1m     \u001b[0m│\u001b[90m Int64      \u001b[0m\u001b[90m Int64     \u001b[0m\u001b[90m Int64       \u001b[0m\u001b[90m Int64             \u001b[0m\u001b[90m Float64 \u001b[0m\u001b[90m Float64 \u001b[0m\u001b[90m Float64 \u001b[0m\u001b[90m Int64    \u001b[0m\u001b[90m Float64          \u001b[0m\n",
       "─────┼──────────────────────────────────────────────────────────────────────────────────────────────────────────────\n",
       "   1 │          1        337          118                  4      4.5      4.5     9.65         1              0.92\n",
       "   2 │          2        324          107                  4      4.0      4.5     8.87         1              0.76\n",
       "   3 │          3        316          104                  3      3.0      3.5     8.0          1              0.72\n",
       "   4 │          4        322          110                  3      3.5      2.5     8.67         1              0.8\n",
       "   5 │          5        314          103                  2      2.0      3.0     8.21         0              0.65"
      ]
     },
     "execution_count": 44,
     "metadata": {},
     "output_type": "execute_result"
    }
   ],
   "source": [
    "first(df, 5)"
   ]
  },
  {
   "cell_type": "code",
   "execution_count": 45,
   "metadata": {
    "ExecuteTime": {
     "end_time": "2021-05-22T12:23:39.866000+04:00",
     "start_time": "2021-05-22T08:23:39.444Z"
    }
   },
   "outputs": [
    {
     "data": {
      "text/html": [
       "<table class=\"data-frame\"><thead><tr><th></th><th>Serial No.</th><th>GRE Score</th><th>TOEFL Score</th><th>University Rating</th><th>SOP</th><th>LOR</th><th>CGPA</th><th>Research</th><th>Chance of Admit </th></tr><tr><th></th><th>Int64</th><th>Int64</th><th>Int64</th><th>Int64</th><th>Float64</th><th>Float64</th><th>Float64</th><th>Int64</th><th>Float64</th></tr></thead><tbody><p>399 rows × 9 columns</p><tr><th>1</th><td>23</td><td>328</td><td>116</td><td>5</td><td>5.0</td><td>5.0</td><td>9.5</td><td>1</td><td>0.94</td></tr><tr><th>2</th><td>24</td><td>334</td><td>119</td><td>5</td><td>5.0</td><td>4.5</td><td>9.7</td><td>1</td><td>0.95</td></tr><tr><th>3</th><td>36</td><td>320</td><td>110</td><td>5</td><td>5.0</td><td>5.0</td><td>9.2</td><td>1</td><td>0.88</td></tr><tr><th>4</th><td>46</td><td>322</td><td>110</td><td>5</td><td>5.0</td><td>4.0</td><td>9.1</td><td>1</td><td>0.88</td></tr><tr><th>5</th><td>71</td><td>332</td><td>118</td><td>5</td><td>5.0</td><td>5.0</td><td>9.64</td><td>1</td><td>0.94</td></tr><tr><th>6</th><td>72</td><td>336</td><td>112</td><td>5</td><td>5.0</td><td>5.0</td><td>9.76</td><td>1</td><td>0.96</td></tr><tr><th>7</th><td>73</td><td>321</td><td>111</td><td>5</td><td>5.0</td><td>5.0</td><td>9.45</td><td>1</td><td>0.93</td></tr><tr><th>8</th><td>82</td><td>340</td><td>120</td><td>4</td><td>5.0</td><td>5.0</td><td>9.5</td><td>1</td><td>0.96</td></tr><tr><th>9</th><td>83</td><td>320</td><td>110</td><td>5</td><td>5.0</td><td>4.5</td><td>9.22</td><td>1</td><td>0.92</td></tr><tr><th>10</th><td>92</td><td>299</td><td>97</td><td>3</td><td>5.0</td><td>3.5</td><td>7.66</td><td>0</td><td>0.38</td></tr><tr><th>11</th><td>99</td><td>332</td><td>119</td><td>4</td><td>5.0</td><td>4.5</td><td>9.24</td><td>1</td><td>0.9</td></tr><tr><th>12</th><td>109</td><td>331</td><td>116</td><td>5</td><td>5.0</td><td>5.0</td><td>9.38</td><td>1</td><td>0.93</td></tr><tr><th>13</th><td>110</td><td>304</td><td>103</td><td>5</td><td>5.0</td><td>4.0</td><td>8.64</td><td>0</td><td>0.68</td></tr><tr><th>14</th><td>121</td><td>335</td><td>117</td><td>5</td><td>5.0</td><td>5.0</td><td>9.56</td><td>1</td><td>0.94</td></tr><tr><th>15</th><td>130</td><td>333</td><td>118</td><td>5</td><td>5.0</td><td>5.0</td><td>9.35</td><td>1</td><td>0.92</td></tr><tr><th>16</th><td>132</td><td>303</td><td>105</td><td>5</td><td>5.0</td><td>4.5</td><td>8.65</td><td>0</td><td>0.77</td></tr><tr><th>17</th><td>137</td><td>312</td><td>103</td><td>3</td><td>5.0</td><td>4.0</td><td>8.45</td><td>0</td><td>0.76</td></tr><tr><th>18</th><td>152</td><td>332</td><td>116</td><td>5</td><td>5.0</td><td>5.0</td><td>9.28</td><td>1</td><td>0.94</td></tr><tr><th>19</th><td>153</td><td>321</td><td>112</td><td>5</td><td>5.0</td><td>5.0</td><td>9.06</td><td>1</td><td>0.86</td></tr><tr><th>20</th><td>190</td><td>324</td><td>112</td><td>5</td><td>5.0</td><td>5.0</td><td>9.08</td><td>1</td><td>0.88</td></tr><tr><th>21</th><td>212</td><td>328</td><td>110</td><td>4</td><td>5.0</td><td>4.0</td><td>9.14</td><td>1</td><td>0.82</td></tr><tr><th>22</th><td>213</td><td>338</td><td>120</td><td>4</td><td>5.0</td><td>5.0</td><td>9.66</td><td>1</td><td>0.95</td></tr><tr><th>23</th><td>214</td><td>333</td><td>119</td><td>5</td><td>5.0</td><td>4.5</td><td>9.78</td><td>1</td><td>0.96</td></tr><tr><th>24</th><td>216</td><td>330</td><td>116</td><td>5</td><td>5.0</td><td>4.5</td><td>9.36</td><td>1</td><td>0.93</td></tr><tr><th>25</th><td>235</td><td>330</td><td>113</td><td>5</td><td>5.0</td><td>4.0</td><td>9.31</td><td>1</td><td>0.91</td></tr><tr><th>26</th><td>259</td><td>326</td><td>102</td><td>4</td><td>5.0</td><td>5.0</td><td>8.76</td><td>1</td><td>0.77</td></tr><tr><th>27</th><td>260</td><td>331</td><td>119</td><td>4</td><td>5.0</td><td>4.5</td><td>9.34</td><td>1</td><td>0.9</td></tr><tr><th>28</th><td>261</td><td>327</td><td>108</td><td>5</td><td>5.0</td><td>3.5</td><td>9.13</td><td>1</td><td>0.87</td></tr><tr><th>29</th><td>277</td><td>329</td><td>113</td><td>5</td><td>5.0</td><td>4.5</td><td>9.45</td><td>1</td><td>0.89</td></tr><tr><th>30</th><td>285</td><td>340</td><td>112</td><td>4</td><td>5.0</td><td>4.5</td><td>9.66</td><td>1</td><td>0.94</td></tr><tr><th>31</th><td>288</td><td>324</td><td>114</td><td>5</td><td>5.0</td><td>4.5</td><td>9.08</td><td>1</td><td>0.89</td></tr><tr><th>32</th><td>289</td><td>314</td><td>104</td><td>4</td><td>5.0</td><td>5.0</td><td>9.02</td><td>0</td><td>0.82</td></tr><tr><th>33</th><td>338</td><td>332</td><td>118</td><td>5</td><td>5.0</td><td>5.0</td><td>9.47</td><td>1</td><td>0.94</td></tr><tr><th>34</th><td>385</td><td>340</td><td>113</td><td>4</td><td>5.0</td><td>5.0</td><td>9.74</td><td>1</td><td>0.96</td></tr><tr><th>35</th><td>386</td><td>335</td><td>117</td><td>5</td><td>5.0</td><td>5.0</td><td>9.82</td><td>1</td><td>0.96</td></tr><tr><th>36</th><td>398</td><td>330</td><td>116</td><td>4</td><td>5.0</td><td>4.5</td><td>9.45</td><td>1</td><td>0.91</td></tr><tr><th>37</th><td>1</td><td>337</td><td>118</td><td>4</td><td>4.5</td><td>4.5</td><td>9.65</td><td>1</td><td>0.92</td></tr><tr><th>38</th><td>6</td><td>330</td><td>115</td><td>5</td><td>4.5</td><td>3.0</td><td>9.34</td><td>1</td><td>0.9</td></tr><tr><th>39</th><td>26</td><td>340</td><td>120</td><td>5</td><td>4.5</td><td>4.5</td><td>9.6</td><td>1</td><td>0.94</td></tr><tr><th>40</th><td>27</td><td>322</td><td>109</td><td>5</td><td>4.5</td><td>3.5</td><td>8.8</td><td>0</td><td>0.76</td></tr><tr><th>41</th><td>44</td><td>332</td><td>117</td><td>4</td><td>4.5</td><td>4.0</td><td>9.1</td><td>0</td><td>0.87</td></tr><tr><th>42</th><td>45</td><td>326</td><td>113</td><td>5</td><td>4.5</td><td>4.0</td><td>9.4</td><td>1</td><td>0.91</td></tr><tr><th>43</th><td>48</td><td>339</td><td>119</td><td>5</td><td>4.5</td><td>4.0</td><td>9.7</td><td>0</td><td>0.89</td></tr><tr><th>44</th><td>70</td><td>328</td><td>115</td><td>4</td><td>4.5</td><td>4.0</td><td>9.16</td><td>1</td><td>0.78</td></tr><tr><th>45</th><td>74</td><td>314</td><td>108</td><td>4</td><td>4.5</td><td>4.0</td><td>9.04</td><td>1</td><td>0.84</td></tr><tr><th>46</th><td>85</td><td>340</td><td>115</td><td>5</td><td>4.5</td><td>4.5</td><td>9.45</td><td>1</td><td>0.94</td></tr><tr><th>47</th><td>86</td><td>319</td><td>103</td><td>4</td><td>4.5</td><td>3.5</td><td>8.66</td><td>0</td><td>0.76</td></tr><tr><th>48</th><td>87</td><td>315</td><td>106</td><td>3</td><td>4.5</td><td>3.5</td><td>8.42</td><td>0</td><td>0.72</td></tr><tr><th>49</th><td>89</td><td>314</td><td>108</td><td>3</td><td>4.5</td><td>3.5</td><td>8.14</td><td>0</td><td>0.64</td></tr><tr><th>50</th><td>90</td><td>316</td><td>109</td><td>4</td><td>4.5</td><td>3.5</td><td>8.76</td><td>1</td><td>0.74</td></tr><tr><th>51</th><td>104</td><td>317</td><td>104</td><td>2</td><td>4.5</td><td>4.0</td><td>8.47</td><td>0</td><td>0.57</td></tr><tr><th>52</th><td>107</td><td>329</td><td>111</td><td>4</td><td>4.5</td><td>4.5</td><td>9.18</td><td>1</td><td>0.87</td></tr><tr><th>53</th><td>116</td><td>310</td><td>106</td><td>4</td><td>4.5</td><td>4.5</td><td>9.04</td><td>1</td><td>0.66</td></tr><tr><th>54</th><td>122</td><td>334</td><td>119</td><td>5</td><td>4.5</td><td>4.5</td><td>9.48</td><td>1</td><td>0.94</td></tr><tr><th>55</th><td>139</td><td>326</td><td>116</td><td>2</td><td>4.5</td><td>3.0</td><td>9.08</td><td>1</td><td>0.8</td></tr><tr><th>56</th><td>142</td><td>332</td><td>118</td><td>2</td><td>4.5</td><td>3.5</td><td>9.36</td><td>1</td><td>0.9</td></tr><tr><th>57</th><td>144</td><td>340</td><td>120</td><td>4</td><td>4.5</td><td>4.0</td><td>9.92</td><td>1</td><td>0.97</td></tr><tr><th>58</th><td>165</td><td>329</td><td>111</td><td>4</td><td>4.5</td><td>4.0</td><td>9.01</td><td>1</td><td>0.81</td></tr><tr><th>59</th><td>166</td><td>322</td><td>110</td><td>5</td><td>4.5</td><td>4.0</td><td>8.97</td><td>0</td><td>0.78</td></tr><tr><th>60</th><td>176</td><td>320</td><td>111</td><td>4</td><td>4.5</td><td>3.5</td><td>8.87</td><td>1</td><td>0.85</td></tr><tr><th>61</th><td>177</td><td>329</td><td>119</td><td>4</td><td>4.5</td><td>4.5</td><td>9.16</td><td>1</td><td>0.9</td></tr><tr><th>62</th><td>186</td><td>327</td><td>113</td><td>4</td><td>4.5</td><td>4.5</td><td>9.11</td><td>1</td><td>0.89</td></tr><tr><th>63</th><td>188</td><td>335</td><td>118</td><td>5</td><td>4.5</td><td>3.5</td><td>9.44</td><td>1</td><td>0.93</td></tr><tr><th>64</th><td>189</td><td>331</td><td>115</td><td>5</td><td>4.5</td><td>3.5</td><td>9.36</td><td>1</td><td>0.93</td></tr><tr><th>65</th><td>191</td><td>324</td><td>111</td><td>5</td><td>4.5</td><td>4.0</td><td>9.16</td><td>1</td><td>0.9</td></tr><tr><th>66</th><td>193</td><td>322</td><td>114</td><td>5</td><td>4.5</td><td>4.0</td><td>8.94</td><td>1</td><td>0.86</td></tr><tr><th>67</th><td>194</td><td>336</td><td>118</td><td>5</td><td>4.5</td><td>5.0</td><td>9.53</td><td>1</td><td>0.94</td></tr><tr><th>68</th><td>199</td><td>311</td><td>104</td><td>3</td><td>4.5</td><td>4.5</td><td>8.43</td><td>0</td><td>0.7</td></tr><tr><th>69</th><td>203</td><td>340</td><td>120</td><td>5</td><td>4.5</td><td>4.5</td><td>9.91</td><td>1</td><td>0.97</td></tr><tr><th>70</th><td>211</td><td>325</td><td>108</td><td>4</td><td>4.5</td><td>4.0</td><td>9.06</td><td>1</td><td>0.79</td></tr><tr><th>71</th><td>215</td><td>331</td><td>117</td><td>4</td><td>4.5</td><td>5.0</td><td>9.42</td><td>1</td><td>0.94</td></tr><tr><th>72</th><td>217</td><td>322</td><td>112</td><td>4</td><td>4.5</td><td>4.5</td><td>9.26</td><td>1</td><td>0.91</td></tr><tr><th>73</th><td>223</td><td>324</td><td>113</td><td>4</td><td>4.5</td><td>4.0</td><td>8.79</td><td>0</td><td>0.76</td></tr><tr><th>74</th><td>236</td><td>326</td><td>111</td><td>5</td><td>4.5</td><td>4.0</td><td>9.23</td><td>1</td><td>0.88</td></tr><tr><th>75</th><td>238</td><td>329</td><td>114</td><td>5</td><td>4.5</td><td>5.0</td><td>9.19</td><td>1</td><td>0.86</td></tr><tr><th>76</th><td>254</td><td>335</td><td>115</td><td>4</td><td>4.5</td><td>4.5</td><td>9.68</td><td>1</td><td>0.93</td></tr><tr><th>77</th><td>269</td><td>327</td><td>113</td><td>4</td><td>4.5</td><td>5.0</td><td>9.14</td><td>0</td><td>0.83</td></tr><tr><th>78</th><td>270</td><td>308</td><td>108</td><td>4</td><td>4.5</td><td>5.0</td><td>8.34</td><td>0</td><td>0.77</td></tr><tr><th>79</th><td>281</td><td>311</td><td>102</td><td>3</td><td>4.5</td><td>4.0</td><td>8.64</td><td>1</td><td>0.68</td></tr><tr><th>80</th><td>287</td><td>336</td><td>118</td><td>5</td><td>4.5</td><td>4.0</td><td>9.19</td><td>1</td><td>0.92</td></tr><tr><th>81</th><td>299</td><td>330</td><td>114</td><td>3</td><td>4.5</td><td>4.5</td><td>9.24</td><td>1</td><td>0.9</td></tr><tr><th>82</th><td>312</td><td>328</td><td>108</td><td>4</td><td>4.5</td><td>4.0</td><td>9.18</td><td>1</td><td>0.84</td></tr><tr><th>83</th><td>313</td><td>311</td><td>107</td><td>4</td><td>4.5</td><td>4.5</td><td>9.0</td><td>1</td><td>0.78</td></tr><tr><th>84</th><td>335</td><td>312</td><td>107</td><td>4</td><td>4.5</td><td>4.0</td><td>8.65</td><td>1</td><td>0.73</td></tr><tr><th>85</th><td>363</td><td>338</td><td>115</td><td>5</td><td>4.5</td><td>5.0</td><td>9.23</td><td>1</td><td>0.91</td></tr><tr><th>86</th><td>366</td><td>330</td><td>114</td><td>4</td><td>4.5</td><td>3.0</td><td>9.17</td><td>1</td><td>0.86</td></tr><tr><th>87</th><td>373</td><td>336</td><td>119</td><td>4</td><td>4.5</td><td>4.0</td><td>9.62</td><td>1</td><td>0.95</td></tr><tr><th>88</th><td>383</td><td>324</td><td>110</td><td>4</td><td>4.5</td><td>4.0</td><td>9.15</td><td>1</td><td>0.82</td></tr><tr><th>89</th><td>395</td><td>329</td><td>111</td><td>4</td><td>4.5</td><td>4.0</td><td>9.23</td><td>1</td><td>0.89</td></tr><tr><th>90</th><td>2</td><td>324</td><td>107</td><td>4</td><td>4.0</td><td>4.5</td><td>8.87</td><td>1</td><td>0.76</td></tr><tr><th>91</th><td>12</td><td>327</td><td>111</td><td>4</td><td>4.0</td><td>4.5</td><td>9.0</td><td>1</td><td>0.84</td></tr><tr><th>92</th><td>13</td><td>328</td><td>112</td><td>4</td><td>4.0</td><td>4.5</td><td>9.1</td><td>1</td><td>0.78</td></tr><tr><th>93</th><td>14</td><td>307</td><td>109</td><td>3</td><td>4.0</td><td>3.0</td><td>8.0</td><td>1</td><td>0.62</td></tr><tr><th>94</th><td>17</td><td>317</td><td>107</td><td>3</td><td>4.0</td><td>3.0</td><td>8.7</td><td>0</td><td>0.66</td></tr><tr><th>95</th><td>18</td><td>319</td><td>106</td><td>3</td><td>4.0</td><td>3.0</td><td>8.0</td><td>1</td><td>0.65</td></tr><tr><th>96</th><td>19</td><td>318</td><td>110</td><td>3</td><td>4.0</td><td>3.0</td><td>8.8</td><td>0</td><td>0.63</td></tr><tr><th>97</th><td>25</td><td>336</td><td>119</td><td>5</td><td>4.0</td><td>3.5</td><td>9.8</td><td>1</td><td>0.97</td></tr><tr><th>98</th><td>32</td><td>327</td><td>103</td><td>3</td><td>4.0</td><td>4.0</td><td>8.3</td><td>1</td><td>0.74</td></tr><tr><th>99</th><td>34</td><td>340</td><td>114</td><td>5</td><td>4.0</td><td>4.0</td><td>9.6</td><td>1</td><td>0.9</td></tr><tr><th>100</th><td>35</td><td>331</td><td>112</td><td>5</td><td>4.0</td><td>5.0</td><td>9.8</td><td>1</td><td>0.94</td></tr><tr><th>&vellip;</th><td>&vellip;</td><td>&vellip;</td><td>&vellip;</td><td>&vellip;</td><td>&vellip;</td><td>&vellip;</td><td>&vellip;</td><td>&vellip;</td><td>&vellip;</td></tr></tbody></table>"
      ],
      "text/latex": [
       "\\begin{tabular}{r|ccccccccc}\n",
       "\t& Serial No. & GRE Score & TOEFL Score & University Rating & SOP & LOR & CGPA & Research & Chance of Admit \\\\\n",
       "\t\\hline\n",
       "\t& Int64 & Int64 & Int64 & Int64 & Float64 & Float64 & Float64 & Int64 & Float64\\\\\n",
       "\t\\hline\n",
       "\t1 & 23 & 328 & 116 & 5 & 5.0 & 5.0 & 9.5 & 1 & 0.94 \\\\\n",
       "\t2 & 24 & 334 & 119 & 5 & 5.0 & 4.5 & 9.7 & 1 & 0.95 \\\\\n",
       "\t3 & 36 & 320 & 110 & 5 & 5.0 & 5.0 & 9.2 & 1 & 0.88 \\\\\n",
       "\t4 & 46 & 322 & 110 & 5 & 5.0 & 4.0 & 9.1 & 1 & 0.88 \\\\\n",
       "\t5 & 71 & 332 & 118 & 5 & 5.0 & 5.0 & 9.64 & 1 & 0.94 \\\\\n",
       "\t6 & 72 & 336 & 112 & 5 & 5.0 & 5.0 & 9.76 & 1 & 0.96 \\\\\n",
       "\t7 & 73 & 321 & 111 & 5 & 5.0 & 5.0 & 9.45 & 1 & 0.93 \\\\\n",
       "\t8 & 82 & 340 & 120 & 4 & 5.0 & 5.0 & 9.5 & 1 & 0.96 \\\\\n",
       "\t9 & 83 & 320 & 110 & 5 & 5.0 & 4.5 & 9.22 & 1 & 0.92 \\\\\n",
       "\t10 & 92 & 299 & 97 & 3 & 5.0 & 3.5 & 7.66 & 0 & 0.38 \\\\\n",
       "\t11 & 99 & 332 & 119 & 4 & 5.0 & 4.5 & 9.24 & 1 & 0.9 \\\\\n",
       "\t12 & 109 & 331 & 116 & 5 & 5.0 & 5.0 & 9.38 & 1 & 0.93 \\\\\n",
       "\t13 & 110 & 304 & 103 & 5 & 5.0 & 4.0 & 8.64 & 0 & 0.68 \\\\\n",
       "\t14 & 121 & 335 & 117 & 5 & 5.0 & 5.0 & 9.56 & 1 & 0.94 \\\\\n",
       "\t15 & 130 & 333 & 118 & 5 & 5.0 & 5.0 & 9.35 & 1 & 0.92 \\\\\n",
       "\t16 & 132 & 303 & 105 & 5 & 5.0 & 4.5 & 8.65 & 0 & 0.77 \\\\\n",
       "\t17 & 137 & 312 & 103 & 3 & 5.0 & 4.0 & 8.45 & 0 & 0.76 \\\\\n",
       "\t18 & 152 & 332 & 116 & 5 & 5.0 & 5.0 & 9.28 & 1 & 0.94 \\\\\n",
       "\t19 & 153 & 321 & 112 & 5 & 5.0 & 5.0 & 9.06 & 1 & 0.86 \\\\\n",
       "\t20 & 190 & 324 & 112 & 5 & 5.0 & 5.0 & 9.08 & 1 & 0.88 \\\\\n",
       "\t21 & 212 & 328 & 110 & 4 & 5.0 & 4.0 & 9.14 & 1 & 0.82 \\\\\n",
       "\t22 & 213 & 338 & 120 & 4 & 5.0 & 5.0 & 9.66 & 1 & 0.95 \\\\\n",
       "\t23 & 214 & 333 & 119 & 5 & 5.0 & 4.5 & 9.78 & 1 & 0.96 \\\\\n",
       "\t24 & 216 & 330 & 116 & 5 & 5.0 & 4.5 & 9.36 & 1 & 0.93 \\\\\n",
       "\t25 & 235 & 330 & 113 & 5 & 5.0 & 4.0 & 9.31 & 1 & 0.91 \\\\\n",
       "\t26 & 259 & 326 & 102 & 4 & 5.0 & 5.0 & 8.76 & 1 & 0.77 \\\\\n",
       "\t27 & 260 & 331 & 119 & 4 & 5.0 & 4.5 & 9.34 & 1 & 0.9 \\\\\n",
       "\t28 & 261 & 327 & 108 & 5 & 5.0 & 3.5 & 9.13 & 1 & 0.87 \\\\\n",
       "\t29 & 277 & 329 & 113 & 5 & 5.0 & 4.5 & 9.45 & 1 & 0.89 \\\\\n",
       "\t30 & 285 & 340 & 112 & 4 & 5.0 & 4.5 & 9.66 & 1 & 0.94 \\\\\n",
       "\t31 & 288 & 324 & 114 & 5 & 5.0 & 4.5 & 9.08 & 1 & 0.89 \\\\\n",
       "\t32 & 289 & 314 & 104 & 4 & 5.0 & 5.0 & 9.02 & 0 & 0.82 \\\\\n",
       "\t33 & 338 & 332 & 118 & 5 & 5.0 & 5.0 & 9.47 & 1 & 0.94 \\\\\n",
       "\t34 & 385 & 340 & 113 & 4 & 5.0 & 5.0 & 9.74 & 1 & 0.96 \\\\\n",
       "\t35 & 386 & 335 & 117 & 5 & 5.0 & 5.0 & 9.82 & 1 & 0.96 \\\\\n",
       "\t36 & 398 & 330 & 116 & 4 & 5.0 & 4.5 & 9.45 & 1 & 0.91 \\\\\n",
       "\t37 & 1 & 337 & 118 & 4 & 4.5 & 4.5 & 9.65 & 1 & 0.92 \\\\\n",
       "\t38 & 6 & 330 & 115 & 5 & 4.5 & 3.0 & 9.34 & 1 & 0.9 \\\\\n",
       "\t39 & 26 & 340 & 120 & 5 & 4.5 & 4.5 & 9.6 & 1 & 0.94 \\\\\n",
       "\t40 & 27 & 322 & 109 & 5 & 4.5 & 3.5 & 8.8 & 0 & 0.76 \\\\\n",
       "\t41 & 44 & 332 & 117 & 4 & 4.5 & 4.0 & 9.1 & 0 & 0.87 \\\\\n",
       "\t42 & 45 & 326 & 113 & 5 & 4.5 & 4.0 & 9.4 & 1 & 0.91 \\\\\n",
       "\t43 & 48 & 339 & 119 & 5 & 4.5 & 4.0 & 9.7 & 0 & 0.89 \\\\\n",
       "\t44 & 70 & 328 & 115 & 4 & 4.5 & 4.0 & 9.16 & 1 & 0.78 \\\\\n",
       "\t45 & 74 & 314 & 108 & 4 & 4.5 & 4.0 & 9.04 & 1 & 0.84 \\\\\n",
       "\t46 & 85 & 340 & 115 & 5 & 4.5 & 4.5 & 9.45 & 1 & 0.94 \\\\\n",
       "\t47 & 86 & 319 & 103 & 4 & 4.5 & 3.5 & 8.66 & 0 & 0.76 \\\\\n",
       "\t48 & 87 & 315 & 106 & 3 & 4.5 & 3.5 & 8.42 & 0 & 0.72 \\\\\n",
       "\t49 & 89 & 314 & 108 & 3 & 4.5 & 3.5 & 8.14 & 0 & 0.64 \\\\\n",
       "\t50 & 90 & 316 & 109 & 4 & 4.5 & 3.5 & 8.76 & 1 & 0.74 \\\\\n",
       "\t51 & 104 & 317 & 104 & 2 & 4.5 & 4.0 & 8.47 & 0 & 0.57 \\\\\n",
       "\t52 & 107 & 329 & 111 & 4 & 4.5 & 4.5 & 9.18 & 1 & 0.87 \\\\\n",
       "\t53 & 116 & 310 & 106 & 4 & 4.5 & 4.5 & 9.04 & 1 & 0.66 \\\\\n",
       "\t54 & 122 & 334 & 119 & 5 & 4.5 & 4.5 & 9.48 & 1 & 0.94 \\\\\n",
       "\t55 & 139 & 326 & 116 & 2 & 4.5 & 3.0 & 9.08 & 1 & 0.8 \\\\\n",
       "\t56 & 142 & 332 & 118 & 2 & 4.5 & 3.5 & 9.36 & 1 & 0.9 \\\\\n",
       "\t57 & 144 & 340 & 120 & 4 & 4.5 & 4.0 & 9.92 & 1 & 0.97 \\\\\n",
       "\t58 & 165 & 329 & 111 & 4 & 4.5 & 4.0 & 9.01 & 1 & 0.81 \\\\\n",
       "\t59 & 166 & 322 & 110 & 5 & 4.5 & 4.0 & 8.97 & 0 & 0.78 \\\\\n",
       "\t60 & 176 & 320 & 111 & 4 & 4.5 & 3.5 & 8.87 & 1 & 0.85 \\\\\n",
       "\t61 & 177 & 329 & 119 & 4 & 4.5 & 4.5 & 9.16 & 1 & 0.9 \\\\\n",
       "\t62 & 186 & 327 & 113 & 4 & 4.5 & 4.5 & 9.11 & 1 & 0.89 \\\\\n",
       "\t63 & 188 & 335 & 118 & 5 & 4.5 & 3.5 & 9.44 & 1 & 0.93 \\\\\n",
       "\t64 & 189 & 331 & 115 & 5 & 4.5 & 3.5 & 9.36 & 1 & 0.93 \\\\\n",
       "\t65 & 191 & 324 & 111 & 5 & 4.5 & 4.0 & 9.16 & 1 & 0.9 \\\\\n",
       "\t66 & 193 & 322 & 114 & 5 & 4.5 & 4.0 & 8.94 & 1 & 0.86 \\\\\n",
       "\t67 & 194 & 336 & 118 & 5 & 4.5 & 5.0 & 9.53 & 1 & 0.94 \\\\\n",
       "\t68 & 199 & 311 & 104 & 3 & 4.5 & 4.5 & 8.43 & 0 & 0.7 \\\\\n",
       "\t69 & 203 & 340 & 120 & 5 & 4.5 & 4.5 & 9.91 & 1 & 0.97 \\\\\n",
       "\t70 & 211 & 325 & 108 & 4 & 4.5 & 4.0 & 9.06 & 1 & 0.79 \\\\\n",
       "\t71 & 215 & 331 & 117 & 4 & 4.5 & 5.0 & 9.42 & 1 & 0.94 \\\\\n",
       "\t72 & 217 & 322 & 112 & 4 & 4.5 & 4.5 & 9.26 & 1 & 0.91 \\\\\n",
       "\t73 & 223 & 324 & 113 & 4 & 4.5 & 4.0 & 8.79 & 0 & 0.76 \\\\\n",
       "\t74 & 236 & 326 & 111 & 5 & 4.5 & 4.0 & 9.23 & 1 & 0.88 \\\\\n",
       "\t75 & 238 & 329 & 114 & 5 & 4.5 & 5.0 & 9.19 & 1 & 0.86 \\\\\n",
       "\t76 & 254 & 335 & 115 & 4 & 4.5 & 4.5 & 9.68 & 1 & 0.93 \\\\\n",
       "\t77 & 269 & 327 & 113 & 4 & 4.5 & 5.0 & 9.14 & 0 & 0.83 \\\\\n",
       "\t78 & 270 & 308 & 108 & 4 & 4.5 & 5.0 & 8.34 & 0 & 0.77 \\\\\n",
       "\t79 & 281 & 311 & 102 & 3 & 4.5 & 4.0 & 8.64 & 1 & 0.68 \\\\\n",
       "\t80 & 287 & 336 & 118 & 5 & 4.5 & 4.0 & 9.19 & 1 & 0.92 \\\\\n",
       "\t81 & 299 & 330 & 114 & 3 & 4.5 & 4.5 & 9.24 & 1 & 0.9 \\\\\n",
       "\t82 & 312 & 328 & 108 & 4 & 4.5 & 4.0 & 9.18 & 1 & 0.84 \\\\\n",
       "\t83 & 313 & 311 & 107 & 4 & 4.5 & 4.5 & 9.0 & 1 & 0.78 \\\\\n",
       "\t84 & 335 & 312 & 107 & 4 & 4.5 & 4.0 & 8.65 & 1 & 0.73 \\\\\n",
       "\t85 & 363 & 338 & 115 & 5 & 4.5 & 5.0 & 9.23 & 1 & 0.91 \\\\\n",
       "\t86 & 366 & 330 & 114 & 4 & 4.5 & 3.0 & 9.17 & 1 & 0.86 \\\\\n",
       "\t87 & 373 & 336 & 119 & 4 & 4.5 & 4.0 & 9.62 & 1 & 0.95 \\\\\n",
       "\t88 & 383 & 324 & 110 & 4 & 4.5 & 4.0 & 9.15 & 1 & 0.82 \\\\\n",
       "\t89 & 395 & 329 & 111 & 4 & 4.5 & 4.0 & 9.23 & 1 & 0.89 \\\\\n",
       "\t90 & 2 & 324 & 107 & 4 & 4.0 & 4.5 & 8.87 & 1 & 0.76 \\\\\n",
       "\t91 & 12 & 327 & 111 & 4 & 4.0 & 4.5 & 9.0 & 1 & 0.84 \\\\\n",
       "\t92 & 13 & 328 & 112 & 4 & 4.0 & 4.5 & 9.1 & 1 & 0.78 \\\\\n",
       "\t93 & 14 & 307 & 109 & 3 & 4.0 & 3.0 & 8.0 & 1 & 0.62 \\\\\n",
       "\t94 & 17 & 317 & 107 & 3 & 4.0 & 3.0 & 8.7 & 0 & 0.66 \\\\\n",
       "\t95 & 18 & 319 & 106 & 3 & 4.0 & 3.0 & 8.0 & 1 & 0.65 \\\\\n",
       "\t96 & 19 & 318 & 110 & 3 & 4.0 & 3.0 & 8.8 & 0 & 0.63 \\\\\n",
       "\t97 & 25 & 336 & 119 & 5 & 4.0 & 3.5 & 9.8 & 1 & 0.97 \\\\\n",
       "\t98 & 32 & 327 & 103 & 3 & 4.0 & 4.0 & 8.3 & 1 & 0.74 \\\\\n",
       "\t99 & 34 & 340 & 114 & 5 & 4.0 & 4.0 & 9.6 & 1 & 0.9 \\\\\n",
       "\t100 & 35 & 331 & 112 & 5 & 4.0 & 5.0 & 9.8 & 1 & 0.94 \\\\\n",
       "\t$\\dots$ & $\\dots$ & $\\dots$ & $\\dots$ & $\\dots$ & $\\dots$ & $\\dots$ & $\\dots$ & $\\dots$ & $\\dots$ \\\\\n",
       "\\end{tabular}\n"
      ],
      "text/plain": [
       "\u001b[1m399×9 DataFrame\u001b[0m\n",
       "\u001b[1m Row \u001b[0m│\u001b[1m Serial No. \u001b[0m\u001b[1m GRE Score \u001b[0m\u001b[1m TOEFL Score \u001b[0m\u001b[1m University Rating \u001b[0m\u001b[1m SOP     \u001b[0m\u001b[1m LOR     \u001b[0m\u001b[1m CGPA    \u001b[0m\u001b[1m Research \u001b[0m\u001b[1m Chance of Admit  \u001b[0m\n",
       "\u001b[1m     \u001b[0m│\u001b[90m Int64      \u001b[0m\u001b[90m Int64     \u001b[0m\u001b[90m Int64       \u001b[0m\u001b[90m Int64             \u001b[0m\u001b[90m Float64 \u001b[0m\u001b[90m Float64 \u001b[0m\u001b[90m Float64 \u001b[0m\u001b[90m Int64    \u001b[0m\u001b[90m Float64          \u001b[0m\n",
       "─────┼──────────────────────────────────────────────────────────────────────────────────────────────────────────────\n",
       "   1 │         23        328          116                  5      5.0      5.0     9.5          1              0.94\n",
       "   2 │         24        334          119                  5      5.0      4.5     9.7          1              0.95\n",
       "   3 │         36        320          110                  5      5.0      5.0     9.2          1              0.88\n",
       "   4 │         46        322          110                  5      5.0      4.0     9.1          1              0.88\n",
       "   5 │         71        332          118                  5      5.0      5.0     9.64         1              0.94\n",
       "   6 │         72        336          112                  5      5.0      5.0     9.76         1              0.96\n",
       "   7 │         73        321          111                  5      5.0      5.0     9.45         1              0.93\n",
       "   8 │         82        340          120                  4      5.0      5.0     9.5          1              0.96\n",
       "   9 │         83        320          110                  5      5.0      4.5     9.22         1              0.92\n",
       "  10 │         92        299           97                  3      5.0      3.5     7.66         0              0.38\n",
       "  11 │         99        332          119                  4      5.0      4.5     9.24         1              0.9\n",
       "  12 │        109        331          116                  5      5.0      5.0     9.38         1              0.93\n",
       "  13 │        110        304          103                  5      5.0      4.0     8.64         0              0.68\n",
       "  14 │        121        335          117                  5      5.0      5.0     9.56         1              0.94\n",
       "  15 │        130        333          118                  5      5.0      5.0     9.35         1              0.92\n",
       "  16 │        132        303          105                  5      5.0      4.5     8.65         0              0.77\n",
       "  17 │        137        312          103                  3      5.0      4.0     8.45         0              0.76\n",
       "  18 │        152        332          116                  5      5.0      5.0     9.28         1              0.94\n",
       "  19 │        153        321          112                  5      5.0      5.0     9.06         1              0.86\n",
       "  20 │        190        324          112                  5      5.0      5.0     9.08         1              0.88\n",
       "  21 │        212        328          110                  4      5.0      4.0     9.14         1              0.82\n",
       "  22 │        213        338          120                  4      5.0      5.0     9.66         1              0.95\n",
       "  23 │        214        333          119                  5      5.0      4.5     9.78         1              0.96\n",
       "  24 │        216        330          116                  5      5.0      4.5     9.36         1              0.93\n",
       "  25 │        235        330          113                  5      5.0      4.0     9.31         1              0.91\n",
       "  26 │        259        326          102                  4      5.0      5.0     8.76         1              0.77\n",
       "  27 │        260        331          119                  4      5.0      4.5     9.34         1              0.9\n",
       "  28 │        261        327          108                  5      5.0      3.5     9.13         1              0.87\n",
       "  29 │        277        329          113                  5      5.0      4.5     9.45         1              0.89\n",
       "  30 │        285        340          112                  4      5.0      4.5     9.66         1              0.94\n",
       "  31 │        288        324          114                  5      5.0      4.5     9.08         1              0.89\n",
       "  32 │        289        314          104                  4      5.0      5.0     9.02         0              0.82\n",
       "  33 │        338        332          118                  5      5.0      5.0     9.47         1              0.94\n",
       "  34 │        385        340          113                  4      5.0      5.0     9.74         1              0.96\n",
       "  35 │        386        335          117                  5      5.0      5.0     9.82         1              0.96\n",
       "  36 │        398        330          116                  4      5.0      4.5     9.45         1              0.91\n",
       "  37 │          1        337          118                  4      4.5      4.5     9.65         1              0.92\n",
       "  38 │          6        330          115                  5      4.5      3.0     9.34         1              0.9\n",
       "  39 │         26        340          120                  5      4.5      4.5     9.6          1              0.94\n",
       "  40 │         27        322          109                  5      4.5      3.5     8.8          0              0.76\n",
       "  41 │         44        332          117                  4      4.5      4.0     9.1          0              0.87\n",
       "  42 │         45        326          113                  5      4.5      4.0     9.4          1              0.91\n",
       "  43 │         48        339          119                  5      4.5      4.0     9.7          0              0.89\n",
       "  44 │         70        328          115                  4      4.5      4.0     9.16         1              0.78\n",
       "  45 │         74        314          108                  4      4.5      4.0     9.04         1              0.84\n",
       "  46 │         85        340          115                  5      4.5      4.5     9.45         1              0.94\n",
       "  ⋮  │     ⋮           ⋮           ⋮               ⋮             ⋮        ⋮        ⋮        ⋮             ⋮\n",
       " 355 │        159        306          106                  2      2.0      2.5     8.14         0              0.61\n",
       " 356 │        168        313          102                  3      2.0      3.0     8.27         0              0.64\n",
       " 357 │        169        293           97                  2      2.0      4.0     7.8          1              0.64\n",
       " 358 │        239        310          104                  3      2.0      3.5     8.37         0              0.7\n",
       " 359 │        267        312          105                  2      2.0      2.5     8.45         0              0.72\n",
       " 360 │        275        315          100                  1      2.0      2.5     7.95         0              0.58\n",
       " 361 │        324        305          102                  2      2.0      2.5     8.18         0              0.62\n",
       " 362 │        327        299          100                  3      2.0      2.0     8.02         0              0.63\n",
       " 363 │        349        302           99                  1      2.0      2.0     7.25         0              0.57\n",
       " 364 │        356        317          106                  2      2.0      3.5     8.12         0              0.73\n",
       " 365 │        360        321          107                  2      2.0      1.5     8.44         0              0.81\n",
       " 366 │        369        298           92                  1      2.0      2.0     7.88         0              0.51\n",
       " 367 │        370        301           98                  1      2.0      3.0     8.03         1              0.67\n",
       " 368 │        375        315          105                  2      2.0      2.5     7.65         0              0.39\n",
       " 369 │        376        304          101                  2      2.0      2.5     7.66         0              0.38\n",
       " 370 │        379        303           98                  1      2.0      2.5     7.65         0              0.56\n",
       " 371 │        388        307          105                  2      2.0      3.5     8.1          0              0.53\n",
       " 372 │        391        314          102                  2      2.0      2.5     8.24         0              0.64\n",
       " 373 │        392        318          106                  3      2.0      3.0     8.65         0              0.71\n",
       " 374 │         28        298           98                  2      1.5      2.5     7.5          1              0.44\n",
       " 375 │         30        310           99                  2      1.5      2.0     7.3          0              0.54\n",
       " 376 │         52        312          100                  2      1.5      3.5     7.9          1              0.56\n",
       " 377 │         80        294           93                  1      1.5      2.0     7.36         0              0.46\n",
       " 378 │         96        304          100                  4      1.5      2.5     7.84         0              0.42\n",
       " 379 │        123        310          106                  4      1.5      2.5     8.36         0              0.57\n",
       " 380 │        138        316          100                  2      1.5      3.0     8.16         1              0.71\n",
       " 381 │        160        297          100                  1      1.5      2.0     7.9          0              0.52\n",
       " 382 │        161        315          103                  1      1.5      2.0     7.86         0              0.57\n",
       " 383 │        162        298           99                  1      1.5      3.0     7.46         0              0.53\n",
       " 384 │        240        299          100                  1      1.5      2.0     7.89         0              0.59\n",
       " 385 │        272        299           96                  2      1.5      2.0     7.86         0              0.54\n",
       " 386 │        273        294           95                  1      1.5      1.5     7.64         0              0.49\n",
       " 387 │        292        300          102                  2      1.5      2.0     7.87         0              0.56\n",
       " 388 │        317        298          101                  2      1.5      2.0     7.86         0              0.54\n",
       " 389 │        345        295           96                  2      1.5      2.0     7.34         0              0.47\n",
       " 390 │        346        316           98                  1      1.5      2.0     7.43         0              0.49\n",
       " 391 │        347        304           97                  2      1.5      2.0     7.64         0              0.47\n",
       " 392 │        378        290          100                  1      1.5      2.0     7.56         0              0.47\n",
       " 393 │        389        296           97                  2      1.5      2.0     7.8          0              0.49\n",
       " 394 │         38        300          105                  1      1.0      2.0     7.8          0              0.58\n",
       " 395 │        274        312           99                  1      1.0      1.5     8.01         1              0.52\n",
       " 396 │        293        302           99                  2      1.0      2.0     7.97         0              0.56\n",
       " 397 │        318        300           99                  1      1.0      2.5     8.01         0              0.58\n",
       " 398 │        348        299           94                  1      1.0      1.0     7.34         0              0.42\n",
       " 399 │        368        311           98                  1      1.0      2.5     7.46         0              0.57\n",
       "\u001b[36m                                                                                                    308 rows omitted\u001b[0m"
      ]
     },
     "execution_count": 45,
     "metadata": {},
     "output_type": "execute_result"
    }
   ],
   "source": [
    "sort(df, :SOP, rev=false) # Sort by column in ascending order\n",
    "\n",
    "sort(df, :SOP, rev=true) # Sort by column in descending order"
   ]
  },
  {
   "cell_type": "code",
   "execution_count": 46,
   "metadata": {
    "ExecuteTime": {
     "end_time": "2021-05-22T12:23:40.633000+04:00",
     "start_time": "2021-05-22T08:23:39.669Z"
    }
   },
   "outputs": [
    {
     "data": {
      "text/html": [
       "<table class=\"data-frame\"><thead><tr><th></th><th>Serial No.</th><th>GRE Score</th><th>TOEFL Score</th><th>University Rating</th><th>SOP</th><th>LOR</th><th>CGPA</th><th>Research</th><th>Chance of Admit </th></tr><tr><th></th><th>Int64</th><th>Int64</th><th>Int64</th><th>Int64</th><th>Float64</th><th>Float64</th><th>Float64</th><th>Int64</th><th>Float64</th></tr></thead><tbody><p>399 rows × 9 columns</p><tr><th>1</th><td>59</td><td>300</td><td>99</td><td>1</td><td>3.0</td><td>2.0</td><td>6.8</td><td>1</td><td>0.36</td></tr><tr><th>2</th><td>29</td><td>295</td><td>93</td><td>1</td><td>2.0</td><td>2.0</td><td>7.2</td><td>0</td><td>0.46</td></tr><tr><th>3</th><td>349</td><td>302</td><td>99</td><td>1</td><td>2.0</td><td>2.0</td><td>7.25</td><td>0</td><td>0.57</td></tr><tr><th>4</th><td>119</td><td>296</td><td>99</td><td>2</td><td>3.0</td><td>3.5</td><td>7.28</td><td>0</td><td>0.47</td></tr><tr><th>5</th><td>30</td><td>310</td><td>99</td><td>2</td><td>1.5</td><td>2.0</td><td>7.3</td><td>0</td><td>0.54</td></tr><tr><th>6</th><td>345</td><td>295</td><td>96</td><td>2</td><td>1.5</td><td>2.0</td><td>7.34</td><td>0</td><td>0.47</td></tr><tr><th>7</th><td>348</td><td>299</td><td>94</td><td>1</td><td>1.0</td><td>1.0</td><td>7.34</td><td>0</td><td>0.42</td></tr><tr><th>8</th><td>80</td><td>294</td><td>93</td><td>1</td><td>1.5</td><td>2.0</td><td>7.36</td><td>0</td><td>0.46</td></tr><tr><th>9</th><td>57</td><td>316</td><td>102</td><td>3</td><td>2.0</td><td>3.0</td><td>7.4</td><td>0</td><td>0.64</td></tr><tr><th>10</th><td>346</td><td>316</td><td>98</td><td>1</td><td>1.5</td><td>2.0</td><td>7.43</td><td>0</td><td>0.49</td></tr><tr><th>11</th><td>377</td><td>297</td><td>96</td><td>2</td><td>2.5</td><td>2.0</td><td>7.43</td><td>0</td><td>0.34</td></tr><tr><th>12</th><td>118</td><td>290</td><td>104</td><td>4</td><td>2.0</td><td>2.5</td><td>7.46</td><td>0</td><td>0.45</td></tr><tr><th>13</th><td>162</td><td>298</td><td>99</td><td>1</td><td>1.5</td><td>3.0</td><td>7.46</td><td>0</td><td>0.53</td></tr><tr><th>14</th><td>368</td><td>311</td><td>98</td><td>1</td><td>1.0</td><td>2.5</td><td>7.46</td><td>0</td><td>0.57</td></tr><tr><th>15</th><td>28</td><td>298</td><td>98</td><td>2</td><td>1.5</td><td>2.5</td><td>7.5</td><td>1</td><td>0.44</td></tr><tr><th>16</th><td>39</td><td>304</td><td>105</td><td>1</td><td>3.0</td><td>1.5</td><td>7.5</td><td>0</td><td>0.52</td></tr><tr><th>17</th><td>79</td><td>296</td><td>95</td><td>2</td><td>3.0</td><td>2.0</td><td>7.54</td><td>1</td><td>0.44</td></tr><tr><th>18</th><td>378</td><td>290</td><td>100</td><td>1</td><td>1.5</td><td>2.0</td><td>7.56</td><td>0</td><td>0.47</td></tr><tr><th>19</th><td>58</td><td>298</td><td>99</td><td>2</td><td>4.0</td><td>2.0</td><td>7.6</td><td>0</td><td>0.46</td></tr><tr><th>20</th><td>273</td><td>294</td><td>95</td><td>1</td><td>1.5</td><td>1.5</td><td>7.64</td><td>0</td><td>0.49</td></tr><tr><th>21</th><td>347</td><td>304</td><td>97</td><td>2</td><td>1.5</td><td>2.0</td><td>7.64</td><td>0</td><td>0.47</td></tr><tr><th>22</th><td>359</td><td>314</td><td>105</td><td>2</td><td>2.5</td><td>2.0</td><td>7.64</td><td>0</td><td>0.7</td></tr><tr><th>23</th><td>206</td><td>295</td><td>99</td><td>2</td><td>2.5</td><td>3.0</td><td>7.65</td><td>0</td><td>0.57</td></tr><tr><th>24</th><td>291</td><td>307</td><td>105</td><td>2</td><td>2.5</td><td>3.0</td><td>7.65</td><td>0</td><td>0.58</td></tr><tr><th>25</th><td>375</td><td>315</td><td>105</td><td>2</td><td>2.0</td><td>2.5</td><td>7.65</td><td>0</td><td>0.39</td></tr><tr><th>26</th><td>379</td><td>303</td><td>98</td><td>1</td><td>2.0</td><td>2.5</td><td>7.65</td><td>0</td><td>0.56</td></tr><tr><th>27</th><td>92</td><td>299</td><td>97</td><td>3</td><td>5.0</td><td>3.5</td><td>7.66</td><td>0</td><td>0.38</td></tr><tr><th>28</th><td>95</td><td>303</td><td>99</td><td>3</td><td>2.0</td><td>2.5</td><td>7.66</td><td>0</td><td>0.36</td></tr><tr><th>29</th><td>376</td><td>304</td><td>101</td><td>2</td><td>2.0</td><td>2.5</td><td>7.66</td><td>0</td><td>0.38</td></tr><tr><th>30</th><td>355</td><td>297</td><td>98</td><td>2</td><td>2.5</td><td>3.0</td><td>7.67</td><td>0</td><td>0.59</td></tr><tr><th>31</th><td>241</td><td>296</td><td>101</td><td>1</td><td>2.5</td><td>3.0</td><td>7.68</td><td>0</td><td>0.6</td></tr><tr><th>32</th><td>40</td><td>307</td><td>108</td><td>2</td><td>4.0</td><td>3.5</td><td>7.7</td><td>0</td><td>0.48</td></tr><tr><th>33</th><td>56</td><td>320</td><td>103</td><td>3</td><td>3.0</td><td>3.0</td><td>7.7</td><td>0</td><td>0.64</td></tr><tr><th>34</th><td>169</td><td>293</td><td>97</td><td>2</td><td>2.0</td><td>4.0</td><td>7.8</td><td>1</td><td>0.64</td></tr><tr><th>35</th><td>38</td><td>300</td><td>105</td><td>1</td><td>1.0</td><td>2.0</td><td>7.8</td><td>0</td><td>0.58</td></tr><tr><th>36</th><td>389</td><td>296</td><td>97</td><td>2</td><td>1.5</td><td>2.0</td><td>7.8</td><td>0</td><td>0.49</td></tr><tr><th>37</th><td>96</td><td>304</td><td>100</td><td>4</td><td>1.5</td><td>2.5</td><td>7.84</td><td>0</td><td>0.42</td></tr><tr><th>38</th><td>161</td><td>315</td><td>103</td><td>1</td><td>1.5</td><td>2.0</td><td>7.86</td><td>0</td><td>0.57</td></tr><tr><th>39</th><td>272</td><td>299</td><td>96</td><td>2</td><td>1.5</td><td>2.0</td><td>7.86</td><td>0</td><td>0.54</td></tr><tr><th>40</th><td>317</td><td>298</td><td>101</td><td>2</td><td>1.5</td><td>2.0</td><td>7.86</td><td>0</td><td>0.54</td></tr><tr><th>41</th><td>328</td><td>295</td><td>101</td><td>2</td><td>2.5</td><td>2.0</td><td>7.86</td><td>0</td><td>0.69</td></tr><tr><th>42</th><td>292</td><td>300</td><td>102</td><td>2</td><td>1.5</td><td>2.0</td><td>7.87</td><td>0</td><td>0.56</td></tr><tr><th>43</th><td>94</td><td>301</td><td>97</td><td>2</td><td>3.0</td><td>3.0</td><td>7.88</td><td>1</td><td>0.44</td></tr><tr><th>44</th><td>183</td><td>299</td><td>100</td><td>2</td><td>3.0</td><td>3.5</td><td>7.88</td><td>0</td><td>0.68</td></tr><tr><th>45</th><td>369</td><td>298</td><td>92</td><td>1</td><td>2.0</td><td>2.0</td><td>7.88</td><td>0</td><td>0.51</td></tr><tr><th>46</th><td>358</td><td>301</td><td>104</td><td>2</td><td>3.5</td><td>3.5</td><td>7.89</td><td>1</td><td>0.68</td></tr><tr><th>47</th><td>207</td><td>315</td><td>99</td><td>2</td><td>3.5</td><td>3.0</td><td>7.89</td><td>0</td><td>0.63</td></tr><tr><th>48</th><td>240</td><td>299</td><td>100</td><td>1</td><td>1.5</td><td>2.0</td><td>7.89</td><td>0</td><td>0.59</td></tr><tr><th>49</th><td>330</td><td>297</td><td>96</td><td>2</td><td>2.5</td><td>1.5</td><td>7.89</td><td>0</td><td>0.43</td></tr><tr><th>50</th><td>21</td><td>312</td><td>107</td><td>3</td><td>3.0</td><td>2.0</td><td>7.9</td><td>1</td><td>0.64</td></tr><tr><th>51</th><td>52</td><td>312</td><td>100</td><td>2</td><td>1.5</td><td>3.5</td><td>7.9</td><td>1</td><td>0.56</td></tr><tr><th>52</th><td>8</td><td>308</td><td>101</td><td>2</td><td>3.0</td><td>4.0</td><td>7.9</td><td>0</td><td>0.68</td></tr><tr><th>53</th><td>160</td><td>297</td><td>100</td><td>1</td><td>1.5</td><td>2.0</td><td>7.9</td><td>0</td><td>0.52</td></tr><tr><th>54</th><td>91</td><td>318</td><td>106</td><td>2</td><td>4.0</td><td>4.0</td><td>7.92</td><td>1</td><td>0.64</td></tr><tr><th>55</th><td>275</td><td>315</td><td>100</td><td>1</td><td>2.0</td><td>2.5</td><td>7.95</td><td>0</td><td>0.58</td></tr><tr><th>56</th><td>387</td><td>302</td><td>101</td><td>2</td><td>2.5</td><td>3.5</td><td>7.96</td><td>0</td><td>0.46</td></tr><tr><th>57</th><td>293</td><td>302</td><td>99</td><td>2</td><td>1.0</td><td>2.0</td><td>7.97</td><td>0</td><td>0.56</td></tr><tr><th>58</th><td>170</td><td>311</td><td>99</td><td>2</td><td>2.5</td><td>3.0</td><td>7.98</td><td>0</td><td>0.65</td></tr><tr><th>59</th><td>3</td><td>316</td><td>104</td><td>3</td><td>3.0</td><td>3.5</td><td>8.0</td><td>1</td><td>0.72</td></tr><tr><th>60</th><td>14</td><td>307</td><td>109</td><td>3</td><td>4.0</td><td>3.0</td><td>8.0</td><td>1</td><td>0.62</td></tr><tr><th>61</th><td>18</td><td>319</td><td>106</td><td>3</td><td>4.0</td><td>3.0</td><td>8.0</td><td>1</td><td>0.65</td></tr><tr><th>62</th><td>41</td><td>308</td><td>110</td><td>3</td><td>3.5</td><td>3.0</td><td>8.0</td><td>1</td><td>0.46</td></tr><tr><th>63</th><td>53</td><td>334</td><td>116</td><td>4</td><td>4.0</td><td>3.0</td><td>8.0</td><td>1</td><td>0.78</td></tr><tr><th>64</th><td>9</td><td>302</td><td>102</td><td>1</td><td>2.0</td><td>1.5</td><td>8.0</td><td>0</td><td>0.5</td></tr><tr><th>65</th><td>55</td><td>322</td><td>110</td><td>3</td><td>3.0</td><td>3.5</td><td>8.0</td><td>0</td><td>0.7</td></tr><tr><th>66</th><td>97</td><td>306</td><td>100</td><td>2</td><td>3.0</td><td>3.0</td><td>8.0</td><td>0</td><td>0.48</td></tr><tr><th>67</th><td>301</td><td>309</td><td>106</td><td>2</td><td>2.5</td><td>2.5</td><td>8.0</td><td>0</td><td>0.62</td></tr><tr><th>68</th><td>274</td><td>312</td><td>99</td><td>1</td><td>1.0</td><td>1.5</td><td>8.01</td><td>1</td><td>0.52</td></tr><tr><th>69</th><td>318</td><td>300</td><td>99</td><td>1</td><td>1.0</td><td>2.5</td><td>8.01</td><td>0</td><td>0.58</td></tr><tr><th>70</th><td>81</td><td>312</td><td>105</td><td>3</td><td>2.0</td><td>3.0</td><td>8.02</td><td>1</td><td>0.5</td></tr><tr><th>71</th><td>208</td><td>310</td><td>102</td><td>3</td><td>3.5</td><td>4.0</td><td>8.02</td><td>1</td><td>0.66</td></tr><tr><th>72</th><td>327</td><td>299</td><td>100</td><td>3</td><td>2.0</td><td>2.0</td><td>8.02</td><td>0</td><td>0.63</td></tr><tr><th>73</th><td>370</td><td>301</td><td>98</td><td>1</td><td>2.0</td><td>3.0</td><td>8.03</td><td>1</td><td>0.67</td></tr><tr><th>74</th><td>93</td><td>298</td><td>98</td><td>2</td><td>4.0</td><td>3.0</td><td>8.03</td><td>0</td><td>0.34</td></tr><tr><th>75</th><td>226</td><td>296</td><td>99</td><td>2</td><td>2.5</td><td>2.5</td><td>8.03</td><td>0</td><td>0.61</td></tr><tr><th>76</th><td>171</td><td>312</td><td>101</td><td>2</td><td>2.5</td><td>3.5</td><td>8.04</td><td>1</td><td>0.68</td></tr><tr><th>77</th><td>314</td><td>301</td><td>100</td><td>3</td><td>3.5</td><td>3.0</td><td>8.04</td><td>0</td><td>0.67</td></tr><tr><th>78</th><td>350</td><td>313</td><td>101</td><td>3</td><td>2.5</td><td>3.0</td><td>8.04</td><td>0</td><td>0.62</td></tr><tr><th>79</th><td>353</td><td>303</td><td>100</td><td>2</td><td>3.0</td><td>3.5</td><td>8.06</td><td>1</td><td>0.64</td></tr><tr><th>80</th><td>234</td><td>304</td><td>100</td><td>2</td><td>2.5</td><td>3.5</td><td>8.07</td><td>0</td><td>0.64</td></tr><tr><th>81</th><td>316</td><td>308</td><td>104</td><td>2</td><td>2.5</td><td>3.0</td><td>8.07</td><td>0</td><td>0.65</td></tr><tr><th>82</th><td>262</td><td>312</td><td>104</td><td>3</td><td>3.5</td><td>4.0</td><td>8.09</td><td>0</td><td>0.71</td></tr><tr><th>83</th><td>31</td><td>300</td><td>97</td><td>2</td><td>3.0</td><td>3.0</td><td>8.1</td><td>1</td><td>0.65</td></tr><tr><th>84</th><td>54</td><td>324</td><td>112</td><td>4</td><td>4.0</td><td>2.5</td><td>8.1</td><td>1</td><td>0.72</td></tr><tr><th>85</th><td>61</td><td>309</td><td>100</td><td>2</td><td>3.0</td><td>3.0</td><td>8.1</td><td>0</td><td>0.48</td></tr><tr><th>86</th><td>388</td><td>307</td><td>105</td><td>2</td><td>2.0</td><td>3.5</td><td>8.1</td><td>0</td><td>0.53</td></tr><tr><th>87</th><td>210</td><td>301</td><td>104</td><td>3</td><td>3.5</td><td>4.0</td><td>8.12</td><td>1</td><td>0.68</td></tr><tr><th>88</th><td>332</td><td>311</td><td>105</td><td>2</td><td>3.0</td><td>2.0</td><td>8.12</td><td>1</td><td>0.73</td></tr><tr><th>89</th><td>102</td><td>312</td><td>105</td><td>2</td><td>2.5</td><td>3.0</td><td>8.12</td><td>0</td><td>0.64</td></tr><tr><th>90</th><td>179</td><td>309</td><td>108</td><td>3</td><td>2.5</td><td>3.0</td><td>8.12</td><td>0</td><td>0.72</td></tr><tr><th>91</th><td>356</td><td>317</td><td>106</td><td>2</td><td>2.0</td><td>3.5</td><td>8.12</td><td>0</td><td>0.73</td></tr><tr><th>92</th><td>315</td><td>305</td><td>105</td><td>2</td><td>3.0</td><td>4.0</td><td>8.13</td><td>0</td><td>0.66</td></tr><tr><th>93</th><td>344</td><td>305</td><td>103</td><td>2</td><td>2.5</td><td>3.5</td><td>8.13</td><td>0</td><td>0.59</td></tr><tr><th>94</th><td>89</td><td>314</td><td>108</td><td>3</td><td>4.5</td><td>3.5</td><td>8.14</td><td>0</td><td>0.64</td></tr><tr><th>95</th><td>159</td><td>306</td><td>106</td><td>2</td><td>2.0</td><td>2.5</td><td>8.14</td><td>0</td><td>0.61</td></tr><tr><th>96</th><td>242</td><td>317</td><td>103</td><td>2</td><td>2.5</td><td>2.0</td><td>8.15</td><td>0</td><td>0.65</td></tr><tr><th>97</th><td>138</td><td>316</td><td>100</td><td>2</td><td>1.5</td><td>3.0</td><td>8.16</td><td>1</td><td>0.71</td></tr><tr><th>98</th><td>181</td><td>300</td><td>104</td><td>3</td><td>3.5</td><td>3.0</td><td>8.16</td><td>0</td><td>0.71</td></tr><tr><th>99</th><td>209</td><td>305</td><td>106</td><td>2</td><td>3.0</td><td>3.0</td><td>8.16</td><td>0</td><td>0.64</td></tr><tr><th>100</th><td>268</td><td>314</td><td>107</td><td>3</td><td>3.0</td><td>3.5</td><td>8.17</td><td>1</td><td>0.73</td></tr><tr><th>&vellip;</th><td>&vellip;</td><td>&vellip;</td><td>&vellip;</td><td>&vellip;</td><td>&vellip;</td><td>&vellip;</td><td>&vellip;</td><td>&vellip;</td><td>&vellip;</td></tr></tbody></table>"
      ],
      "text/latex": [
       "\\begin{tabular}{r|ccccccccc}\n",
       "\t& Serial No. & GRE Score & TOEFL Score & University Rating & SOP & LOR & CGPA & Research & Chance of Admit \\\\\n",
       "\t\\hline\n",
       "\t& Int64 & Int64 & Int64 & Int64 & Float64 & Float64 & Float64 & Int64 & Float64\\\\\n",
       "\t\\hline\n",
       "\t1 & 59 & 300 & 99 & 1 & 3.0 & 2.0 & 6.8 & 1 & 0.36 \\\\\n",
       "\t2 & 29 & 295 & 93 & 1 & 2.0 & 2.0 & 7.2 & 0 & 0.46 \\\\\n",
       "\t3 & 349 & 302 & 99 & 1 & 2.0 & 2.0 & 7.25 & 0 & 0.57 \\\\\n",
       "\t4 & 119 & 296 & 99 & 2 & 3.0 & 3.5 & 7.28 & 0 & 0.47 \\\\\n",
       "\t5 & 30 & 310 & 99 & 2 & 1.5 & 2.0 & 7.3 & 0 & 0.54 \\\\\n",
       "\t6 & 345 & 295 & 96 & 2 & 1.5 & 2.0 & 7.34 & 0 & 0.47 \\\\\n",
       "\t7 & 348 & 299 & 94 & 1 & 1.0 & 1.0 & 7.34 & 0 & 0.42 \\\\\n",
       "\t8 & 80 & 294 & 93 & 1 & 1.5 & 2.0 & 7.36 & 0 & 0.46 \\\\\n",
       "\t9 & 57 & 316 & 102 & 3 & 2.0 & 3.0 & 7.4 & 0 & 0.64 \\\\\n",
       "\t10 & 346 & 316 & 98 & 1 & 1.5 & 2.0 & 7.43 & 0 & 0.49 \\\\\n",
       "\t11 & 377 & 297 & 96 & 2 & 2.5 & 2.0 & 7.43 & 0 & 0.34 \\\\\n",
       "\t12 & 118 & 290 & 104 & 4 & 2.0 & 2.5 & 7.46 & 0 & 0.45 \\\\\n",
       "\t13 & 162 & 298 & 99 & 1 & 1.5 & 3.0 & 7.46 & 0 & 0.53 \\\\\n",
       "\t14 & 368 & 311 & 98 & 1 & 1.0 & 2.5 & 7.46 & 0 & 0.57 \\\\\n",
       "\t15 & 28 & 298 & 98 & 2 & 1.5 & 2.5 & 7.5 & 1 & 0.44 \\\\\n",
       "\t16 & 39 & 304 & 105 & 1 & 3.0 & 1.5 & 7.5 & 0 & 0.52 \\\\\n",
       "\t17 & 79 & 296 & 95 & 2 & 3.0 & 2.0 & 7.54 & 1 & 0.44 \\\\\n",
       "\t18 & 378 & 290 & 100 & 1 & 1.5 & 2.0 & 7.56 & 0 & 0.47 \\\\\n",
       "\t19 & 58 & 298 & 99 & 2 & 4.0 & 2.0 & 7.6 & 0 & 0.46 \\\\\n",
       "\t20 & 273 & 294 & 95 & 1 & 1.5 & 1.5 & 7.64 & 0 & 0.49 \\\\\n",
       "\t21 & 347 & 304 & 97 & 2 & 1.5 & 2.0 & 7.64 & 0 & 0.47 \\\\\n",
       "\t22 & 359 & 314 & 105 & 2 & 2.5 & 2.0 & 7.64 & 0 & 0.7 \\\\\n",
       "\t23 & 206 & 295 & 99 & 2 & 2.5 & 3.0 & 7.65 & 0 & 0.57 \\\\\n",
       "\t24 & 291 & 307 & 105 & 2 & 2.5 & 3.0 & 7.65 & 0 & 0.58 \\\\\n",
       "\t25 & 375 & 315 & 105 & 2 & 2.0 & 2.5 & 7.65 & 0 & 0.39 \\\\\n",
       "\t26 & 379 & 303 & 98 & 1 & 2.0 & 2.5 & 7.65 & 0 & 0.56 \\\\\n",
       "\t27 & 92 & 299 & 97 & 3 & 5.0 & 3.5 & 7.66 & 0 & 0.38 \\\\\n",
       "\t28 & 95 & 303 & 99 & 3 & 2.0 & 2.5 & 7.66 & 0 & 0.36 \\\\\n",
       "\t29 & 376 & 304 & 101 & 2 & 2.0 & 2.5 & 7.66 & 0 & 0.38 \\\\\n",
       "\t30 & 355 & 297 & 98 & 2 & 2.5 & 3.0 & 7.67 & 0 & 0.59 \\\\\n",
       "\t31 & 241 & 296 & 101 & 1 & 2.5 & 3.0 & 7.68 & 0 & 0.6 \\\\\n",
       "\t32 & 40 & 307 & 108 & 2 & 4.0 & 3.5 & 7.7 & 0 & 0.48 \\\\\n",
       "\t33 & 56 & 320 & 103 & 3 & 3.0 & 3.0 & 7.7 & 0 & 0.64 \\\\\n",
       "\t34 & 169 & 293 & 97 & 2 & 2.0 & 4.0 & 7.8 & 1 & 0.64 \\\\\n",
       "\t35 & 38 & 300 & 105 & 1 & 1.0 & 2.0 & 7.8 & 0 & 0.58 \\\\\n",
       "\t36 & 389 & 296 & 97 & 2 & 1.5 & 2.0 & 7.8 & 0 & 0.49 \\\\\n",
       "\t37 & 96 & 304 & 100 & 4 & 1.5 & 2.5 & 7.84 & 0 & 0.42 \\\\\n",
       "\t38 & 161 & 315 & 103 & 1 & 1.5 & 2.0 & 7.86 & 0 & 0.57 \\\\\n",
       "\t39 & 272 & 299 & 96 & 2 & 1.5 & 2.0 & 7.86 & 0 & 0.54 \\\\\n",
       "\t40 & 317 & 298 & 101 & 2 & 1.5 & 2.0 & 7.86 & 0 & 0.54 \\\\\n",
       "\t41 & 328 & 295 & 101 & 2 & 2.5 & 2.0 & 7.86 & 0 & 0.69 \\\\\n",
       "\t42 & 292 & 300 & 102 & 2 & 1.5 & 2.0 & 7.87 & 0 & 0.56 \\\\\n",
       "\t43 & 94 & 301 & 97 & 2 & 3.0 & 3.0 & 7.88 & 1 & 0.44 \\\\\n",
       "\t44 & 183 & 299 & 100 & 2 & 3.0 & 3.5 & 7.88 & 0 & 0.68 \\\\\n",
       "\t45 & 369 & 298 & 92 & 1 & 2.0 & 2.0 & 7.88 & 0 & 0.51 \\\\\n",
       "\t46 & 358 & 301 & 104 & 2 & 3.5 & 3.5 & 7.89 & 1 & 0.68 \\\\\n",
       "\t47 & 207 & 315 & 99 & 2 & 3.5 & 3.0 & 7.89 & 0 & 0.63 \\\\\n",
       "\t48 & 240 & 299 & 100 & 1 & 1.5 & 2.0 & 7.89 & 0 & 0.59 \\\\\n",
       "\t49 & 330 & 297 & 96 & 2 & 2.5 & 1.5 & 7.89 & 0 & 0.43 \\\\\n",
       "\t50 & 21 & 312 & 107 & 3 & 3.0 & 2.0 & 7.9 & 1 & 0.64 \\\\\n",
       "\t51 & 52 & 312 & 100 & 2 & 1.5 & 3.5 & 7.9 & 1 & 0.56 \\\\\n",
       "\t52 & 8 & 308 & 101 & 2 & 3.0 & 4.0 & 7.9 & 0 & 0.68 \\\\\n",
       "\t53 & 160 & 297 & 100 & 1 & 1.5 & 2.0 & 7.9 & 0 & 0.52 \\\\\n",
       "\t54 & 91 & 318 & 106 & 2 & 4.0 & 4.0 & 7.92 & 1 & 0.64 \\\\\n",
       "\t55 & 275 & 315 & 100 & 1 & 2.0 & 2.5 & 7.95 & 0 & 0.58 \\\\\n",
       "\t56 & 387 & 302 & 101 & 2 & 2.5 & 3.5 & 7.96 & 0 & 0.46 \\\\\n",
       "\t57 & 293 & 302 & 99 & 2 & 1.0 & 2.0 & 7.97 & 0 & 0.56 \\\\\n",
       "\t58 & 170 & 311 & 99 & 2 & 2.5 & 3.0 & 7.98 & 0 & 0.65 \\\\\n",
       "\t59 & 3 & 316 & 104 & 3 & 3.0 & 3.5 & 8.0 & 1 & 0.72 \\\\\n",
       "\t60 & 14 & 307 & 109 & 3 & 4.0 & 3.0 & 8.0 & 1 & 0.62 \\\\\n",
       "\t61 & 18 & 319 & 106 & 3 & 4.0 & 3.0 & 8.0 & 1 & 0.65 \\\\\n",
       "\t62 & 41 & 308 & 110 & 3 & 3.5 & 3.0 & 8.0 & 1 & 0.46 \\\\\n",
       "\t63 & 53 & 334 & 116 & 4 & 4.0 & 3.0 & 8.0 & 1 & 0.78 \\\\\n",
       "\t64 & 9 & 302 & 102 & 1 & 2.0 & 1.5 & 8.0 & 0 & 0.5 \\\\\n",
       "\t65 & 55 & 322 & 110 & 3 & 3.0 & 3.5 & 8.0 & 0 & 0.7 \\\\\n",
       "\t66 & 97 & 306 & 100 & 2 & 3.0 & 3.0 & 8.0 & 0 & 0.48 \\\\\n",
       "\t67 & 301 & 309 & 106 & 2 & 2.5 & 2.5 & 8.0 & 0 & 0.62 \\\\\n",
       "\t68 & 274 & 312 & 99 & 1 & 1.0 & 1.5 & 8.01 & 1 & 0.52 \\\\\n",
       "\t69 & 318 & 300 & 99 & 1 & 1.0 & 2.5 & 8.01 & 0 & 0.58 \\\\\n",
       "\t70 & 81 & 312 & 105 & 3 & 2.0 & 3.0 & 8.02 & 1 & 0.5 \\\\\n",
       "\t71 & 208 & 310 & 102 & 3 & 3.5 & 4.0 & 8.02 & 1 & 0.66 \\\\\n",
       "\t72 & 327 & 299 & 100 & 3 & 2.0 & 2.0 & 8.02 & 0 & 0.63 \\\\\n",
       "\t73 & 370 & 301 & 98 & 1 & 2.0 & 3.0 & 8.03 & 1 & 0.67 \\\\\n",
       "\t74 & 93 & 298 & 98 & 2 & 4.0 & 3.0 & 8.03 & 0 & 0.34 \\\\\n",
       "\t75 & 226 & 296 & 99 & 2 & 2.5 & 2.5 & 8.03 & 0 & 0.61 \\\\\n",
       "\t76 & 171 & 312 & 101 & 2 & 2.5 & 3.5 & 8.04 & 1 & 0.68 \\\\\n",
       "\t77 & 314 & 301 & 100 & 3 & 3.5 & 3.0 & 8.04 & 0 & 0.67 \\\\\n",
       "\t78 & 350 & 313 & 101 & 3 & 2.5 & 3.0 & 8.04 & 0 & 0.62 \\\\\n",
       "\t79 & 353 & 303 & 100 & 2 & 3.0 & 3.5 & 8.06 & 1 & 0.64 \\\\\n",
       "\t80 & 234 & 304 & 100 & 2 & 2.5 & 3.5 & 8.07 & 0 & 0.64 \\\\\n",
       "\t81 & 316 & 308 & 104 & 2 & 2.5 & 3.0 & 8.07 & 0 & 0.65 \\\\\n",
       "\t82 & 262 & 312 & 104 & 3 & 3.5 & 4.0 & 8.09 & 0 & 0.71 \\\\\n",
       "\t83 & 31 & 300 & 97 & 2 & 3.0 & 3.0 & 8.1 & 1 & 0.65 \\\\\n",
       "\t84 & 54 & 324 & 112 & 4 & 4.0 & 2.5 & 8.1 & 1 & 0.72 \\\\\n",
       "\t85 & 61 & 309 & 100 & 2 & 3.0 & 3.0 & 8.1 & 0 & 0.48 \\\\\n",
       "\t86 & 388 & 307 & 105 & 2 & 2.0 & 3.5 & 8.1 & 0 & 0.53 \\\\\n",
       "\t87 & 210 & 301 & 104 & 3 & 3.5 & 4.0 & 8.12 & 1 & 0.68 \\\\\n",
       "\t88 & 332 & 311 & 105 & 2 & 3.0 & 2.0 & 8.12 & 1 & 0.73 \\\\\n",
       "\t89 & 102 & 312 & 105 & 2 & 2.5 & 3.0 & 8.12 & 0 & 0.64 \\\\\n",
       "\t90 & 179 & 309 & 108 & 3 & 2.5 & 3.0 & 8.12 & 0 & 0.72 \\\\\n",
       "\t91 & 356 & 317 & 106 & 2 & 2.0 & 3.5 & 8.12 & 0 & 0.73 \\\\\n",
       "\t92 & 315 & 305 & 105 & 2 & 3.0 & 4.0 & 8.13 & 0 & 0.66 \\\\\n",
       "\t93 & 344 & 305 & 103 & 2 & 2.5 & 3.5 & 8.13 & 0 & 0.59 \\\\\n",
       "\t94 & 89 & 314 & 108 & 3 & 4.5 & 3.5 & 8.14 & 0 & 0.64 \\\\\n",
       "\t95 & 159 & 306 & 106 & 2 & 2.0 & 2.5 & 8.14 & 0 & 0.61 \\\\\n",
       "\t96 & 242 & 317 & 103 & 2 & 2.5 & 2.0 & 8.15 & 0 & 0.65 \\\\\n",
       "\t97 & 138 & 316 & 100 & 2 & 1.5 & 3.0 & 8.16 & 1 & 0.71 \\\\\n",
       "\t98 & 181 & 300 & 104 & 3 & 3.5 & 3.0 & 8.16 & 0 & 0.71 \\\\\n",
       "\t99 & 209 & 305 & 106 & 2 & 3.0 & 3.0 & 8.16 & 0 & 0.64 \\\\\n",
       "\t100 & 268 & 314 & 107 & 3 & 3.0 & 3.5 & 8.17 & 1 & 0.73 \\\\\n",
       "\t$\\dots$ & $\\dots$ & $\\dots$ & $\\dots$ & $\\dots$ & $\\dots$ & $\\dots$ & $\\dots$ & $\\dots$ & $\\dots$ \\\\\n",
       "\\end{tabular}\n"
      ],
      "text/plain": [
       "\u001b[1m399×9 DataFrame\u001b[0m\n",
       "\u001b[1m Row \u001b[0m│\u001b[1m Serial No. \u001b[0m\u001b[1m GRE Score \u001b[0m\u001b[1m TOEFL Score \u001b[0m\u001b[1m University Rating \u001b[0m\u001b[1m SOP     \u001b[0m\u001b[1m LOR     \u001b[0m\u001b[1m CGPA    \u001b[0m\u001b[1m Research \u001b[0m\u001b[1m Chance of Admit  \u001b[0m\n",
       "\u001b[1m     \u001b[0m│\u001b[90m Int64      \u001b[0m\u001b[90m Int64     \u001b[0m\u001b[90m Int64       \u001b[0m\u001b[90m Int64             \u001b[0m\u001b[90m Float64 \u001b[0m\u001b[90m Float64 \u001b[0m\u001b[90m Float64 \u001b[0m\u001b[90m Int64    \u001b[0m\u001b[90m Float64          \u001b[0m\n",
       "─────┼──────────────────────────────────────────────────────────────────────────────────────────────────────────────\n",
       "   1 │         59        300           99                  1      3.0      2.0     6.8          1              0.36\n",
       "   2 │         29        295           93                  1      2.0      2.0     7.2          0              0.46\n",
       "   3 │        349        302           99                  1      2.0      2.0     7.25         0              0.57\n",
       "   4 │        119        296           99                  2      3.0      3.5     7.28         0              0.47\n",
       "   5 │         30        310           99                  2      1.5      2.0     7.3          0              0.54\n",
       "   6 │        345        295           96                  2      1.5      2.0     7.34         0              0.47\n",
       "   7 │        348        299           94                  1      1.0      1.0     7.34         0              0.42\n",
       "   8 │         80        294           93                  1      1.5      2.0     7.36         0              0.46\n",
       "   9 │         57        316          102                  3      2.0      3.0     7.4          0              0.64\n",
       "  10 │        346        316           98                  1      1.5      2.0     7.43         0              0.49\n",
       "  11 │        377        297           96                  2      2.5      2.0     7.43         0              0.34\n",
       "  12 │        118        290          104                  4      2.0      2.5     7.46         0              0.45\n",
       "  13 │        162        298           99                  1      1.5      3.0     7.46         0              0.53\n",
       "  14 │        368        311           98                  1      1.0      2.5     7.46         0              0.57\n",
       "  15 │         28        298           98                  2      1.5      2.5     7.5          1              0.44\n",
       "  16 │         39        304          105                  1      3.0      1.5     7.5          0              0.52\n",
       "  17 │         79        296           95                  2      3.0      2.0     7.54         1              0.44\n",
       "  18 │        378        290          100                  1      1.5      2.0     7.56         0              0.47\n",
       "  19 │         58        298           99                  2      4.0      2.0     7.6          0              0.46\n",
       "  20 │        273        294           95                  1      1.5      1.5     7.64         0              0.49\n",
       "  21 │        347        304           97                  2      1.5      2.0     7.64         0              0.47\n",
       "  22 │        359        314          105                  2      2.5      2.0     7.64         0              0.7\n",
       "  23 │        206        295           99                  2      2.5      3.0     7.65         0              0.57\n",
       "  24 │        291        307          105                  2      2.5      3.0     7.65         0              0.58\n",
       "  25 │        375        315          105                  2      2.0      2.5     7.65         0              0.39\n",
       "  26 │        379        303           98                  1      2.0      2.5     7.65         0              0.56\n",
       "  27 │         92        299           97                  3      5.0      3.5     7.66         0              0.38\n",
       "  28 │         95        303           99                  3      2.0      2.5     7.66         0              0.36\n",
       "  29 │        376        304          101                  2      2.0      2.5     7.66         0              0.38\n",
       "  30 │        355        297           98                  2      2.5      3.0     7.67         0              0.59\n",
       "  31 │        241        296          101                  1      2.5      3.0     7.68         0              0.6\n",
       "  32 │         40        307          108                  2      4.0      3.5     7.7          0              0.48\n",
       "  33 │         56        320          103                  3      3.0      3.0     7.7          0              0.64\n",
       "  34 │        169        293           97                  2      2.0      4.0     7.8          1              0.64\n",
       "  35 │         38        300          105                  1      1.0      2.0     7.8          0              0.58\n",
       "  36 │        389        296           97                  2      1.5      2.0     7.8          0              0.49\n",
       "  37 │         96        304          100                  4      1.5      2.5     7.84         0              0.42\n",
       "  38 │        161        315          103                  1      1.5      2.0     7.86         0              0.57\n",
       "  39 │        272        299           96                  2      1.5      2.0     7.86         0              0.54\n",
       "  40 │        317        298          101                  2      1.5      2.0     7.86         0              0.54\n",
       "  41 │        328        295          101                  2      2.5      2.0     7.86         0              0.69\n",
       "  42 │        292        300          102                  2      1.5      2.0     7.87         0              0.56\n",
       "  43 │         94        301           97                  2      3.0      3.0     7.88         1              0.44\n",
       "  44 │        183        299          100                  2      3.0      3.5     7.88         0              0.68\n",
       "  45 │        369        298           92                  1      2.0      2.0     7.88         0              0.51\n",
       "  46 │        358        301          104                  2      3.5      3.5     7.89         1              0.68\n",
       "  ⋮  │     ⋮           ⋮           ⋮               ⋮             ⋮        ⋮        ⋮        ⋮             ⋮\n",
       " 355 │        130        333          118                  5      5.0      5.0     9.35         1              0.92\n",
       " 356 │         84        322          115                  5      4.0      4.5     9.36         1              0.92\n",
       " 357 │        142        332          118                  2      4.5      3.5     9.36         1              0.9\n",
       " 358 │        189        331          115                  5      4.5      3.5     9.36         1              0.93\n",
       " 359 │        216        330          116                  5      5.0      4.5     9.36         1              0.93\n",
       " 360 │        109        331          116                  5      5.0      5.0     9.38         1              0.93\n",
       " 361 │         33        338          118                  4      3.0      4.5     9.4          1              0.91\n",
       " 362 │         45        326          113                  5      4.5      4.0     9.4          1              0.91\n",
       " 363 │        215        331          117                  4      4.5      5.0     9.42         1              0.94\n",
       " 364 │        151        334          114                  4      4.0      4.0     9.43         1              0.93\n",
       " 365 │        143        331          115                  5      4.0      3.5     9.44         1              0.92\n",
       " 366 │        188        335          118                  5      4.5      3.5     9.44         1              0.93\n",
       " 367 │         73        321          111                  5      5.0      5.0     9.45         1              0.93\n",
       " 368 │         85        340          115                  5      4.5      4.5     9.45         1              0.94\n",
       " 369 │        277        329          113                  5      5.0      4.5     9.45         1              0.89\n",
       " 370 │        398        330          116                  4      5.0      4.5     9.45         1              0.91\n",
       " 371 │        108        338          117                  4      3.5      4.5     9.46         1              0.91\n",
       " 372 │        338        332          118                  5      5.0      5.0     9.47         1              0.94\n",
       " 373 │        122        334          119                  5      4.5      4.5     9.48         1              0.94\n",
       " 374 │         23        328          116                  5      5.0      5.0     9.5          1              0.94\n",
       " 375 │         82        340          120                  4      5.0      5.0     9.5          1              0.96\n",
       " 376 │        194        336          118                  5      4.5      5.0     9.53         1              0.94\n",
       " 377 │        362        334          116                  4      4.0      3.5     9.54         1              0.93\n",
       " 378 │        121        335          117                  5      5.0      5.0     9.56         1              0.94\n",
       " 379 │         26        340          120                  5      4.5      4.5     9.6          1              0.94\n",
       " 380 │         34        340          114                  5      4.0      4.0     9.6          1              0.9\n",
       " 381 │        373        336          119                  4      4.5      4.0     9.62         1              0.95\n",
       " 382 │         71        332          118                  5      5.0      5.0     9.64         1              0.94\n",
       " 383 │          1        337          118                  4      4.5      4.5     9.65         1              0.92\n",
       " 384 │        213        338          120                  4      5.0      5.0     9.66         1              0.95\n",
       " 385 │        285        340          112                  4      5.0      4.5     9.66         1              0.94\n",
       " 386 │        254        335          115                  4      4.5      4.5     9.68         1              0.93\n",
       " 387 │         24        334          119                  5      5.0      4.5     9.7          1              0.95\n",
       " 388 │         48        339          119                  5      4.5      4.0     9.7          0              0.89\n",
       " 389 │        385        340          113                  4      5.0      5.0     9.74         1              0.96\n",
       " 390 │         72        336          112                  5      5.0      5.0     9.76         1              0.96\n",
       " 391 │        131        339          114                  5      4.0      4.5     9.76         1              0.96\n",
       " 392 │        214        333          119                  5      5.0      4.5     9.78         1              0.96\n",
       " 393 │         25        336          119                  5      4.0      3.5     9.8          1              0.97\n",
       " 394 │         35        331          112                  5      4.0      5.0     9.8          1              0.94\n",
       " 395 │        149        339          116                  4      4.0      3.5     9.8          1              0.96\n",
       " 396 │        386        335          117                  5      5.0      5.0     9.82         1              0.96\n",
       " 397 │        204        334          120                  5      4.0      5.0     9.87         1              0.97\n",
       " 398 │        203        340          120                  5      4.5      4.5     9.91         1              0.97\n",
       " 399 │        144        340          120                  4      4.5      4.0     9.92         1              0.97\n",
       "\u001b[36m                                                                                                    308 rows omitted\u001b[0m"
      ]
     },
     "execution_count": 46,
     "metadata": {},
     "output_type": "execute_result"
    }
   ],
   "source": [
    "sort(df, [\"CGPA\", \"Research\"], rev=true)\n",
    "\n",
    "sort(df, [order(\"CGPA\", rev=false), order(\"Research\", rev=true)]) # Sort by two columns. Ascending and descending"
   ]
  },
  {
   "cell_type": "markdown",
   "metadata": {},
   "source": [
    "## Column Rename, Reorder, Insertion, Deletion\n",
    "\n",
    "---\n",
    "\n",
    "DataFrame is dynamic, meaning that we can add and remove columns, as well as reorder or rename them."
   ]
  },
  {
   "cell_type": "markdown",
   "metadata": {},
   "source": [
    "### Rename Columns\n"
   ]
  },
  {
   "cell_type": "code",
   "execution_count": 47,
   "metadata": {
    "ExecuteTime": {
     "end_time": "2021-05-22T12:23:41.311000+04:00",
     "start_time": "2021-05-22T08:23:41.307Z"
    }
   },
   "outputs": [
    {
     "data": {
      "text/html": [
       "<table class=\"data-frame\"><thead><tr><th></th><th>Serial No.</th><th>GRE Score</th><th>TOEFL Score</th><th>University Rating</th><th>SOP</th><th>LOR</th><th>CGPA</th><th>Research</th><th>Chance of Admit </th></tr><tr><th></th><th>Int64</th><th>Int64</th><th>Int64</th><th>Int64</th><th>Float64</th><th>Float64</th><th>Float64</th><th>Int64</th><th>Float64</th></tr></thead><tbody><p>5 rows × 9 columns</p><tr><th>1</th><td>1</td><td>337</td><td>118</td><td>4</td><td>4.5</td><td>4.5</td><td>9.65</td><td>1</td><td>0.92</td></tr><tr><th>2</th><td>2</td><td>324</td><td>107</td><td>4</td><td>4.0</td><td>4.5</td><td>8.87</td><td>1</td><td>0.76</td></tr><tr><th>3</th><td>3</td><td>316</td><td>104</td><td>3</td><td>3.0</td><td>3.5</td><td>8.0</td><td>1</td><td>0.72</td></tr><tr><th>4</th><td>4</td><td>322</td><td>110</td><td>3</td><td>3.5</td><td>2.5</td><td>8.67</td><td>1</td><td>0.8</td></tr><tr><th>5</th><td>5</td><td>314</td><td>103</td><td>2</td><td>2.0</td><td>3.0</td><td>8.21</td><td>0</td><td>0.65</td></tr></tbody></table>"
      ],
      "text/latex": [
       "\\begin{tabular}{r|ccccccccc}\n",
       "\t& Serial No. & GRE Score & TOEFL Score & University Rating & SOP & LOR & CGPA & Research & Chance of Admit \\\\\n",
       "\t\\hline\n",
       "\t& Int64 & Int64 & Int64 & Int64 & Float64 & Float64 & Float64 & Int64 & Float64\\\\\n",
       "\t\\hline\n",
       "\t1 & 1 & 337 & 118 & 4 & 4.5 & 4.5 & 9.65 & 1 & 0.92 \\\\\n",
       "\t2 & 2 & 324 & 107 & 4 & 4.0 & 4.5 & 8.87 & 1 & 0.76 \\\\\n",
       "\t3 & 3 & 316 & 104 & 3 & 3.0 & 3.5 & 8.0 & 1 & 0.72 \\\\\n",
       "\t4 & 4 & 322 & 110 & 3 & 3.5 & 2.5 & 8.67 & 1 & 0.8 \\\\\n",
       "\t5 & 5 & 314 & 103 & 2 & 2.0 & 3.0 & 8.21 & 0 & 0.65 \\\\\n",
       "\\end{tabular}\n"
      ],
      "text/plain": [
       "\u001b[1m5×9 DataFrame\u001b[0m\n",
       "\u001b[1m Row \u001b[0m│\u001b[1m Serial No. \u001b[0m\u001b[1m GRE Score \u001b[0m\u001b[1m TOEFL Score \u001b[0m\u001b[1m University Rating \u001b[0m\u001b[1m SOP     \u001b[0m\u001b[1m LOR     \u001b[0m\u001b[1m CGPA    \u001b[0m\u001b[1m Research \u001b[0m\u001b[1m Chance of Admit  \u001b[0m\n",
       "\u001b[1m     \u001b[0m│\u001b[90m Int64      \u001b[0m\u001b[90m Int64     \u001b[0m\u001b[90m Int64       \u001b[0m\u001b[90m Int64             \u001b[0m\u001b[90m Float64 \u001b[0m\u001b[90m Float64 \u001b[0m\u001b[90m Float64 \u001b[0m\u001b[90m Int64    \u001b[0m\u001b[90m Float64          \u001b[0m\n",
       "─────┼──────────────────────────────────────────────────────────────────────────────────────────────────────────────\n",
       "   1 │          1        337          118                  4      4.5      4.5     9.65         1              0.92\n",
       "   2 │          2        324          107                  4      4.0      4.5     8.87         1              0.76\n",
       "   3 │          3        316          104                  3      3.0      3.5     8.0          1              0.72\n",
       "   4 │          4        322          110                  3      3.5      2.5     8.67         1              0.8\n",
       "   5 │          5        314          103                  2      2.0      3.0     8.21         0              0.65"
      ]
     },
     "execution_count": 47,
     "metadata": {},
     "output_type": "execute_result"
    }
   ],
   "source": [
    "first(df, 5)"
   ]
  },
  {
   "cell_type": "code",
   "execution_count": 48,
   "metadata": {
    "ExecuteTime": {
     "end_time": "2021-05-22T12:23:41.784000+04:00",
     "start_time": "2021-05-22T08:23:41.555Z"
    }
   },
   "outputs": [
    {
     "data": {
      "text/html": [
       "<table class=\"data-frame\"><thead><tr><th></th><th>Serial No.</th><th>GRE</th><th>TOEFL</th><th>University Rating</th><th>SOP</th><th>LOR</th><th>CGPA</th><th>Research</th><th>Chance of Admit </th></tr><tr><th></th><th>Int64</th><th>Int64</th><th>Int64</th><th>Int64</th><th>Float64</th><th>Float64</th><th>Float64</th><th>Int64</th><th>Float64</th></tr></thead><tbody><p>399 rows × 9 columns</p><tr><th>1</th><td>1</td><td>337</td><td>118</td><td>4</td><td>4.5</td><td>4.5</td><td>9.65</td><td>1</td><td>0.92</td></tr><tr><th>2</th><td>2</td><td>324</td><td>107</td><td>4</td><td>4.0</td><td>4.5</td><td>8.87</td><td>1</td><td>0.76</td></tr><tr><th>3</th><td>3</td><td>316</td><td>104</td><td>3</td><td>3.0</td><td>3.5</td><td>8.0</td><td>1</td><td>0.72</td></tr><tr><th>4</th><td>4</td><td>322</td><td>110</td><td>3</td><td>3.5</td><td>2.5</td><td>8.67</td><td>1</td><td>0.8</td></tr><tr><th>5</th><td>5</td><td>314</td><td>103</td><td>2</td><td>2.0</td><td>3.0</td><td>8.21</td><td>0</td><td>0.65</td></tr><tr><th>6</th><td>6</td><td>330</td><td>115</td><td>5</td><td>4.5</td><td>3.0</td><td>9.34</td><td>1</td><td>0.9</td></tr><tr><th>7</th><td>7</td><td>321</td><td>109</td><td>3</td><td>3.0</td><td>4.0</td><td>8.2</td><td>1</td><td>0.75</td></tr><tr><th>8</th><td>8</td><td>308</td><td>101</td><td>2</td><td>3.0</td><td>4.0</td><td>7.9</td><td>0</td><td>0.68</td></tr><tr><th>9</th><td>9</td><td>302</td><td>102</td><td>1</td><td>2.0</td><td>1.5</td><td>8.0</td><td>0</td><td>0.5</td></tr><tr><th>10</th><td>10</td><td>323</td><td>108</td><td>3</td><td>3.5</td><td>3.0</td><td>8.6</td><td>0</td><td>0.45</td></tr><tr><th>11</th><td>11</td><td>325</td><td>106</td><td>3</td><td>3.5</td><td>4.0</td><td>8.4</td><td>1</td><td>0.52</td></tr><tr><th>12</th><td>12</td><td>327</td><td>111</td><td>4</td><td>4.0</td><td>4.5</td><td>9.0</td><td>1</td><td>0.84</td></tr><tr><th>13</th><td>13</td><td>328</td><td>112</td><td>4</td><td>4.0</td><td>4.5</td><td>9.1</td><td>1</td><td>0.78</td></tr><tr><th>14</th><td>14</td><td>307</td><td>109</td><td>3</td><td>4.0</td><td>3.0</td><td>8.0</td><td>1</td><td>0.62</td></tr><tr><th>15</th><td>15</td><td>311</td><td>104</td><td>3</td><td>3.5</td><td>2.0</td><td>8.2</td><td>1</td><td>0.61</td></tr><tr><th>16</th><td>16</td><td>314</td><td>105</td><td>3</td><td>3.5</td><td>2.5</td><td>8.3</td><td>0</td><td>0.54</td></tr><tr><th>17</th><td>17</td><td>317</td><td>107</td><td>3</td><td>4.0</td><td>3.0</td><td>8.7</td><td>0</td><td>0.66</td></tr><tr><th>18</th><td>18</td><td>319</td><td>106</td><td>3</td><td>4.0</td><td>3.0</td><td>8.0</td><td>1</td><td>0.65</td></tr><tr><th>19</th><td>19</td><td>318</td><td>110</td><td>3</td><td>4.0</td><td>3.0</td><td>8.8</td><td>0</td><td>0.63</td></tr><tr><th>20</th><td>20</td><td>303</td><td>102</td><td>3</td><td>3.5</td><td>3.0</td><td>8.5</td><td>0</td><td>0.62</td></tr><tr><th>21</th><td>21</td><td>312</td><td>107</td><td>3</td><td>3.0</td><td>2.0</td><td>7.9</td><td>1</td><td>0.64</td></tr><tr><th>22</th><td>22</td><td>325</td><td>114</td><td>4</td><td>3.0</td><td>2.0</td><td>8.4</td><td>0</td><td>0.7</td></tr><tr><th>23</th><td>23</td><td>328</td><td>116</td><td>5</td><td>5.0</td><td>5.0</td><td>9.5</td><td>1</td><td>0.94</td></tr><tr><th>24</th><td>24</td><td>334</td><td>119</td><td>5</td><td>5.0</td><td>4.5</td><td>9.7</td><td>1</td><td>0.95</td></tr><tr><th>25</th><td>25</td><td>336</td><td>119</td><td>5</td><td>4.0</td><td>3.5</td><td>9.8</td><td>1</td><td>0.97</td></tr><tr><th>26</th><td>26</td><td>340</td><td>120</td><td>5</td><td>4.5</td><td>4.5</td><td>9.6</td><td>1</td><td>0.94</td></tr><tr><th>27</th><td>27</td><td>322</td><td>109</td><td>5</td><td>4.5</td><td>3.5</td><td>8.8</td><td>0</td><td>0.76</td></tr><tr><th>28</th><td>28</td><td>298</td><td>98</td><td>2</td><td>1.5</td><td>2.5</td><td>7.5</td><td>1</td><td>0.44</td></tr><tr><th>29</th><td>29</td><td>295</td><td>93</td><td>1</td><td>2.0</td><td>2.0</td><td>7.2</td><td>0</td><td>0.46</td></tr><tr><th>30</th><td>30</td><td>310</td><td>99</td><td>2</td><td>1.5</td><td>2.0</td><td>7.3</td><td>0</td><td>0.54</td></tr><tr><th>31</th><td>31</td><td>300</td><td>97</td><td>2</td><td>3.0</td><td>3.0</td><td>8.1</td><td>1</td><td>0.65</td></tr><tr><th>32</th><td>32</td><td>327</td><td>103</td><td>3</td><td>4.0</td><td>4.0</td><td>8.3</td><td>1</td><td>0.74</td></tr><tr><th>33</th><td>33</td><td>338</td><td>118</td><td>4</td><td>3.0</td><td>4.5</td><td>9.4</td><td>1</td><td>0.91</td></tr><tr><th>34</th><td>34</td><td>340</td><td>114</td><td>5</td><td>4.0</td><td>4.0</td><td>9.6</td><td>1</td><td>0.9</td></tr><tr><th>35</th><td>35</td><td>331</td><td>112</td><td>5</td><td>4.0</td><td>5.0</td><td>9.8</td><td>1</td><td>0.94</td></tr><tr><th>36</th><td>36</td><td>320</td><td>110</td><td>5</td><td>5.0</td><td>5.0</td><td>9.2</td><td>1</td><td>0.88</td></tr><tr><th>37</th><td>37</td><td>299</td><td>106</td><td>2</td><td>4.0</td><td>4.0</td><td>8.4</td><td>0</td><td>0.64</td></tr><tr><th>38</th><td>38</td><td>300</td><td>105</td><td>1</td><td>1.0</td><td>2.0</td><td>7.8</td><td>0</td><td>0.58</td></tr><tr><th>39</th><td>39</td><td>304</td><td>105</td><td>1</td><td>3.0</td><td>1.5</td><td>7.5</td><td>0</td><td>0.52</td></tr><tr><th>40</th><td>40</td><td>307</td><td>108</td><td>2</td><td>4.0</td><td>3.5</td><td>7.7</td><td>0</td><td>0.48</td></tr><tr><th>41</th><td>41</td><td>308</td><td>110</td><td>3</td><td>3.5</td><td>3.0</td><td>8.0</td><td>1</td><td>0.46</td></tr><tr><th>42</th><td>42</td><td>316</td><td>105</td><td>2</td><td>2.5</td><td>2.5</td><td>8.2</td><td>1</td><td>0.49</td></tr><tr><th>43</th><td>43</td><td>313</td><td>107</td><td>2</td><td>2.5</td><td>2.0</td><td>8.5</td><td>1</td><td>0.53</td></tr><tr><th>44</th><td>44</td><td>332</td><td>117</td><td>4</td><td>4.5</td><td>4.0</td><td>9.1</td><td>0</td><td>0.87</td></tr><tr><th>45</th><td>45</td><td>326</td><td>113</td><td>5</td><td>4.5</td><td>4.0</td><td>9.4</td><td>1</td><td>0.91</td></tr><tr><th>46</th><td>46</td><td>322</td><td>110</td><td>5</td><td>5.0</td><td>4.0</td><td>9.1</td><td>1</td><td>0.88</td></tr><tr><th>47</th><td>47</td><td>329</td><td>114</td><td>5</td><td>4.0</td><td>5.0</td><td>9.3</td><td>1</td><td>0.86</td></tr><tr><th>48</th><td>48</td><td>339</td><td>119</td><td>5</td><td>4.5</td><td>4.0</td><td>9.7</td><td>0</td><td>0.89</td></tr><tr><th>49</th><td>49</td><td>321</td><td>110</td><td>3</td><td>3.5</td><td>5.0</td><td>8.85</td><td>1</td><td>0.82</td></tr><tr><th>50</th><td>50</td><td>327</td><td>111</td><td>4</td><td>3.0</td><td>4.0</td><td>8.4</td><td>1</td><td>0.78</td></tr><tr><th>51</th><td>51</td><td>313</td><td>98</td><td>3</td><td>2.5</td><td>4.5</td><td>8.3</td><td>1</td><td>0.76</td></tr><tr><th>52</th><td>52</td><td>312</td><td>100</td><td>2</td><td>1.5</td><td>3.5</td><td>7.9</td><td>1</td><td>0.56</td></tr><tr><th>53</th><td>53</td><td>334</td><td>116</td><td>4</td><td>4.0</td><td>3.0</td><td>8.0</td><td>1</td><td>0.78</td></tr><tr><th>54</th><td>54</td><td>324</td><td>112</td><td>4</td><td>4.0</td><td>2.5</td><td>8.1</td><td>1</td><td>0.72</td></tr><tr><th>55</th><td>55</td><td>322</td><td>110</td><td>3</td><td>3.0</td><td>3.5</td><td>8.0</td><td>0</td><td>0.7</td></tr><tr><th>56</th><td>56</td><td>320</td><td>103</td><td>3</td><td>3.0</td><td>3.0</td><td>7.7</td><td>0</td><td>0.64</td></tr><tr><th>57</th><td>57</td><td>316</td><td>102</td><td>3</td><td>2.0</td><td>3.0</td><td>7.4</td><td>0</td><td>0.64</td></tr><tr><th>58</th><td>58</td><td>298</td><td>99</td><td>2</td><td>4.0</td><td>2.0</td><td>7.6</td><td>0</td><td>0.46</td></tr><tr><th>59</th><td>59</td><td>300</td><td>99</td><td>1</td><td>3.0</td><td>2.0</td><td>6.8</td><td>1</td><td>0.36</td></tr><tr><th>60</th><td>60</td><td>311</td><td>104</td><td>2</td><td>2.0</td><td>2.0</td><td>8.3</td><td>0</td><td>0.42</td></tr><tr><th>61</th><td>61</td><td>309</td><td>100</td><td>2</td><td>3.0</td><td>3.0</td><td>8.1</td><td>0</td><td>0.48</td></tr><tr><th>62</th><td>62</td><td>307</td><td>101</td><td>3</td><td>4.0</td><td>3.0</td><td>8.2</td><td>0</td><td>0.47</td></tr><tr><th>63</th><td>63</td><td>304</td><td>105</td><td>2</td><td>3.0</td><td>3.0</td><td>8.2</td><td>1</td><td>0.54</td></tr><tr><th>64</th><td>64</td><td>315</td><td>107</td><td>2</td><td>4.0</td><td>3.0</td><td>8.5</td><td>1</td><td>0.56</td></tr><tr><th>65</th><td>65</td><td>325</td><td>111</td><td>3</td><td>3.0</td><td>3.5</td><td>8.7</td><td>0</td><td>0.52</td></tr><tr><th>66</th><td>66</td><td>325</td><td>112</td><td>4</td><td>3.5</td><td>3.5</td><td>8.92</td><td>0</td><td>0.55</td></tr><tr><th>67</th><td>67</td><td>327</td><td>114</td><td>3</td><td>3.0</td><td>3.0</td><td>9.02</td><td>0</td><td>0.61</td></tr><tr><th>68</th><td>68</td><td>316</td><td>107</td><td>2</td><td>3.5</td><td>3.5</td><td>8.64</td><td>1</td><td>0.57</td></tr><tr><th>69</th><td>69</td><td>318</td><td>109</td><td>3</td><td>3.5</td><td>4.0</td><td>9.22</td><td>1</td><td>0.68</td></tr><tr><th>70</th><td>70</td><td>328</td><td>115</td><td>4</td><td>4.5</td><td>4.0</td><td>9.16</td><td>1</td><td>0.78</td></tr><tr><th>71</th><td>71</td><td>332</td><td>118</td><td>5</td><td>5.0</td><td>5.0</td><td>9.64</td><td>1</td><td>0.94</td></tr><tr><th>72</th><td>72</td><td>336</td><td>112</td><td>5</td><td>5.0</td><td>5.0</td><td>9.76</td><td>1</td><td>0.96</td></tr><tr><th>73</th><td>73</td><td>321</td><td>111</td><td>5</td><td>5.0</td><td>5.0</td><td>9.45</td><td>1</td><td>0.93</td></tr><tr><th>74</th><td>74</td><td>314</td><td>108</td><td>4</td><td>4.5</td><td>4.0</td><td>9.04</td><td>1</td><td>0.84</td></tr><tr><th>75</th><td>75</td><td>314</td><td>106</td><td>3</td><td>3.0</td><td>5.0</td><td>8.9</td><td>0</td><td>0.74</td></tr><tr><th>76</th><td>76</td><td>329</td><td>114</td><td>2</td><td>2.0</td><td>4.0</td><td>8.56</td><td>1</td><td>0.72</td></tr><tr><th>77</th><td>77</td><td>327</td><td>112</td><td>3</td><td>3.0</td><td>3.0</td><td>8.72</td><td>1</td><td>0.74</td></tr><tr><th>78</th><td>78</td><td>301</td><td>99</td><td>2</td><td>3.0</td><td>2.0</td><td>8.22</td><td>0</td><td>0.64</td></tr><tr><th>79</th><td>79</td><td>296</td><td>95</td><td>2</td><td>3.0</td><td>2.0</td><td>7.54</td><td>1</td><td>0.44</td></tr><tr><th>80</th><td>80</td><td>294</td><td>93</td><td>1</td><td>1.5</td><td>2.0</td><td>7.36</td><td>0</td><td>0.46</td></tr><tr><th>81</th><td>81</td><td>312</td><td>105</td><td>3</td><td>2.0</td><td>3.0</td><td>8.02</td><td>1</td><td>0.5</td></tr><tr><th>82</th><td>82</td><td>340</td><td>120</td><td>4</td><td>5.0</td><td>5.0</td><td>9.5</td><td>1</td><td>0.96</td></tr><tr><th>83</th><td>83</td><td>320</td><td>110</td><td>5</td><td>5.0</td><td>4.5</td><td>9.22</td><td>1</td><td>0.92</td></tr><tr><th>84</th><td>84</td><td>322</td><td>115</td><td>5</td><td>4.0</td><td>4.5</td><td>9.36</td><td>1</td><td>0.92</td></tr><tr><th>85</th><td>85</td><td>340</td><td>115</td><td>5</td><td>4.5</td><td>4.5</td><td>9.45</td><td>1</td><td>0.94</td></tr><tr><th>86</th><td>86</td><td>319</td><td>103</td><td>4</td><td>4.5</td><td>3.5</td><td>8.66</td><td>0</td><td>0.76</td></tr><tr><th>87</th><td>87</td><td>315</td><td>106</td><td>3</td><td>4.5</td><td>3.5</td><td>8.42</td><td>0</td><td>0.72</td></tr><tr><th>88</th><td>88</td><td>317</td><td>107</td><td>2</td><td>3.5</td><td>3.0</td><td>8.28</td><td>0</td><td>0.66</td></tr><tr><th>89</th><td>89</td><td>314</td><td>108</td><td>3</td><td>4.5</td><td>3.5</td><td>8.14</td><td>0</td><td>0.64</td></tr><tr><th>90</th><td>90</td><td>316</td><td>109</td><td>4</td><td>4.5</td><td>3.5</td><td>8.76</td><td>1</td><td>0.74</td></tr><tr><th>91</th><td>91</td><td>318</td><td>106</td><td>2</td><td>4.0</td><td>4.0</td><td>7.92</td><td>1</td><td>0.64</td></tr><tr><th>92</th><td>92</td><td>299</td><td>97</td><td>3</td><td>5.0</td><td>3.5</td><td>7.66</td><td>0</td><td>0.38</td></tr><tr><th>93</th><td>93</td><td>298</td><td>98</td><td>2</td><td>4.0</td><td>3.0</td><td>8.03</td><td>0</td><td>0.34</td></tr><tr><th>94</th><td>94</td><td>301</td><td>97</td><td>2</td><td>3.0</td><td>3.0</td><td>7.88</td><td>1</td><td>0.44</td></tr><tr><th>95</th><td>95</td><td>303</td><td>99</td><td>3</td><td>2.0</td><td>2.5</td><td>7.66</td><td>0</td><td>0.36</td></tr><tr><th>96</th><td>96</td><td>304</td><td>100</td><td>4</td><td>1.5</td><td>2.5</td><td>7.84</td><td>0</td><td>0.42</td></tr><tr><th>97</th><td>97</td><td>306</td><td>100</td><td>2</td><td>3.0</td><td>3.0</td><td>8.0</td><td>0</td><td>0.48</td></tr><tr><th>98</th><td>98</td><td>331</td><td>120</td><td>3</td><td>4.0</td><td>4.0</td><td>8.96</td><td>1</td><td>0.86</td></tr><tr><th>99</th><td>99</td><td>332</td><td>119</td><td>4</td><td>5.0</td><td>4.5</td><td>9.24</td><td>1</td><td>0.9</td></tr><tr><th>100</th><td>100</td><td>323</td><td>113</td><td>3</td><td>4.0</td><td>4.0</td><td>8.88</td><td>1</td><td>0.79</td></tr><tr><th>&vellip;</th><td>&vellip;</td><td>&vellip;</td><td>&vellip;</td><td>&vellip;</td><td>&vellip;</td><td>&vellip;</td><td>&vellip;</td><td>&vellip;</td><td>&vellip;</td></tr></tbody></table>"
      ],
      "text/latex": [
       "\\begin{tabular}{r|ccccccccc}\n",
       "\t& Serial No. & GRE & TOEFL & University Rating & SOP & LOR & CGPA & Research & Chance of Admit \\\\\n",
       "\t\\hline\n",
       "\t& Int64 & Int64 & Int64 & Int64 & Float64 & Float64 & Float64 & Int64 & Float64\\\\\n",
       "\t\\hline\n",
       "\t1 & 1 & 337 & 118 & 4 & 4.5 & 4.5 & 9.65 & 1 & 0.92 \\\\\n",
       "\t2 & 2 & 324 & 107 & 4 & 4.0 & 4.5 & 8.87 & 1 & 0.76 \\\\\n",
       "\t3 & 3 & 316 & 104 & 3 & 3.0 & 3.5 & 8.0 & 1 & 0.72 \\\\\n",
       "\t4 & 4 & 322 & 110 & 3 & 3.5 & 2.5 & 8.67 & 1 & 0.8 \\\\\n",
       "\t5 & 5 & 314 & 103 & 2 & 2.0 & 3.0 & 8.21 & 0 & 0.65 \\\\\n",
       "\t6 & 6 & 330 & 115 & 5 & 4.5 & 3.0 & 9.34 & 1 & 0.9 \\\\\n",
       "\t7 & 7 & 321 & 109 & 3 & 3.0 & 4.0 & 8.2 & 1 & 0.75 \\\\\n",
       "\t8 & 8 & 308 & 101 & 2 & 3.0 & 4.0 & 7.9 & 0 & 0.68 \\\\\n",
       "\t9 & 9 & 302 & 102 & 1 & 2.0 & 1.5 & 8.0 & 0 & 0.5 \\\\\n",
       "\t10 & 10 & 323 & 108 & 3 & 3.5 & 3.0 & 8.6 & 0 & 0.45 \\\\\n",
       "\t11 & 11 & 325 & 106 & 3 & 3.5 & 4.0 & 8.4 & 1 & 0.52 \\\\\n",
       "\t12 & 12 & 327 & 111 & 4 & 4.0 & 4.5 & 9.0 & 1 & 0.84 \\\\\n",
       "\t13 & 13 & 328 & 112 & 4 & 4.0 & 4.5 & 9.1 & 1 & 0.78 \\\\\n",
       "\t14 & 14 & 307 & 109 & 3 & 4.0 & 3.0 & 8.0 & 1 & 0.62 \\\\\n",
       "\t15 & 15 & 311 & 104 & 3 & 3.5 & 2.0 & 8.2 & 1 & 0.61 \\\\\n",
       "\t16 & 16 & 314 & 105 & 3 & 3.5 & 2.5 & 8.3 & 0 & 0.54 \\\\\n",
       "\t17 & 17 & 317 & 107 & 3 & 4.0 & 3.0 & 8.7 & 0 & 0.66 \\\\\n",
       "\t18 & 18 & 319 & 106 & 3 & 4.0 & 3.0 & 8.0 & 1 & 0.65 \\\\\n",
       "\t19 & 19 & 318 & 110 & 3 & 4.0 & 3.0 & 8.8 & 0 & 0.63 \\\\\n",
       "\t20 & 20 & 303 & 102 & 3 & 3.5 & 3.0 & 8.5 & 0 & 0.62 \\\\\n",
       "\t21 & 21 & 312 & 107 & 3 & 3.0 & 2.0 & 7.9 & 1 & 0.64 \\\\\n",
       "\t22 & 22 & 325 & 114 & 4 & 3.0 & 2.0 & 8.4 & 0 & 0.7 \\\\\n",
       "\t23 & 23 & 328 & 116 & 5 & 5.0 & 5.0 & 9.5 & 1 & 0.94 \\\\\n",
       "\t24 & 24 & 334 & 119 & 5 & 5.0 & 4.5 & 9.7 & 1 & 0.95 \\\\\n",
       "\t25 & 25 & 336 & 119 & 5 & 4.0 & 3.5 & 9.8 & 1 & 0.97 \\\\\n",
       "\t26 & 26 & 340 & 120 & 5 & 4.5 & 4.5 & 9.6 & 1 & 0.94 \\\\\n",
       "\t27 & 27 & 322 & 109 & 5 & 4.5 & 3.5 & 8.8 & 0 & 0.76 \\\\\n",
       "\t28 & 28 & 298 & 98 & 2 & 1.5 & 2.5 & 7.5 & 1 & 0.44 \\\\\n",
       "\t29 & 29 & 295 & 93 & 1 & 2.0 & 2.0 & 7.2 & 0 & 0.46 \\\\\n",
       "\t30 & 30 & 310 & 99 & 2 & 1.5 & 2.0 & 7.3 & 0 & 0.54 \\\\\n",
       "\t31 & 31 & 300 & 97 & 2 & 3.0 & 3.0 & 8.1 & 1 & 0.65 \\\\\n",
       "\t32 & 32 & 327 & 103 & 3 & 4.0 & 4.0 & 8.3 & 1 & 0.74 \\\\\n",
       "\t33 & 33 & 338 & 118 & 4 & 3.0 & 4.5 & 9.4 & 1 & 0.91 \\\\\n",
       "\t34 & 34 & 340 & 114 & 5 & 4.0 & 4.0 & 9.6 & 1 & 0.9 \\\\\n",
       "\t35 & 35 & 331 & 112 & 5 & 4.0 & 5.0 & 9.8 & 1 & 0.94 \\\\\n",
       "\t36 & 36 & 320 & 110 & 5 & 5.0 & 5.0 & 9.2 & 1 & 0.88 \\\\\n",
       "\t37 & 37 & 299 & 106 & 2 & 4.0 & 4.0 & 8.4 & 0 & 0.64 \\\\\n",
       "\t38 & 38 & 300 & 105 & 1 & 1.0 & 2.0 & 7.8 & 0 & 0.58 \\\\\n",
       "\t39 & 39 & 304 & 105 & 1 & 3.0 & 1.5 & 7.5 & 0 & 0.52 \\\\\n",
       "\t40 & 40 & 307 & 108 & 2 & 4.0 & 3.5 & 7.7 & 0 & 0.48 \\\\\n",
       "\t41 & 41 & 308 & 110 & 3 & 3.5 & 3.0 & 8.0 & 1 & 0.46 \\\\\n",
       "\t42 & 42 & 316 & 105 & 2 & 2.5 & 2.5 & 8.2 & 1 & 0.49 \\\\\n",
       "\t43 & 43 & 313 & 107 & 2 & 2.5 & 2.0 & 8.5 & 1 & 0.53 \\\\\n",
       "\t44 & 44 & 332 & 117 & 4 & 4.5 & 4.0 & 9.1 & 0 & 0.87 \\\\\n",
       "\t45 & 45 & 326 & 113 & 5 & 4.5 & 4.0 & 9.4 & 1 & 0.91 \\\\\n",
       "\t46 & 46 & 322 & 110 & 5 & 5.0 & 4.0 & 9.1 & 1 & 0.88 \\\\\n",
       "\t47 & 47 & 329 & 114 & 5 & 4.0 & 5.0 & 9.3 & 1 & 0.86 \\\\\n",
       "\t48 & 48 & 339 & 119 & 5 & 4.5 & 4.0 & 9.7 & 0 & 0.89 \\\\\n",
       "\t49 & 49 & 321 & 110 & 3 & 3.5 & 5.0 & 8.85 & 1 & 0.82 \\\\\n",
       "\t50 & 50 & 327 & 111 & 4 & 3.0 & 4.0 & 8.4 & 1 & 0.78 \\\\\n",
       "\t51 & 51 & 313 & 98 & 3 & 2.5 & 4.5 & 8.3 & 1 & 0.76 \\\\\n",
       "\t52 & 52 & 312 & 100 & 2 & 1.5 & 3.5 & 7.9 & 1 & 0.56 \\\\\n",
       "\t53 & 53 & 334 & 116 & 4 & 4.0 & 3.0 & 8.0 & 1 & 0.78 \\\\\n",
       "\t54 & 54 & 324 & 112 & 4 & 4.0 & 2.5 & 8.1 & 1 & 0.72 \\\\\n",
       "\t55 & 55 & 322 & 110 & 3 & 3.0 & 3.5 & 8.0 & 0 & 0.7 \\\\\n",
       "\t56 & 56 & 320 & 103 & 3 & 3.0 & 3.0 & 7.7 & 0 & 0.64 \\\\\n",
       "\t57 & 57 & 316 & 102 & 3 & 2.0 & 3.0 & 7.4 & 0 & 0.64 \\\\\n",
       "\t58 & 58 & 298 & 99 & 2 & 4.0 & 2.0 & 7.6 & 0 & 0.46 \\\\\n",
       "\t59 & 59 & 300 & 99 & 1 & 3.0 & 2.0 & 6.8 & 1 & 0.36 \\\\\n",
       "\t60 & 60 & 311 & 104 & 2 & 2.0 & 2.0 & 8.3 & 0 & 0.42 \\\\\n",
       "\t61 & 61 & 309 & 100 & 2 & 3.0 & 3.0 & 8.1 & 0 & 0.48 \\\\\n",
       "\t62 & 62 & 307 & 101 & 3 & 4.0 & 3.0 & 8.2 & 0 & 0.47 \\\\\n",
       "\t63 & 63 & 304 & 105 & 2 & 3.0 & 3.0 & 8.2 & 1 & 0.54 \\\\\n",
       "\t64 & 64 & 315 & 107 & 2 & 4.0 & 3.0 & 8.5 & 1 & 0.56 \\\\\n",
       "\t65 & 65 & 325 & 111 & 3 & 3.0 & 3.5 & 8.7 & 0 & 0.52 \\\\\n",
       "\t66 & 66 & 325 & 112 & 4 & 3.5 & 3.5 & 8.92 & 0 & 0.55 \\\\\n",
       "\t67 & 67 & 327 & 114 & 3 & 3.0 & 3.0 & 9.02 & 0 & 0.61 \\\\\n",
       "\t68 & 68 & 316 & 107 & 2 & 3.5 & 3.5 & 8.64 & 1 & 0.57 \\\\\n",
       "\t69 & 69 & 318 & 109 & 3 & 3.5 & 4.0 & 9.22 & 1 & 0.68 \\\\\n",
       "\t70 & 70 & 328 & 115 & 4 & 4.5 & 4.0 & 9.16 & 1 & 0.78 \\\\\n",
       "\t71 & 71 & 332 & 118 & 5 & 5.0 & 5.0 & 9.64 & 1 & 0.94 \\\\\n",
       "\t72 & 72 & 336 & 112 & 5 & 5.0 & 5.0 & 9.76 & 1 & 0.96 \\\\\n",
       "\t73 & 73 & 321 & 111 & 5 & 5.0 & 5.0 & 9.45 & 1 & 0.93 \\\\\n",
       "\t74 & 74 & 314 & 108 & 4 & 4.5 & 4.0 & 9.04 & 1 & 0.84 \\\\\n",
       "\t75 & 75 & 314 & 106 & 3 & 3.0 & 5.0 & 8.9 & 0 & 0.74 \\\\\n",
       "\t76 & 76 & 329 & 114 & 2 & 2.0 & 4.0 & 8.56 & 1 & 0.72 \\\\\n",
       "\t77 & 77 & 327 & 112 & 3 & 3.0 & 3.0 & 8.72 & 1 & 0.74 \\\\\n",
       "\t78 & 78 & 301 & 99 & 2 & 3.0 & 2.0 & 8.22 & 0 & 0.64 \\\\\n",
       "\t79 & 79 & 296 & 95 & 2 & 3.0 & 2.0 & 7.54 & 1 & 0.44 \\\\\n",
       "\t80 & 80 & 294 & 93 & 1 & 1.5 & 2.0 & 7.36 & 0 & 0.46 \\\\\n",
       "\t81 & 81 & 312 & 105 & 3 & 2.0 & 3.0 & 8.02 & 1 & 0.5 \\\\\n",
       "\t82 & 82 & 340 & 120 & 4 & 5.0 & 5.0 & 9.5 & 1 & 0.96 \\\\\n",
       "\t83 & 83 & 320 & 110 & 5 & 5.0 & 4.5 & 9.22 & 1 & 0.92 \\\\\n",
       "\t84 & 84 & 322 & 115 & 5 & 4.0 & 4.5 & 9.36 & 1 & 0.92 \\\\\n",
       "\t85 & 85 & 340 & 115 & 5 & 4.5 & 4.5 & 9.45 & 1 & 0.94 \\\\\n",
       "\t86 & 86 & 319 & 103 & 4 & 4.5 & 3.5 & 8.66 & 0 & 0.76 \\\\\n",
       "\t87 & 87 & 315 & 106 & 3 & 4.5 & 3.5 & 8.42 & 0 & 0.72 \\\\\n",
       "\t88 & 88 & 317 & 107 & 2 & 3.5 & 3.0 & 8.28 & 0 & 0.66 \\\\\n",
       "\t89 & 89 & 314 & 108 & 3 & 4.5 & 3.5 & 8.14 & 0 & 0.64 \\\\\n",
       "\t90 & 90 & 316 & 109 & 4 & 4.5 & 3.5 & 8.76 & 1 & 0.74 \\\\\n",
       "\t91 & 91 & 318 & 106 & 2 & 4.0 & 4.0 & 7.92 & 1 & 0.64 \\\\\n",
       "\t92 & 92 & 299 & 97 & 3 & 5.0 & 3.5 & 7.66 & 0 & 0.38 \\\\\n",
       "\t93 & 93 & 298 & 98 & 2 & 4.0 & 3.0 & 8.03 & 0 & 0.34 \\\\\n",
       "\t94 & 94 & 301 & 97 & 2 & 3.0 & 3.0 & 7.88 & 1 & 0.44 \\\\\n",
       "\t95 & 95 & 303 & 99 & 3 & 2.0 & 2.5 & 7.66 & 0 & 0.36 \\\\\n",
       "\t96 & 96 & 304 & 100 & 4 & 1.5 & 2.5 & 7.84 & 0 & 0.42 \\\\\n",
       "\t97 & 97 & 306 & 100 & 2 & 3.0 & 3.0 & 8.0 & 0 & 0.48 \\\\\n",
       "\t98 & 98 & 331 & 120 & 3 & 4.0 & 4.0 & 8.96 & 1 & 0.86 \\\\\n",
       "\t99 & 99 & 332 & 119 & 4 & 5.0 & 4.5 & 9.24 & 1 & 0.9 \\\\\n",
       "\t100 & 100 & 323 & 113 & 3 & 4.0 & 4.0 & 8.88 & 1 & 0.79 \\\\\n",
       "\t$\\dots$ & $\\dots$ & $\\dots$ & $\\dots$ & $\\dots$ & $\\dots$ & $\\dots$ & $\\dots$ & $\\dots$ & $\\dots$ \\\\\n",
       "\\end{tabular}\n"
      ],
      "text/plain": [
       "\u001b[1m399×9 DataFrame\u001b[0m\n",
       "\u001b[1m Row \u001b[0m│\u001b[1m Serial No. \u001b[0m\u001b[1m GRE   \u001b[0m\u001b[1m TOEFL \u001b[0m\u001b[1m University Rating \u001b[0m\u001b[1m SOP     \u001b[0m\u001b[1m LOR     \u001b[0m\u001b[1m CGPA    \u001b[0m\u001b[1m Research \u001b[0m\u001b[1m Chance of Admit  \u001b[0m\n",
       "\u001b[1m     \u001b[0m│\u001b[90m Int64      \u001b[0m\u001b[90m Int64 \u001b[0m\u001b[90m Int64 \u001b[0m\u001b[90m Int64             \u001b[0m\u001b[90m Float64 \u001b[0m\u001b[90m Float64 \u001b[0m\u001b[90m Float64 \u001b[0m\u001b[90m Int64    \u001b[0m\u001b[90m Float64          \u001b[0m\n",
       "─────┼────────────────────────────────────────────────────────────────────────────────────────────────────\n",
       "   1 │          1    337    118                  4      4.5      4.5     9.65         1              0.92\n",
       "   2 │          2    324    107                  4      4.0      4.5     8.87         1              0.76\n",
       "   3 │          3    316    104                  3      3.0      3.5     8.0          1              0.72\n",
       "   4 │          4    322    110                  3      3.5      2.5     8.67         1              0.8\n",
       "   5 │          5    314    103                  2      2.0      3.0     8.21         0              0.65\n",
       "   6 │          6    330    115                  5      4.5      3.0     9.34         1              0.9\n",
       "   7 │          7    321    109                  3      3.0      4.0     8.2          1              0.75\n",
       "   8 │          8    308    101                  2      3.0      4.0     7.9          0              0.68\n",
       "   9 │          9    302    102                  1      2.0      1.5     8.0          0              0.5\n",
       "  10 │         10    323    108                  3      3.5      3.0     8.6          0              0.45\n",
       "  11 │         11    325    106                  3      3.5      4.0     8.4          1              0.52\n",
       "  12 │         12    327    111                  4      4.0      4.5     9.0          1              0.84\n",
       "  13 │         13    328    112                  4      4.0      4.5     9.1          1              0.78\n",
       "  14 │         14    307    109                  3      4.0      3.0     8.0          1              0.62\n",
       "  15 │         15    311    104                  3      3.5      2.0     8.2          1              0.61\n",
       "  16 │         16    314    105                  3      3.5      2.5     8.3          0              0.54\n",
       "  17 │         17    317    107                  3      4.0      3.0     8.7          0              0.66\n",
       "  18 │         18    319    106                  3      4.0      3.0     8.0          1              0.65\n",
       "  19 │         19    318    110                  3      4.0      3.0     8.8          0              0.63\n",
       "  20 │         20    303    102                  3      3.5      3.0     8.5          0              0.62\n",
       "  21 │         21    312    107                  3      3.0      2.0     7.9          1              0.64\n",
       "  22 │         22    325    114                  4      3.0      2.0     8.4          0              0.7\n",
       "  23 │         23    328    116                  5      5.0      5.0     9.5          1              0.94\n",
       "  24 │         24    334    119                  5      5.0      4.5     9.7          1              0.95\n",
       "  25 │         25    336    119                  5      4.0      3.5     9.8          1              0.97\n",
       "  26 │         26    340    120                  5      4.5      4.5     9.6          1              0.94\n",
       "  27 │         27    322    109                  5      4.5      3.5     8.8          0              0.76\n",
       "  28 │         28    298     98                  2      1.5      2.5     7.5          1              0.44\n",
       "  29 │         29    295     93                  1      2.0      2.0     7.2          0              0.46\n",
       "  30 │         30    310     99                  2      1.5      2.0     7.3          0              0.54\n",
       "  31 │         31    300     97                  2      3.0      3.0     8.1          1              0.65\n",
       "  32 │         32    327    103                  3      4.0      4.0     8.3          1              0.74\n",
       "  33 │         33    338    118                  4      3.0      4.5     9.4          1              0.91\n",
       "  34 │         34    340    114                  5      4.0      4.0     9.6          1              0.9\n",
       "  35 │         35    331    112                  5      4.0      5.0     9.8          1              0.94\n",
       "  36 │         36    320    110                  5      5.0      5.0     9.2          1              0.88\n",
       "  37 │         37    299    106                  2      4.0      4.0     8.4          0              0.64\n",
       "  38 │         38    300    105                  1      1.0      2.0     7.8          0              0.58\n",
       "  39 │         39    304    105                  1      3.0      1.5     7.5          0              0.52\n",
       "  40 │         40    307    108                  2      4.0      3.5     7.7          0              0.48\n",
       "  41 │         41    308    110                  3      3.5      3.0     8.0          1              0.46\n",
       "  42 │         42    316    105                  2      2.5      2.5     8.2          1              0.49\n",
       "  43 │         43    313    107                  2      2.5      2.0     8.5          1              0.53\n",
       "  44 │         44    332    117                  4      4.5      4.0     9.1          0              0.87\n",
       "  45 │         45    326    113                  5      4.5      4.0     9.4          1              0.91\n",
       "  46 │         46    322    110                  5      5.0      4.0     9.1          1              0.88\n",
       "  ⋮  │     ⋮         ⋮      ⋮            ⋮             ⋮        ⋮        ⋮        ⋮             ⋮\n",
       " 355 │        355    297     98                  2      2.5      3.0     7.67         0              0.59\n",
       " 356 │        356    317    106                  2      2.0      3.5     8.12         0              0.73\n",
       " 357 │        357    327    109                  3      3.5      4.0     8.77         1              0.79\n",
       " 358 │        358    301    104                  2      3.5      3.5     7.89         1              0.68\n",
       " 359 │        359    314    105                  2      2.5      2.0     7.64         0              0.7\n",
       " 360 │        360    321    107                  2      2.0      1.5     8.44         0              0.81\n",
       " 361 │        361    322    110                  3      4.0      5.0     8.64         1              0.85\n",
       " 362 │        362    334    116                  4      4.0      3.5     9.54         1              0.93\n",
       " 363 │        363    338    115                  5      4.5      5.0     9.23         1              0.91\n",
       " 364 │        364    306    103                  2      2.5      3.0     8.36         0              0.69\n",
       " 365 │        365    313    102                  3      3.5      4.0     8.9          1              0.77\n",
       " 366 │        366    330    114                  4      4.5      3.0     9.17         1              0.86\n",
       " 367 │        367    320    104                  3      3.5      4.5     8.34         1              0.74\n",
       " 368 │        368    311     98                  1      1.0      2.5     7.46         0              0.57\n",
       " 369 │        369    298     92                  1      2.0      2.0     7.88         0              0.51\n",
       " 370 │        370    301     98                  1      2.0      3.0     8.03         1              0.67\n",
       " 371 │        371    310    103                  2      2.5      2.5     8.24         0              0.72\n",
       " 372 │        372    324    110                  3      3.5      3.0     9.22         1              0.89\n",
       " 373 │        373    336    119                  4      4.5      4.0     9.62         1              0.95\n",
       " 374 │        374    321    109                  3      3.0      3.0     8.54         1              0.79\n",
       " 375 │        375    315    105                  2      2.0      2.5     7.65         0              0.39\n",
       " 376 │        376    304    101                  2      2.0      2.5     7.66         0              0.38\n",
       " 377 │        377    297     96                  2      2.5      2.0     7.43         0              0.34\n",
       " 378 │        378    290    100                  1      1.5      2.0     7.56         0              0.47\n",
       " 379 │        379    303     98                  1      2.0      2.5     7.65         0              0.56\n",
       " 380 │        380    311     99                  1      2.5      3.0     8.43         1              0.71\n",
       " 381 │        381    322    104                  3      3.5      4.0     8.84         1              0.78\n",
       " 382 │        382    319    105                  3      3.0      3.5     8.67         1              0.73\n",
       " 383 │        383    324    110                  4      4.5      4.0     9.15         1              0.82\n",
       " 384 │        384    300    100                  3      3.0      3.5     8.26         0              0.62\n",
       " 385 │        385    340    113                  4      5.0      5.0     9.74         1              0.96\n",
       " 386 │        386    335    117                  5      5.0      5.0     9.82         1              0.96\n",
       " 387 │        387    302    101                  2      2.5      3.5     7.96         0              0.46\n",
       " 388 │        388    307    105                  2      2.0      3.5     8.1          0              0.53\n",
       " 389 │        389    296     97                  2      1.5      2.0     7.8          0              0.49\n",
       " 390 │        390    320    108                  3      3.5      4.0     8.44         1              0.76\n",
       " 391 │        391    314    102                  2      2.0      2.5     8.24         0              0.64\n",
       " 392 │        392    318    106                  3      2.0      3.0     8.65         0              0.71\n",
       " 393 │        393    326    112                  4      4.0      3.5     9.12         1              0.84\n",
       " 394 │        394    317    104                  2      3.0      3.0     8.76         0              0.77\n",
       " 395 │        395    329    111                  4      4.5      4.0     9.23         1              0.89\n",
       " 396 │        396    324    110                  3      3.5      3.5     9.04         1              0.82\n",
       " 397 │        397    325    107                  3      3.0      3.5     9.11         1              0.84\n",
       " 398 │        398    330    116                  4      5.0      4.5     9.45         1              0.91\n",
       " 399 │        399    312    103                  3      3.5      4.0     8.78         0              0.67\n",
       "\u001b[36m                                                                                          308 rows omitted\u001b[0m"
      ]
     },
     "execution_count": 48,
     "metadata": {},
     "output_type": "execute_result"
    }
   ],
   "source": [
    "# We have to indicate mapper. Which column we want to rename and new name of it\n",
    "\n",
    "rename(df, \"GRE Score\"=> \"GRE\", \"TOEFL Score\"=> \"TOEFL\")"
   ]
  },
  {
   "cell_type": "markdown",
   "metadata": {},
   "source": [
    "### Reorder Columns\n",
    "\n",
    "---\n",
    "\n",
    "Sometimes we may need to just re-order the columns. There are a few ways to do it."
   ]
  },
  {
   "cell_type": "code",
   "execution_count": 49,
   "metadata": {
    "ExecuteTime": {
     "end_time": "2021-05-22T12:23:43.076000+04:00",
     "start_time": "2021-05-22T08:23:43.047Z"
    }
   },
   "outputs": [],
   "source": [
    "using Random\n",
    "\n",
    "Random.seed!(1234);"
   ]
  },
  {
   "cell_type": "code",
   "execution_count": 50,
   "metadata": {
    "ExecuteTime": {
     "end_time": "2021-05-22T12:23:43.424000+04:00",
     "start_time": "2021-05-22T08:23:43.339Z"
    }
   },
   "outputs": [
    {
     "data": {
      "text/html": [
       "<table class=\"data-frame\"><thead><tr><th></th><th>LOR</th><th>Serial No.</th><th>GRE Score</th><th>TOEFL Score</th><th>Chance of Admit </th><th>SOP</th><th>CGPA</th><th>University Rating</th><th>Research</th></tr><tr><th></th><th>Float64</th><th>Int64</th><th>Int64</th><th>Int64</th><th>Float64</th><th>Float64</th><th>Float64</th><th>Int64</th><th>Int64</th></tr></thead><tbody><p>399 rows × 9 columns</p><tr><th>1</th><td>4.5</td><td>1</td><td>337</td><td>118</td><td>0.92</td><td>4.5</td><td>9.65</td><td>4</td><td>1</td></tr><tr><th>2</th><td>4.5</td><td>2</td><td>324</td><td>107</td><td>0.76</td><td>4.0</td><td>8.87</td><td>4</td><td>1</td></tr><tr><th>3</th><td>3.5</td><td>3</td><td>316</td><td>104</td><td>0.72</td><td>3.0</td><td>8.0</td><td>3</td><td>1</td></tr><tr><th>4</th><td>2.5</td><td>4</td><td>322</td><td>110</td><td>0.8</td><td>3.5</td><td>8.67</td><td>3</td><td>1</td></tr><tr><th>5</th><td>3.0</td><td>5</td><td>314</td><td>103</td><td>0.65</td><td>2.0</td><td>8.21</td><td>2</td><td>0</td></tr><tr><th>6</th><td>3.0</td><td>6</td><td>330</td><td>115</td><td>0.9</td><td>4.5</td><td>9.34</td><td>5</td><td>1</td></tr><tr><th>7</th><td>4.0</td><td>7</td><td>321</td><td>109</td><td>0.75</td><td>3.0</td><td>8.2</td><td>3</td><td>1</td></tr><tr><th>8</th><td>4.0</td><td>8</td><td>308</td><td>101</td><td>0.68</td><td>3.0</td><td>7.9</td><td>2</td><td>0</td></tr><tr><th>9</th><td>1.5</td><td>9</td><td>302</td><td>102</td><td>0.5</td><td>2.0</td><td>8.0</td><td>1</td><td>0</td></tr><tr><th>10</th><td>3.0</td><td>10</td><td>323</td><td>108</td><td>0.45</td><td>3.5</td><td>8.6</td><td>3</td><td>0</td></tr><tr><th>11</th><td>4.0</td><td>11</td><td>325</td><td>106</td><td>0.52</td><td>3.5</td><td>8.4</td><td>3</td><td>1</td></tr><tr><th>12</th><td>4.5</td><td>12</td><td>327</td><td>111</td><td>0.84</td><td>4.0</td><td>9.0</td><td>4</td><td>1</td></tr><tr><th>13</th><td>4.5</td><td>13</td><td>328</td><td>112</td><td>0.78</td><td>4.0</td><td>9.1</td><td>4</td><td>1</td></tr><tr><th>14</th><td>3.0</td><td>14</td><td>307</td><td>109</td><td>0.62</td><td>4.0</td><td>8.0</td><td>3</td><td>1</td></tr><tr><th>15</th><td>2.0</td><td>15</td><td>311</td><td>104</td><td>0.61</td><td>3.5</td><td>8.2</td><td>3</td><td>1</td></tr><tr><th>16</th><td>2.5</td><td>16</td><td>314</td><td>105</td><td>0.54</td><td>3.5</td><td>8.3</td><td>3</td><td>0</td></tr><tr><th>17</th><td>3.0</td><td>17</td><td>317</td><td>107</td><td>0.66</td><td>4.0</td><td>8.7</td><td>3</td><td>0</td></tr><tr><th>18</th><td>3.0</td><td>18</td><td>319</td><td>106</td><td>0.65</td><td>4.0</td><td>8.0</td><td>3</td><td>1</td></tr><tr><th>19</th><td>3.0</td><td>19</td><td>318</td><td>110</td><td>0.63</td><td>4.0</td><td>8.8</td><td>3</td><td>0</td></tr><tr><th>20</th><td>3.0</td><td>20</td><td>303</td><td>102</td><td>0.62</td><td>3.5</td><td>8.5</td><td>3</td><td>0</td></tr><tr><th>21</th><td>2.0</td><td>21</td><td>312</td><td>107</td><td>0.64</td><td>3.0</td><td>7.9</td><td>3</td><td>1</td></tr><tr><th>22</th><td>2.0</td><td>22</td><td>325</td><td>114</td><td>0.7</td><td>3.0</td><td>8.4</td><td>4</td><td>0</td></tr><tr><th>23</th><td>5.0</td><td>23</td><td>328</td><td>116</td><td>0.94</td><td>5.0</td><td>9.5</td><td>5</td><td>1</td></tr><tr><th>24</th><td>4.5</td><td>24</td><td>334</td><td>119</td><td>0.95</td><td>5.0</td><td>9.7</td><td>5</td><td>1</td></tr><tr><th>25</th><td>3.5</td><td>25</td><td>336</td><td>119</td><td>0.97</td><td>4.0</td><td>9.8</td><td>5</td><td>1</td></tr><tr><th>26</th><td>4.5</td><td>26</td><td>340</td><td>120</td><td>0.94</td><td>4.5</td><td>9.6</td><td>5</td><td>1</td></tr><tr><th>27</th><td>3.5</td><td>27</td><td>322</td><td>109</td><td>0.76</td><td>4.5</td><td>8.8</td><td>5</td><td>0</td></tr><tr><th>28</th><td>2.5</td><td>28</td><td>298</td><td>98</td><td>0.44</td><td>1.5</td><td>7.5</td><td>2</td><td>1</td></tr><tr><th>29</th><td>2.0</td><td>29</td><td>295</td><td>93</td><td>0.46</td><td>2.0</td><td>7.2</td><td>1</td><td>0</td></tr><tr><th>30</th><td>2.0</td><td>30</td><td>310</td><td>99</td><td>0.54</td><td>1.5</td><td>7.3</td><td>2</td><td>0</td></tr><tr><th>31</th><td>3.0</td><td>31</td><td>300</td><td>97</td><td>0.65</td><td>3.0</td><td>8.1</td><td>2</td><td>1</td></tr><tr><th>32</th><td>4.0</td><td>32</td><td>327</td><td>103</td><td>0.74</td><td>4.0</td><td>8.3</td><td>3</td><td>1</td></tr><tr><th>33</th><td>4.5</td><td>33</td><td>338</td><td>118</td><td>0.91</td><td>3.0</td><td>9.4</td><td>4</td><td>1</td></tr><tr><th>34</th><td>4.0</td><td>34</td><td>340</td><td>114</td><td>0.9</td><td>4.0</td><td>9.6</td><td>5</td><td>1</td></tr><tr><th>35</th><td>5.0</td><td>35</td><td>331</td><td>112</td><td>0.94</td><td>4.0</td><td>9.8</td><td>5</td><td>1</td></tr><tr><th>36</th><td>5.0</td><td>36</td><td>320</td><td>110</td><td>0.88</td><td>5.0</td><td>9.2</td><td>5</td><td>1</td></tr><tr><th>37</th><td>4.0</td><td>37</td><td>299</td><td>106</td><td>0.64</td><td>4.0</td><td>8.4</td><td>2</td><td>0</td></tr><tr><th>38</th><td>2.0</td><td>38</td><td>300</td><td>105</td><td>0.58</td><td>1.0</td><td>7.8</td><td>1</td><td>0</td></tr><tr><th>39</th><td>1.5</td><td>39</td><td>304</td><td>105</td><td>0.52</td><td>3.0</td><td>7.5</td><td>1</td><td>0</td></tr><tr><th>40</th><td>3.5</td><td>40</td><td>307</td><td>108</td><td>0.48</td><td>4.0</td><td>7.7</td><td>2</td><td>0</td></tr><tr><th>41</th><td>3.0</td><td>41</td><td>308</td><td>110</td><td>0.46</td><td>3.5</td><td>8.0</td><td>3</td><td>1</td></tr><tr><th>42</th><td>2.5</td><td>42</td><td>316</td><td>105</td><td>0.49</td><td>2.5</td><td>8.2</td><td>2</td><td>1</td></tr><tr><th>43</th><td>2.0</td><td>43</td><td>313</td><td>107</td><td>0.53</td><td>2.5</td><td>8.5</td><td>2</td><td>1</td></tr><tr><th>44</th><td>4.0</td><td>44</td><td>332</td><td>117</td><td>0.87</td><td>4.5</td><td>9.1</td><td>4</td><td>0</td></tr><tr><th>45</th><td>4.0</td><td>45</td><td>326</td><td>113</td><td>0.91</td><td>4.5</td><td>9.4</td><td>5</td><td>1</td></tr><tr><th>46</th><td>4.0</td><td>46</td><td>322</td><td>110</td><td>0.88</td><td>5.0</td><td>9.1</td><td>5</td><td>1</td></tr><tr><th>47</th><td>5.0</td><td>47</td><td>329</td><td>114</td><td>0.86</td><td>4.0</td><td>9.3</td><td>5</td><td>1</td></tr><tr><th>48</th><td>4.0</td><td>48</td><td>339</td><td>119</td><td>0.89</td><td>4.5</td><td>9.7</td><td>5</td><td>0</td></tr><tr><th>49</th><td>5.0</td><td>49</td><td>321</td><td>110</td><td>0.82</td><td>3.5</td><td>8.85</td><td>3</td><td>1</td></tr><tr><th>50</th><td>4.0</td><td>50</td><td>327</td><td>111</td><td>0.78</td><td>3.0</td><td>8.4</td><td>4</td><td>1</td></tr><tr><th>51</th><td>4.5</td><td>51</td><td>313</td><td>98</td><td>0.76</td><td>2.5</td><td>8.3</td><td>3</td><td>1</td></tr><tr><th>52</th><td>3.5</td><td>52</td><td>312</td><td>100</td><td>0.56</td><td>1.5</td><td>7.9</td><td>2</td><td>1</td></tr><tr><th>53</th><td>3.0</td><td>53</td><td>334</td><td>116</td><td>0.78</td><td>4.0</td><td>8.0</td><td>4</td><td>1</td></tr><tr><th>54</th><td>2.5</td><td>54</td><td>324</td><td>112</td><td>0.72</td><td>4.0</td><td>8.1</td><td>4</td><td>1</td></tr><tr><th>55</th><td>3.5</td><td>55</td><td>322</td><td>110</td><td>0.7</td><td>3.0</td><td>8.0</td><td>3</td><td>0</td></tr><tr><th>56</th><td>3.0</td><td>56</td><td>320</td><td>103</td><td>0.64</td><td>3.0</td><td>7.7</td><td>3</td><td>0</td></tr><tr><th>57</th><td>3.0</td><td>57</td><td>316</td><td>102</td><td>0.64</td><td>2.0</td><td>7.4</td><td>3</td><td>0</td></tr><tr><th>58</th><td>2.0</td><td>58</td><td>298</td><td>99</td><td>0.46</td><td>4.0</td><td>7.6</td><td>2</td><td>0</td></tr><tr><th>59</th><td>2.0</td><td>59</td><td>300</td><td>99</td><td>0.36</td><td>3.0</td><td>6.8</td><td>1</td><td>1</td></tr><tr><th>60</th><td>2.0</td><td>60</td><td>311</td><td>104</td><td>0.42</td><td>2.0</td><td>8.3</td><td>2</td><td>0</td></tr><tr><th>61</th><td>3.0</td><td>61</td><td>309</td><td>100</td><td>0.48</td><td>3.0</td><td>8.1</td><td>2</td><td>0</td></tr><tr><th>62</th><td>3.0</td><td>62</td><td>307</td><td>101</td><td>0.47</td><td>4.0</td><td>8.2</td><td>3</td><td>0</td></tr><tr><th>63</th><td>3.0</td><td>63</td><td>304</td><td>105</td><td>0.54</td><td>3.0</td><td>8.2</td><td>2</td><td>1</td></tr><tr><th>64</th><td>3.0</td><td>64</td><td>315</td><td>107</td><td>0.56</td><td>4.0</td><td>8.5</td><td>2</td><td>1</td></tr><tr><th>65</th><td>3.5</td><td>65</td><td>325</td><td>111</td><td>0.52</td><td>3.0</td><td>8.7</td><td>3</td><td>0</td></tr><tr><th>66</th><td>3.5</td><td>66</td><td>325</td><td>112</td><td>0.55</td><td>3.5</td><td>8.92</td><td>4</td><td>0</td></tr><tr><th>67</th><td>3.0</td><td>67</td><td>327</td><td>114</td><td>0.61</td><td>3.0</td><td>9.02</td><td>3</td><td>0</td></tr><tr><th>68</th><td>3.5</td><td>68</td><td>316</td><td>107</td><td>0.57</td><td>3.5</td><td>8.64</td><td>2</td><td>1</td></tr><tr><th>69</th><td>4.0</td><td>69</td><td>318</td><td>109</td><td>0.68</td><td>3.5</td><td>9.22</td><td>3</td><td>1</td></tr><tr><th>70</th><td>4.0</td><td>70</td><td>328</td><td>115</td><td>0.78</td><td>4.5</td><td>9.16</td><td>4</td><td>1</td></tr><tr><th>71</th><td>5.0</td><td>71</td><td>332</td><td>118</td><td>0.94</td><td>5.0</td><td>9.64</td><td>5</td><td>1</td></tr><tr><th>72</th><td>5.0</td><td>72</td><td>336</td><td>112</td><td>0.96</td><td>5.0</td><td>9.76</td><td>5</td><td>1</td></tr><tr><th>73</th><td>5.0</td><td>73</td><td>321</td><td>111</td><td>0.93</td><td>5.0</td><td>9.45</td><td>5</td><td>1</td></tr><tr><th>74</th><td>4.0</td><td>74</td><td>314</td><td>108</td><td>0.84</td><td>4.5</td><td>9.04</td><td>4</td><td>1</td></tr><tr><th>75</th><td>5.0</td><td>75</td><td>314</td><td>106</td><td>0.74</td><td>3.0</td><td>8.9</td><td>3</td><td>0</td></tr><tr><th>76</th><td>4.0</td><td>76</td><td>329</td><td>114</td><td>0.72</td><td>2.0</td><td>8.56</td><td>2</td><td>1</td></tr><tr><th>77</th><td>3.0</td><td>77</td><td>327</td><td>112</td><td>0.74</td><td>3.0</td><td>8.72</td><td>3</td><td>1</td></tr><tr><th>78</th><td>2.0</td><td>78</td><td>301</td><td>99</td><td>0.64</td><td>3.0</td><td>8.22</td><td>2</td><td>0</td></tr><tr><th>79</th><td>2.0</td><td>79</td><td>296</td><td>95</td><td>0.44</td><td>3.0</td><td>7.54</td><td>2</td><td>1</td></tr><tr><th>80</th><td>2.0</td><td>80</td><td>294</td><td>93</td><td>0.46</td><td>1.5</td><td>7.36</td><td>1</td><td>0</td></tr><tr><th>81</th><td>3.0</td><td>81</td><td>312</td><td>105</td><td>0.5</td><td>2.0</td><td>8.02</td><td>3</td><td>1</td></tr><tr><th>82</th><td>5.0</td><td>82</td><td>340</td><td>120</td><td>0.96</td><td>5.0</td><td>9.5</td><td>4</td><td>1</td></tr><tr><th>83</th><td>4.5</td><td>83</td><td>320</td><td>110</td><td>0.92</td><td>5.0</td><td>9.22</td><td>5</td><td>1</td></tr><tr><th>84</th><td>4.5</td><td>84</td><td>322</td><td>115</td><td>0.92</td><td>4.0</td><td>9.36</td><td>5</td><td>1</td></tr><tr><th>85</th><td>4.5</td><td>85</td><td>340</td><td>115</td><td>0.94</td><td>4.5</td><td>9.45</td><td>5</td><td>1</td></tr><tr><th>86</th><td>3.5</td><td>86</td><td>319</td><td>103</td><td>0.76</td><td>4.5</td><td>8.66</td><td>4</td><td>0</td></tr><tr><th>87</th><td>3.5</td><td>87</td><td>315</td><td>106</td><td>0.72</td><td>4.5</td><td>8.42</td><td>3</td><td>0</td></tr><tr><th>88</th><td>3.0</td><td>88</td><td>317</td><td>107</td><td>0.66</td><td>3.5</td><td>8.28</td><td>2</td><td>0</td></tr><tr><th>89</th><td>3.5</td><td>89</td><td>314</td><td>108</td><td>0.64</td><td>4.5</td><td>8.14</td><td>3</td><td>0</td></tr><tr><th>90</th><td>3.5</td><td>90</td><td>316</td><td>109</td><td>0.74</td><td>4.5</td><td>8.76</td><td>4</td><td>1</td></tr><tr><th>91</th><td>4.0</td><td>91</td><td>318</td><td>106</td><td>0.64</td><td>4.0</td><td>7.92</td><td>2</td><td>1</td></tr><tr><th>92</th><td>3.5</td><td>92</td><td>299</td><td>97</td><td>0.38</td><td>5.0</td><td>7.66</td><td>3</td><td>0</td></tr><tr><th>93</th><td>3.0</td><td>93</td><td>298</td><td>98</td><td>0.34</td><td>4.0</td><td>8.03</td><td>2</td><td>0</td></tr><tr><th>94</th><td>3.0</td><td>94</td><td>301</td><td>97</td><td>0.44</td><td>3.0</td><td>7.88</td><td>2</td><td>1</td></tr><tr><th>95</th><td>2.5</td><td>95</td><td>303</td><td>99</td><td>0.36</td><td>2.0</td><td>7.66</td><td>3</td><td>0</td></tr><tr><th>96</th><td>2.5</td><td>96</td><td>304</td><td>100</td><td>0.42</td><td>1.5</td><td>7.84</td><td>4</td><td>0</td></tr><tr><th>97</th><td>3.0</td><td>97</td><td>306</td><td>100</td><td>0.48</td><td>3.0</td><td>8.0</td><td>2</td><td>0</td></tr><tr><th>98</th><td>4.0</td><td>98</td><td>331</td><td>120</td><td>0.86</td><td>4.0</td><td>8.96</td><td>3</td><td>1</td></tr><tr><th>99</th><td>4.5</td><td>99</td><td>332</td><td>119</td><td>0.9</td><td>5.0</td><td>9.24</td><td>4</td><td>1</td></tr><tr><th>100</th><td>4.0</td><td>100</td><td>323</td><td>113</td><td>0.79</td><td>4.0</td><td>8.88</td><td>3</td><td>1</td></tr><tr><th>&vellip;</th><td>&vellip;</td><td>&vellip;</td><td>&vellip;</td><td>&vellip;</td><td>&vellip;</td><td>&vellip;</td><td>&vellip;</td><td>&vellip;</td><td>&vellip;</td></tr></tbody></table>"
      ],
      "text/latex": [
       "\\begin{tabular}{r|ccccccccc}\n",
       "\t& LOR & Serial No. & GRE Score & TOEFL Score & Chance of Admit  & SOP & CGPA & University Rating & Research\\\\\n",
       "\t\\hline\n",
       "\t& Float64 & Int64 & Int64 & Int64 & Float64 & Float64 & Float64 & Int64 & Int64\\\\\n",
       "\t\\hline\n",
       "\t1 & 4.5 & 1 & 337 & 118 & 0.92 & 4.5 & 9.65 & 4 & 1 \\\\\n",
       "\t2 & 4.5 & 2 & 324 & 107 & 0.76 & 4.0 & 8.87 & 4 & 1 \\\\\n",
       "\t3 & 3.5 & 3 & 316 & 104 & 0.72 & 3.0 & 8.0 & 3 & 1 \\\\\n",
       "\t4 & 2.5 & 4 & 322 & 110 & 0.8 & 3.5 & 8.67 & 3 & 1 \\\\\n",
       "\t5 & 3.0 & 5 & 314 & 103 & 0.65 & 2.0 & 8.21 & 2 & 0 \\\\\n",
       "\t6 & 3.0 & 6 & 330 & 115 & 0.9 & 4.5 & 9.34 & 5 & 1 \\\\\n",
       "\t7 & 4.0 & 7 & 321 & 109 & 0.75 & 3.0 & 8.2 & 3 & 1 \\\\\n",
       "\t8 & 4.0 & 8 & 308 & 101 & 0.68 & 3.0 & 7.9 & 2 & 0 \\\\\n",
       "\t9 & 1.5 & 9 & 302 & 102 & 0.5 & 2.0 & 8.0 & 1 & 0 \\\\\n",
       "\t10 & 3.0 & 10 & 323 & 108 & 0.45 & 3.5 & 8.6 & 3 & 0 \\\\\n",
       "\t11 & 4.0 & 11 & 325 & 106 & 0.52 & 3.5 & 8.4 & 3 & 1 \\\\\n",
       "\t12 & 4.5 & 12 & 327 & 111 & 0.84 & 4.0 & 9.0 & 4 & 1 \\\\\n",
       "\t13 & 4.5 & 13 & 328 & 112 & 0.78 & 4.0 & 9.1 & 4 & 1 \\\\\n",
       "\t14 & 3.0 & 14 & 307 & 109 & 0.62 & 4.0 & 8.0 & 3 & 1 \\\\\n",
       "\t15 & 2.0 & 15 & 311 & 104 & 0.61 & 3.5 & 8.2 & 3 & 1 \\\\\n",
       "\t16 & 2.5 & 16 & 314 & 105 & 0.54 & 3.5 & 8.3 & 3 & 0 \\\\\n",
       "\t17 & 3.0 & 17 & 317 & 107 & 0.66 & 4.0 & 8.7 & 3 & 0 \\\\\n",
       "\t18 & 3.0 & 18 & 319 & 106 & 0.65 & 4.0 & 8.0 & 3 & 1 \\\\\n",
       "\t19 & 3.0 & 19 & 318 & 110 & 0.63 & 4.0 & 8.8 & 3 & 0 \\\\\n",
       "\t20 & 3.0 & 20 & 303 & 102 & 0.62 & 3.5 & 8.5 & 3 & 0 \\\\\n",
       "\t21 & 2.0 & 21 & 312 & 107 & 0.64 & 3.0 & 7.9 & 3 & 1 \\\\\n",
       "\t22 & 2.0 & 22 & 325 & 114 & 0.7 & 3.0 & 8.4 & 4 & 0 \\\\\n",
       "\t23 & 5.0 & 23 & 328 & 116 & 0.94 & 5.0 & 9.5 & 5 & 1 \\\\\n",
       "\t24 & 4.5 & 24 & 334 & 119 & 0.95 & 5.0 & 9.7 & 5 & 1 \\\\\n",
       "\t25 & 3.5 & 25 & 336 & 119 & 0.97 & 4.0 & 9.8 & 5 & 1 \\\\\n",
       "\t26 & 4.5 & 26 & 340 & 120 & 0.94 & 4.5 & 9.6 & 5 & 1 \\\\\n",
       "\t27 & 3.5 & 27 & 322 & 109 & 0.76 & 4.5 & 8.8 & 5 & 0 \\\\\n",
       "\t28 & 2.5 & 28 & 298 & 98 & 0.44 & 1.5 & 7.5 & 2 & 1 \\\\\n",
       "\t29 & 2.0 & 29 & 295 & 93 & 0.46 & 2.0 & 7.2 & 1 & 0 \\\\\n",
       "\t30 & 2.0 & 30 & 310 & 99 & 0.54 & 1.5 & 7.3 & 2 & 0 \\\\\n",
       "\t31 & 3.0 & 31 & 300 & 97 & 0.65 & 3.0 & 8.1 & 2 & 1 \\\\\n",
       "\t32 & 4.0 & 32 & 327 & 103 & 0.74 & 4.0 & 8.3 & 3 & 1 \\\\\n",
       "\t33 & 4.5 & 33 & 338 & 118 & 0.91 & 3.0 & 9.4 & 4 & 1 \\\\\n",
       "\t34 & 4.0 & 34 & 340 & 114 & 0.9 & 4.0 & 9.6 & 5 & 1 \\\\\n",
       "\t35 & 5.0 & 35 & 331 & 112 & 0.94 & 4.0 & 9.8 & 5 & 1 \\\\\n",
       "\t36 & 5.0 & 36 & 320 & 110 & 0.88 & 5.0 & 9.2 & 5 & 1 \\\\\n",
       "\t37 & 4.0 & 37 & 299 & 106 & 0.64 & 4.0 & 8.4 & 2 & 0 \\\\\n",
       "\t38 & 2.0 & 38 & 300 & 105 & 0.58 & 1.0 & 7.8 & 1 & 0 \\\\\n",
       "\t39 & 1.5 & 39 & 304 & 105 & 0.52 & 3.0 & 7.5 & 1 & 0 \\\\\n",
       "\t40 & 3.5 & 40 & 307 & 108 & 0.48 & 4.0 & 7.7 & 2 & 0 \\\\\n",
       "\t41 & 3.0 & 41 & 308 & 110 & 0.46 & 3.5 & 8.0 & 3 & 1 \\\\\n",
       "\t42 & 2.5 & 42 & 316 & 105 & 0.49 & 2.5 & 8.2 & 2 & 1 \\\\\n",
       "\t43 & 2.0 & 43 & 313 & 107 & 0.53 & 2.5 & 8.5 & 2 & 1 \\\\\n",
       "\t44 & 4.0 & 44 & 332 & 117 & 0.87 & 4.5 & 9.1 & 4 & 0 \\\\\n",
       "\t45 & 4.0 & 45 & 326 & 113 & 0.91 & 4.5 & 9.4 & 5 & 1 \\\\\n",
       "\t46 & 4.0 & 46 & 322 & 110 & 0.88 & 5.0 & 9.1 & 5 & 1 \\\\\n",
       "\t47 & 5.0 & 47 & 329 & 114 & 0.86 & 4.0 & 9.3 & 5 & 1 \\\\\n",
       "\t48 & 4.0 & 48 & 339 & 119 & 0.89 & 4.5 & 9.7 & 5 & 0 \\\\\n",
       "\t49 & 5.0 & 49 & 321 & 110 & 0.82 & 3.5 & 8.85 & 3 & 1 \\\\\n",
       "\t50 & 4.0 & 50 & 327 & 111 & 0.78 & 3.0 & 8.4 & 4 & 1 \\\\\n",
       "\t51 & 4.5 & 51 & 313 & 98 & 0.76 & 2.5 & 8.3 & 3 & 1 \\\\\n",
       "\t52 & 3.5 & 52 & 312 & 100 & 0.56 & 1.5 & 7.9 & 2 & 1 \\\\\n",
       "\t53 & 3.0 & 53 & 334 & 116 & 0.78 & 4.0 & 8.0 & 4 & 1 \\\\\n",
       "\t54 & 2.5 & 54 & 324 & 112 & 0.72 & 4.0 & 8.1 & 4 & 1 \\\\\n",
       "\t55 & 3.5 & 55 & 322 & 110 & 0.7 & 3.0 & 8.0 & 3 & 0 \\\\\n",
       "\t56 & 3.0 & 56 & 320 & 103 & 0.64 & 3.0 & 7.7 & 3 & 0 \\\\\n",
       "\t57 & 3.0 & 57 & 316 & 102 & 0.64 & 2.0 & 7.4 & 3 & 0 \\\\\n",
       "\t58 & 2.0 & 58 & 298 & 99 & 0.46 & 4.0 & 7.6 & 2 & 0 \\\\\n",
       "\t59 & 2.0 & 59 & 300 & 99 & 0.36 & 3.0 & 6.8 & 1 & 1 \\\\\n",
       "\t60 & 2.0 & 60 & 311 & 104 & 0.42 & 2.0 & 8.3 & 2 & 0 \\\\\n",
       "\t61 & 3.0 & 61 & 309 & 100 & 0.48 & 3.0 & 8.1 & 2 & 0 \\\\\n",
       "\t62 & 3.0 & 62 & 307 & 101 & 0.47 & 4.0 & 8.2 & 3 & 0 \\\\\n",
       "\t63 & 3.0 & 63 & 304 & 105 & 0.54 & 3.0 & 8.2 & 2 & 1 \\\\\n",
       "\t64 & 3.0 & 64 & 315 & 107 & 0.56 & 4.0 & 8.5 & 2 & 1 \\\\\n",
       "\t65 & 3.5 & 65 & 325 & 111 & 0.52 & 3.0 & 8.7 & 3 & 0 \\\\\n",
       "\t66 & 3.5 & 66 & 325 & 112 & 0.55 & 3.5 & 8.92 & 4 & 0 \\\\\n",
       "\t67 & 3.0 & 67 & 327 & 114 & 0.61 & 3.0 & 9.02 & 3 & 0 \\\\\n",
       "\t68 & 3.5 & 68 & 316 & 107 & 0.57 & 3.5 & 8.64 & 2 & 1 \\\\\n",
       "\t69 & 4.0 & 69 & 318 & 109 & 0.68 & 3.5 & 9.22 & 3 & 1 \\\\\n",
       "\t70 & 4.0 & 70 & 328 & 115 & 0.78 & 4.5 & 9.16 & 4 & 1 \\\\\n",
       "\t71 & 5.0 & 71 & 332 & 118 & 0.94 & 5.0 & 9.64 & 5 & 1 \\\\\n",
       "\t72 & 5.0 & 72 & 336 & 112 & 0.96 & 5.0 & 9.76 & 5 & 1 \\\\\n",
       "\t73 & 5.0 & 73 & 321 & 111 & 0.93 & 5.0 & 9.45 & 5 & 1 \\\\\n",
       "\t74 & 4.0 & 74 & 314 & 108 & 0.84 & 4.5 & 9.04 & 4 & 1 \\\\\n",
       "\t75 & 5.0 & 75 & 314 & 106 & 0.74 & 3.0 & 8.9 & 3 & 0 \\\\\n",
       "\t76 & 4.0 & 76 & 329 & 114 & 0.72 & 2.0 & 8.56 & 2 & 1 \\\\\n",
       "\t77 & 3.0 & 77 & 327 & 112 & 0.74 & 3.0 & 8.72 & 3 & 1 \\\\\n",
       "\t78 & 2.0 & 78 & 301 & 99 & 0.64 & 3.0 & 8.22 & 2 & 0 \\\\\n",
       "\t79 & 2.0 & 79 & 296 & 95 & 0.44 & 3.0 & 7.54 & 2 & 1 \\\\\n",
       "\t80 & 2.0 & 80 & 294 & 93 & 0.46 & 1.5 & 7.36 & 1 & 0 \\\\\n",
       "\t81 & 3.0 & 81 & 312 & 105 & 0.5 & 2.0 & 8.02 & 3 & 1 \\\\\n",
       "\t82 & 5.0 & 82 & 340 & 120 & 0.96 & 5.0 & 9.5 & 4 & 1 \\\\\n",
       "\t83 & 4.5 & 83 & 320 & 110 & 0.92 & 5.0 & 9.22 & 5 & 1 \\\\\n",
       "\t84 & 4.5 & 84 & 322 & 115 & 0.92 & 4.0 & 9.36 & 5 & 1 \\\\\n",
       "\t85 & 4.5 & 85 & 340 & 115 & 0.94 & 4.5 & 9.45 & 5 & 1 \\\\\n",
       "\t86 & 3.5 & 86 & 319 & 103 & 0.76 & 4.5 & 8.66 & 4 & 0 \\\\\n",
       "\t87 & 3.5 & 87 & 315 & 106 & 0.72 & 4.5 & 8.42 & 3 & 0 \\\\\n",
       "\t88 & 3.0 & 88 & 317 & 107 & 0.66 & 3.5 & 8.28 & 2 & 0 \\\\\n",
       "\t89 & 3.5 & 89 & 314 & 108 & 0.64 & 4.5 & 8.14 & 3 & 0 \\\\\n",
       "\t90 & 3.5 & 90 & 316 & 109 & 0.74 & 4.5 & 8.76 & 4 & 1 \\\\\n",
       "\t91 & 4.0 & 91 & 318 & 106 & 0.64 & 4.0 & 7.92 & 2 & 1 \\\\\n",
       "\t92 & 3.5 & 92 & 299 & 97 & 0.38 & 5.0 & 7.66 & 3 & 0 \\\\\n",
       "\t93 & 3.0 & 93 & 298 & 98 & 0.34 & 4.0 & 8.03 & 2 & 0 \\\\\n",
       "\t94 & 3.0 & 94 & 301 & 97 & 0.44 & 3.0 & 7.88 & 2 & 1 \\\\\n",
       "\t95 & 2.5 & 95 & 303 & 99 & 0.36 & 2.0 & 7.66 & 3 & 0 \\\\\n",
       "\t96 & 2.5 & 96 & 304 & 100 & 0.42 & 1.5 & 7.84 & 4 & 0 \\\\\n",
       "\t97 & 3.0 & 97 & 306 & 100 & 0.48 & 3.0 & 8.0 & 2 & 0 \\\\\n",
       "\t98 & 4.0 & 98 & 331 & 120 & 0.86 & 4.0 & 8.96 & 3 & 1 \\\\\n",
       "\t99 & 4.5 & 99 & 332 & 119 & 0.9 & 5.0 & 9.24 & 4 & 1 \\\\\n",
       "\t100 & 4.0 & 100 & 323 & 113 & 0.79 & 4.0 & 8.88 & 3 & 1 \\\\\n",
       "\t$\\dots$ & $\\dots$ & $\\dots$ & $\\dots$ & $\\dots$ & $\\dots$ & $\\dots$ & $\\dots$ & $\\dots$ & $\\dots$ \\\\\n",
       "\\end{tabular}\n"
      ],
      "text/plain": [
       "\u001b[1m399×9 DataFrame\u001b[0m\n",
       "\u001b[1m Row \u001b[0m│\u001b[1m LOR     \u001b[0m\u001b[1m Serial No. \u001b[0m\u001b[1m GRE Score \u001b[0m\u001b[1m TOEFL Score \u001b[0m\u001b[1m Chance of Admit  \u001b[0m\u001b[1m SOP     \u001b[0m\u001b[1m CGPA    \u001b[0m\u001b[1m University Rating \u001b[0m\u001b[1m Research \u001b[0m\n",
       "\u001b[1m     \u001b[0m│\u001b[90m Float64 \u001b[0m\u001b[90m Int64      \u001b[0m\u001b[90m Int64     \u001b[0m\u001b[90m Int64       \u001b[0m\u001b[90m Float64          \u001b[0m\u001b[90m Float64 \u001b[0m\u001b[90m Float64 \u001b[0m\u001b[90m Int64             \u001b[0m\u001b[90m Int64    \u001b[0m\n",
       "─────┼──────────────────────────────────────────────────────────────────────────────────────────────────────────────\n",
       "   1 │     4.5           1        337          118              0.92      4.5     9.65                  4         1\n",
       "   2 │     4.5           2        324          107              0.76      4.0     8.87                  4         1\n",
       "   3 │     3.5           3        316          104              0.72      3.0     8.0                   3         1\n",
       "   4 │     2.5           4        322          110              0.8       3.5     8.67                  3         1\n",
       "   5 │     3.0           5        314          103              0.65      2.0     8.21                  2         0\n",
       "   6 │     3.0           6        330          115              0.9       4.5     9.34                  5         1\n",
       "   7 │     4.0           7        321          109              0.75      3.0     8.2                   3         1\n",
       "   8 │     4.0           8        308          101              0.68      3.0     7.9                   2         0\n",
       "   9 │     1.5           9        302          102              0.5       2.0     8.0                   1         0\n",
       "  10 │     3.0          10        323          108              0.45      3.5     8.6                   3         0\n",
       "  11 │     4.0          11        325          106              0.52      3.5     8.4                   3         1\n",
       "  12 │     4.5          12        327          111              0.84      4.0     9.0                   4         1\n",
       "  13 │     4.5          13        328          112              0.78      4.0     9.1                   4         1\n",
       "  14 │     3.0          14        307          109              0.62      4.0     8.0                   3         1\n",
       "  15 │     2.0          15        311          104              0.61      3.5     8.2                   3         1\n",
       "  16 │     2.5          16        314          105              0.54      3.5     8.3                   3         0\n",
       "  17 │     3.0          17        317          107              0.66      4.0     8.7                   3         0\n",
       "  18 │     3.0          18        319          106              0.65      4.0     8.0                   3         1\n",
       "  19 │     3.0          19        318          110              0.63      4.0     8.8                   3         0\n",
       "  20 │     3.0          20        303          102              0.62      3.5     8.5                   3         0\n",
       "  21 │     2.0          21        312          107              0.64      3.0     7.9                   3         1\n",
       "  22 │     2.0          22        325          114              0.7       3.0     8.4                   4         0\n",
       "  23 │     5.0          23        328          116              0.94      5.0     9.5                   5         1\n",
       "  24 │     4.5          24        334          119              0.95      5.0     9.7                   5         1\n",
       "  25 │     3.5          25        336          119              0.97      4.0     9.8                   5         1\n",
       "  26 │     4.5          26        340          120              0.94      4.5     9.6                   5         1\n",
       "  27 │     3.5          27        322          109              0.76      4.5     8.8                   5         0\n",
       "  28 │     2.5          28        298           98              0.44      1.5     7.5                   2         1\n",
       "  29 │     2.0          29        295           93              0.46      2.0     7.2                   1         0\n",
       "  30 │     2.0          30        310           99              0.54      1.5     7.3                   2         0\n",
       "  31 │     3.0          31        300           97              0.65      3.0     8.1                   2         1\n",
       "  32 │     4.0          32        327          103              0.74      4.0     8.3                   3         1\n",
       "  33 │     4.5          33        338          118              0.91      3.0     9.4                   4         1\n",
       "  34 │     4.0          34        340          114              0.9       4.0     9.6                   5         1\n",
       "  35 │     5.0          35        331          112              0.94      4.0     9.8                   5         1\n",
       "  36 │     5.0          36        320          110              0.88      5.0     9.2                   5         1\n",
       "  37 │     4.0          37        299          106              0.64      4.0     8.4                   2         0\n",
       "  38 │     2.0          38        300          105              0.58      1.0     7.8                   1         0\n",
       "  39 │     1.5          39        304          105              0.52      3.0     7.5                   1         0\n",
       "  40 │     3.5          40        307          108              0.48      4.0     7.7                   2         0\n",
       "  41 │     3.0          41        308          110              0.46      3.5     8.0                   3         1\n",
       "  42 │     2.5          42        316          105              0.49      2.5     8.2                   2         1\n",
       "  43 │     2.0          43        313          107              0.53      2.5     8.5                   2         1\n",
       "  44 │     4.0          44        332          117              0.87      4.5     9.1                   4         0\n",
       "  45 │     4.0          45        326          113              0.91      4.5     9.4                   5         1\n",
       "  46 │     4.0          46        322          110              0.88      5.0     9.1                   5         1\n",
       "  ⋮  │    ⋮         ⋮           ⋮           ⋮              ⋮             ⋮        ⋮             ⋮             ⋮\n",
       " 355 │     3.0         355        297           98              0.59      2.5     7.67                  2         0\n",
       " 356 │     3.5         356        317          106              0.73      2.0     8.12                  2         0\n",
       " 357 │     4.0         357        327          109              0.79      3.5     8.77                  3         1\n",
       " 358 │     3.5         358        301          104              0.68      3.5     7.89                  2         1\n",
       " 359 │     2.0         359        314          105              0.7       2.5     7.64                  2         0\n",
       " 360 │     1.5         360        321          107              0.81      2.0     8.44                  2         0\n",
       " 361 │     5.0         361        322          110              0.85      4.0     8.64                  3         1\n",
       " 362 │     3.5         362        334          116              0.93      4.0     9.54                  4         1\n",
       " 363 │     5.0         363        338          115              0.91      4.5     9.23                  5         1\n",
       " 364 │     3.0         364        306          103              0.69      2.5     8.36                  2         0\n",
       " 365 │     4.0         365        313          102              0.77      3.5     8.9                   3         1\n",
       " 366 │     3.0         366        330          114              0.86      4.5     9.17                  4         1\n",
       " 367 │     4.5         367        320          104              0.74      3.5     8.34                  3         1\n",
       " 368 │     2.5         368        311           98              0.57      1.0     7.46                  1         0\n",
       " 369 │     2.0         369        298           92              0.51      2.0     7.88                  1         0\n",
       " 370 │     3.0         370        301           98              0.67      2.0     8.03                  1         1\n",
       " 371 │     2.5         371        310          103              0.72      2.5     8.24                  2         0\n",
       " 372 │     3.0         372        324          110              0.89      3.5     9.22                  3         1\n",
       " 373 │     4.0         373        336          119              0.95      4.5     9.62                  4         1\n",
       " 374 │     3.0         374        321          109              0.79      3.0     8.54                  3         1\n",
       " 375 │     2.5         375        315          105              0.39      2.0     7.65                  2         0\n",
       " 376 │     2.5         376        304          101              0.38      2.0     7.66                  2         0\n",
       " 377 │     2.0         377        297           96              0.34      2.5     7.43                  2         0\n",
       " 378 │     2.0         378        290          100              0.47      1.5     7.56                  1         0\n",
       " 379 │     2.5         379        303           98              0.56      2.0     7.65                  1         0\n",
       " 380 │     3.0         380        311           99              0.71      2.5     8.43                  1         1\n",
       " 381 │     4.0         381        322          104              0.78      3.5     8.84                  3         1\n",
       " 382 │     3.5         382        319          105              0.73      3.0     8.67                  3         1\n",
       " 383 │     4.0         383        324          110              0.82      4.5     9.15                  4         1\n",
       " 384 │     3.5         384        300          100              0.62      3.0     8.26                  3         0\n",
       " 385 │     5.0         385        340          113              0.96      5.0     9.74                  4         1\n",
       " 386 │     5.0         386        335          117              0.96      5.0     9.82                  5         1\n",
       " 387 │     3.5         387        302          101              0.46      2.5     7.96                  2         0\n",
       " 388 │     3.5         388        307          105              0.53      2.0     8.1                   2         0\n",
       " 389 │     2.0         389        296           97              0.49      1.5     7.8                   2         0\n",
       " 390 │     4.0         390        320          108              0.76      3.5     8.44                  3         1\n",
       " 391 │     2.5         391        314          102              0.64      2.0     8.24                  2         0\n",
       " 392 │     3.0         392        318          106              0.71      2.0     8.65                  3         0\n",
       " 393 │     3.5         393        326          112              0.84      4.0     9.12                  4         1\n",
       " 394 │     3.0         394        317          104              0.77      3.0     8.76                  2         0\n",
       " 395 │     4.0         395        329          111              0.89      4.5     9.23                  4         1\n",
       " 396 │     3.5         396        324          110              0.82      3.5     9.04                  3         1\n",
       " 397 │     3.5         397        325          107              0.84      3.0     9.11                  3         1\n",
       " 398 │     4.5         398        330          116              0.91      5.0     9.45                  4         1\n",
       " 399 │     4.0         399        312          103              0.67      3.5     8.78                  3         0\n",
       "\u001b[36m                                                                                                    308 rows omitted\u001b[0m"
      ]
     },
     "execution_count": 50,
     "metadata": {},
     "output_type": "execute_result"
    }
   ],
   "source": [
    "df[:, shuffle(names(df))] # Randomly shuffle columns"
   ]
  },
  {
   "cell_type": "code",
   "execution_count": 51,
   "metadata": {
    "ExecuteTime": {
     "end_time": "2021-05-22T12:23:45.121000+04:00",
     "start_time": "2021-05-22T08:23:45.114Z"
    }
   },
   "outputs": [
    {
     "data": {
      "text/plain": [
       "9-element Array{String,1}:\n",
       " \"GRE Score\"\n",
       " \"TOEFL Score\"\n",
       " \"CGPA\"\n",
       " \"LOR\"\n",
       " \"SOP\"\n",
       " \"Serial No.\"\n",
       " \"Chance of Admit \"\n",
       " \"Research\"\n",
       " \"University Rating\""
      ]
     },
     "execution_count": 51,
     "metadata": {},
     "output_type": "execute_result"
    }
   ],
   "source": [
    "new_cols = [\"GRE Score\", \"TOEFL Score\", \"CGPA\", \"LOR\", \"SOP\",\n",
    "            \"Serial No.\", \"Chance of Admit \", \"Research\", \"University Rating\"]"
   ]
  },
  {
   "cell_type": "code",
   "execution_count": 52,
   "metadata": {
    "ExecuteTime": {
     "end_time": "2021-05-22T12:23:45.382000+04:00",
     "start_time": "2021-05-22T08:23:45.329Z"
    }
   },
   "outputs": [
    {
     "data": {
      "text/html": [
       "<table class=\"data-frame\"><thead><tr><th></th><th>GRE Score</th><th>TOEFL Score</th><th>CGPA</th><th>LOR</th><th>SOP</th><th>Serial No.</th><th>Chance of Admit </th><th>Research</th><th>University Rating</th></tr><tr><th></th><th>Int64</th><th>Int64</th><th>Float64</th><th>Float64</th><th>Float64</th><th>Int64</th><th>Float64</th><th>Int64</th><th>Int64</th></tr></thead><tbody><p>399 rows × 9 columns</p><tr><th>1</th><td>337</td><td>118</td><td>9.65</td><td>4.5</td><td>4.5</td><td>1</td><td>0.92</td><td>1</td><td>4</td></tr><tr><th>2</th><td>324</td><td>107</td><td>8.87</td><td>4.5</td><td>4.0</td><td>2</td><td>0.76</td><td>1</td><td>4</td></tr><tr><th>3</th><td>316</td><td>104</td><td>8.0</td><td>3.5</td><td>3.0</td><td>3</td><td>0.72</td><td>1</td><td>3</td></tr><tr><th>4</th><td>322</td><td>110</td><td>8.67</td><td>2.5</td><td>3.5</td><td>4</td><td>0.8</td><td>1</td><td>3</td></tr><tr><th>5</th><td>314</td><td>103</td><td>8.21</td><td>3.0</td><td>2.0</td><td>5</td><td>0.65</td><td>0</td><td>2</td></tr><tr><th>6</th><td>330</td><td>115</td><td>9.34</td><td>3.0</td><td>4.5</td><td>6</td><td>0.9</td><td>1</td><td>5</td></tr><tr><th>7</th><td>321</td><td>109</td><td>8.2</td><td>4.0</td><td>3.0</td><td>7</td><td>0.75</td><td>1</td><td>3</td></tr><tr><th>8</th><td>308</td><td>101</td><td>7.9</td><td>4.0</td><td>3.0</td><td>8</td><td>0.68</td><td>0</td><td>2</td></tr><tr><th>9</th><td>302</td><td>102</td><td>8.0</td><td>1.5</td><td>2.0</td><td>9</td><td>0.5</td><td>0</td><td>1</td></tr><tr><th>10</th><td>323</td><td>108</td><td>8.6</td><td>3.0</td><td>3.5</td><td>10</td><td>0.45</td><td>0</td><td>3</td></tr><tr><th>11</th><td>325</td><td>106</td><td>8.4</td><td>4.0</td><td>3.5</td><td>11</td><td>0.52</td><td>1</td><td>3</td></tr><tr><th>12</th><td>327</td><td>111</td><td>9.0</td><td>4.5</td><td>4.0</td><td>12</td><td>0.84</td><td>1</td><td>4</td></tr><tr><th>13</th><td>328</td><td>112</td><td>9.1</td><td>4.5</td><td>4.0</td><td>13</td><td>0.78</td><td>1</td><td>4</td></tr><tr><th>14</th><td>307</td><td>109</td><td>8.0</td><td>3.0</td><td>4.0</td><td>14</td><td>0.62</td><td>1</td><td>3</td></tr><tr><th>15</th><td>311</td><td>104</td><td>8.2</td><td>2.0</td><td>3.5</td><td>15</td><td>0.61</td><td>1</td><td>3</td></tr><tr><th>16</th><td>314</td><td>105</td><td>8.3</td><td>2.5</td><td>3.5</td><td>16</td><td>0.54</td><td>0</td><td>3</td></tr><tr><th>17</th><td>317</td><td>107</td><td>8.7</td><td>3.0</td><td>4.0</td><td>17</td><td>0.66</td><td>0</td><td>3</td></tr><tr><th>18</th><td>319</td><td>106</td><td>8.0</td><td>3.0</td><td>4.0</td><td>18</td><td>0.65</td><td>1</td><td>3</td></tr><tr><th>19</th><td>318</td><td>110</td><td>8.8</td><td>3.0</td><td>4.0</td><td>19</td><td>0.63</td><td>0</td><td>3</td></tr><tr><th>20</th><td>303</td><td>102</td><td>8.5</td><td>3.0</td><td>3.5</td><td>20</td><td>0.62</td><td>0</td><td>3</td></tr><tr><th>21</th><td>312</td><td>107</td><td>7.9</td><td>2.0</td><td>3.0</td><td>21</td><td>0.64</td><td>1</td><td>3</td></tr><tr><th>22</th><td>325</td><td>114</td><td>8.4</td><td>2.0</td><td>3.0</td><td>22</td><td>0.7</td><td>0</td><td>4</td></tr><tr><th>23</th><td>328</td><td>116</td><td>9.5</td><td>5.0</td><td>5.0</td><td>23</td><td>0.94</td><td>1</td><td>5</td></tr><tr><th>24</th><td>334</td><td>119</td><td>9.7</td><td>4.5</td><td>5.0</td><td>24</td><td>0.95</td><td>1</td><td>5</td></tr><tr><th>25</th><td>336</td><td>119</td><td>9.8</td><td>3.5</td><td>4.0</td><td>25</td><td>0.97</td><td>1</td><td>5</td></tr><tr><th>26</th><td>340</td><td>120</td><td>9.6</td><td>4.5</td><td>4.5</td><td>26</td><td>0.94</td><td>1</td><td>5</td></tr><tr><th>27</th><td>322</td><td>109</td><td>8.8</td><td>3.5</td><td>4.5</td><td>27</td><td>0.76</td><td>0</td><td>5</td></tr><tr><th>28</th><td>298</td><td>98</td><td>7.5</td><td>2.5</td><td>1.5</td><td>28</td><td>0.44</td><td>1</td><td>2</td></tr><tr><th>29</th><td>295</td><td>93</td><td>7.2</td><td>2.0</td><td>2.0</td><td>29</td><td>0.46</td><td>0</td><td>1</td></tr><tr><th>30</th><td>310</td><td>99</td><td>7.3</td><td>2.0</td><td>1.5</td><td>30</td><td>0.54</td><td>0</td><td>2</td></tr><tr><th>31</th><td>300</td><td>97</td><td>8.1</td><td>3.0</td><td>3.0</td><td>31</td><td>0.65</td><td>1</td><td>2</td></tr><tr><th>32</th><td>327</td><td>103</td><td>8.3</td><td>4.0</td><td>4.0</td><td>32</td><td>0.74</td><td>1</td><td>3</td></tr><tr><th>33</th><td>338</td><td>118</td><td>9.4</td><td>4.5</td><td>3.0</td><td>33</td><td>0.91</td><td>1</td><td>4</td></tr><tr><th>34</th><td>340</td><td>114</td><td>9.6</td><td>4.0</td><td>4.0</td><td>34</td><td>0.9</td><td>1</td><td>5</td></tr><tr><th>35</th><td>331</td><td>112</td><td>9.8</td><td>5.0</td><td>4.0</td><td>35</td><td>0.94</td><td>1</td><td>5</td></tr><tr><th>36</th><td>320</td><td>110</td><td>9.2</td><td>5.0</td><td>5.0</td><td>36</td><td>0.88</td><td>1</td><td>5</td></tr><tr><th>37</th><td>299</td><td>106</td><td>8.4</td><td>4.0</td><td>4.0</td><td>37</td><td>0.64</td><td>0</td><td>2</td></tr><tr><th>38</th><td>300</td><td>105</td><td>7.8</td><td>2.0</td><td>1.0</td><td>38</td><td>0.58</td><td>0</td><td>1</td></tr><tr><th>39</th><td>304</td><td>105</td><td>7.5</td><td>1.5</td><td>3.0</td><td>39</td><td>0.52</td><td>0</td><td>1</td></tr><tr><th>40</th><td>307</td><td>108</td><td>7.7</td><td>3.5</td><td>4.0</td><td>40</td><td>0.48</td><td>0</td><td>2</td></tr><tr><th>41</th><td>308</td><td>110</td><td>8.0</td><td>3.0</td><td>3.5</td><td>41</td><td>0.46</td><td>1</td><td>3</td></tr><tr><th>42</th><td>316</td><td>105</td><td>8.2</td><td>2.5</td><td>2.5</td><td>42</td><td>0.49</td><td>1</td><td>2</td></tr><tr><th>43</th><td>313</td><td>107</td><td>8.5</td><td>2.0</td><td>2.5</td><td>43</td><td>0.53</td><td>1</td><td>2</td></tr><tr><th>44</th><td>332</td><td>117</td><td>9.1</td><td>4.0</td><td>4.5</td><td>44</td><td>0.87</td><td>0</td><td>4</td></tr><tr><th>45</th><td>326</td><td>113</td><td>9.4</td><td>4.0</td><td>4.5</td><td>45</td><td>0.91</td><td>1</td><td>5</td></tr><tr><th>46</th><td>322</td><td>110</td><td>9.1</td><td>4.0</td><td>5.0</td><td>46</td><td>0.88</td><td>1</td><td>5</td></tr><tr><th>47</th><td>329</td><td>114</td><td>9.3</td><td>5.0</td><td>4.0</td><td>47</td><td>0.86</td><td>1</td><td>5</td></tr><tr><th>48</th><td>339</td><td>119</td><td>9.7</td><td>4.0</td><td>4.5</td><td>48</td><td>0.89</td><td>0</td><td>5</td></tr><tr><th>49</th><td>321</td><td>110</td><td>8.85</td><td>5.0</td><td>3.5</td><td>49</td><td>0.82</td><td>1</td><td>3</td></tr><tr><th>50</th><td>327</td><td>111</td><td>8.4</td><td>4.0</td><td>3.0</td><td>50</td><td>0.78</td><td>1</td><td>4</td></tr><tr><th>51</th><td>313</td><td>98</td><td>8.3</td><td>4.5</td><td>2.5</td><td>51</td><td>0.76</td><td>1</td><td>3</td></tr><tr><th>52</th><td>312</td><td>100</td><td>7.9</td><td>3.5</td><td>1.5</td><td>52</td><td>0.56</td><td>1</td><td>2</td></tr><tr><th>53</th><td>334</td><td>116</td><td>8.0</td><td>3.0</td><td>4.0</td><td>53</td><td>0.78</td><td>1</td><td>4</td></tr><tr><th>54</th><td>324</td><td>112</td><td>8.1</td><td>2.5</td><td>4.0</td><td>54</td><td>0.72</td><td>1</td><td>4</td></tr><tr><th>55</th><td>322</td><td>110</td><td>8.0</td><td>3.5</td><td>3.0</td><td>55</td><td>0.7</td><td>0</td><td>3</td></tr><tr><th>56</th><td>320</td><td>103</td><td>7.7</td><td>3.0</td><td>3.0</td><td>56</td><td>0.64</td><td>0</td><td>3</td></tr><tr><th>57</th><td>316</td><td>102</td><td>7.4</td><td>3.0</td><td>2.0</td><td>57</td><td>0.64</td><td>0</td><td>3</td></tr><tr><th>58</th><td>298</td><td>99</td><td>7.6</td><td>2.0</td><td>4.0</td><td>58</td><td>0.46</td><td>0</td><td>2</td></tr><tr><th>59</th><td>300</td><td>99</td><td>6.8</td><td>2.0</td><td>3.0</td><td>59</td><td>0.36</td><td>1</td><td>1</td></tr><tr><th>60</th><td>311</td><td>104</td><td>8.3</td><td>2.0</td><td>2.0</td><td>60</td><td>0.42</td><td>0</td><td>2</td></tr><tr><th>61</th><td>309</td><td>100</td><td>8.1</td><td>3.0</td><td>3.0</td><td>61</td><td>0.48</td><td>0</td><td>2</td></tr><tr><th>62</th><td>307</td><td>101</td><td>8.2</td><td>3.0</td><td>4.0</td><td>62</td><td>0.47</td><td>0</td><td>3</td></tr><tr><th>63</th><td>304</td><td>105</td><td>8.2</td><td>3.0</td><td>3.0</td><td>63</td><td>0.54</td><td>1</td><td>2</td></tr><tr><th>64</th><td>315</td><td>107</td><td>8.5</td><td>3.0</td><td>4.0</td><td>64</td><td>0.56</td><td>1</td><td>2</td></tr><tr><th>65</th><td>325</td><td>111</td><td>8.7</td><td>3.5</td><td>3.0</td><td>65</td><td>0.52</td><td>0</td><td>3</td></tr><tr><th>66</th><td>325</td><td>112</td><td>8.92</td><td>3.5</td><td>3.5</td><td>66</td><td>0.55</td><td>0</td><td>4</td></tr><tr><th>67</th><td>327</td><td>114</td><td>9.02</td><td>3.0</td><td>3.0</td><td>67</td><td>0.61</td><td>0</td><td>3</td></tr><tr><th>68</th><td>316</td><td>107</td><td>8.64</td><td>3.5</td><td>3.5</td><td>68</td><td>0.57</td><td>1</td><td>2</td></tr><tr><th>69</th><td>318</td><td>109</td><td>9.22</td><td>4.0</td><td>3.5</td><td>69</td><td>0.68</td><td>1</td><td>3</td></tr><tr><th>70</th><td>328</td><td>115</td><td>9.16</td><td>4.0</td><td>4.5</td><td>70</td><td>0.78</td><td>1</td><td>4</td></tr><tr><th>71</th><td>332</td><td>118</td><td>9.64</td><td>5.0</td><td>5.0</td><td>71</td><td>0.94</td><td>1</td><td>5</td></tr><tr><th>72</th><td>336</td><td>112</td><td>9.76</td><td>5.0</td><td>5.0</td><td>72</td><td>0.96</td><td>1</td><td>5</td></tr><tr><th>73</th><td>321</td><td>111</td><td>9.45</td><td>5.0</td><td>5.0</td><td>73</td><td>0.93</td><td>1</td><td>5</td></tr><tr><th>74</th><td>314</td><td>108</td><td>9.04</td><td>4.0</td><td>4.5</td><td>74</td><td>0.84</td><td>1</td><td>4</td></tr><tr><th>75</th><td>314</td><td>106</td><td>8.9</td><td>5.0</td><td>3.0</td><td>75</td><td>0.74</td><td>0</td><td>3</td></tr><tr><th>76</th><td>329</td><td>114</td><td>8.56</td><td>4.0</td><td>2.0</td><td>76</td><td>0.72</td><td>1</td><td>2</td></tr><tr><th>77</th><td>327</td><td>112</td><td>8.72</td><td>3.0</td><td>3.0</td><td>77</td><td>0.74</td><td>1</td><td>3</td></tr><tr><th>78</th><td>301</td><td>99</td><td>8.22</td><td>2.0</td><td>3.0</td><td>78</td><td>0.64</td><td>0</td><td>2</td></tr><tr><th>79</th><td>296</td><td>95</td><td>7.54</td><td>2.0</td><td>3.0</td><td>79</td><td>0.44</td><td>1</td><td>2</td></tr><tr><th>80</th><td>294</td><td>93</td><td>7.36</td><td>2.0</td><td>1.5</td><td>80</td><td>0.46</td><td>0</td><td>1</td></tr><tr><th>81</th><td>312</td><td>105</td><td>8.02</td><td>3.0</td><td>2.0</td><td>81</td><td>0.5</td><td>1</td><td>3</td></tr><tr><th>82</th><td>340</td><td>120</td><td>9.5</td><td>5.0</td><td>5.0</td><td>82</td><td>0.96</td><td>1</td><td>4</td></tr><tr><th>83</th><td>320</td><td>110</td><td>9.22</td><td>4.5</td><td>5.0</td><td>83</td><td>0.92</td><td>1</td><td>5</td></tr><tr><th>84</th><td>322</td><td>115</td><td>9.36</td><td>4.5</td><td>4.0</td><td>84</td><td>0.92</td><td>1</td><td>5</td></tr><tr><th>85</th><td>340</td><td>115</td><td>9.45</td><td>4.5</td><td>4.5</td><td>85</td><td>0.94</td><td>1</td><td>5</td></tr><tr><th>86</th><td>319</td><td>103</td><td>8.66</td><td>3.5</td><td>4.5</td><td>86</td><td>0.76</td><td>0</td><td>4</td></tr><tr><th>87</th><td>315</td><td>106</td><td>8.42</td><td>3.5</td><td>4.5</td><td>87</td><td>0.72</td><td>0</td><td>3</td></tr><tr><th>88</th><td>317</td><td>107</td><td>8.28</td><td>3.0</td><td>3.5</td><td>88</td><td>0.66</td><td>0</td><td>2</td></tr><tr><th>89</th><td>314</td><td>108</td><td>8.14</td><td>3.5</td><td>4.5</td><td>89</td><td>0.64</td><td>0</td><td>3</td></tr><tr><th>90</th><td>316</td><td>109</td><td>8.76</td><td>3.5</td><td>4.5</td><td>90</td><td>0.74</td><td>1</td><td>4</td></tr><tr><th>91</th><td>318</td><td>106</td><td>7.92</td><td>4.0</td><td>4.0</td><td>91</td><td>0.64</td><td>1</td><td>2</td></tr><tr><th>92</th><td>299</td><td>97</td><td>7.66</td><td>3.5</td><td>5.0</td><td>92</td><td>0.38</td><td>0</td><td>3</td></tr><tr><th>93</th><td>298</td><td>98</td><td>8.03</td><td>3.0</td><td>4.0</td><td>93</td><td>0.34</td><td>0</td><td>2</td></tr><tr><th>94</th><td>301</td><td>97</td><td>7.88</td><td>3.0</td><td>3.0</td><td>94</td><td>0.44</td><td>1</td><td>2</td></tr><tr><th>95</th><td>303</td><td>99</td><td>7.66</td><td>2.5</td><td>2.0</td><td>95</td><td>0.36</td><td>0</td><td>3</td></tr><tr><th>96</th><td>304</td><td>100</td><td>7.84</td><td>2.5</td><td>1.5</td><td>96</td><td>0.42</td><td>0</td><td>4</td></tr><tr><th>97</th><td>306</td><td>100</td><td>8.0</td><td>3.0</td><td>3.0</td><td>97</td><td>0.48</td><td>0</td><td>2</td></tr><tr><th>98</th><td>331</td><td>120</td><td>8.96</td><td>4.0</td><td>4.0</td><td>98</td><td>0.86</td><td>1</td><td>3</td></tr><tr><th>99</th><td>332</td><td>119</td><td>9.24</td><td>4.5</td><td>5.0</td><td>99</td><td>0.9</td><td>1</td><td>4</td></tr><tr><th>100</th><td>323</td><td>113</td><td>8.88</td><td>4.0</td><td>4.0</td><td>100</td><td>0.79</td><td>1</td><td>3</td></tr><tr><th>&vellip;</th><td>&vellip;</td><td>&vellip;</td><td>&vellip;</td><td>&vellip;</td><td>&vellip;</td><td>&vellip;</td><td>&vellip;</td><td>&vellip;</td><td>&vellip;</td></tr></tbody></table>"
      ],
      "text/latex": [
       "\\begin{tabular}{r|ccccccccc}\n",
       "\t& GRE Score & TOEFL Score & CGPA & LOR & SOP & Serial No. & Chance of Admit  & Research & University Rating\\\\\n",
       "\t\\hline\n",
       "\t& Int64 & Int64 & Float64 & Float64 & Float64 & Int64 & Float64 & Int64 & Int64\\\\\n",
       "\t\\hline\n",
       "\t1 & 337 & 118 & 9.65 & 4.5 & 4.5 & 1 & 0.92 & 1 & 4 \\\\\n",
       "\t2 & 324 & 107 & 8.87 & 4.5 & 4.0 & 2 & 0.76 & 1 & 4 \\\\\n",
       "\t3 & 316 & 104 & 8.0 & 3.5 & 3.0 & 3 & 0.72 & 1 & 3 \\\\\n",
       "\t4 & 322 & 110 & 8.67 & 2.5 & 3.5 & 4 & 0.8 & 1 & 3 \\\\\n",
       "\t5 & 314 & 103 & 8.21 & 3.0 & 2.0 & 5 & 0.65 & 0 & 2 \\\\\n",
       "\t6 & 330 & 115 & 9.34 & 3.0 & 4.5 & 6 & 0.9 & 1 & 5 \\\\\n",
       "\t7 & 321 & 109 & 8.2 & 4.0 & 3.0 & 7 & 0.75 & 1 & 3 \\\\\n",
       "\t8 & 308 & 101 & 7.9 & 4.0 & 3.0 & 8 & 0.68 & 0 & 2 \\\\\n",
       "\t9 & 302 & 102 & 8.0 & 1.5 & 2.0 & 9 & 0.5 & 0 & 1 \\\\\n",
       "\t10 & 323 & 108 & 8.6 & 3.0 & 3.5 & 10 & 0.45 & 0 & 3 \\\\\n",
       "\t11 & 325 & 106 & 8.4 & 4.0 & 3.5 & 11 & 0.52 & 1 & 3 \\\\\n",
       "\t12 & 327 & 111 & 9.0 & 4.5 & 4.0 & 12 & 0.84 & 1 & 4 \\\\\n",
       "\t13 & 328 & 112 & 9.1 & 4.5 & 4.0 & 13 & 0.78 & 1 & 4 \\\\\n",
       "\t14 & 307 & 109 & 8.0 & 3.0 & 4.0 & 14 & 0.62 & 1 & 3 \\\\\n",
       "\t15 & 311 & 104 & 8.2 & 2.0 & 3.5 & 15 & 0.61 & 1 & 3 \\\\\n",
       "\t16 & 314 & 105 & 8.3 & 2.5 & 3.5 & 16 & 0.54 & 0 & 3 \\\\\n",
       "\t17 & 317 & 107 & 8.7 & 3.0 & 4.0 & 17 & 0.66 & 0 & 3 \\\\\n",
       "\t18 & 319 & 106 & 8.0 & 3.0 & 4.0 & 18 & 0.65 & 1 & 3 \\\\\n",
       "\t19 & 318 & 110 & 8.8 & 3.0 & 4.0 & 19 & 0.63 & 0 & 3 \\\\\n",
       "\t20 & 303 & 102 & 8.5 & 3.0 & 3.5 & 20 & 0.62 & 0 & 3 \\\\\n",
       "\t21 & 312 & 107 & 7.9 & 2.0 & 3.0 & 21 & 0.64 & 1 & 3 \\\\\n",
       "\t22 & 325 & 114 & 8.4 & 2.0 & 3.0 & 22 & 0.7 & 0 & 4 \\\\\n",
       "\t23 & 328 & 116 & 9.5 & 5.0 & 5.0 & 23 & 0.94 & 1 & 5 \\\\\n",
       "\t24 & 334 & 119 & 9.7 & 4.5 & 5.0 & 24 & 0.95 & 1 & 5 \\\\\n",
       "\t25 & 336 & 119 & 9.8 & 3.5 & 4.0 & 25 & 0.97 & 1 & 5 \\\\\n",
       "\t26 & 340 & 120 & 9.6 & 4.5 & 4.5 & 26 & 0.94 & 1 & 5 \\\\\n",
       "\t27 & 322 & 109 & 8.8 & 3.5 & 4.5 & 27 & 0.76 & 0 & 5 \\\\\n",
       "\t28 & 298 & 98 & 7.5 & 2.5 & 1.5 & 28 & 0.44 & 1 & 2 \\\\\n",
       "\t29 & 295 & 93 & 7.2 & 2.0 & 2.0 & 29 & 0.46 & 0 & 1 \\\\\n",
       "\t30 & 310 & 99 & 7.3 & 2.0 & 1.5 & 30 & 0.54 & 0 & 2 \\\\\n",
       "\t31 & 300 & 97 & 8.1 & 3.0 & 3.0 & 31 & 0.65 & 1 & 2 \\\\\n",
       "\t32 & 327 & 103 & 8.3 & 4.0 & 4.0 & 32 & 0.74 & 1 & 3 \\\\\n",
       "\t33 & 338 & 118 & 9.4 & 4.5 & 3.0 & 33 & 0.91 & 1 & 4 \\\\\n",
       "\t34 & 340 & 114 & 9.6 & 4.0 & 4.0 & 34 & 0.9 & 1 & 5 \\\\\n",
       "\t35 & 331 & 112 & 9.8 & 5.0 & 4.0 & 35 & 0.94 & 1 & 5 \\\\\n",
       "\t36 & 320 & 110 & 9.2 & 5.0 & 5.0 & 36 & 0.88 & 1 & 5 \\\\\n",
       "\t37 & 299 & 106 & 8.4 & 4.0 & 4.0 & 37 & 0.64 & 0 & 2 \\\\\n",
       "\t38 & 300 & 105 & 7.8 & 2.0 & 1.0 & 38 & 0.58 & 0 & 1 \\\\\n",
       "\t39 & 304 & 105 & 7.5 & 1.5 & 3.0 & 39 & 0.52 & 0 & 1 \\\\\n",
       "\t40 & 307 & 108 & 7.7 & 3.5 & 4.0 & 40 & 0.48 & 0 & 2 \\\\\n",
       "\t41 & 308 & 110 & 8.0 & 3.0 & 3.5 & 41 & 0.46 & 1 & 3 \\\\\n",
       "\t42 & 316 & 105 & 8.2 & 2.5 & 2.5 & 42 & 0.49 & 1 & 2 \\\\\n",
       "\t43 & 313 & 107 & 8.5 & 2.0 & 2.5 & 43 & 0.53 & 1 & 2 \\\\\n",
       "\t44 & 332 & 117 & 9.1 & 4.0 & 4.5 & 44 & 0.87 & 0 & 4 \\\\\n",
       "\t45 & 326 & 113 & 9.4 & 4.0 & 4.5 & 45 & 0.91 & 1 & 5 \\\\\n",
       "\t46 & 322 & 110 & 9.1 & 4.0 & 5.0 & 46 & 0.88 & 1 & 5 \\\\\n",
       "\t47 & 329 & 114 & 9.3 & 5.0 & 4.0 & 47 & 0.86 & 1 & 5 \\\\\n",
       "\t48 & 339 & 119 & 9.7 & 4.0 & 4.5 & 48 & 0.89 & 0 & 5 \\\\\n",
       "\t49 & 321 & 110 & 8.85 & 5.0 & 3.5 & 49 & 0.82 & 1 & 3 \\\\\n",
       "\t50 & 327 & 111 & 8.4 & 4.0 & 3.0 & 50 & 0.78 & 1 & 4 \\\\\n",
       "\t51 & 313 & 98 & 8.3 & 4.5 & 2.5 & 51 & 0.76 & 1 & 3 \\\\\n",
       "\t52 & 312 & 100 & 7.9 & 3.5 & 1.5 & 52 & 0.56 & 1 & 2 \\\\\n",
       "\t53 & 334 & 116 & 8.0 & 3.0 & 4.0 & 53 & 0.78 & 1 & 4 \\\\\n",
       "\t54 & 324 & 112 & 8.1 & 2.5 & 4.0 & 54 & 0.72 & 1 & 4 \\\\\n",
       "\t55 & 322 & 110 & 8.0 & 3.5 & 3.0 & 55 & 0.7 & 0 & 3 \\\\\n",
       "\t56 & 320 & 103 & 7.7 & 3.0 & 3.0 & 56 & 0.64 & 0 & 3 \\\\\n",
       "\t57 & 316 & 102 & 7.4 & 3.0 & 2.0 & 57 & 0.64 & 0 & 3 \\\\\n",
       "\t58 & 298 & 99 & 7.6 & 2.0 & 4.0 & 58 & 0.46 & 0 & 2 \\\\\n",
       "\t59 & 300 & 99 & 6.8 & 2.0 & 3.0 & 59 & 0.36 & 1 & 1 \\\\\n",
       "\t60 & 311 & 104 & 8.3 & 2.0 & 2.0 & 60 & 0.42 & 0 & 2 \\\\\n",
       "\t61 & 309 & 100 & 8.1 & 3.0 & 3.0 & 61 & 0.48 & 0 & 2 \\\\\n",
       "\t62 & 307 & 101 & 8.2 & 3.0 & 4.0 & 62 & 0.47 & 0 & 3 \\\\\n",
       "\t63 & 304 & 105 & 8.2 & 3.0 & 3.0 & 63 & 0.54 & 1 & 2 \\\\\n",
       "\t64 & 315 & 107 & 8.5 & 3.0 & 4.0 & 64 & 0.56 & 1 & 2 \\\\\n",
       "\t65 & 325 & 111 & 8.7 & 3.5 & 3.0 & 65 & 0.52 & 0 & 3 \\\\\n",
       "\t66 & 325 & 112 & 8.92 & 3.5 & 3.5 & 66 & 0.55 & 0 & 4 \\\\\n",
       "\t67 & 327 & 114 & 9.02 & 3.0 & 3.0 & 67 & 0.61 & 0 & 3 \\\\\n",
       "\t68 & 316 & 107 & 8.64 & 3.5 & 3.5 & 68 & 0.57 & 1 & 2 \\\\\n",
       "\t69 & 318 & 109 & 9.22 & 4.0 & 3.5 & 69 & 0.68 & 1 & 3 \\\\\n",
       "\t70 & 328 & 115 & 9.16 & 4.0 & 4.5 & 70 & 0.78 & 1 & 4 \\\\\n",
       "\t71 & 332 & 118 & 9.64 & 5.0 & 5.0 & 71 & 0.94 & 1 & 5 \\\\\n",
       "\t72 & 336 & 112 & 9.76 & 5.0 & 5.0 & 72 & 0.96 & 1 & 5 \\\\\n",
       "\t73 & 321 & 111 & 9.45 & 5.0 & 5.0 & 73 & 0.93 & 1 & 5 \\\\\n",
       "\t74 & 314 & 108 & 9.04 & 4.0 & 4.5 & 74 & 0.84 & 1 & 4 \\\\\n",
       "\t75 & 314 & 106 & 8.9 & 5.0 & 3.0 & 75 & 0.74 & 0 & 3 \\\\\n",
       "\t76 & 329 & 114 & 8.56 & 4.0 & 2.0 & 76 & 0.72 & 1 & 2 \\\\\n",
       "\t77 & 327 & 112 & 8.72 & 3.0 & 3.0 & 77 & 0.74 & 1 & 3 \\\\\n",
       "\t78 & 301 & 99 & 8.22 & 2.0 & 3.0 & 78 & 0.64 & 0 & 2 \\\\\n",
       "\t79 & 296 & 95 & 7.54 & 2.0 & 3.0 & 79 & 0.44 & 1 & 2 \\\\\n",
       "\t80 & 294 & 93 & 7.36 & 2.0 & 1.5 & 80 & 0.46 & 0 & 1 \\\\\n",
       "\t81 & 312 & 105 & 8.02 & 3.0 & 2.0 & 81 & 0.5 & 1 & 3 \\\\\n",
       "\t82 & 340 & 120 & 9.5 & 5.0 & 5.0 & 82 & 0.96 & 1 & 4 \\\\\n",
       "\t83 & 320 & 110 & 9.22 & 4.5 & 5.0 & 83 & 0.92 & 1 & 5 \\\\\n",
       "\t84 & 322 & 115 & 9.36 & 4.5 & 4.0 & 84 & 0.92 & 1 & 5 \\\\\n",
       "\t85 & 340 & 115 & 9.45 & 4.5 & 4.5 & 85 & 0.94 & 1 & 5 \\\\\n",
       "\t86 & 319 & 103 & 8.66 & 3.5 & 4.5 & 86 & 0.76 & 0 & 4 \\\\\n",
       "\t87 & 315 & 106 & 8.42 & 3.5 & 4.5 & 87 & 0.72 & 0 & 3 \\\\\n",
       "\t88 & 317 & 107 & 8.28 & 3.0 & 3.5 & 88 & 0.66 & 0 & 2 \\\\\n",
       "\t89 & 314 & 108 & 8.14 & 3.5 & 4.5 & 89 & 0.64 & 0 & 3 \\\\\n",
       "\t90 & 316 & 109 & 8.76 & 3.5 & 4.5 & 90 & 0.74 & 1 & 4 \\\\\n",
       "\t91 & 318 & 106 & 7.92 & 4.0 & 4.0 & 91 & 0.64 & 1 & 2 \\\\\n",
       "\t92 & 299 & 97 & 7.66 & 3.5 & 5.0 & 92 & 0.38 & 0 & 3 \\\\\n",
       "\t93 & 298 & 98 & 8.03 & 3.0 & 4.0 & 93 & 0.34 & 0 & 2 \\\\\n",
       "\t94 & 301 & 97 & 7.88 & 3.0 & 3.0 & 94 & 0.44 & 1 & 2 \\\\\n",
       "\t95 & 303 & 99 & 7.66 & 2.5 & 2.0 & 95 & 0.36 & 0 & 3 \\\\\n",
       "\t96 & 304 & 100 & 7.84 & 2.5 & 1.5 & 96 & 0.42 & 0 & 4 \\\\\n",
       "\t97 & 306 & 100 & 8.0 & 3.0 & 3.0 & 97 & 0.48 & 0 & 2 \\\\\n",
       "\t98 & 331 & 120 & 8.96 & 4.0 & 4.0 & 98 & 0.86 & 1 & 3 \\\\\n",
       "\t99 & 332 & 119 & 9.24 & 4.5 & 5.0 & 99 & 0.9 & 1 & 4 \\\\\n",
       "\t100 & 323 & 113 & 8.88 & 4.0 & 4.0 & 100 & 0.79 & 1 & 3 \\\\\n",
       "\t$\\dots$ & $\\dots$ & $\\dots$ & $\\dots$ & $\\dots$ & $\\dots$ & $\\dots$ & $\\dots$ & $\\dots$ & $\\dots$ \\\\\n",
       "\\end{tabular}\n"
      ],
      "text/plain": [
       "\u001b[1m399×9 DataFrame\u001b[0m\n",
       "\u001b[1m Row \u001b[0m│\u001b[1m GRE Score \u001b[0m\u001b[1m TOEFL Score \u001b[0m\u001b[1m CGPA    \u001b[0m\u001b[1m LOR     \u001b[0m\u001b[1m SOP     \u001b[0m\u001b[1m Serial No. \u001b[0m\u001b[1m Chance of Admit  \u001b[0m\u001b[1m Research \u001b[0m\u001b[1m University Rating \u001b[0m\n",
       "\u001b[1m     \u001b[0m│\u001b[90m Int64     \u001b[0m\u001b[90m Int64       \u001b[0m\u001b[90m Float64 \u001b[0m\u001b[90m Float64 \u001b[0m\u001b[90m Float64 \u001b[0m\u001b[90m Int64      \u001b[0m\u001b[90m Float64          \u001b[0m\u001b[90m Int64    \u001b[0m\u001b[90m Int64             \u001b[0m\n",
       "─────┼──────────────────────────────────────────────────────────────────────────────────────────────────────────────\n",
       "   1 │       337          118     9.65      4.5      4.5           1              0.92         1                  4\n",
       "   2 │       324          107     8.87      4.5      4.0           2              0.76         1                  4\n",
       "   3 │       316          104     8.0       3.5      3.0           3              0.72         1                  3\n",
       "   4 │       322          110     8.67      2.5      3.5           4              0.8          1                  3\n",
       "   5 │       314          103     8.21      3.0      2.0           5              0.65         0                  2\n",
       "   6 │       330          115     9.34      3.0      4.5           6              0.9          1                  5\n",
       "   7 │       321          109     8.2       4.0      3.0           7              0.75         1                  3\n",
       "   8 │       308          101     7.9       4.0      3.0           8              0.68         0                  2\n",
       "   9 │       302          102     8.0       1.5      2.0           9              0.5          0                  1\n",
       "  10 │       323          108     8.6       3.0      3.5          10              0.45         0                  3\n",
       "  11 │       325          106     8.4       4.0      3.5          11              0.52         1                  3\n",
       "  12 │       327          111     9.0       4.5      4.0          12              0.84         1                  4\n",
       "  13 │       328          112     9.1       4.5      4.0          13              0.78         1                  4\n",
       "  14 │       307          109     8.0       3.0      4.0          14              0.62         1                  3\n",
       "  15 │       311          104     8.2       2.0      3.5          15              0.61         1                  3\n",
       "  16 │       314          105     8.3       2.5      3.5          16              0.54         0                  3\n",
       "  17 │       317          107     8.7       3.0      4.0          17              0.66         0                  3\n",
       "  18 │       319          106     8.0       3.0      4.0          18              0.65         1                  3\n",
       "  19 │       318          110     8.8       3.0      4.0          19              0.63         0                  3\n",
       "  20 │       303          102     8.5       3.0      3.5          20              0.62         0                  3\n",
       "  21 │       312          107     7.9       2.0      3.0          21              0.64         1                  3\n",
       "  22 │       325          114     8.4       2.0      3.0          22              0.7          0                  4\n",
       "  23 │       328          116     9.5       5.0      5.0          23              0.94         1                  5\n",
       "  24 │       334          119     9.7       4.5      5.0          24              0.95         1                  5\n",
       "  25 │       336          119     9.8       3.5      4.0          25              0.97         1                  5\n",
       "  26 │       340          120     9.6       4.5      4.5          26              0.94         1                  5\n",
       "  27 │       322          109     8.8       3.5      4.5          27              0.76         0                  5\n",
       "  28 │       298           98     7.5       2.5      1.5          28              0.44         1                  2\n",
       "  29 │       295           93     7.2       2.0      2.0          29              0.46         0                  1\n",
       "  30 │       310           99     7.3       2.0      1.5          30              0.54         0                  2\n",
       "  31 │       300           97     8.1       3.0      3.0          31              0.65         1                  2\n",
       "  32 │       327          103     8.3       4.0      4.0          32              0.74         1                  3\n",
       "  33 │       338          118     9.4       4.5      3.0          33              0.91         1                  4\n",
       "  34 │       340          114     9.6       4.0      4.0          34              0.9          1                  5\n",
       "  35 │       331          112     9.8       5.0      4.0          35              0.94         1                  5\n",
       "  36 │       320          110     9.2       5.0      5.0          36              0.88         1                  5\n",
       "  37 │       299          106     8.4       4.0      4.0          37              0.64         0                  2\n",
       "  38 │       300          105     7.8       2.0      1.0          38              0.58         0                  1\n",
       "  39 │       304          105     7.5       1.5      3.0          39              0.52         0                  1\n",
       "  40 │       307          108     7.7       3.5      4.0          40              0.48         0                  2\n",
       "  41 │       308          110     8.0       3.0      3.5          41              0.46         1                  3\n",
       "  42 │       316          105     8.2       2.5      2.5          42              0.49         1                  2\n",
       "  43 │       313          107     8.5       2.0      2.5          43              0.53         1                  2\n",
       "  44 │       332          117     9.1       4.0      4.5          44              0.87         0                  4\n",
       "  45 │       326          113     9.4       4.0      4.5          45              0.91         1                  5\n",
       "  46 │       322          110     9.1       4.0      5.0          46              0.88         1                  5\n",
       "  ⋮  │     ⋮           ⋮          ⋮        ⋮        ⋮         ⋮              ⋮             ⋮              ⋮\n",
       " 355 │       297           98     7.67      3.0      2.5         355              0.59         0                  2\n",
       " 356 │       317          106     8.12      3.5      2.0         356              0.73         0                  2\n",
       " 357 │       327          109     8.77      4.0      3.5         357              0.79         1                  3\n",
       " 358 │       301          104     7.89      3.5      3.5         358              0.68         1                  2\n",
       " 359 │       314          105     7.64      2.0      2.5         359              0.7          0                  2\n",
       " 360 │       321          107     8.44      1.5      2.0         360              0.81         0                  2\n",
       " 361 │       322          110     8.64      5.0      4.0         361              0.85         1                  3\n",
       " 362 │       334          116     9.54      3.5      4.0         362              0.93         1                  4\n",
       " 363 │       338          115     9.23      5.0      4.5         363              0.91         1                  5\n",
       " 364 │       306          103     8.36      3.0      2.5         364              0.69         0                  2\n",
       " 365 │       313          102     8.9       4.0      3.5         365              0.77         1                  3\n",
       " 366 │       330          114     9.17      3.0      4.5         366              0.86         1                  4\n",
       " 367 │       320          104     8.34      4.5      3.5         367              0.74         1                  3\n",
       " 368 │       311           98     7.46      2.5      1.0         368              0.57         0                  1\n",
       " 369 │       298           92     7.88      2.0      2.0         369              0.51         0                  1\n",
       " 370 │       301           98     8.03      3.0      2.0         370              0.67         1                  1\n",
       " 371 │       310          103     8.24      2.5      2.5         371              0.72         0                  2\n",
       " 372 │       324          110     9.22      3.0      3.5         372              0.89         1                  3\n",
       " 373 │       336          119     9.62      4.0      4.5         373              0.95         1                  4\n",
       " 374 │       321          109     8.54      3.0      3.0         374              0.79         1                  3\n",
       " 375 │       315          105     7.65      2.5      2.0         375              0.39         0                  2\n",
       " 376 │       304          101     7.66      2.5      2.0         376              0.38         0                  2\n",
       " 377 │       297           96     7.43      2.0      2.5         377              0.34         0                  2\n",
       " 378 │       290          100     7.56      2.0      1.5         378              0.47         0                  1\n",
       " 379 │       303           98     7.65      2.5      2.0         379              0.56         0                  1\n",
       " 380 │       311           99     8.43      3.0      2.5         380              0.71         1                  1\n",
       " 381 │       322          104     8.84      4.0      3.5         381              0.78         1                  3\n",
       " 382 │       319          105     8.67      3.5      3.0         382              0.73         1                  3\n",
       " 383 │       324          110     9.15      4.0      4.5         383              0.82         1                  4\n",
       " 384 │       300          100     8.26      3.5      3.0         384              0.62         0                  3\n",
       " 385 │       340          113     9.74      5.0      5.0         385              0.96         1                  4\n",
       " 386 │       335          117     9.82      5.0      5.0         386              0.96         1                  5\n",
       " 387 │       302          101     7.96      3.5      2.5         387              0.46         0                  2\n",
       " 388 │       307          105     8.1       3.5      2.0         388              0.53         0                  2\n",
       " 389 │       296           97     7.8       2.0      1.5         389              0.49         0                  2\n",
       " 390 │       320          108     8.44      4.0      3.5         390              0.76         1                  3\n",
       " 391 │       314          102     8.24      2.5      2.0         391              0.64         0                  2\n",
       " 392 │       318          106     8.65      3.0      2.0         392              0.71         0                  3\n",
       " 393 │       326          112     9.12      3.5      4.0         393              0.84         1                  4\n",
       " 394 │       317          104     8.76      3.0      3.0         394              0.77         0                  2\n",
       " 395 │       329          111     9.23      4.0      4.5         395              0.89         1                  4\n",
       " 396 │       324          110     9.04      3.5      3.5         396              0.82         1                  3\n",
       " 397 │       325          107     9.11      3.5      3.0         397              0.84         1                  3\n",
       " 398 │       330          116     9.45      4.5      5.0         398              0.91         1                  4\n",
       " 399 │       312          103     8.78      4.0      3.5         399              0.67         0                  3\n",
       "\u001b[36m                                                                                                    308 rows omitted\u001b[0m"
      ]
     },
     "execution_count": 52,
     "metadata": {},
     "output_type": "execute_result"
    }
   ],
   "source": [
    "select(df, new_cols) # Reorder columns by changing column names order and then perform selection"
   ]
  },
  {
   "cell_type": "markdown",
   "metadata": {},
   "source": [
    "### Insert new columns"
   ]
  },
  {
   "cell_type": "code",
   "execution_count": 53,
   "metadata": {
    "ExecuteTime": {
     "end_time": "2021-05-22T12:23:47.303000+04:00",
     "start_time": "2021-05-22T08:23:47.299Z"
    }
   },
   "outputs": [
    {
     "data": {
      "text/html": [
       "<table class=\"data-frame\"><thead><tr><th></th><th>Serial No.</th><th>GRE Score</th><th>TOEFL Score</th><th>University Rating</th><th>SOP</th><th>LOR</th><th>CGPA</th><th>Research</th><th>Chance of Admit </th></tr><tr><th></th><th>Int64</th><th>Int64</th><th>Int64</th><th>Int64</th><th>Float64</th><th>Float64</th><th>Float64</th><th>Int64</th><th>Float64</th></tr></thead><tbody><p>5 rows × 9 columns</p><tr><th>1</th><td>1</td><td>337</td><td>118</td><td>4</td><td>4.5</td><td>4.5</td><td>9.65</td><td>1</td><td>0.92</td></tr><tr><th>2</th><td>2</td><td>324</td><td>107</td><td>4</td><td>4.0</td><td>4.5</td><td>8.87</td><td>1</td><td>0.76</td></tr><tr><th>3</th><td>3</td><td>316</td><td>104</td><td>3</td><td>3.0</td><td>3.5</td><td>8.0</td><td>1</td><td>0.72</td></tr><tr><th>4</th><td>4</td><td>322</td><td>110</td><td>3</td><td>3.5</td><td>2.5</td><td>8.67</td><td>1</td><td>0.8</td></tr><tr><th>5</th><td>5</td><td>314</td><td>103</td><td>2</td><td>2.0</td><td>3.0</td><td>8.21</td><td>0</td><td>0.65</td></tr></tbody></table>"
      ],
      "text/latex": [
       "\\begin{tabular}{r|ccccccccc}\n",
       "\t& Serial No. & GRE Score & TOEFL Score & University Rating & SOP & LOR & CGPA & Research & Chance of Admit \\\\\n",
       "\t\\hline\n",
       "\t& Int64 & Int64 & Int64 & Int64 & Float64 & Float64 & Float64 & Int64 & Float64\\\\\n",
       "\t\\hline\n",
       "\t1 & 1 & 337 & 118 & 4 & 4.5 & 4.5 & 9.65 & 1 & 0.92 \\\\\n",
       "\t2 & 2 & 324 & 107 & 4 & 4.0 & 4.5 & 8.87 & 1 & 0.76 \\\\\n",
       "\t3 & 3 & 316 & 104 & 3 & 3.0 & 3.5 & 8.0 & 1 & 0.72 \\\\\n",
       "\t4 & 4 & 322 & 110 & 3 & 3.5 & 2.5 & 8.67 & 1 & 0.8 \\\\\n",
       "\t5 & 5 & 314 & 103 & 2 & 2.0 & 3.0 & 8.21 & 0 & 0.65 \\\\\n",
       "\\end{tabular}\n"
      ],
      "text/plain": [
       "\u001b[1m5×9 DataFrame\u001b[0m\n",
       "\u001b[1m Row \u001b[0m│\u001b[1m Serial No. \u001b[0m\u001b[1m GRE Score \u001b[0m\u001b[1m TOEFL Score \u001b[0m\u001b[1m University Rating \u001b[0m\u001b[1m SOP     \u001b[0m\u001b[1m LOR     \u001b[0m\u001b[1m CGPA    \u001b[0m\u001b[1m Research \u001b[0m\u001b[1m Chance of Admit  \u001b[0m\n",
       "\u001b[1m     \u001b[0m│\u001b[90m Int64      \u001b[0m\u001b[90m Int64     \u001b[0m\u001b[90m Int64       \u001b[0m\u001b[90m Int64             \u001b[0m\u001b[90m Float64 \u001b[0m\u001b[90m Float64 \u001b[0m\u001b[90m Float64 \u001b[0m\u001b[90m Int64    \u001b[0m\u001b[90m Float64          \u001b[0m\n",
       "─────┼──────────────────────────────────────────────────────────────────────────────────────────────────────────────\n",
       "   1 │          1        337          118                  4      4.5      4.5     9.65         1              0.92\n",
       "   2 │          2        324          107                  4      4.0      4.5     8.87         1              0.76\n",
       "   3 │          3        316          104                  3      3.0      3.5     8.0          1              0.72\n",
       "   4 │          4        322          110                  3      3.5      2.5     8.67         1              0.8\n",
       "   5 │          5        314          103                  2      2.0      3.0     8.21         0              0.65"
      ]
     },
     "execution_count": 53,
     "metadata": {},
     "output_type": "execute_result"
    }
   ],
   "source": [
    "first(df, 5)"
   ]
  },
  {
   "cell_type": "code",
   "execution_count": 54,
   "metadata": {
    "ExecuteTime": {
     "end_time": "2021-05-22T12:23:47.550000+04:00",
     "start_time": "2021-05-22T08:23:47.464Z"
    },
    "scrolled": true
   },
   "outputs": [
    {
     "data": {
      "text/html": [
       "<table class=\"data-frame\"><thead><tr><th></th><th>Serial No.</th><th>GRE Score</th><th>TOEFL Score</th><th>University Rating</th><th>SOP</th><th>LOR</th><th>CGPA</th><th>Research</th><th>Chance of Admit </th><th>A</th></tr><tr><th></th><th>Int64</th><th>Int64</th><th>Int64</th><th>Int64</th><th>Float64</th><th>Float64</th><th>Float64</th><th>Int64</th><th>Float64</th><th>Float64</th></tr></thead><tbody><p>5 rows × 10 columns</p><tr><th>1</th><td>1</td><td>337</td><td>118</td><td>4</td><td>4.5</td><td>4.5</td><td>9.65</td><td>1</td><td>0.92</td><td>965.0</td></tr><tr><th>2</th><td>2</td><td>324</td><td>107</td><td>4</td><td>4.0</td><td>4.5</td><td>8.87</td><td>1</td><td>0.76</td><td>887.0</td></tr><tr><th>3</th><td>3</td><td>316</td><td>104</td><td>3</td><td>3.0</td><td>3.5</td><td>8.0</td><td>1</td><td>0.72</td><td>800.0</td></tr><tr><th>4</th><td>4</td><td>322</td><td>110</td><td>3</td><td>3.5</td><td>2.5</td><td>8.67</td><td>1</td><td>0.8</td><td>867.0</td></tr><tr><th>5</th><td>5</td><td>314</td><td>103</td><td>2</td><td>2.0</td><td>3.0</td><td>8.21</td><td>0</td><td>0.65</td><td>821.0</td></tr></tbody></table>"
      ],
      "text/latex": [
       "\\begin{tabular}{r|cccccccccc}\n",
       "\t& Serial No. & GRE Score & TOEFL Score & University Rating & SOP & LOR & CGPA & Research & Chance of Admit  & A\\\\\n",
       "\t\\hline\n",
       "\t& Int64 & Int64 & Int64 & Int64 & Float64 & Float64 & Float64 & Int64 & Float64 & Float64\\\\\n",
       "\t\\hline\n",
       "\t1 & 1 & 337 & 118 & 4 & 4.5 & 4.5 & 9.65 & 1 & 0.92 & 965.0 \\\\\n",
       "\t2 & 2 & 324 & 107 & 4 & 4.0 & 4.5 & 8.87 & 1 & 0.76 & 887.0 \\\\\n",
       "\t3 & 3 & 316 & 104 & 3 & 3.0 & 3.5 & 8.0 & 1 & 0.72 & 800.0 \\\\\n",
       "\t4 & 4 & 322 & 110 & 3 & 3.5 & 2.5 & 8.67 & 1 & 0.8 & 867.0 \\\\\n",
       "\t5 & 5 & 314 & 103 & 2 & 2.0 & 3.0 & 8.21 & 0 & 0.65 & 821.0 \\\\\n",
       "\\end{tabular}\n"
      ],
      "text/plain": [
       "\u001b[1m5×10 DataFrame\u001b[0m\n",
       "\u001b[1m Row \u001b[0m│\u001b[1m Serial No. \u001b[0m\u001b[1m GRE Score \u001b[0m\u001b[1m TOEFL Score \u001b[0m\u001b[1m University Rating \u001b[0m\u001b[1m SOP     \u001b[0m\u001b[1m LOR     \u001b[0m\u001b[1m CGPA    \u001b[0m\u001b[1m Research \u001b[0m\u001b[1m Chance of Admit  \u001b[0m\u001b[1m A       \u001b[0m\n",
       "\u001b[1m     \u001b[0m│\u001b[90m Int64      \u001b[0m\u001b[90m Int64     \u001b[0m\u001b[90m Int64       \u001b[0m\u001b[90m Int64             \u001b[0m\u001b[90m Float64 \u001b[0m\u001b[90m Float64 \u001b[0m\u001b[90m Float64 \u001b[0m\u001b[90m Int64    \u001b[0m\u001b[90m Float64          \u001b[0m\u001b[90m Float64 \u001b[0m\n",
       "─────┼───────────────────────────────────────────────────────────────────────────────────────────────────────────────────────\n",
       "   1 │          1        337          118                  4      4.5      4.5     9.65         1              0.92    965.0\n",
       "   2 │          2        324          107                  4      4.0      4.5     8.87         1              0.76    887.0\n",
       "   3 │          3        316          104                  3      3.0      3.5     8.0          1              0.72    800.0\n",
       "   4 │          4        322          110                  3      3.5      2.5     8.67         1              0.8     867.0\n",
       "   5 │          5        314          103                  2      2.0      3.0     8.21         0              0.65    821.0"
      ]
     },
     "execution_count": 54,
     "metadata": {},
     "output_type": "execute_result"
    }
   ],
   "source": [
    "df[!, \"A\"] = df[!, \"CGPA\"] * 100 # Add new column\n",
    "\n",
    "first(df, 5)"
   ]
  },
  {
   "cell_type": "markdown",
   "metadata": {},
   "source": [
    "The above technique can add new column only at the end of the DataFrame. If we want to add new column at specified position, we can use `insertcols!()` function. Note that `insertcols!()` is in-place function."
   ]
  },
  {
   "cell_type": "code",
   "execution_count": 55,
   "metadata": {
    "ExecuteTime": {
     "end_time": "2021-05-22T12:23:49.121000+04:00",
     "start_time": "2021-05-22T08:23:48.924Z"
    }
   },
   "outputs": [
    {
     "data": {
      "text/html": [
       "<table class=\"data-frame\"><thead><tr><th></th><th>B</th><th>Serial No.</th><th>GRE Score</th><th>TOEFL Score</th><th>University Rating</th><th>SOP</th><th>LOR</th><th>CGPA</th><th>Research</th><th>Chance of Admit </th><th>A</th></tr><tr><th></th><th>Int64</th><th>Int64</th><th>Int64</th><th>Int64</th><th>Int64</th><th>Float64</th><th>Float64</th><th>Float64</th><th>Int64</th><th>Float64</th><th>Float64</th></tr></thead><tbody><p>399 rows × 11 columns</p><tr><th>1</th><td>1</td><td>1</td><td>337</td><td>118</td><td>4</td><td>4.5</td><td>4.5</td><td>9.65</td><td>1</td><td>0.92</td><td>965.0</td></tr><tr><th>2</th><td>1</td><td>2</td><td>324</td><td>107</td><td>4</td><td>4.0</td><td>4.5</td><td>8.87</td><td>1</td><td>0.76</td><td>887.0</td></tr><tr><th>3</th><td>1</td><td>3</td><td>316</td><td>104</td><td>3</td><td>3.0</td><td>3.5</td><td>8.0</td><td>1</td><td>0.72</td><td>800.0</td></tr><tr><th>4</th><td>1</td><td>4</td><td>322</td><td>110</td><td>3</td><td>3.5</td><td>2.5</td><td>8.67</td><td>1</td><td>0.8</td><td>867.0</td></tr><tr><th>5</th><td>1</td><td>5</td><td>314</td><td>103</td><td>2</td><td>2.0</td><td>3.0</td><td>8.21</td><td>0</td><td>0.65</td><td>821.0</td></tr><tr><th>6</th><td>1</td><td>6</td><td>330</td><td>115</td><td>5</td><td>4.5</td><td>3.0</td><td>9.34</td><td>1</td><td>0.9</td><td>934.0</td></tr><tr><th>7</th><td>1</td><td>7</td><td>321</td><td>109</td><td>3</td><td>3.0</td><td>4.0</td><td>8.2</td><td>1</td><td>0.75</td><td>820.0</td></tr><tr><th>8</th><td>1</td><td>8</td><td>308</td><td>101</td><td>2</td><td>3.0</td><td>4.0</td><td>7.9</td><td>0</td><td>0.68</td><td>790.0</td></tr><tr><th>9</th><td>1</td><td>9</td><td>302</td><td>102</td><td>1</td><td>2.0</td><td>1.5</td><td>8.0</td><td>0</td><td>0.5</td><td>800.0</td></tr><tr><th>10</th><td>1</td><td>10</td><td>323</td><td>108</td><td>3</td><td>3.5</td><td>3.0</td><td>8.6</td><td>0</td><td>0.45</td><td>860.0</td></tr><tr><th>11</th><td>1</td><td>11</td><td>325</td><td>106</td><td>3</td><td>3.5</td><td>4.0</td><td>8.4</td><td>1</td><td>0.52</td><td>840.0</td></tr><tr><th>12</th><td>1</td><td>12</td><td>327</td><td>111</td><td>4</td><td>4.0</td><td>4.5</td><td>9.0</td><td>1</td><td>0.84</td><td>900.0</td></tr><tr><th>13</th><td>1</td><td>13</td><td>328</td><td>112</td><td>4</td><td>4.0</td><td>4.5</td><td>9.1</td><td>1</td><td>0.78</td><td>910.0</td></tr><tr><th>14</th><td>1</td><td>14</td><td>307</td><td>109</td><td>3</td><td>4.0</td><td>3.0</td><td>8.0</td><td>1</td><td>0.62</td><td>800.0</td></tr><tr><th>15</th><td>1</td><td>15</td><td>311</td><td>104</td><td>3</td><td>3.5</td><td>2.0</td><td>8.2</td><td>1</td><td>0.61</td><td>820.0</td></tr><tr><th>16</th><td>1</td><td>16</td><td>314</td><td>105</td><td>3</td><td>3.5</td><td>2.5</td><td>8.3</td><td>0</td><td>0.54</td><td>830.0</td></tr><tr><th>17</th><td>1</td><td>17</td><td>317</td><td>107</td><td>3</td><td>4.0</td><td>3.0</td><td>8.7</td><td>0</td><td>0.66</td><td>870.0</td></tr><tr><th>18</th><td>1</td><td>18</td><td>319</td><td>106</td><td>3</td><td>4.0</td><td>3.0</td><td>8.0</td><td>1</td><td>0.65</td><td>800.0</td></tr><tr><th>19</th><td>1</td><td>19</td><td>318</td><td>110</td><td>3</td><td>4.0</td><td>3.0</td><td>8.8</td><td>0</td><td>0.63</td><td>880.0</td></tr><tr><th>20</th><td>1</td><td>20</td><td>303</td><td>102</td><td>3</td><td>3.5</td><td>3.0</td><td>8.5</td><td>0</td><td>0.62</td><td>850.0</td></tr><tr><th>21</th><td>1</td><td>21</td><td>312</td><td>107</td><td>3</td><td>3.0</td><td>2.0</td><td>7.9</td><td>1</td><td>0.64</td><td>790.0</td></tr><tr><th>22</th><td>1</td><td>22</td><td>325</td><td>114</td><td>4</td><td>3.0</td><td>2.0</td><td>8.4</td><td>0</td><td>0.7</td><td>840.0</td></tr><tr><th>23</th><td>1</td><td>23</td><td>328</td><td>116</td><td>5</td><td>5.0</td><td>5.0</td><td>9.5</td><td>1</td><td>0.94</td><td>950.0</td></tr><tr><th>24</th><td>1</td><td>24</td><td>334</td><td>119</td><td>5</td><td>5.0</td><td>4.5</td><td>9.7</td><td>1</td><td>0.95</td><td>970.0</td></tr><tr><th>25</th><td>1</td><td>25</td><td>336</td><td>119</td><td>5</td><td>4.0</td><td>3.5</td><td>9.8</td><td>1</td><td>0.97</td><td>980.0</td></tr><tr><th>26</th><td>1</td><td>26</td><td>340</td><td>120</td><td>5</td><td>4.5</td><td>4.5</td><td>9.6</td><td>1</td><td>0.94</td><td>960.0</td></tr><tr><th>27</th><td>1</td><td>27</td><td>322</td><td>109</td><td>5</td><td>4.5</td><td>3.5</td><td>8.8</td><td>0</td><td>0.76</td><td>880.0</td></tr><tr><th>28</th><td>1</td><td>28</td><td>298</td><td>98</td><td>2</td><td>1.5</td><td>2.5</td><td>7.5</td><td>1</td><td>0.44</td><td>750.0</td></tr><tr><th>29</th><td>1</td><td>29</td><td>295</td><td>93</td><td>1</td><td>2.0</td><td>2.0</td><td>7.2</td><td>0</td><td>0.46</td><td>720.0</td></tr><tr><th>30</th><td>1</td><td>30</td><td>310</td><td>99</td><td>2</td><td>1.5</td><td>2.0</td><td>7.3</td><td>0</td><td>0.54</td><td>730.0</td></tr><tr><th>31</th><td>1</td><td>31</td><td>300</td><td>97</td><td>2</td><td>3.0</td><td>3.0</td><td>8.1</td><td>1</td><td>0.65</td><td>810.0</td></tr><tr><th>32</th><td>1</td><td>32</td><td>327</td><td>103</td><td>3</td><td>4.0</td><td>4.0</td><td>8.3</td><td>1</td><td>0.74</td><td>830.0</td></tr><tr><th>33</th><td>1</td><td>33</td><td>338</td><td>118</td><td>4</td><td>3.0</td><td>4.5</td><td>9.4</td><td>1</td><td>0.91</td><td>940.0</td></tr><tr><th>34</th><td>1</td><td>34</td><td>340</td><td>114</td><td>5</td><td>4.0</td><td>4.0</td><td>9.6</td><td>1</td><td>0.9</td><td>960.0</td></tr><tr><th>35</th><td>1</td><td>35</td><td>331</td><td>112</td><td>5</td><td>4.0</td><td>5.0</td><td>9.8</td><td>1</td><td>0.94</td><td>980.0</td></tr><tr><th>36</th><td>1</td><td>36</td><td>320</td><td>110</td><td>5</td><td>5.0</td><td>5.0</td><td>9.2</td><td>1</td><td>0.88</td><td>920.0</td></tr><tr><th>37</th><td>1</td><td>37</td><td>299</td><td>106</td><td>2</td><td>4.0</td><td>4.0</td><td>8.4</td><td>0</td><td>0.64</td><td>840.0</td></tr><tr><th>38</th><td>1</td><td>38</td><td>300</td><td>105</td><td>1</td><td>1.0</td><td>2.0</td><td>7.8</td><td>0</td><td>0.58</td><td>780.0</td></tr><tr><th>39</th><td>1</td><td>39</td><td>304</td><td>105</td><td>1</td><td>3.0</td><td>1.5</td><td>7.5</td><td>0</td><td>0.52</td><td>750.0</td></tr><tr><th>40</th><td>1</td><td>40</td><td>307</td><td>108</td><td>2</td><td>4.0</td><td>3.5</td><td>7.7</td><td>0</td><td>0.48</td><td>770.0</td></tr><tr><th>41</th><td>1</td><td>41</td><td>308</td><td>110</td><td>3</td><td>3.5</td><td>3.0</td><td>8.0</td><td>1</td><td>0.46</td><td>800.0</td></tr><tr><th>42</th><td>1</td><td>42</td><td>316</td><td>105</td><td>2</td><td>2.5</td><td>2.5</td><td>8.2</td><td>1</td><td>0.49</td><td>820.0</td></tr><tr><th>43</th><td>1</td><td>43</td><td>313</td><td>107</td><td>2</td><td>2.5</td><td>2.0</td><td>8.5</td><td>1</td><td>0.53</td><td>850.0</td></tr><tr><th>44</th><td>1</td><td>44</td><td>332</td><td>117</td><td>4</td><td>4.5</td><td>4.0</td><td>9.1</td><td>0</td><td>0.87</td><td>910.0</td></tr><tr><th>45</th><td>1</td><td>45</td><td>326</td><td>113</td><td>5</td><td>4.5</td><td>4.0</td><td>9.4</td><td>1</td><td>0.91</td><td>940.0</td></tr><tr><th>46</th><td>1</td><td>46</td><td>322</td><td>110</td><td>5</td><td>5.0</td><td>4.0</td><td>9.1</td><td>1</td><td>0.88</td><td>910.0</td></tr><tr><th>47</th><td>1</td><td>47</td><td>329</td><td>114</td><td>5</td><td>4.0</td><td>5.0</td><td>9.3</td><td>1</td><td>0.86</td><td>930.0</td></tr><tr><th>48</th><td>1</td><td>48</td><td>339</td><td>119</td><td>5</td><td>4.5</td><td>4.0</td><td>9.7</td><td>0</td><td>0.89</td><td>970.0</td></tr><tr><th>49</th><td>1</td><td>49</td><td>321</td><td>110</td><td>3</td><td>3.5</td><td>5.0</td><td>8.85</td><td>1</td><td>0.82</td><td>885.0</td></tr><tr><th>50</th><td>1</td><td>50</td><td>327</td><td>111</td><td>4</td><td>3.0</td><td>4.0</td><td>8.4</td><td>1</td><td>0.78</td><td>840.0</td></tr><tr><th>51</th><td>1</td><td>51</td><td>313</td><td>98</td><td>3</td><td>2.5</td><td>4.5</td><td>8.3</td><td>1</td><td>0.76</td><td>830.0</td></tr><tr><th>52</th><td>1</td><td>52</td><td>312</td><td>100</td><td>2</td><td>1.5</td><td>3.5</td><td>7.9</td><td>1</td><td>0.56</td><td>790.0</td></tr><tr><th>53</th><td>1</td><td>53</td><td>334</td><td>116</td><td>4</td><td>4.0</td><td>3.0</td><td>8.0</td><td>1</td><td>0.78</td><td>800.0</td></tr><tr><th>54</th><td>1</td><td>54</td><td>324</td><td>112</td><td>4</td><td>4.0</td><td>2.5</td><td>8.1</td><td>1</td><td>0.72</td><td>810.0</td></tr><tr><th>55</th><td>1</td><td>55</td><td>322</td><td>110</td><td>3</td><td>3.0</td><td>3.5</td><td>8.0</td><td>0</td><td>0.7</td><td>800.0</td></tr><tr><th>56</th><td>1</td><td>56</td><td>320</td><td>103</td><td>3</td><td>3.0</td><td>3.0</td><td>7.7</td><td>0</td><td>0.64</td><td>770.0</td></tr><tr><th>57</th><td>1</td><td>57</td><td>316</td><td>102</td><td>3</td><td>2.0</td><td>3.0</td><td>7.4</td><td>0</td><td>0.64</td><td>740.0</td></tr><tr><th>58</th><td>1</td><td>58</td><td>298</td><td>99</td><td>2</td><td>4.0</td><td>2.0</td><td>7.6</td><td>0</td><td>0.46</td><td>760.0</td></tr><tr><th>59</th><td>1</td><td>59</td><td>300</td><td>99</td><td>1</td><td>3.0</td><td>2.0</td><td>6.8</td><td>1</td><td>0.36</td><td>680.0</td></tr><tr><th>60</th><td>1</td><td>60</td><td>311</td><td>104</td><td>2</td><td>2.0</td><td>2.0</td><td>8.3</td><td>0</td><td>0.42</td><td>830.0</td></tr><tr><th>61</th><td>1</td><td>61</td><td>309</td><td>100</td><td>2</td><td>3.0</td><td>3.0</td><td>8.1</td><td>0</td><td>0.48</td><td>810.0</td></tr><tr><th>62</th><td>1</td><td>62</td><td>307</td><td>101</td><td>3</td><td>4.0</td><td>3.0</td><td>8.2</td><td>0</td><td>0.47</td><td>820.0</td></tr><tr><th>63</th><td>1</td><td>63</td><td>304</td><td>105</td><td>2</td><td>3.0</td><td>3.0</td><td>8.2</td><td>1</td><td>0.54</td><td>820.0</td></tr><tr><th>64</th><td>1</td><td>64</td><td>315</td><td>107</td><td>2</td><td>4.0</td><td>3.0</td><td>8.5</td><td>1</td><td>0.56</td><td>850.0</td></tr><tr><th>65</th><td>1</td><td>65</td><td>325</td><td>111</td><td>3</td><td>3.0</td><td>3.5</td><td>8.7</td><td>0</td><td>0.52</td><td>870.0</td></tr><tr><th>66</th><td>1</td><td>66</td><td>325</td><td>112</td><td>4</td><td>3.5</td><td>3.5</td><td>8.92</td><td>0</td><td>0.55</td><td>892.0</td></tr><tr><th>67</th><td>1</td><td>67</td><td>327</td><td>114</td><td>3</td><td>3.0</td><td>3.0</td><td>9.02</td><td>0</td><td>0.61</td><td>902.0</td></tr><tr><th>68</th><td>1</td><td>68</td><td>316</td><td>107</td><td>2</td><td>3.5</td><td>3.5</td><td>8.64</td><td>1</td><td>0.57</td><td>864.0</td></tr><tr><th>69</th><td>1</td><td>69</td><td>318</td><td>109</td><td>3</td><td>3.5</td><td>4.0</td><td>9.22</td><td>1</td><td>0.68</td><td>922.0</td></tr><tr><th>70</th><td>1</td><td>70</td><td>328</td><td>115</td><td>4</td><td>4.5</td><td>4.0</td><td>9.16</td><td>1</td><td>0.78</td><td>916.0</td></tr><tr><th>71</th><td>1</td><td>71</td><td>332</td><td>118</td><td>5</td><td>5.0</td><td>5.0</td><td>9.64</td><td>1</td><td>0.94</td><td>964.0</td></tr><tr><th>72</th><td>1</td><td>72</td><td>336</td><td>112</td><td>5</td><td>5.0</td><td>5.0</td><td>9.76</td><td>1</td><td>0.96</td><td>976.0</td></tr><tr><th>73</th><td>1</td><td>73</td><td>321</td><td>111</td><td>5</td><td>5.0</td><td>5.0</td><td>9.45</td><td>1</td><td>0.93</td><td>945.0</td></tr><tr><th>74</th><td>1</td><td>74</td><td>314</td><td>108</td><td>4</td><td>4.5</td><td>4.0</td><td>9.04</td><td>1</td><td>0.84</td><td>904.0</td></tr><tr><th>75</th><td>1</td><td>75</td><td>314</td><td>106</td><td>3</td><td>3.0</td><td>5.0</td><td>8.9</td><td>0</td><td>0.74</td><td>890.0</td></tr><tr><th>76</th><td>1</td><td>76</td><td>329</td><td>114</td><td>2</td><td>2.0</td><td>4.0</td><td>8.56</td><td>1</td><td>0.72</td><td>856.0</td></tr><tr><th>77</th><td>1</td><td>77</td><td>327</td><td>112</td><td>3</td><td>3.0</td><td>3.0</td><td>8.72</td><td>1</td><td>0.74</td><td>872.0</td></tr><tr><th>78</th><td>1</td><td>78</td><td>301</td><td>99</td><td>2</td><td>3.0</td><td>2.0</td><td>8.22</td><td>0</td><td>0.64</td><td>822.0</td></tr><tr><th>79</th><td>1</td><td>79</td><td>296</td><td>95</td><td>2</td><td>3.0</td><td>2.0</td><td>7.54</td><td>1</td><td>0.44</td><td>754.0</td></tr><tr><th>80</th><td>1</td><td>80</td><td>294</td><td>93</td><td>1</td><td>1.5</td><td>2.0</td><td>7.36</td><td>0</td><td>0.46</td><td>736.0</td></tr><tr><th>81</th><td>1</td><td>81</td><td>312</td><td>105</td><td>3</td><td>2.0</td><td>3.0</td><td>8.02</td><td>1</td><td>0.5</td><td>802.0</td></tr><tr><th>82</th><td>1</td><td>82</td><td>340</td><td>120</td><td>4</td><td>5.0</td><td>5.0</td><td>9.5</td><td>1</td><td>0.96</td><td>950.0</td></tr><tr><th>83</th><td>1</td><td>83</td><td>320</td><td>110</td><td>5</td><td>5.0</td><td>4.5</td><td>9.22</td><td>1</td><td>0.92</td><td>922.0</td></tr><tr><th>84</th><td>1</td><td>84</td><td>322</td><td>115</td><td>5</td><td>4.0</td><td>4.5</td><td>9.36</td><td>1</td><td>0.92</td><td>936.0</td></tr><tr><th>85</th><td>1</td><td>85</td><td>340</td><td>115</td><td>5</td><td>4.5</td><td>4.5</td><td>9.45</td><td>1</td><td>0.94</td><td>945.0</td></tr><tr><th>86</th><td>1</td><td>86</td><td>319</td><td>103</td><td>4</td><td>4.5</td><td>3.5</td><td>8.66</td><td>0</td><td>0.76</td><td>866.0</td></tr><tr><th>87</th><td>1</td><td>87</td><td>315</td><td>106</td><td>3</td><td>4.5</td><td>3.5</td><td>8.42</td><td>0</td><td>0.72</td><td>842.0</td></tr><tr><th>88</th><td>1</td><td>88</td><td>317</td><td>107</td><td>2</td><td>3.5</td><td>3.0</td><td>8.28</td><td>0</td><td>0.66</td><td>828.0</td></tr><tr><th>89</th><td>1</td><td>89</td><td>314</td><td>108</td><td>3</td><td>4.5</td><td>3.5</td><td>8.14</td><td>0</td><td>0.64</td><td>814.0</td></tr><tr><th>90</th><td>1</td><td>90</td><td>316</td><td>109</td><td>4</td><td>4.5</td><td>3.5</td><td>8.76</td><td>1</td><td>0.74</td><td>876.0</td></tr><tr><th>91</th><td>1</td><td>91</td><td>318</td><td>106</td><td>2</td><td>4.0</td><td>4.0</td><td>7.92</td><td>1</td><td>0.64</td><td>792.0</td></tr><tr><th>92</th><td>1</td><td>92</td><td>299</td><td>97</td><td>3</td><td>5.0</td><td>3.5</td><td>7.66</td><td>0</td><td>0.38</td><td>766.0</td></tr><tr><th>93</th><td>1</td><td>93</td><td>298</td><td>98</td><td>2</td><td>4.0</td><td>3.0</td><td>8.03</td><td>0</td><td>0.34</td><td>803.0</td></tr><tr><th>94</th><td>1</td><td>94</td><td>301</td><td>97</td><td>2</td><td>3.0</td><td>3.0</td><td>7.88</td><td>1</td><td>0.44</td><td>788.0</td></tr><tr><th>95</th><td>1</td><td>95</td><td>303</td><td>99</td><td>3</td><td>2.0</td><td>2.5</td><td>7.66</td><td>0</td><td>0.36</td><td>766.0</td></tr><tr><th>96</th><td>1</td><td>96</td><td>304</td><td>100</td><td>4</td><td>1.5</td><td>2.5</td><td>7.84</td><td>0</td><td>0.42</td><td>784.0</td></tr><tr><th>97</th><td>1</td><td>97</td><td>306</td><td>100</td><td>2</td><td>3.0</td><td>3.0</td><td>8.0</td><td>0</td><td>0.48</td><td>800.0</td></tr><tr><th>98</th><td>1</td><td>98</td><td>331</td><td>120</td><td>3</td><td>4.0</td><td>4.0</td><td>8.96</td><td>1</td><td>0.86</td><td>896.0</td></tr><tr><th>99</th><td>1</td><td>99</td><td>332</td><td>119</td><td>4</td><td>5.0</td><td>4.5</td><td>9.24</td><td>1</td><td>0.9</td><td>924.0</td></tr><tr><th>100</th><td>1</td><td>100</td><td>323</td><td>113</td><td>3</td><td>4.0</td><td>4.0</td><td>8.88</td><td>1</td><td>0.79</td><td>888.0</td></tr><tr><th>&vellip;</th><td>&vellip;</td><td>&vellip;</td><td>&vellip;</td><td>&vellip;</td><td>&vellip;</td><td>&vellip;</td><td>&vellip;</td><td>&vellip;</td><td>&vellip;</td><td>&vellip;</td><td>&vellip;</td></tr></tbody></table>"
      ],
      "text/latex": [
       "\\begin{tabular}{r|ccccccccccc}\n",
       "\t& B & Serial No. & GRE Score & TOEFL Score & University Rating & SOP & LOR & CGPA & Research & Chance of Admit  & A\\\\\n",
       "\t\\hline\n",
       "\t& Int64 & Int64 & Int64 & Int64 & Int64 & Float64 & Float64 & Float64 & Int64 & Float64 & Float64\\\\\n",
       "\t\\hline\n",
       "\t1 & 1 & 1 & 337 & 118 & 4 & 4.5 & 4.5 & 9.65 & 1 & 0.92 & 965.0 \\\\\n",
       "\t2 & 1 & 2 & 324 & 107 & 4 & 4.0 & 4.5 & 8.87 & 1 & 0.76 & 887.0 \\\\\n",
       "\t3 & 1 & 3 & 316 & 104 & 3 & 3.0 & 3.5 & 8.0 & 1 & 0.72 & 800.0 \\\\\n",
       "\t4 & 1 & 4 & 322 & 110 & 3 & 3.5 & 2.5 & 8.67 & 1 & 0.8 & 867.0 \\\\\n",
       "\t5 & 1 & 5 & 314 & 103 & 2 & 2.0 & 3.0 & 8.21 & 0 & 0.65 & 821.0 \\\\\n",
       "\t6 & 1 & 6 & 330 & 115 & 5 & 4.5 & 3.0 & 9.34 & 1 & 0.9 & 934.0 \\\\\n",
       "\t7 & 1 & 7 & 321 & 109 & 3 & 3.0 & 4.0 & 8.2 & 1 & 0.75 & 820.0 \\\\\n",
       "\t8 & 1 & 8 & 308 & 101 & 2 & 3.0 & 4.0 & 7.9 & 0 & 0.68 & 790.0 \\\\\n",
       "\t9 & 1 & 9 & 302 & 102 & 1 & 2.0 & 1.5 & 8.0 & 0 & 0.5 & 800.0 \\\\\n",
       "\t10 & 1 & 10 & 323 & 108 & 3 & 3.5 & 3.0 & 8.6 & 0 & 0.45 & 860.0 \\\\\n",
       "\t11 & 1 & 11 & 325 & 106 & 3 & 3.5 & 4.0 & 8.4 & 1 & 0.52 & 840.0 \\\\\n",
       "\t12 & 1 & 12 & 327 & 111 & 4 & 4.0 & 4.5 & 9.0 & 1 & 0.84 & 900.0 \\\\\n",
       "\t13 & 1 & 13 & 328 & 112 & 4 & 4.0 & 4.5 & 9.1 & 1 & 0.78 & 910.0 \\\\\n",
       "\t14 & 1 & 14 & 307 & 109 & 3 & 4.0 & 3.0 & 8.0 & 1 & 0.62 & 800.0 \\\\\n",
       "\t15 & 1 & 15 & 311 & 104 & 3 & 3.5 & 2.0 & 8.2 & 1 & 0.61 & 820.0 \\\\\n",
       "\t16 & 1 & 16 & 314 & 105 & 3 & 3.5 & 2.5 & 8.3 & 0 & 0.54 & 830.0 \\\\\n",
       "\t17 & 1 & 17 & 317 & 107 & 3 & 4.0 & 3.0 & 8.7 & 0 & 0.66 & 870.0 \\\\\n",
       "\t18 & 1 & 18 & 319 & 106 & 3 & 4.0 & 3.0 & 8.0 & 1 & 0.65 & 800.0 \\\\\n",
       "\t19 & 1 & 19 & 318 & 110 & 3 & 4.0 & 3.0 & 8.8 & 0 & 0.63 & 880.0 \\\\\n",
       "\t20 & 1 & 20 & 303 & 102 & 3 & 3.5 & 3.0 & 8.5 & 0 & 0.62 & 850.0 \\\\\n",
       "\t21 & 1 & 21 & 312 & 107 & 3 & 3.0 & 2.0 & 7.9 & 1 & 0.64 & 790.0 \\\\\n",
       "\t22 & 1 & 22 & 325 & 114 & 4 & 3.0 & 2.0 & 8.4 & 0 & 0.7 & 840.0 \\\\\n",
       "\t23 & 1 & 23 & 328 & 116 & 5 & 5.0 & 5.0 & 9.5 & 1 & 0.94 & 950.0 \\\\\n",
       "\t24 & 1 & 24 & 334 & 119 & 5 & 5.0 & 4.5 & 9.7 & 1 & 0.95 & 970.0 \\\\\n",
       "\t25 & 1 & 25 & 336 & 119 & 5 & 4.0 & 3.5 & 9.8 & 1 & 0.97 & 980.0 \\\\\n",
       "\t26 & 1 & 26 & 340 & 120 & 5 & 4.5 & 4.5 & 9.6 & 1 & 0.94 & 960.0 \\\\\n",
       "\t27 & 1 & 27 & 322 & 109 & 5 & 4.5 & 3.5 & 8.8 & 0 & 0.76 & 880.0 \\\\\n",
       "\t28 & 1 & 28 & 298 & 98 & 2 & 1.5 & 2.5 & 7.5 & 1 & 0.44 & 750.0 \\\\\n",
       "\t29 & 1 & 29 & 295 & 93 & 1 & 2.0 & 2.0 & 7.2 & 0 & 0.46 & 720.0 \\\\\n",
       "\t30 & 1 & 30 & 310 & 99 & 2 & 1.5 & 2.0 & 7.3 & 0 & 0.54 & 730.0 \\\\\n",
       "\t31 & 1 & 31 & 300 & 97 & 2 & 3.0 & 3.0 & 8.1 & 1 & 0.65 & 810.0 \\\\\n",
       "\t32 & 1 & 32 & 327 & 103 & 3 & 4.0 & 4.0 & 8.3 & 1 & 0.74 & 830.0 \\\\\n",
       "\t33 & 1 & 33 & 338 & 118 & 4 & 3.0 & 4.5 & 9.4 & 1 & 0.91 & 940.0 \\\\\n",
       "\t34 & 1 & 34 & 340 & 114 & 5 & 4.0 & 4.0 & 9.6 & 1 & 0.9 & 960.0 \\\\\n",
       "\t35 & 1 & 35 & 331 & 112 & 5 & 4.0 & 5.0 & 9.8 & 1 & 0.94 & 980.0 \\\\\n",
       "\t36 & 1 & 36 & 320 & 110 & 5 & 5.0 & 5.0 & 9.2 & 1 & 0.88 & 920.0 \\\\\n",
       "\t37 & 1 & 37 & 299 & 106 & 2 & 4.0 & 4.0 & 8.4 & 0 & 0.64 & 840.0 \\\\\n",
       "\t38 & 1 & 38 & 300 & 105 & 1 & 1.0 & 2.0 & 7.8 & 0 & 0.58 & 780.0 \\\\\n",
       "\t39 & 1 & 39 & 304 & 105 & 1 & 3.0 & 1.5 & 7.5 & 0 & 0.52 & 750.0 \\\\\n",
       "\t40 & 1 & 40 & 307 & 108 & 2 & 4.0 & 3.5 & 7.7 & 0 & 0.48 & 770.0 \\\\\n",
       "\t41 & 1 & 41 & 308 & 110 & 3 & 3.5 & 3.0 & 8.0 & 1 & 0.46 & 800.0 \\\\\n",
       "\t42 & 1 & 42 & 316 & 105 & 2 & 2.5 & 2.5 & 8.2 & 1 & 0.49 & 820.0 \\\\\n",
       "\t43 & 1 & 43 & 313 & 107 & 2 & 2.5 & 2.0 & 8.5 & 1 & 0.53 & 850.0 \\\\\n",
       "\t44 & 1 & 44 & 332 & 117 & 4 & 4.5 & 4.0 & 9.1 & 0 & 0.87 & 910.0 \\\\\n",
       "\t45 & 1 & 45 & 326 & 113 & 5 & 4.5 & 4.0 & 9.4 & 1 & 0.91 & 940.0 \\\\\n",
       "\t46 & 1 & 46 & 322 & 110 & 5 & 5.0 & 4.0 & 9.1 & 1 & 0.88 & 910.0 \\\\\n",
       "\t47 & 1 & 47 & 329 & 114 & 5 & 4.0 & 5.0 & 9.3 & 1 & 0.86 & 930.0 \\\\\n",
       "\t48 & 1 & 48 & 339 & 119 & 5 & 4.5 & 4.0 & 9.7 & 0 & 0.89 & 970.0 \\\\\n",
       "\t49 & 1 & 49 & 321 & 110 & 3 & 3.5 & 5.0 & 8.85 & 1 & 0.82 & 885.0 \\\\\n",
       "\t50 & 1 & 50 & 327 & 111 & 4 & 3.0 & 4.0 & 8.4 & 1 & 0.78 & 840.0 \\\\\n",
       "\t51 & 1 & 51 & 313 & 98 & 3 & 2.5 & 4.5 & 8.3 & 1 & 0.76 & 830.0 \\\\\n",
       "\t52 & 1 & 52 & 312 & 100 & 2 & 1.5 & 3.5 & 7.9 & 1 & 0.56 & 790.0 \\\\\n",
       "\t53 & 1 & 53 & 334 & 116 & 4 & 4.0 & 3.0 & 8.0 & 1 & 0.78 & 800.0 \\\\\n",
       "\t54 & 1 & 54 & 324 & 112 & 4 & 4.0 & 2.5 & 8.1 & 1 & 0.72 & 810.0 \\\\\n",
       "\t55 & 1 & 55 & 322 & 110 & 3 & 3.0 & 3.5 & 8.0 & 0 & 0.7 & 800.0 \\\\\n",
       "\t56 & 1 & 56 & 320 & 103 & 3 & 3.0 & 3.0 & 7.7 & 0 & 0.64 & 770.0 \\\\\n",
       "\t57 & 1 & 57 & 316 & 102 & 3 & 2.0 & 3.0 & 7.4 & 0 & 0.64 & 740.0 \\\\\n",
       "\t58 & 1 & 58 & 298 & 99 & 2 & 4.0 & 2.0 & 7.6 & 0 & 0.46 & 760.0 \\\\\n",
       "\t59 & 1 & 59 & 300 & 99 & 1 & 3.0 & 2.0 & 6.8 & 1 & 0.36 & 680.0 \\\\\n",
       "\t60 & 1 & 60 & 311 & 104 & 2 & 2.0 & 2.0 & 8.3 & 0 & 0.42 & 830.0 \\\\\n",
       "\t61 & 1 & 61 & 309 & 100 & 2 & 3.0 & 3.0 & 8.1 & 0 & 0.48 & 810.0 \\\\\n",
       "\t62 & 1 & 62 & 307 & 101 & 3 & 4.0 & 3.0 & 8.2 & 0 & 0.47 & 820.0 \\\\\n",
       "\t63 & 1 & 63 & 304 & 105 & 2 & 3.0 & 3.0 & 8.2 & 1 & 0.54 & 820.0 \\\\\n",
       "\t64 & 1 & 64 & 315 & 107 & 2 & 4.0 & 3.0 & 8.5 & 1 & 0.56 & 850.0 \\\\\n",
       "\t65 & 1 & 65 & 325 & 111 & 3 & 3.0 & 3.5 & 8.7 & 0 & 0.52 & 870.0 \\\\\n",
       "\t66 & 1 & 66 & 325 & 112 & 4 & 3.5 & 3.5 & 8.92 & 0 & 0.55 & 892.0 \\\\\n",
       "\t67 & 1 & 67 & 327 & 114 & 3 & 3.0 & 3.0 & 9.02 & 0 & 0.61 & 902.0 \\\\\n",
       "\t68 & 1 & 68 & 316 & 107 & 2 & 3.5 & 3.5 & 8.64 & 1 & 0.57 & 864.0 \\\\\n",
       "\t69 & 1 & 69 & 318 & 109 & 3 & 3.5 & 4.0 & 9.22 & 1 & 0.68 & 922.0 \\\\\n",
       "\t70 & 1 & 70 & 328 & 115 & 4 & 4.5 & 4.0 & 9.16 & 1 & 0.78 & 916.0 \\\\\n",
       "\t71 & 1 & 71 & 332 & 118 & 5 & 5.0 & 5.0 & 9.64 & 1 & 0.94 & 964.0 \\\\\n",
       "\t72 & 1 & 72 & 336 & 112 & 5 & 5.0 & 5.0 & 9.76 & 1 & 0.96 & 976.0 \\\\\n",
       "\t73 & 1 & 73 & 321 & 111 & 5 & 5.0 & 5.0 & 9.45 & 1 & 0.93 & 945.0 \\\\\n",
       "\t74 & 1 & 74 & 314 & 108 & 4 & 4.5 & 4.0 & 9.04 & 1 & 0.84 & 904.0 \\\\\n",
       "\t75 & 1 & 75 & 314 & 106 & 3 & 3.0 & 5.0 & 8.9 & 0 & 0.74 & 890.0 \\\\\n",
       "\t76 & 1 & 76 & 329 & 114 & 2 & 2.0 & 4.0 & 8.56 & 1 & 0.72 & 856.0 \\\\\n",
       "\t77 & 1 & 77 & 327 & 112 & 3 & 3.0 & 3.0 & 8.72 & 1 & 0.74 & 872.0 \\\\\n",
       "\t78 & 1 & 78 & 301 & 99 & 2 & 3.0 & 2.0 & 8.22 & 0 & 0.64 & 822.0 \\\\\n",
       "\t79 & 1 & 79 & 296 & 95 & 2 & 3.0 & 2.0 & 7.54 & 1 & 0.44 & 754.0 \\\\\n",
       "\t80 & 1 & 80 & 294 & 93 & 1 & 1.5 & 2.0 & 7.36 & 0 & 0.46 & 736.0 \\\\\n",
       "\t81 & 1 & 81 & 312 & 105 & 3 & 2.0 & 3.0 & 8.02 & 1 & 0.5 & 802.0 \\\\\n",
       "\t82 & 1 & 82 & 340 & 120 & 4 & 5.0 & 5.0 & 9.5 & 1 & 0.96 & 950.0 \\\\\n",
       "\t83 & 1 & 83 & 320 & 110 & 5 & 5.0 & 4.5 & 9.22 & 1 & 0.92 & 922.0 \\\\\n",
       "\t84 & 1 & 84 & 322 & 115 & 5 & 4.0 & 4.5 & 9.36 & 1 & 0.92 & 936.0 \\\\\n",
       "\t85 & 1 & 85 & 340 & 115 & 5 & 4.5 & 4.5 & 9.45 & 1 & 0.94 & 945.0 \\\\\n",
       "\t86 & 1 & 86 & 319 & 103 & 4 & 4.5 & 3.5 & 8.66 & 0 & 0.76 & 866.0 \\\\\n",
       "\t87 & 1 & 87 & 315 & 106 & 3 & 4.5 & 3.5 & 8.42 & 0 & 0.72 & 842.0 \\\\\n",
       "\t88 & 1 & 88 & 317 & 107 & 2 & 3.5 & 3.0 & 8.28 & 0 & 0.66 & 828.0 \\\\\n",
       "\t89 & 1 & 89 & 314 & 108 & 3 & 4.5 & 3.5 & 8.14 & 0 & 0.64 & 814.0 \\\\\n",
       "\t90 & 1 & 90 & 316 & 109 & 4 & 4.5 & 3.5 & 8.76 & 1 & 0.74 & 876.0 \\\\\n",
       "\t91 & 1 & 91 & 318 & 106 & 2 & 4.0 & 4.0 & 7.92 & 1 & 0.64 & 792.0 \\\\\n",
       "\t92 & 1 & 92 & 299 & 97 & 3 & 5.0 & 3.5 & 7.66 & 0 & 0.38 & 766.0 \\\\\n",
       "\t93 & 1 & 93 & 298 & 98 & 2 & 4.0 & 3.0 & 8.03 & 0 & 0.34 & 803.0 \\\\\n",
       "\t94 & 1 & 94 & 301 & 97 & 2 & 3.0 & 3.0 & 7.88 & 1 & 0.44 & 788.0 \\\\\n",
       "\t95 & 1 & 95 & 303 & 99 & 3 & 2.0 & 2.5 & 7.66 & 0 & 0.36 & 766.0 \\\\\n",
       "\t96 & 1 & 96 & 304 & 100 & 4 & 1.5 & 2.5 & 7.84 & 0 & 0.42 & 784.0 \\\\\n",
       "\t97 & 1 & 97 & 306 & 100 & 2 & 3.0 & 3.0 & 8.0 & 0 & 0.48 & 800.0 \\\\\n",
       "\t98 & 1 & 98 & 331 & 120 & 3 & 4.0 & 4.0 & 8.96 & 1 & 0.86 & 896.0 \\\\\n",
       "\t99 & 1 & 99 & 332 & 119 & 4 & 5.0 & 4.5 & 9.24 & 1 & 0.9 & 924.0 \\\\\n",
       "\t100 & 1 & 100 & 323 & 113 & 3 & 4.0 & 4.0 & 8.88 & 1 & 0.79 & 888.0 \\\\\n",
       "\t$\\dots$ & $\\dots$ & $\\dots$ & $\\dots$ & $\\dots$ & $\\dots$ & $\\dots$ & $\\dots$ & $\\dots$ & $\\dots$ & $\\dots$ & $\\dots$ \\\\\n",
       "\\end{tabular}\n"
      ],
      "text/plain": [
       "\u001b[1m399×11 DataFrame\u001b[0m\n",
       "\u001b[1m Row \u001b[0m│\u001b[1m B     \u001b[0m\u001b[1m Serial No. \u001b[0m\u001b[1m GRE Score \u001b[0m\u001b[1m TOEFL Score \u001b[0m\u001b[1m University Rating \u001b[0m\u001b[1m SOP     \u001b[0m\u001b[1m LOR     \u001b[0m\u001b[1m CGPA    \u001b[0m\u001b[1m Research \u001b[0m\u001b[1m Chance of Admit  \u001b[0m\u001b[1m A       \u001b[0m\n",
       "\u001b[1m     \u001b[0m│\u001b[90m Int64 \u001b[0m\u001b[90m Int64      \u001b[0m\u001b[90m Int64     \u001b[0m\u001b[90m Int64       \u001b[0m\u001b[90m Int64             \u001b[0m\u001b[90m Float64 \u001b[0m\u001b[90m Float64 \u001b[0m\u001b[90m Float64 \u001b[0m\u001b[90m Int64    \u001b[0m\u001b[90m Float64          \u001b[0m\u001b[90m Float64 \u001b[0m\n",
       "─────┼──────────────────────────────────────────────────────────────────────────────────────────────────────────────────────────────\n",
       "   1 │     1           1        337          118                  4      4.5      4.5     9.65         1              0.92    965.0\n",
       "   2 │     1           2        324          107                  4      4.0      4.5     8.87         1              0.76    887.0\n",
       "   3 │     1           3        316          104                  3      3.0      3.5     8.0          1              0.72    800.0\n",
       "   4 │     1           4        322          110                  3      3.5      2.5     8.67         1              0.8     867.0\n",
       "   5 │     1           5        314          103                  2      2.0      3.0     8.21         0              0.65    821.0\n",
       "   6 │     1           6        330          115                  5      4.5      3.0     9.34         1              0.9     934.0\n",
       "   7 │     1           7        321          109                  3      3.0      4.0     8.2          1              0.75    820.0\n",
       "   8 │     1           8        308          101                  2      3.0      4.0     7.9          0              0.68    790.0\n",
       "   9 │     1           9        302          102                  1      2.0      1.5     8.0          0              0.5     800.0\n",
       "  10 │     1          10        323          108                  3      3.5      3.0     8.6          0              0.45    860.0\n",
       "  11 │     1          11        325          106                  3      3.5      4.0     8.4          1              0.52    840.0\n",
       "  12 │     1          12        327          111                  4      4.0      4.5     9.0          1              0.84    900.0\n",
       "  13 │     1          13        328          112                  4      4.0      4.5     9.1          1              0.78    910.0\n",
       "  14 │     1          14        307          109                  3      4.0      3.0     8.0          1              0.62    800.0\n",
       "  15 │     1          15        311          104                  3      3.5      2.0     8.2          1              0.61    820.0\n",
       "  16 │     1          16        314          105                  3      3.5      2.5     8.3          0              0.54    830.0\n",
       "  17 │     1          17        317          107                  3      4.0      3.0     8.7          0              0.66    870.0\n",
       "  18 │     1          18        319          106                  3      4.0      3.0     8.0          1              0.65    800.0\n",
       "  19 │     1          19        318          110                  3      4.0      3.0     8.8          0              0.63    880.0\n",
       "  20 │     1          20        303          102                  3      3.5      3.0     8.5          0              0.62    850.0\n",
       "  21 │     1          21        312          107                  3      3.0      2.0     7.9          1              0.64    790.0\n",
       "  22 │     1          22        325          114                  4      3.0      2.0     8.4          0              0.7     840.0\n",
       "  23 │     1          23        328          116                  5      5.0      5.0     9.5          1              0.94    950.0\n",
       "  24 │     1          24        334          119                  5      5.0      4.5     9.7          1              0.95    970.0\n",
       "  25 │     1          25        336          119                  5      4.0      3.5     9.8          1              0.97    980.0\n",
       "  26 │     1          26        340          120                  5      4.5      4.5     9.6          1              0.94    960.0\n",
       "  27 │     1          27        322          109                  5      4.5      3.5     8.8          0              0.76    880.0\n",
       "  28 │     1          28        298           98                  2      1.5      2.5     7.5          1              0.44    750.0\n",
       "  29 │     1          29        295           93                  1      2.0      2.0     7.2          0              0.46    720.0\n",
       "  30 │     1          30        310           99                  2      1.5      2.0     7.3          0              0.54    730.0\n",
       "  31 │     1          31        300           97                  2      3.0      3.0     8.1          1              0.65    810.0\n",
       "  32 │     1          32        327          103                  3      4.0      4.0     8.3          1              0.74    830.0\n",
       "  33 │     1          33        338          118                  4      3.0      4.5     9.4          1              0.91    940.0\n",
       "  34 │     1          34        340          114                  5      4.0      4.0     9.6          1              0.9     960.0\n",
       "  35 │     1          35        331          112                  5      4.0      5.0     9.8          1              0.94    980.0\n",
       "  36 │     1          36        320          110                  5      5.0      5.0     9.2          1              0.88    920.0\n",
       "  37 │     1          37        299          106                  2      4.0      4.0     8.4          0              0.64    840.0\n",
       "  38 │     1          38        300          105                  1      1.0      2.0     7.8          0              0.58    780.0\n",
       "  39 │     1          39        304          105                  1      3.0      1.5     7.5          0              0.52    750.0\n",
       "  40 │     1          40        307          108                  2      4.0      3.5     7.7          0              0.48    770.0\n",
       "  41 │     1          41        308          110                  3      3.5      3.0     8.0          1              0.46    800.0\n",
       "  42 │     1          42        316          105                  2      2.5      2.5     8.2          1              0.49    820.0\n",
       "  43 │     1          43        313          107                  2      2.5      2.0     8.5          1              0.53    850.0\n",
       "  44 │     1          44        332          117                  4      4.5      4.0     9.1          0              0.87    910.0\n",
       "  45 │     1          45        326          113                  5      4.5      4.0     9.4          1              0.91    940.0\n",
       "  46 │     1          46        322          110                  5      5.0      4.0     9.1          1              0.88    910.0\n",
       "  ⋮  │   ⋮        ⋮           ⋮           ⋮               ⋮             ⋮        ⋮        ⋮        ⋮             ⋮             ⋮\n",
       " 355 │     1         355        297           98                  2      2.5      3.0     7.67         0              0.59    767.0\n",
       " 356 │     1         356        317          106                  2      2.0      3.5     8.12         0              0.73    812.0\n",
       " 357 │     1         357        327          109                  3      3.5      4.0     8.77         1              0.79    877.0\n",
       " 358 │     1         358        301          104                  2      3.5      3.5     7.89         1              0.68    789.0\n",
       " 359 │     1         359        314          105                  2      2.5      2.0     7.64         0              0.7     764.0\n",
       " 360 │     1         360        321          107                  2      2.0      1.5     8.44         0              0.81    844.0\n",
       " 361 │     1         361        322          110                  3      4.0      5.0     8.64         1              0.85    864.0\n",
       " 362 │     1         362        334          116                  4      4.0      3.5     9.54         1              0.93    954.0\n",
       " 363 │     1         363        338          115                  5      4.5      5.0     9.23         1              0.91    923.0\n",
       " 364 │     1         364        306          103                  2      2.5      3.0     8.36         0              0.69    836.0\n",
       " 365 │     1         365        313          102                  3      3.5      4.0     8.9          1              0.77    890.0\n",
       " 366 │     1         366        330          114                  4      4.5      3.0     9.17         1              0.86    917.0\n",
       " 367 │     1         367        320          104                  3      3.5      4.5     8.34         1              0.74    834.0\n",
       " 368 │     1         368        311           98                  1      1.0      2.5     7.46         0              0.57    746.0\n",
       " 369 │     1         369        298           92                  1      2.0      2.0     7.88         0              0.51    788.0\n",
       " 370 │     1         370        301           98                  1      2.0      3.0     8.03         1              0.67    803.0\n",
       " 371 │     1         371        310          103                  2      2.5      2.5     8.24         0              0.72    824.0\n",
       " 372 │     1         372        324          110                  3      3.5      3.0     9.22         1              0.89    922.0\n",
       " 373 │     1         373        336          119                  4      4.5      4.0     9.62         1              0.95    962.0\n",
       " 374 │     1         374        321          109                  3      3.0      3.0     8.54         1              0.79    854.0\n",
       " 375 │     1         375        315          105                  2      2.0      2.5     7.65         0              0.39    765.0\n",
       " 376 │     1         376        304          101                  2      2.0      2.5     7.66         0              0.38    766.0\n",
       " 377 │     1         377        297           96                  2      2.5      2.0     7.43         0              0.34    743.0\n",
       " 378 │     1         378        290          100                  1      1.5      2.0     7.56         0              0.47    756.0\n",
       " 379 │     1         379        303           98                  1      2.0      2.5     7.65         0              0.56    765.0\n",
       " 380 │     1         380        311           99                  1      2.5      3.0     8.43         1              0.71    843.0\n",
       " 381 │     1         381        322          104                  3      3.5      4.0     8.84         1              0.78    884.0\n",
       " 382 │     1         382        319          105                  3      3.0      3.5     8.67         1              0.73    867.0\n",
       " 383 │     1         383        324          110                  4      4.5      4.0     9.15         1              0.82    915.0\n",
       " 384 │     1         384        300          100                  3      3.0      3.5     8.26         0              0.62    826.0\n",
       " 385 │     1         385        340          113                  4      5.0      5.0     9.74         1              0.96    974.0\n",
       " 386 │     1         386        335          117                  5      5.0      5.0     9.82         1              0.96    982.0\n",
       " 387 │     1         387        302          101                  2      2.5      3.5     7.96         0              0.46    796.0\n",
       " 388 │     1         388        307          105                  2      2.0      3.5     8.1          0              0.53    810.0\n",
       " 389 │     1         389        296           97                  2      1.5      2.0     7.8          0              0.49    780.0\n",
       " 390 │     1         390        320          108                  3      3.5      4.0     8.44         1              0.76    844.0\n",
       " 391 │     1         391        314          102                  2      2.0      2.5     8.24         0              0.64    824.0\n",
       " 392 │     1         392        318          106                  3      2.0      3.0     8.65         0              0.71    865.0\n",
       " 393 │     1         393        326          112                  4      4.0      3.5     9.12         1              0.84    912.0\n",
       " 394 │     1         394        317          104                  2      3.0      3.0     8.76         0              0.77    876.0\n",
       " 395 │     1         395        329          111                  4      4.5      4.0     9.23         1              0.89    923.0\n",
       " 396 │     1         396        324          110                  3      3.5      3.5     9.04         1              0.82    904.0\n",
       " 397 │     1         397        325          107                  3      3.0      3.5     9.11         1              0.84    911.0\n",
       " 398 │     1         398        330          116                  4      5.0      4.5     9.45         1              0.91    945.0\n",
       " 399 │     1         399        312          103                  3      3.5      4.0     8.78         0              0.67    878.0\n",
       "\u001b[36m                                                                                                                    308 rows omitted\u001b[0m"
      ]
     },
     "execution_count": 55,
     "metadata": {},
     "output_type": "execute_result"
    }
   ],
   "source": [
    "insertcols!(df, 1, \"B\"=> 1) # Add new columns named \"B\" containing only 1's at the first place"
   ]
  },
  {
   "cell_type": "markdown",
   "metadata": {},
   "source": [
    "### Remove columns\n",
    "\n",
    "\n",
    "---\n",
    "\n",
    "In Julia there is no dedicated function for removing columns. So, we need to use `select!()` with `Not()` to remove columns."
   ]
  },
  {
   "cell_type": "code",
   "execution_count": 56,
   "metadata": {
    "ExecuteTime": {
     "end_time": "2021-05-22T12:23:50.493000+04:00",
     "start_time": "2021-05-22T08:23:50.415Z"
    }
   },
   "outputs": [
    {
     "data": {
      "text/html": [
       "<table class=\"data-frame\"><thead><tr><th></th><th>Serial No.</th><th>GRE Score</th><th>TOEFL Score</th><th>University Rating</th><th>SOP</th><th>LOR</th><th>CGPA</th><th>Research</th><th>Chance of Admit </th></tr><tr><th></th><th>Int64</th><th>Int64</th><th>Int64</th><th>Int64</th><th>Float64</th><th>Float64</th><th>Float64</th><th>Int64</th><th>Float64</th></tr></thead><tbody><p>399 rows × 9 columns</p><tr><th>1</th><td>1</td><td>337</td><td>118</td><td>4</td><td>4.5</td><td>4.5</td><td>9.65</td><td>1</td><td>0.92</td></tr><tr><th>2</th><td>2</td><td>324</td><td>107</td><td>4</td><td>4.0</td><td>4.5</td><td>8.87</td><td>1</td><td>0.76</td></tr><tr><th>3</th><td>3</td><td>316</td><td>104</td><td>3</td><td>3.0</td><td>3.5</td><td>8.0</td><td>1</td><td>0.72</td></tr><tr><th>4</th><td>4</td><td>322</td><td>110</td><td>3</td><td>3.5</td><td>2.5</td><td>8.67</td><td>1</td><td>0.8</td></tr><tr><th>5</th><td>5</td><td>314</td><td>103</td><td>2</td><td>2.0</td><td>3.0</td><td>8.21</td><td>0</td><td>0.65</td></tr><tr><th>6</th><td>6</td><td>330</td><td>115</td><td>5</td><td>4.5</td><td>3.0</td><td>9.34</td><td>1</td><td>0.9</td></tr><tr><th>7</th><td>7</td><td>321</td><td>109</td><td>3</td><td>3.0</td><td>4.0</td><td>8.2</td><td>1</td><td>0.75</td></tr><tr><th>8</th><td>8</td><td>308</td><td>101</td><td>2</td><td>3.0</td><td>4.0</td><td>7.9</td><td>0</td><td>0.68</td></tr><tr><th>9</th><td>9</td><td>302</td><td>102</td><td>1</td><td>2.0</td><td>1.5</td><td>8.0</td><td>0</td><td>0.5</td></tr><tr><th>10</th><td>10</td><td>323</td><td>108</td><td>3</td><td>3.5</td><td>3.0</td><td>8.6</td><td>0</td><td>0.45</td></tr><tr><th>11</th><td>11</td><td>325</td><td>106</td><td>3</td><td>3.5</td><td>4.0</td><td>8.4</td><td>1</td><td>0.52</td></tr><tr><th>12</th><td>12</td><td>327</td><td>111</td><td>4</td><td>4.0</td><td>4.5</td><td>9.0</td><td>1</td><td>0.84</td></tr><tr><th>13</th><td>13</td><td>328</td><td>112</td><td>4</td><td>4.0</td><td>4.5</td><td>9.1</td><td>1</td><td>0.78</td></tr><tr><th>14</th><td>14</td><td>307</td><td>109</td><td>3</td><td>4.0</td><td>3.0</td><td>8.0</td><td>1</td><td>0.62</td></tr><tr><th>15</th><td>15</td><td>311</td><td>104</td><td>3</td><td>3.5</td><td>2.0</td><td>8.2</td><td>1</td><td>0.61</td></tr><tr><th>16</th><td>16</td><td>314</td><td>105</td><td>3</td><td>3.5</td><td>2.5</td><td>8.3</td><td>0</td><td>0.54</td></tr><tr><th>17</th><td>17</td><td>317</td><td>107</td><td>3</td><td>4.0</td><td>3.0</td><td>8.7</td><td>0</td><td>0.66</td></tr><tr><th>18</th><td>18</td><td>319</td><td>106</td><td>3</td><td>4.0</td><td>3.0</td><td>8.0</td><td>1</td><td>0.65</td></tr><tr><th>19</th><td>19</td><td>318</td><td>110</td><td>3</td><td>4.0</td><td>3.0</td><td>8.8</td><td>0</td><td>0.63</td></tr><tr><th>20</th><td>20</td><td>303</td><td>102</td><td>3</td><td>3.5</td><td>3.0</td><td>8.5</td><td>0</td><td>0.62</td></tr><tr><th>21</th><td>21</td><td>312</td><td>107</td><td>3</td><td>3.0</td><td>2.0</td><td>7.9</td><td>1</td><td>0.64</td></tr><tr><th>22</th><td>22</td><td>325</td><td>114</td><td>4</td><td>3.0</td><td>2.0</td><td>8.4</td><td>0</td><td>0.7</td></tr><tr><th>23</th><td>23</td><td>328</td><td>116</td><td>5</td><td>5.0</td><td>5.0</td><td>9.5</td><td>1</td><td>0.94</td></tr><tr><th>24</th><td>24</td><td>334</td><td>119</td><td>5</td><td>5.0</td><td>4.5</td><td>9.7</td><td>1</td><td>0.95</td></tr><tr><th>25</th><td>25</td><td>336</td><td>119</td><td>5</td><td>4.0</td><td>3.5</td><td>9.8</td><td>1</td><td>0.97</td></tr><tr><th>26</th><td>26</td><td>340</td><td>120</td><td>5</td><td>4.5</td><td>4.5</td><td>9.6</td><td>1</td><td>0.94</td></tr><tr><th>27</th><td>27</td><td>322</td><td>109</td><td>5</td><td>4.5</td><td>3.5</td><td>8.8</td><td>0</td><td>0.76</td></tr><tr><th>28</th><td>28</td><td>298</td><td>98</td><td>2</td><td>1.5</td><td>2.5</td><td>7.5</td><td>1</td><td>0.44</td></tr><tr><th>29</th><td>29</td><td>295</td><td>93</td><td>1</td><td>2.0</td><td>2.0</td><td>7.2</td><td>0</td><td>0.46</td></tr><tr><th>30</th><td>30</td><td>310</td><td>99</td><td>2</td><td>1.5</td><td>2.0</td><td>7.3</td><td>0</td><td>0.54</td></tr><tr><th>31</th><td>31</td><td>300</td><td>97</td><td>2</td><td>3.0</td><td>3.0</td><td>8.1</td><td>1</td><td>0.65</td></tr><tr><th>32</th><td>32</td><td>327</td><td>103</td><td>3</td><td>4.0</td><td>4.0</td><td>8.3</td><td>1</td><td>0.74</td></tr><tr><th>33</th><td>33</td><td>338</td><td>118</td><td>4</td><td>3.0</td><td>4.5</td><td>9.4</td><td>1</td><td>0.91</td></tr><tr><th>34</th><td>34</td><td>340</td><td>114</td><td>5</td><td>4.0</td><td>4.0</td><td>9.6</td><td>1</td><td>0.9</td></tr><tr><th>35</th><td>35</td><td>331</td><td>112</td><td>5</td><td>4.0</td><td>5.0</td><td>9.8</td><td>1</td><td>0.94</td></tr><tr><th>36</th><td>36</td><td>320</td><td>110</td><td>5</td><td>5.0</td><td>5.0</td><td>9.2</td><td>1</td><td>0.88</td></tr><tr><th>37</th><td>37</td><td>299</td><td>106</td><td>2</td><td>4.0</td><td>4.0</td><td>8.4</td><td>0</td><td>0.64</td></tr><tr><th>38</th><td>38</td><td>300</td><td>105</td><td>1</td><td>1.0</td><td>2.0</td><td>7.8</td><td>0</td><td>0.58</td></tr><tr><th>39</th><td>39</td><td>304</td><td>105</td><td>1</td><td>3.0</td><td>1.5</td><td>7.5</td><td>0</td><td>0.52</td></tr><tr><th>40</th><td>40</td><td>307</td><td>108</td><td>2</td><td>4.0</td><td>3.5</td><td>7.7</td><td>0</td><td>0.48</td></tr><tr><th>41</th><td>41</td><td>308</td><td>110</td><td>3</td><td>3.5</td><td>3.0</td><td>8.0</td><td>1</td><td>0.46</td></tr><tr><th>42</th><td>42</td><td>316</td><td>105</td><td>2</td><td>2.5</td><td>2.5</td><td>8.2</td><td>1</td><td>0.49</td></tr><tr><th>43</th><td>43</td><td>313</td><td>107</td><td>2</td><td>2.5</td><td>2.0</td><td>8.5</td><td>1</td><td>0.53</td></tr><tr><th>44</th><td>44</td><td>332</td><td>117</td><td>4</td><td>4.5</td><td>4.0</td><td>9.1</td><td>0</td><td>0.87</td></tr><tr><th>45</th><td>45</td><td>326</td><td>113</td><td>5</td><td>4.5</td><td>4.0</td><td>9.4</td><td>1</td><td>0.91</td></tr><tr><th>46</th><td>46</td><td>322</td><td>110</td><td>5</td><td>5.0</td><td>4.0</td><td>9.1</td><td>1</td><td>0.88</td></tr><tr><th>47</th><td>47</td><td>329</td><td>114</td><td>5</td><td>4.0</td><td>5.0</td><td>9.3</td><td>1</td><td>0.86</td></tr><tr><th>48</th><td>48</td><td>339</td><td>119</td><td>5</td><td>4.5</td><td>4.0</td><td>9.7</td><td>0</td><td>0.89</td></tr><tr><th>49</th><td>49</td><td>321</td><td>110</td><td>3</td><td>3.5</td><td>5.0</td><td>8.85</td><td>1</td><td>0.82</td></tr><tr><th>50</th><td>50</td><td>327</td><td>111</td><td>4</td><td>3.0</td><td>4.0</td><td>8.4</td><td>1</td><td>0.78</td></tr><tr><th>51</th><td>51</td><td>313</td><td>98</td><td>3</td><td>2.5</td><td>4.5</td><td>8.3</td><td>1</td><td>0.76</td></tr><tr><th>52</th><td>52</td><td>312</td><td>100</td><td>2</td><td>1.5</td><td>3.5</td><td>7.9</td><td>1</td><td>0.56</td></tr><tr><th>53</th><td>53</td><td>334</td><td>116</td><td>4</td><td>4.0</td><td>3.0</td><td>8.0</td><td>1</td><td>0.78</td></tr><tr><th>54</th><td>54</td><td>324</td><td>112</td><td>4</td><td>4.0</td><td>2.5</td><td>8.1</td><td>1</td><td>0.72</td></tr><tr><th>55</th><td>55</td><td>322</td><td>110</td><td>3</td><td>3.0</td><td>3.5</td><td>8.0</td><td>0</td><td>0.7</td></tr><tr><th>56</th><td>56</td><td>320</td><td>103</td><td>3</td><td>3.0</td><td>3.0</td><td>7.7</td><td>0</td><td>0.64</td></tr><tr><th>57</th><td>57</td><td>316</td><td>102</td><td>3</td><td>2.0</td><td>3.0</td><td>7.4</td><td>0</td><td>0.64</td></tr><tr><th>58</th><td>58</td><td>298</td><td>99</td><td>2</td><td>4.0</td><td>2.0</td><td>7.6</td><td>0</td><td>0.46</td></tr><tr><th>59</th><td>59</td><td>300</td><td>99</td><td>1</td><td>3.0</td><td>2.0</td><td>6.8</td><td>1</td><td>0.36</td></tr><tr><th>60</th><td>60</td><td>311</td><td>104</td><td>2</td><td>2.0</td><td>2.0</td><td>8.3</td><td>0</td><td>0.42</td></tr><tr><th>61</th><td>61</td><td>309</td><td>100</td><td>2</td><td>3.0</td><td>3.0</td><td>8.1</td><td>0</td><td>0.48</td></tr><tr><th>62</th><td>62</td><td>307</td><td>101</td><td>3</td><td>4.0</td><td>3.0</td><td>8.2</td><td>0</td><td>0.47</td></tr><tr><th>63</th><td>63</td><td>304</td><td>105</td><td>2</td><td>3.0</td><td>3.0</td><td>8.2</td><td>1</td><td>0.54</td></tr><tr><th>64</th><td>64</td><td>315</td><td>107</td><td>2</td><td>4.0</td><td>3.0</td><td>8.5</td><td>1</td><td>0.56</td></tr><tr><th>65</th><td>65</td><td>325</td><td>111</td><td>3</td><td>3.0</td><td>3.5</td><td>8.7</td><td>0</td><td>0.52</td></tr><tr><th>66</th><td>66</td><td>325</td><td>112</td><td>4</td><td>3.5</td><td>3.5</td><td>8.92</td><td>0</td><td>0.55</td></tr><tr><th>67</th><td>67</td><td>327</td><td>114</td><td>3</td><td>3.0</td><td>3.0</td><td>9.02</td><td>0</td><td>0.61</td></tr><tr><th>68</th><td>68</td><td>316</td><td>107</td><td>2</td><td>3.5</td><td>3.5</td><td>8.64</td><td>1</td><td>0.57</td></tr><tr><th>69</th><td>69</td><td>318</td><td>109</td><td>3</td><td>3.5</td><td>4.0</td><td>9.22</td><td>1</td><td>0.68</td></tr><tr><th>70</th><td>70</td><td>328</td><td>115</td><td>4</td><td>4.5</td><td>4.0</td><td>9.16</td><td>1</td><td>0.78</td></tr><tr><th>71</th><td>71</td><td>332</td><td>118</td><td>5</td><td>5.0</td><td>5.0</td><td>9.64</td><td>1</td><td>0.94</td></tr><tr><th>72</th><td>72</td><td>336</td><td>112</td><td>5</td><td>5.0</td><td>5.0</td><td>9.76</td><td>1</td><td>0.96</td></tr><tr><th>73</th><td>73</td><td>321</td><td>111</td><td>5</td><td>5.0</td><td>5.0</td><td>9.45</td><td>1</td><td>0.93</td></tr><tr><th>74</th><td>74</td><td>314</td><td>108</td><td>4</td><td>4.5</td><td>4.0</td><td>9.04</td><td>1</td><td>0.84</td></tr><tr><th>75</th><td>75</td><td>314</td><td>106</td><td>3</td><td>3.0</td><td>5.0</td><td>8.9</td><td>0</td><td>0.74</td></tr><tr><th>76</th><td>76</td><td>329</td><td>114</td><td>2</td><td>2.0</td><td>4.0</td><td>8.56</td><td>1</td><td>0.72</td></tr><tr><th>77</th><td>77</td><td>327</td><td>112</td><td>3</td><td>3.0</td><td>3.0</td><td>8.72</td><td>1</td><td>0.74</td></tr><tr><th>78</th><td>78</td><td>301</td><td>99</td><td>2</td><td>3.0</td><td>2.0</td><td>8.22</td><td>0</td><td>0.64</td></tr><tr><th>79</th><td>79</td><td>296</td><td>95</td><td>2</td><td>3.0</td><td>2.0</td><td>7.54</td><td>1</td><td>0.44</td></tr><tr><th>80</th><td>80</td><td>294</td><td>93</td><td>1</td><td>1.5</td><td>2.0</td><td>7.36</td><td>0</td><td>0.46</td></tr><tr><th>81</th><td>81</td><td>312</td><td>105</td><td>3</td><td>2.0</td><td>3.0</td><td>8.02</td><td>1</td><td>0.5</td></tr><tr><th>82</th><td>82</td><td>340</td><td>120</td><td>4</td><td>5.0</td><td>5.0</td><td>9.5</td><td>1</td><td>0.96</td></tr><tr><th>83</th><td>83</td><td>320</td><td>110</td><td>5</td><td>5.0</td><td>4.5</td><td>9.22</td><td>1</td><td>0.92</td></tr><tr><th>84</th><td>84</td><td>322</td><td>115</td><td>5</td><td>4.0</td><td>4.5</td><td>9.36</td><td>1</td><td>0.92</td></tr><tr><th>85</th><td>85</td><td>340</td><td>115</td><td>5</td><td>4.5</td><td>4.5</td><td>9.45</td><td>1</td><td>0.94</td></tr><tr><th>86</th><td>86</td><td>319</td><td>103</td><td>4</td><td>4.5</td><td>3.5</td><td>8.66</td><td>0</td><td>0.76</td></tr><tr><th>87</th><td>87</td><td>315</td><td>106</td><td>3</td><td>4.5</td><td>3.5</td><td>8.42</td><td>0</td><td>0.72</td></tr><tr><th>88</th><td>88</td><td>317</td><td>107</td><td>2</td><td>3.5</td><td>3.0</td><td>8.28</td><td>0</td><td>0.66</td></tr><tr><th>89</th><td>89</td><td>314</td><td>108</td><td>3</td><td>4.5</td><td>3.5</td><td>8.14</td><td>0</td><td>0.64</td></tr><tr><th>90</th><td>90</td><td>316</td><td>109</td><td>4</td><td>4.5</td><td>3.5</td><td>8.76</td><td>1</td><td>0.74</td></tr><tr><th>91</th><td>91</td><td>318</td><td>106</td><td>2</td><td>4.0</td><td>4.0</td><td>7.92</td><td>1</td><td>0.64</td></tr><tr><th>92</th><td>92</td><td>299</td><td>97</td><td>3</td><td>5.0</td><td>3.5</td><td>7.66</td><td>0</td><td>0.38</td></tr><tr><th>93</th><td>93</td><td>298</td><td>98</td><td>2</td><td>4.0</td><td>3.0</td><td>8.03</td><td>0</td><td>0.34</td></tr><tr><th>94</th><td>94</td><td>301</td><td>97</td><td>2</td><td>3.0</td><td>3.0</td><td>7.88</td><td>1</td><td>0.44</td></tr><tr><th>95</th><td>95</td><td>303</td><td>99</td><td>3</td><td>2.0</td><td>2.5</td><td>7.66</td><td>0</td><td>0.36</td></tr><tr><th>96</th><td>96</td><td>304</td><td>100</td><td>4</td><td>1.5</td><td>2.5</td><td>7.84</td><td>0</td><td>0.42</td></tr><tr><th>97</th><td>97</td><td>306</td><td>100</td><td>2</td><td>3.0</td><td>3.0</td><td>8.0</td><td>0</td><td>0.48</td></tr><tr><th>98</th><td>98</td><td>331</td><td>120</td><td>3</td><td>4.0</td><td>4.0</td><td>8.96</td><td>1</td><td>0.86</td></tr><tr><th>99</th><td>99</td><td>332</td><td>119</td><td>4</td><td>5.0</td><td>4.5</td><td>9.24</td><td>1</td><td>0.9</td></tr><tr><th>100</th><td>100</td><td>323</td><td>113</td><td>3</td><td>4.0</td><td>4.0</td><td>8.88</td><td>1</td><td>0.79</td></tr><tr><th>&vellip;</th><td>&vellip;</td><td>&vellip;</td><td>&vellip;</td><td>&vellip;</td><td>&vellip;</td><td>&vellip;</td><td>&vellip;</td><td>&vellip;</td><td>&vellip;</td></tr></tbody></table>"
      ],
      "text/latex": [
       "\\begin{tabular}{r|ccccccccc}\n",
       "\t& Serial No. & GRE Score & TOEFL Score & University Rating & SOP & LOR & CGPA & Research & Chance of Admit \\\\\n",
       "\t\\hline\n",
       "\t& Int64 & Int64 & Int64 & Int64 & Float64 & Float64 & Float64 & Int64 & Float64\\\\\n",
       "\t\\hline\n",
       "\t1 & 1 & 337 & 118 & 4 & 4.5 & 4.5 & 9.65 & 1 & 0.92 \\\\\n",
       "\t2 & 2 & 324 & 107 & 4 & 4.0 & 4.5 & 8.87 & 1 & 0.76 \\\\\n",
       "\t3 & 3 & 316 & 104 & 3 & 3.0 & 3.5 & 8.0 & 1 & 0.72 \\\\\n",
       "\t4 & 4 & 322 & 110 & 3 & 3.5 & 2.5 & 8.67 & 1 & 0.8 \\\\\n",
       "\t5 & 5 & 314 & 103 & 2 & 2.0 & 3.0 & 8.21 & 0 & 0.65 \\\\\n",
       "\t6 & 6 & 330 & 115 & 5 & 4.5 & 3.0 & 9.34 & 1 & 0.9 \\\\\n",
       "\t7 & 7 & 321 & 109 & 3 & 3.0 & 4.0 & 8.2 & 1 & 0.75 \\\\\n",
       "\t8 & 8 & 308 & 101 & 2 & 3.0 & 4.0 & 7.9 & 0 & 0.68 \\\\\n",
       "\t9 & 9 & 302 & 102 & 1 & 2.0 & 1.5 & 8.0 & 0 & 0.5 \\\\\n",
       "\t10 & 10 & 323 & 108 & 3 & 3.5 & 3.0 & 8.6 & 0 & 0.45 \\\\\n",
       "\t11 & 11 & 325 & 106 & 3 & 3.5 & 4.0 & 8.4 & 1 & 0.52 \\\\\n",
       "\t12 & 12 & 327 & 111 & 4 & 4.0 & 4.5 & 9.0 & 1 & 0.84 \\\\\n",
       "\t13 & 13 & 328 & 112 & 4 & 4.0 & 4.5 & 9.1 & 1 & 0.78 \\\\\n",
       "\t14 & 14 & 307 & 109 & 3 & 4.0 & 3.0 & 8.0 & 1 & 0.62 \\\\\n",
       "\t15 & 15 & 311 & 104 & 3 & 3.5 & 2.0 & 8.2 & 1 & 0.61 \\\\\n",
       "\t16 & 16 & 314 & 105 & 3 & 3.5 & 2.5 & 8.3 & 0 & 0.54 \\\\\n",
       "\t17 & 17 & 317 & 107 & 3 & 4.0 & 3.0 & 8.7 & 0 & 0.66 \\\\\n",
       "\t18 & 18 & 319 & 106 & 3 & 4.0 & 3.0 & 8.0 & 1 & 0.65 \\\\\n",
       "\t19 & 19 & 318 & 110 & 3 & 4.0 & 3.0 & 8.8 & 0 & 0.63 \\\\\n",
       "\t20 & 20 & 303 & 102 & 3 & 3.5 & 3.0 & 8.5 & 0 & 0.62 \\\\\n",
       "\t21 & 21 & 312 & 107 & 3 & 3.0 & 2.0 & 7.9 & 1 & 0.64 \\\\\n",
       "\t22 & 22 & 325 & 114 & 4 & 3.0 & 2.0 & 8.4 & 0 & 0.7 \\\\\n",
       "\t23 & 23 & 328 & 116 & 5 & 5.0 & 5.0 & 9.5 & 1 & 0.94 \\\\\n",
       "\t24 & 24 & 334 & 119 & 5 & 5.0 & 4.5 & 9.7 & 1 & 0.95 \\\\\n",
       "\t25 & 25 & 336 & 119 & 5 & 4.0 & 3.5 & 9.8 & 1 & 0.97 \\\\\n",
       "\t26 & 26 & 340 & 120 & 5 & 4.5 & 4.5 & 9.6 & 1 & 0.94 \\\\\n",
       "\t27 & 27 & 322 & 109 & 5 & 4.5 & 3.5 & 8.8 & 0 & 0.76 \\\\\n",
       "\t28 & 28 & 298 & 98 & 2 & 1.5 & 2.5 & 7.5 & 1 & 0.44 \\\\\n",
       "\t29 & 29 & 295 & 93 & 1 & 2.0 & 2.0 & 7.2 & 0 & 0.46 \\\\\n",
       "\t30 & 30 & 310 & 99 & 2 & 1.5 & 2.0 & 7.3 & 0 & 0.54 \\\\\n",
       "\t31 & 31 & 300 & 97 & 2 & 3.0 & 3.0 & 8.1 & 1 & 0.65 \\\\\n",
       "\t32 & 32 & 327 & 103 & 3 & 4.0 & 4.0 & 8.3 & 1 & 0.74 \\\\\n",
       "\t33 & 33 & 338 & 118 & 4 & 3.0 & 4.5 & 9.4 & 1 & 0.91 \\\\\n",
       "\t34 & 34 & 340 & 114 & 5 & 4.0 & 4.0 & 9.6 & 1 & 0.9 \\\\\n",
       "\t35 & 35 & 331 & 112 & 5 & 4.0 & 5.0 & 9.8 & 1 & 0.94 \\\\\n",
       "\t36 & 36 & 320 & 110 & 5 & 5.0 & 5.0 & 9.2 & 1 & 0.88 \\\\\n",
       "\t37 & 37 & 299 & 106 & 2 & 4.0 & 4.0 & 8.4 & 0 & 0.64 \\\\\n",
       "\t38 & 38 & 300 & 105 & 1 & 1.0 & 2.0 & 7.8 & 0 & 0.58 \\\\\n",
       "\t39 & 39 & 304 & 105 & 1 & 3.0 & 1.5 & 7.5 & 0 & 0.52 \\\\\n",
       "\t40 & 40 & 307 & 108 & 2 & 4.0 & 3.5 & 7.7 & 0 & 0.48 \\\\\n",
       "\t41 & 41 & 308 & 110 & 3 & 3.5 & 3.0 & 8.0 & 1 & 0.46 \\\\\n",
       "\t42 & 42 & 316 & 105 & 2 & 2.5 & 2.5 & 8.2 & 1 & 0.49 \\\\\n",
       "\t43 & 43 & 313 & 107 & 2 & 2.5 & 2.0 & 8.5 & 1 & 0.53 \\\\\n",
       "\t44 & 44 & 332 & 117 & 4 & 4.5 & 4.0 & 9.1 & 0 & 0.87 \\\\\n",
       "\t45 & 45 & 326 & 113 & 5 & 4.5 & 4.0 & 9.4 & 1 & 0.91 \\\\\n",
       "\t46 & 46 & 322 & 110 & 5 & 5.0 & 4.0 & 9.1 & 1 & 0.88 \\\\\n",
       "\t47 & 47 & 329 & 114 & 5 & 4.0 & 5.0 & 9.3 & 1 & 0.86 \\\\\n",
       "\t48 & 48 & 339 & 119 & 5 & 4.5 & 4.0 & 9.7 & 0 & 0.89 \\\\\n",
       "\t49 & 49 & 321 & 110 & 3 & 3.5 & 5.0 & 8.85 & 1 & 0.82 \\\\\n",
       "\t50 & 50 & 327 & 111 & 4 & 3.0 & 4.0 & 8.4 & 1 & 0.78 \\\\\n",
       "\t51 & 51 & 313 & 98 & 3 & 2.5 & 4.5 & 8.3 & 1 & 0.76 \\\\\n",
       "\t52 & 52 & 312 & 100 & 2 & 1.5 & 3.5 & 7.9 & 1 & 0.56 \\\\\n",
       "\t53 & 53 & 334 & 116 & 4 & 4.0 & 3.0 & 8.0 & 1 & 0.78 \\\\\n",
       "\t54 & 54 & 324 & 112 & 4 & 4.0 & 2.5 & 8.1 & 1 & 0.72 \\\\\n",
       "\t55 & 55 & 322 & 110 & 3 & 3.0 & 3.5 & 8.0 & 0 & 0.7 \\\\\n",
       "\t56 & 56 & 320 & 103 & 3 & 3.0 & 3.0 & 7.7 & 0 & 0.64 \\\\\n",
       "\t57 & 57 & 316 & 102 & 3 & 2.0 & 3.0 & 7.4 & 0 & 0.64 \\\\\n",
       "\t58 & 58 & 298 & 99 & 2 & 4.0 & 2.0 & 7.6 & 0 & 0.46 \\\\\n",
       "\t59 & 59 & 300 & 99 & 1 & 3.0 & 2.0 & 6.8 & 1 & 0.36 \\\\\n",
       "\t60 & 60 & 311 & 104 & 2 & 2.0 & 2.0 & 8.3 & 0 & 0.42 \\\\\n",
       "\t61 & 61 & 309 & 100 & 2 & 3.0 & 3.0 & 8.1 & 0 & 0.48 \\\\\n",
       "\t62 & 62 & 307 & 101 & 3 & 4.0 & 3.0 & 8.2 & 0 & 0.47 \\\\\n",
       "\t63 & 63 & 304 & 105 & 2 & 3.0 & 3.0 & 8.2 & 1 & 0.54 \\\\\n",
       "\t64 & 64 & 315 & 107 & 2 & 4.0 & 3.0 & 8.5 & 1 & 0.56 \\\\\n",
       "\t65 & 65 & 325 & 111 & 3 & 3.0 & 3.5 & 8.7 & 0 & 0.52 \\\\\n",
       "\t66 & 66 & 325 & 112 & 4 & 3.5 & 3.5 & 8.92 & 0 & 0.55 \\\\\n",
       "\t67 & 67 & 327 & 114 & 3 & 3.0 & 3.0 & 9.02 & 0 & 0.61 \\\\\n",
       "\t68 & 68 & 316 & 107 & 2 & 3.5 & 3.5 & 8.64 & 1 & 0.57 \\\\\n",
       "\t69 & 69 & 318 & 109 & 3 & 3.5 & 4.0 & 9.22 & 1 & 0.68 \\\\\n",
       "\t70 & 70 & 328 & 115 & 4 & 4.5 & 4.0 & 9.16 & 1 & 0.78 \\\\\n",
       "\t71 & 71 & 332 & 118 & 5 & 5.0 & 5.0 & 9.64 & 1 & 0.94 \\\\\n",
       "\t72 & 72 & 336 & 112 & 5 & 5.0 & 5.0 & 9.76 & 1 & 0.96 \\\\\n",
       "\t73 & 73 & 321 & 111 & 5 & 5.0 & 5.0 & 9.45 & 1 & 0.93 \\\\\n",
       "\t74 & 74 & 314 & 108 & 4 & 4.5 & 4.0 & 9.04 & 1 & 0.84 \\\\\n",
       "\t75 & 75 & 314 & 106 & 3 & 3.0 & 5.0 & 8.9 & 0 & 0.74 \\\\\n",
       "\t76 & 76 & 329 & 114 & 2 & 2.0 & 4.0 & 8.56 & 1 & 0.72 \\\\\n",
       "\t77 & 77 & 327 & 112 & 3 & 3.0 & 3.0 & 8.72 & 1 & 0.74 \\\\\n",
       "\t78 & 78 & 301 & 99 & 2 & 3.0 & 2.0 & 8.22 & 0 & 0.64 \\\\\n",
       "\t79 & 79 & 296 & 95 & 2 & 3.0 & 2.0 & 7.54 & 1 & 0.44 \\\\\n",
       "\t80 & 80 & 294 & 93 & 1 & 1.5 & 2.0 & 7.36 & 0 & 0.46 \\\\\n",
       "\t81 & 81 & 312 & 105 & 3 & 2.0 & 3.0 & 8.02 & 1 & 0.5 \\\\\n",
       "\t82 & 82 & 340 & 120 & 4 & 5.0 & 5.0 & 9.5 & 1 & 0.96 \\\\\n",
       "\t83 & 83 & 320 & 110 & 5 & 5.0 & 4.5 & 9.22 & 1 & 0.92 \\\\\n",
       "\t84 & 84 & 322 & 115 & 5 & 4.0 & 4.5 & 9.36 & 1 & 0.92 \\\\\n",
       "\t85 & 85 & 340 & 115 & 5 & 4.5 & 4.5 & 9.45 & 1 & 0.94 \\\\\n",
       "\t86 & 86 & 319 & 103 & 4 & 4.5 & 3.5 & 8.66 & 0 & 0.76 \\\\\n",
       "\t87 & 87 & 315 & 106 & 3 & 4.5 & 3.5 & 8.42 & 0 & 0.72 \\\\\n",
       "\t88 & 88 & 317 & 107 & 2 & 3.5 & 3.0 & 8.28 & 0 & 0.66 \\\\\n",
       "\t89 & 89 & 314 & 108 & 3 & 4.5 & 3.5 & 8.14 & 0 & 0.64 \\\\\n",
       "\t90 & 90 & 316 & 109 & 4 & 4.5 & 3.5 & 8.76 & 1 & 0.74 \\\\\n",
       "\t91 & 91 & 318 & 106 & 2 & 4.0 & 4.0 & 7.92 & 1 & 0.64 \\\\\n",
       "\t92 & 92 & 299 & 97 & 3 & 5.0 & 3.5 & 7.66 & 0 & 0.38 \\\\\n",
       "\t93 & 93 & 298 & 98 & 2 & 4.0 & 3.0 & 8.03 & 0 & 0.34 \\\\\n",
       "\t94 & 94 & 301 & 97 & 2 & 3.0 & 3.0 & 7.88 & 1 & 0.44 \\\\\n",
       "\t95 & 95 & 303 & 99 & 3 & 2.0 & 2.5 & 7.66 & 0 & 0.36 \\\\\n",
       "\t96 & 96 & 304 & 100 & 4 & 1.5 & 2.5 & 7.84 & 0 & 0.42 \\\\\n",
       "\t97 & 97 & 306 & 100 & 2 & 3.0 & 3.0 & 8.0 & 0 & 0.48 \\\\\n",
       "\t98 & 98 & 331 & 120 & 3 & 4.0 & 4.0 & 8.96 & 1 & 0.86 \\\\\n",
       "\t99 & 99 & 332 & 119 & 4 & 5.0 & 4.5 & 9.24 & 1 & 0.9 \\\\\n",
       "\t100 & 100 & 323 & 113 & 3 & 4.0 & 4.0 & 8.88 & 1 & 0.79 \\\\\n",
       "\t$\\dots$ & $\\dots$ & $\\dots$ & $\\dots$ & $\\dots$ & $\\dots$ & $\\dots$ & $\\dots$ & $\\dots$ & $\\dots$ \\\\\n",
       "\\end{tabular}\n"
      ],
      "text/plain": [
       "\u001b[1m399×9 DataFrame\u001b[0m\n",
       "\u001b[1m Row \u001b[0m│\u001b[1m Serial No. \u001b[0m\u001b[1m GRE Score \u001b[0m\u001b[1m TOEFL Score \u001b[0m\u001b[1m University Rating \u001b[0m\u001b[1m SOP     \u001b[0m\u001b[1m LOR     \u001b[0m\u001b[1m CGPA    \u001b[0m\u001b[1m Research \u001b[0m\u001b[1m Chance of Admit  \u001b[0m\n",
       "\u001b[1m     \u001b[0m│\u001b[90m Int64      \u001b[0m\u001b[90m Int64     \u001b[0m\u001b[90m Int64       \u001b[0m\u001b[90m Int64             \u001b[0m\u001b[90m Float64 \u001b[0m\u001b[90m Float64 \u001b[0m\u001b[90m Float64 \u001b[0m\u001b[90m Int64    \u001b[0m\u001b[90m Float64          \u001b[0m\n",
       "─────┼──────────────────────────────────────────────────────────────────────────────────────────────────────────────\n",
       "   1 │          1        337          118                  4      4.5      4.5     9.65         1              0.92\n",
       "   2 │          2        324          107                  4      4.0      4.5     8.87         1              0.76\n",
       "   3 │          3        316          104                  3      3.0      3.5     8.0          1              0.72\n",
       "   4 │          4        322          110                  3      3.5      2.5     8.67         1              0.8\n",
       "   5 │          5        314          103                  2      2.0      3.0     8.21         0              0.65\n",
       "   6 │          6        330          115                  5      4.5      3.0     9.34         1              0.9\n",
       "   7 │          7        321          109                  3      3.0      4.0     8.2          1              0.75\n",
       "   8 │          8        308          101                  2      3.0      4.0     7.9          0              0.68\n",
       "   9 │          9        302          102                  1      2.0      1.5     8.0          0              0.5\n",
       "  10 │         10        323          108                  3      3.5      3.0     8.6          0              0.45\n",
       "  11 │         11        325          106                  3      3.5      4.0     8.4          1              0.52\n",
       "  12 │         12        327          111                  4      4.0      4.5     9.0          1              0.84\n",
       "  13 │         13        328          112                  4      4.0      4.5     9.1          1              0.78\n",
       "  14 │         14        307          109                  3      4.0      3.0     8.0          1              0.62\n",
       "  15 │         15        311          104                  3      3.5      2.0     8.2          1              0.61\n",
       "  16 │         16        314          105                  3      3.5      2.5     8.3          0              0.54\n",
       "  17 │         17        317          107                  3      4.0      3.0     8.7          0              0.66\n",
       "  18 │         18        319          106                  3      4.0      3.0     8.0          1              0.65\n",
       "  19 │         19        318          110                  3      4.0      3.0     8.8          0              0.63\n",
       "  20 │         20        303          102                  3      3.5      3.0     8.5          0              0.62\n",
       "  21 │         21        312          107                  3      3.0      2.0     7.9          1              0.64\n",
       "  22 │         22        325          114                  4      3.0      2.0     8.4          0              0.7\n",
       "  23 │         23        328          116                  5      5.0      5.0     9.5          1              0.94\n",
       "  24 │         24        334          119                  5      5.0      4.5     9.7          1              0.95\n",
       "  25 │         25        336          119                  5      4.0      3.5     9.8          1              0.97\n",
       "  26 │         26        340          120                  5      4.5      4.5     9.6          1              0.94\n",
       "  27 │         27        322          109                  5      4.5      3.5     8.8          0              0.76\n",
       "  28 │         28        298           98                  2      1.5      2.5     7.5          1              0.44\n",
       "  29 │         29        295           93                  1      2.0      2.0     7.2          0              0.46\n",
       "  30 │         30        310           99                  2      1.5      2.0     7.3          0              0.54\n",
       "  31 │         31        300           97                  2      3.0      3.0     8.1          1              0.65\n",
       "  32 │         32        327          103                  3      4.0      4.0     8.3          1              0.74\n",
       "  33 │         33        338          118                  4      3.0      4.5     9.4          1              0.91\n",
       "  34 │         34        340          114                  5      4.0      4.0     9.6          1              0.9\n",
       "  35 │         35        331          112                  5      4.0      5.0     9.8          1              0.94\n",
       "  36 │         36        320          110                  5      5.0      5.0     9.2          1              0.88\n",
       "  37 │         37        299          106                  2      4.0      4.0     8.4          0              0.64\n",
       "  38 │         38        300          105                  1      1.0      2.0     7.8          0              0.58\n",
       "  39 │         39        304          105                  1      3.0      1.5     7.5          0              0.52\n",
       "  40 │         40        307          108                  2      4.0      3.5     7.7          0              0.48\n",
       "  41 │         41        308          110                  3      3.5      3.0     8.0          1              0.46\n",
       "  42 │         42        316          105                  2      2.5      2.5     8.2          1              0.49\n",
       "  43 │         43        313          107                  2      2.5      2.0     8.5          1              0.53\n",
       "  44 │         44        332          117                  4      4.5      4.0     9.1          0              0.87\n",
       "  45 │         45        326          113                  5      4.5      4.0     9.4          1              0.91\n",
       "  46 │         46        322          110                  5      5.0      4.0     9.1          1              0.88\n",
       "  ⋮  │     ⋮           ⋮           ⋮               ⋮             ⋮        ⋮        ⋮        ⋮             ⋮\n",
       " 355 │        355        297           98                  2      2.5      3.0     7.67         0              0.59\n",
       " 356 │        356        317          106                  2      2.0      3.5     8.12         0              0.73\n",
       " 357 │        357        327          109                  3      3.5      4.0     8.77         1              0.79\n",
       " 358 │        358        301          104                  2      3.5      3.5     7.89         1              0.68\n",
       " 359 │        359        314          105                  2      2.5      2.0     7.64         0              0.7\n",
       " 360 │        360        321          107                  2      2.0      1.5     8.44         0              0.81\n",
       " 361 │        361        322          110                  3      4.0      5.0     8.64         1              0.85\n",
       " 362 │        362        334          116                  4      4.0      3.5     9.54         1              0.93\n",
       " 363 │        363        338          115                  5      4.5      5.0     9.23         1              0.91\n",
       " 364 │        364        306          103                  2      2.5      3.0     8.36         0              0.69\n",
       " 365 │        365        313          102                  3      3.5      4.0     8.9          1              0.77\n",
       " 366 │        366        330          114                  4      4.5      3.0     9.17         1              0.86\n",
       " 367 │        367        320          104                  3      3.5      4.5     8.34         1              0.74\n",
       " 368 │        368        311           98                  1      1.0      2.5     7.46         0              0.57\n",
       " 369 │        369        298           92                  1      2.0      2.0     7.88         0              0.51\n",
       " 370 │        370        301           98                  1      2.0      3.0     8.03         1              0.67\n",
       " 371 │        371        310          103                  2      2.5      2.5     8.24         0              0.72\n",
       " 372 │        372        324          110                  3      3.5      3.0     9.22         1              0.89\n",
       " 373 │        373        336          119                  4      4.5      4.0     9.62         1              0.95\n",
       " 374 │        374        321          109                  3      3.0      3.0     8.54         1              0.79\n",
       " 375 │        375        315          105                  2      2.0      2.5     7.65         0              0.39\n",
       " 376 │        376        304          101                  2      2.0      2.5     7.66         0              0.38\n",
       " 377 │        377        297           96                  2      2.5      2.0     7.43         0              0.34\n",
       " 378 │        378        290          100                  1      1.5      2.0     7.56         0              0.47\n",
       " 379 │        379        303           98                  1      2.0      2.5     7.65         0              0.56\n",
       " 380 │        380        311           99                  1      2.5      3.0     8.43         1              0.71\n",
       " 381 │        381        322          104                  3      3.5      4.0     8.84         1              0.78\n",
       " 382 │        382        319          105                  3      3.0      3.5     8.67         1              0.73\n",
       " 383 │        383        324          110                  4      4.5      4.0     9.15         1              0.82\n",
       " 384 │        384        300          100                  3      3.0      3.5     8.26         0              0.62\n",
       " 385 │        385        340          113                  4      5.0      5.0     9.74         1              0.96\n",
       " 386 │        386        335          117                  5      5.0      5.0     9.82         1              0.96\n",
       " 387 │        387        302          101                  2      2.5      3.5     7.96         0              0.46\n",
       " 388 │        388        307          105                  2      2.0      3.5     8.1          0              0.53\n",
       " 389 │        389        296           97                  2      1.5      2.0     7.8          0              0.49\n",
       " 390 │        390        320          108                  3      3.5      4.0     8.44         1              0.76\n",
       " 391 │        391        314          102                  2      2.0      2.5     8.24         0              0.64\n",
       " 392 │        392        318          106                  3      2.0      3.0     8.65         0              0.71\n",
       " 393 │        393        326          112                  4      4.0      3.5     9.12         1              0.84\n",
       " 394 │        394        317          104                  2      3.0      3.0     8.76         0              0.77\n",
       " 395 │        395        329          111                  4      4.5      4.0     9.23         1              0.89\n",
       " 396 │        396        324          110                  3      3.5      3.5     9.04         1              0.82\n",
       " 397 │        397        325          107                  3      3.0      3.5     9.11         1              0.84\n",
       " 398 │        398        330          116                  4      5.0      4.5     9.45         1              0.91\n",
       " 399 │        399        312          103                  3      3.5      4.0     8.78         0              0.67\n",
       "\u001b[36m                                                                                                    308 rows omitted\u001b[0m"
      ]
     },
     "execution_count": 56,
     "metadata": {},
     "output_type": "execute_result"
    }
   ],
   "source": [
    "select!(df, Not([\"A\", \"B\"]))"
   ]
  },
  {
   "cell_type": "markdown",
   "metadata": {},
   "source": [
    "## Unique Values and Value Counts\n",
    "\n",
    "---\n",
    "\n",
    "As the header suggests, we can count the number of unique values in a column, as well as count how many times a certain value occur."
   ]
  },
  {
   "cell_type": "markdown",
   "metadata": {},
   "source": [
    "### Unique Values\n",
    "\n",
    "---\n",
    "\n",
    "We can find the number of unique values in a column by using `unique()` function."
   ]
  },
  {
   "cell_type": "code",
   "execution_count": 57,
   "metadata": {
    "ExecuteTime": {
     "end_time": "2021-05-22T12:23:53.183000+04:00",
     "start_time": "2021-05-22T08:23:53.178Z"
    }
   },
   "outputs": [
    {
     "data": {
      "text/html": [
       "<table class=\"data-frame\"><thead><tr><th></th><th>Serial No.</th><th>GRE Score</th><th>TOEFL Score</th><th>University Rating</th><th>SOP</th><th>LOR</th><th>CGPA</th><th>Research</th><th>Chance of Admit </th></tr><tr><th></th><th>Int64</th><th>Int64</th><th>Int64</th><th>Int64</th><th>Float64</th><th>Float64</th><th>Float64</th><th>Int64</th><th>Float64</th></tr></thead><tbody><p>5 rows × 9 columns</p><tr><th>1</th><td>1</td><td>337</td><td>118</td><td>4</td><td>4.5</td><td>4.5</td><td>9.65</td><td>1</td><td>0.92</td></tr><tr><th>2</th><td>2</td><td>324</td><td>107</td><td>4</td><td>4.0</td><td>4.5</td><td>8.87</td><td>1</td><td>0.76</td></tr><tr><th>3</th><td>3</td><td>316</td><td>104</td><td>3</td><td>3.0</td><td>3.5</td><td>8.0</td><td>1</td><td>0.72</td></tr><tr><th>4</th><td>4</td><td>322</td><td>110</td><td>3</td><td>3.5</td><td>2.5</td><td>8.67</td><td>1</td><td>0.8</td></tr><tr><th>5</th><td>5</td><td>314</td><td>103</td><td>2</td><td>2.0</td><td>3.0</td><td>8.21</td><td>0</td><td>0.65</td></tr></tbody></table>"
      ],
      "text/latex": [
       "\\begin{tabular}{r|ccccccccc}\n",
       "\t& Serial No. & GRE Score & TOEFL Score & University Rating & SOP & LOR & CGPA & Research & Chance of Admit \\\\\n",
       "\t\\hline\n",
       "\t& Int64 & Int64 & Int64 & Int64 & Float64 & Float64 & Float64 & Int64 & Float64\\\\\n",
       "\t\\hline\n",
       "\t1 & 1 & 337 & 118 & 4 & 4.5 & 4.5 & 9.65 & 1 & 0.92 \\\\\n",
       "\t2 & 2 & 324 & 107 & 4 & 4.0 & 4.5 & 8.87 & 1 & 0.76 \\\\\n",
       "\t3 & 3 & 316 & 104 & 3 & 3.0 & 3.5 & 8.0 & 1 & 0.72 \\\\\n",
       "\t4 & 4 & 322 & 110 & 3 & 3.5 & 2.5 & 8.67 & 1 & 0.8 \\\\\n",
       "\t5 & 5 & 314 & 103 & 2 & 2.0 & 3.0 & 8.21 & 0 & 0.65 \\\\\n",
       "\\end{tabular}\n"
      ],
      "text/plain": [
       "\u001b[1m5×9 DataFrame\u001b[0m\n",
       "\u001b[1m Row \u001b[0m│\u001b[1m Serial No. \u001b[0m\u001b[1m GRE Score \u001b[0m\u001b[1m TOEFL Score \u001b[0m\u001b[1m University Rating \u001b[0m\u001b[1m SOP     \u001b[0m\u001b[1m LOR     \u001b[0m\u001b[1m CGPA    \u001b[0m\u001b[1m Research \u001b[0m\u001b[1m Chance of Admit  \u001b[0m\n",
       "\u001b[1m     \u001b[0m│\u001b[90m Int64      \u001b[0m\u001b[90m Int64     \u001b[0m\u001b[90m Int64       \u001b[0m\u001b[90m Int64             \u001b[0m\u001b[90m Float64 \u001b[0m\u001b[90m Float64 \u001b[0m\u001b[90m Float64 \u001b[0m\u001b[90m Int64    \u001b[0m\u001b[90m Float64          \u001b[0m\n",
       "─────┼──────────────────────────────────────────────────────────────────────────────────────────────────────────────\n",
       "   1 │          1        337          118                  4      4.5      4.5     9.65         1              0.92\n",
       "   2 │          2        324          107                  4      4.0      4.5     8.87         1              0.76\n",
       "   3 │          3        316          104                  3      3.0      3.5     8.0          1              0.72\n",
       "   4 │          4        322          110                  3      3.5      2.5     8.67         1              0.8\n",
       "   5 │          5        314          103                  2      2.0      3.0     8.21         0              0.65"
      ]
     },
     "execution_count": 57,
     "metadata": {},
     "output_type": "execute_result"
    }
   ],
   "source": [
    "first(df, 5)"
   ]
  },
  {
   "cell_type": "code",
   "execution_count": 58,
   "metadata": {
    "ExecuteTime": {
     "end_time": "2021-05-22T12:23:54.157000+04:00",
     "start_time": "2021-05-22T08:23:53.538Z"
    }
   },
   "outputs": [
    {
     "data": {
      "text/plain": [
       "5-element Array{Int64,1}:\n",
       " 4\n",
       " 3\n",
       " 2\n",
       " 5\n",
       " 1"
      ]
     },
     "execution_count": 58,
     "metadata": {},
     "output_type": "execute_result"
    }
   ],
   "source": [
    "unique(df[:, \"University Rating\"]) # Unique values for University Rating"
   ]
  },
  {
   "cell_type": "markdown",
   "metadata": {},
   "source": [
    "### Value Counts\n",
    "\n",
    "---\n",
    "\n",
    "Value counts represent the operation when we want to count the number of unique values in a column. In short, calculate value frequencies"
   ]
  },
  {
   "cell_type": "code",
   "execution_count": 59,
   "metadata": {
    "ExecuteTime": {
     "end_time": "2021-05-22T12:23:55.239000+04:00",
     "start_time": "2021-05-22T08:23:55.230Z"
    }
   },
   "outputs": [
    {
     "data": {
      "text/html": [
       "<table class=\"data-frame\"><thead><tr><th></th><th>Serial No.</th><th>GRE Score</th><th>TOEFL Score</th><th>University Rating</th><th>SOP</th><th>LOR</th><th>CGPA</th><th>Research</th><th>Chance of Admit </th></tr><tr><th></th><th>Int64</th><th>Int64</th><th>Int64</th><th>Int64</th><th>Float64</th><th>Float64</th><th>Float64</th><th>Int64</th><th>Float64</th></tr></thead><tbody><p>5 rows × 9 columns</p><tr><th>1</th><td>1</td><td>337</td><td>118</td><td>4</td><td>4.5</td><td>4.5</td><td>9.65</td><td>1</td><td>0.92</td></tr><tr><th>2</th><td>2</td><td>324</td><td>107</td><td>4</td><td>4.0</td><td>4.5</td><td>8.87</td><td>1</td><td>0.76</td></tr><tr><th>3</th><td>3</td><td>316</td><td>104</td><td>3</td><td>3.0</td><td>3.5</td><td>8.0</td><td>1</td><td>0.72</td></tr><tr><th>4</th><td>4</td><td>322</td><td>110</td><td>3</td><td>3.5</td><td>2.5</td><td>8.67</td><td>1</td><td>0.8</td></tr><tr><th>5</th><td>5</td><td>314</td><td>103</td><td>2</td><td>2.0</td><td>3.0</td><td>8.21</td><td>0</td><td>0.65</td></tr></tbody></table>"
      ],
      "text/latex": [
       "\\begin{tabular}{r|ccccccccc}\n",
       "\t& Serial No. & GRE Score & TOEFL Score & University Rating & SOP & LOR & CGPA & Research & Chance of Admit \\\\\n",
       "\t\\hline\n",
       "\t& Int64 & Int64 & Int64 & Int64 & Float64 & Float64 & Float64 & Int64 & Float64\\\\\n",
       "\t\\hline\n",
       "\t1 & 1 & 337 & 118 & 4 & 4.5 & 4.5 & 9.65 & 1 & 0.92 \\\\\n",
       "\t2 & 2 & 324 & 107 & 4 & 4.0 & 4.5 & 8.87 & 1 & 0.76 \\\\\n",
       "\t3 & 3 & 316 & 104 & 3 & 3.0 & 3.5 & 8.0 & 1 & 0.72 \\\\\n",
       "\t4 & 4 & 322 & 110 & 3 & 3.5 & 2.5 & 8.67 & 1 & 0.8 \\\\\n",
       "\t5 & 5 & 314 & 103 & 2 & 2.0 & 3.0 & 8.21 & 0 & 0.65 \\\\\n",
       "\\end{tabular}\n"
      ],
      "text/plain": [
       "\u001b[1m5×9 DataFrame\u001b[0m\n",
       "\u001b[1m Row \u001b[0m│\u001b[1m Serial No. \u001b[0m\u001b[1m GRE Score \u001b[0m\u001b[1m TOEFL Score \u001b[0m\u001b[1m University Rating \u001b[0m\u001b[1m SOP     \u001b[0m\u001b[1m LOR     \u001b[0m\u001b[1m CGPA    \u001b[0m\u001b[1m Research \u001b[0m\u001b[1m Chance of Admit  \u001b[0m\n",
       "\u001b[1m     \u001b[0m│\u001b[90m Int64      \u001b[0m\u001b[90m Int64     \u001b[0m\u001b[90m Int64       \u001b[0m\u001b[90m Int64             \u001b[0m\u001b[90m Float64 \u001b[0m\u001b[90m Float64 \u001b[0m\u001b[90m Float64 \u001b[0m\u001b[90m Int64    \u001b[0m\u001b[90m Float64          \u001b[0m\n",
       "─────┼──────────────────────────────────────────────────────────────────────────────────────────────────────────────\n",
       "   1 │          1        337          118                  4      4.5      4.5     9.65         1              0.92\n",
       "   2 │          2        324          107                  4      4.0      4.5     8.87         1              0.76\n",
       "   3 │          3        316          104                  3      3.0      3.5     8.0          1              0.72\n",
       "   4 │          4        322          110                  3      3.5      2.5     8.67         1              0.8\n",
       "   5 │          5        314          103                  2      2.0      3.0     8.21         0              0.65"
      ]
     },
     "execution_count": 59,
     "metadata": {},
     "output_type": "execute_result"
    }
   ],
   "source": [
    "first(df, 5)"
   ]
  },
  {
   "cell_type": "code",
   "execution_count": 60,
   "metadata": {
    "ExecuteTime": {
     "end_time": "2021-05-22T12:23:56.256000+04:00",
     "start_time": "2021-05-22T08:23:56.222Z"
    }
   },
   "outputs": [
    {
     "data": {
      "text/plain": [
       "2-element Array{Int64,1}:\n",
       " 181\n",
       " 218"
      ]
     },
     "execution_count": 60,
     "metadata": {},
     "output_type": "execute_result"
    }
   ],
   "source": [
    "counts(df[:, \"Research\"]) # Counts unique values"
   ]
  },
  {
   "cell_type": "code",
   "execution_count": 61,
   "metadata": {
    "ExecuteTime": {
     "end_time": "2021-05-22T12:23:57.493000+04:00",
     "start_time": "2021-05-22T08:23:56.578Z"
    }
   },
   "outputs": [
    {
     "data": {
      "text/plain": [
       "2-element Named Array{Int64,1}\n",
       "Dim1  │ \n",
       "──────┼────\n",
       "0     │ 181\n",
       "1     │ 218"
      ]
     },
     "execution_count": 61,
     "metadata": {},
     "output_type": "execute_result"
    }
   ],
   "source": [
    "df[:, \"Research\"] |> freqtable # We have 219 ones and 181 zeros, totaling to 400"
   ]
  },
  {
   "cell_type": "code",
   "execution_count": 62,
   "metadata": {
    "ExecuteTime": {
     "end_time": "2021-05-22T12:23:58.245000+04:00",
     "start_time": "2021-05-22T08:23:57.513Z"
    }
   },
   "outputs": [
    {
     "data": {
      "text/plain": [
       "Dict{Int64,Int64} with 2 entries:\n",
       "  0 => 181\n",
       "  1 => 218"
      ]
     },
     "execution_count": 62,
     "metadata": {},
     "output_type": "execute_result"
    }
   ],
   "source": [
    "countmap(df[:, \"Research\"]) # Same as above"
   ]
  },
  {
   "cell_type": "code",
   "execution_count": 63,
   "metadata": {
    "ExecuteTime": {
     "end_time": "2021-05-22T12:23:58.649000+04:00",
     "start_time": "2021-05-22T08:23:57.861Z"
    }
   },
   "outputs": [
    {
     "data": {
      "text/plain": [
       "2-element Named Array{Float64,1}\n",
       "Dim1  │ \n",
       "──────┼─────────\n",
       "0     │ 0.453634\n",
       "1     │ 0.546366"
      ]
     },
     "execution_count": 63,
     "metadata": {},
     "output_type": "execute_result"
    }
   ],
   "source": [
    "df[:, \"Research\"] |> freqtable |> prop # Proportions"
   ]
  },
  {
   "cell_type": "markdown",
   "metadata": {},
   "source": [
    "## Statistics with DataFrame"
   ]
  },
  {
   "cell_type": "code",
   "execution_count": 64,
   "metadata": {
    "ExecuteTime": {
     "end_time": "2021-05-22T12:23:59.641000+04:00",
     "start_time": "2021-05-22T08:23:59.632Z"
    }
   },
   "outputs": [
    {
     "data": {
      "text/html": [
       "<table class=\"data-frame\"><thead><tr><th></th><th>Serial No.</th><th>GRE Score</th><th>TOEFL Score</th><th>University Rating</th><th>SOP</th><th>LOR</th><th>CGPA</th><th>Research</th><th>Chance of Admit </th></tr><tr><th></th><th>Int64</th><th>Int64</th><th>Int64</th><th>Int64</th><th>Float64</th><th>Float64</th><th>Float64</th><th>Int64</th><th>Float64</th></tr></thead><tbody><p>5 rows × 9 columns</p><tr><th>1</th><td>1</td><td>337</td><td>118</td><td>4</td><td>4.5</td><td>4.5</td><td>9.65</td><td>1</td><td>0.92</td></tr><tr><th>2</th><td>2</td><td>324</td><td>107</td><td>4</td><td>4.0</td><td>4.5</td><td>8.87</td><td>1</td><td>0.76</td></tr><tr><th>3</th><td>3</td><td>316</td><td>104</td><td>3</td><td>3.0</td><td>3.5</td><td>8.0</td><td>1</td><td>0.72</td></tr><tr><th>4</th><td>4</td><td>322</td><td>110</td><td>3</td><td>3.5</td><td>2.5</td><td>8.67</td><td>1</td><td>0.8</td></tr><tr><th>5</th><td>5</td><td>314</td><td>103</td><td>2</td><td>2.0</td><td>3.0</td><td>8.21</td><td>0</td><td>0.65</td></tr></tbody></table>"
      ],
      "text/latex": [
       "\\begin{tabular}{r|ccccccccc}\n",
       "\t& Serial No. & GRE Score & TOEFL Score & University Rating & SOP & LOR & CGPA & Research & Chance of Admit \\\\\n",
       "\t\\hline\n",
       "\t& Int64 & Int64 & Int64 & Int64 & Float64 & Float64 & Float64 & Int64 & Float64\\\\\n",
       "\t\\hline\n",
       "\t1 & 1 & 337 & 118 & 4 & 4.5 & 4.5 & 9.65 & 1 & 0.92 \\\\\n",
       "\t2 & 2 & 324 & 107 & 4 & 4.0 & 4.5 & 8.87 & 1 & 0.76 \\\\\n",
       "\t3 & 3 & 316 & 104 & 3 & 3.0 & 3.5 & 8.0 & 1 & 0.72 \\\\\n",
       "\t4 & 4 & 322 & 110 & 3 & 3.5 & 2.5 & 8.67 & 1 & 0.8 \\\\\n",
       "\t5 & 5 & 314 & 103 & 2 & 2.0 & 3.0 & 8.21 & 0 & 0.65 \\\\\n",
       "\\end{tabular}\n"
      ],
      "text/plain": [
       "\u001b[1m5×9 DataFrame\u001b[0m\n",
       "\u001b[1m Row \u001b[0m│\u001b[1m Serial No. \u001b[0m\u001b[1m GRE Score \u001b[0m\u001b[1m TOEFL Score \u001b[0m\u001b[1m University Rating \u001b[0m\u001b[1m SOP     \u001b[0m\u001b[1m LOR     \u001b[0m\u001b[1m CGPA    \u001b[0m\u001b[1m Research \u001b[0m\u001b[1m Chance of Admit  \u001b[0m\n",
       "\u001b[1m     \u001b[0m│\u001b[90m Int64      \u001b[0m\u001b[90m Int64     \u001b[0m\u001b[90m Int64       \u001b[0m\u001b[90m Int64             \u001b[0m\u001b[90m Float64 \u001b[0m\u001b[90m Float64 \u001b[0m\u001b[90m Float64 \u001b[0m\u001b[90m Int64    \u001b[0m\u001b[90m Float64          \u001b[0m\n",
       "─────┼──────────────────────────────────────────────────────────────────────────────────────────────────────────────\n",
       "   1 │          1        337          118                  4      4.5      4.5     9.65         1              0.92\n",
       "   2 │          2        324          107                  4      4.0      4.5     8.87         1              0.76\n",
       "   3 │          3        316          104                  3      3.0      3.5     8.0          1              0.72\n",
       "   4 │          4        322          110                  3      3.5      2.5     8.67         1              0.8\n",
       "   5 │          5        314          103                  2      2.0      3.0     8.21         0              0.65"
      ]
     },
     "execution_count": 64,
     "metadata": {},
     "output_type": "execute_result"
    }
   ],
   "source": [
    "first(df, 5)"
   ]
  },
  {
   "cell_type": "code",
   "execution_count": 65,
   "metadata": {
    "ExecuteTime": {
     "end_time": "2021-05-22T12:24:00.367000+04:00",
     "start_time": "2021-05-22T08:23:59.981Z"
    }
   },
   "outputs": [
    {
     "data": {
      "text/html": [
       "<table class=\"data-frame\"><thead><tr><th></th><th>variable</th><th>mean</th><th>min</th><th>median</th><th>max</th><th>nmissing</th><th>eltype</th></tr><tr><th></th><th>Symbol</th><th>Float64</th><th>Real</th><th>Float64</th><th>Real</th><th>Int64</th><th>DataType</th></tr></thead><tbody><p>9 rows × 7 columns</p><tr><th>1</th><td>Serial No.</td><td>200.0</td><td>1</td><td>200.0</td><td>399</td><td>0</td><td>Int64</td></tr><tr><th>2</th><td>GRE Score</td><td>316.767</td><td>290</td><td>317.0</td><td>340</td><td>0</td><td>Int64</td></tr><tr><th>3</th><td>TOEFL Score</td><td>107.386</td><td>92</td><td>107.0</td><td>120</td><td>0</td><td>Int64</td></tr><tr><th>4</th><td>University Rating</td><td>3.08521</td><td>1</td><td>3.0</td><td>5</td><td>0</td><td>Int64</td></tr><tr><th>5</th><td>SOP</td><td>3.39599</td><td>1.0</td><td>3.5</td><td>5.0</td><td>0</td><td>Float64</td></tr><tr><th>6</th><td>LOR</td><td>3.45113</td><td>1.0</td><td>3.5</td><td>5.0</td><td>0</td><td>Float64</td></tr><tr><th>7</th><td>CGPA</td><td>8.59627</td><td>6.8</td><td>8.6</td><td>9.92</td><td>0</td><td>Float64</td></tr><tr><th>8</th><td>Research</td><td>0.546366</td><td>0</td><td>1.0</td><td>1</td><td>0</td><td>Int64</td></tr><tr><th>9</th><td>Chance of Admit </td><td>0.723784</td><td>0.34</td><td>0.73</td><td>0.97</td><td>0</td><td>Float64</td></tr></tbody></table>"
      ],
      "text/latex": [
       "\\begin{tabular}{r|ccccccc}\n",
       "\t& variable & mean & min & median & max & nmissing & eltype\\\\\n",
       "\t\\hline\n",
       "\t& Symbol & Float64 & Real & Float64 & Real & Int64 & DataType\\\\\n",
       "\t\\hline\n",
       "\t1 & Serial No. & 200.0 & 1 & 200.0 & 399 & 0 & Int64 \\\\\n",
       "\t2 & GRE Score & 316.767 & 290 & 317.0 & 340 & 0 & Int64 \\\\\n",
       "\t3 & TOEFL Score & 107.386 & 92 & 107.0 & 120 & 0 & Int64 \\\\\n",
       "\t4 & University Rating & 3.08521 & 1 & 3.0 & 5 & 0 & Int64 \\\\\n",
       "\t5 & SOP & 3.39599 & 1.0 & 3.5 & 5.0 & 0 & Float64 \\\\\n",
       "\t6 & LOR & 3.45113 & 1.0 & 3.5 & 5.0 & 0 & Float64 \\\\\n",
       "\t7 & CGPA & 8.59627 & 6.8 & 8.6 & 9.92 & 0 & Float64 \\\\\n",
       "\t8 & Research & 0.546366 & 0 & 1.0 & 1 & 0 & Int64 \\\\\n",
       "\t9 & Chance of Admit  & 0.723784 & 0.34 & 0.73 & 0.97 & 0 & Float64 \\\\\n",
       "\\end{tabular}\n"
      ],
      "text/plain": [
       "\u001b[1m9×7 DataFrame\u001b[0m\n",
       "\u001b[1m Row \u001b[0m│\u001b[1m variable          \u001b[0m\u001b[1m mean       \u001b[0m\u001b[1m min    \u001b[0m\u001b[1m median  \u001b[0m\u001b[1m max    \u001b[0m\u001b[1m nmissing \u001b[0m\u001b[1m eltype   \u001b[0m\n",
       "\u001b[1m     \u001b[0m│\u001b[90m Symbol            \u001b[0m\u001b[90m Float64    \u001b[0m\u001b[90m Real   \u001b[0m\u001b[90m Float64 \u001b[0m\u001b[90m Real   \u001b[0m\u001b[90m Int64    \u001b[0m\u001b[90m DataType \u001b[0m\n",
       "─────┼────────────────────────────────────────────────────────────────────────────\n",
       "   1 │ Serial No.         200.0         1      200.0   399            0  Int64\n",
       "   2 │ GRE Score          316.767     290      317.0   340            0  Int64\n",
       "   3 │ TOEFL Score        107.386      92      107.0   120            0  Int64\n",
       "   4 │ University Rating    3.08521     1        3.0     5            0  Int64\n",
       "   5 │ SOP                  3.39599     1.0      3.5     5.0          0  Float64\n",
       "   6 │ LOR                  3.45113     1.0      3.5     5.0          0  Float64\n",
       "   7 │ CGPA                 8.59627     6.8      8.6     9.92         0  Float64\n",
       "   8 │ Research             0.546366    0        1.0     1            0  Int64\n",
       "   9 │ Chance of Admit      0.723784    0.34     0.73    0.97         0  Float64"
      ]
     },
     "execution_count": 65,
     "metadata": {},
     "output_type": "execute_result"
    }
   ],
   "source": [
    "describe(df) # Summary statistics"
   ]
  },
  {
   "cell_type": "markdown",
   "metadata": {},
   "source": [
    "### Covariance and Correlation\n",
    "\n",
    "---\n",
    "\n",
    "These statistics compared to above-mentioned ones requires pairs of values or at least two Series to give meaningful results. Let use our DataFrame to calculate covariance and correlation between some columns."
   ]
  },
  {
   "cell_type": "markdown",
   "metadata": {},
   "source": [
    "### Covariance"
   ]
  },
  {
   "cell_type": "code",
   "execution_count": 66,
   "metadata": {
    "ExecuteTime": {
     "end_time": "2021-05-22T12:24:02.758000+04:00",
     "start_time": "2021-05-22T08:24:01.561Z"
    }
   },
   "outputs": [
    {
     "data": {
      "text/html": [
       "<table class=\"data-frame\"><thead><tr><th></th><th>Serial No.</th><th>GRE Score</th><th>TOEFL Score</th><th>University Rating</th><th>SOP</th><th>LOR</th><th>CGPA</th><th>Research</th><th>Chance of Admit </th></tr><tr><th></th><th>Float64</th><th>Float64</th><th>Float64</th><th>Float64</th><th>Float64</th><th>Float64</th><th>Float64</th><th>Float64</th><th>Float64</th></tr></thead><tbody><p>9 rows × 9 columns</p><tr><th>1</th><td>13300.0</td><td>-137.832</td><td>-108.887</td><td>-22.9874</td><td>-20.2852</td><td>-9.46231</td><td>-3.68548</td><td>-3.87437</td><td>0.586382</td></tr><tr><th>2</th><td>-137.832</td><td>131.315</td><td>57.9721</td><td>8.76363</td><td>7.03223</td><td>5.73984</td><td>5.67079</td><td>3.30857</td><td>1.30737</td></tr><tr><th>3</th><td>-108.887</td><td>57.9721</td><td>36.6999</td><td>4.81879</td><td>3.99251</td><td>3.09052</td><td>2.98024</td><td>1.47452</td><td>0.68145</td></tr><tr><th>4</th><td>-22.9874</td><td>8.76363</td><td>4.81879</td><td>1.3093</td><td>0.844312</td><td>0.678798</td><td>0.507957</td><td>0.254833</td><td>0.115782</td></tr><tr><th>5</th><td>-20.2852</td><td>7.03223</td><td>3.99251</td><td>0.844312</td><td>1.00988</td><td>0.659477</td><td>0.42799</td><td>0.221543</td><td>0.0963619</td></tr><tr><th>6</th><td>-9.46231</td><td>5.73984</td><td>3.09052</td><td>0.678798</td><td>0.659477</td><td>0.808535</td><td>0.358523</td><td>0.177523</td><td>0.0857382</td></tr><tr><th>7</th><td>-3.68548</td><td>5.67079</td><td>2.98024</td><td>0.507957</td><td>0.42799</td><td>0.358523</td><td>0.353652</td><td>0.154206</td><td>0.0738483</td></tr><tr><th>8</th><td>-3.87437</td><td>3.30857</td><td>1.47452</td><td>0.254833</td><td>0.221543</td><td>0.177523</td><td>0.154206</td><td>0.248473</td><td>0.0391583</td></tr><tr><th>9</th><td>0.586382</td><td>1.30737</td><td>0.68145</td><td>0.115782</td><td>0.0963619</td><td>0.0857382</td><td>0.0738483</td><td>0.0391583</td><td>0.0202603</td></tr></tbody></table>"
      ],
      "text/latex": [
       "\\begin{tabular}{r|ccccccccc}\n",
       "\t& Serial No. & GRE Score & TOEFL Score & University Rating & SOP & LOR & CGPA & Research & Chance of Admit \\\\\n",
       "\t\\hline\n",
       "\t& Float64 & Float64 & Float64 & Float64 & Float64 & Float64 & Float64 & Float64 & Float64\\\\\n",
       "\t\\hline\n",
       "\t1 & 13300.0 & -137.832 & -108.887 & -22.9874 & -20.2852 & -9.46231 & -3.68548 & -3.87437 & 0.586382 \\\\\n",
       "\t2 & -137.832 & 131.315 & 57.9721 & 8.76363 & 7.03223 & 5.73984 & 5.67079 & 3.30857 & 1.30737 \\\\\n",
       "\t3 & -108.887 & 57.9721 & 36.6999 & 4.81879 & 3.99251 & 3.09052 & 2.98024 & 1.47452 & 0.68145 \\\\\n",
       "\t4 & -22.9874 & 8.76363 & 4.81879 & 1.3093 & 0.844312 & 0.678798 & 0.507957 & 0.254833 & 0.115782 \\\\\n",
       "\t5 & -20.2852 & 7.03223 & 3.99251 & 0.844312 & 1.00988 & 0.659477 & 0.42799 & 0.221543 & 0.0963619 \\\\\n",
       "\t6 & -9.46231 & 5.73984 & 3.09052 & 0.678798 & 0.659477 & 0.808535 & 0.358523 & 0.177523 & 0.0857382 \\\\\n",
       "\t7 & -3.68548 & 5.67079 & 2.98024 & 0.507957 & 0.42799 & 0.358523 & 0.353652 & 0.154206 & 0.0738483 \\\\\n",
       "\t8 & -3.87437 & 3.30857 & 1.47452 & 0.254833 & 0.221543 & 0.177523 & 0.154206 & 0.248473 & 0.0391583 \\\\\n",
       "\t9 & 0.586382 & 1.30737 & 0.68145 & 0.115782 & 0.0963619 & 0.0857382 & 0.0738483 & 0.0391583 & 0.0202603 \\\\\n",
       "\\end{tabular}\n"
      ],
      "text/plain": [
       "\u001b[1m9×9 DataFrame\u001b[0m\n",
       "\u001b[1m Row \u001b[0m│\u001b[1m Serial No.   \u001b[0m\u001b[1m GRE Score  \u001b[0m\u001b[1m TOEFL Score \u001b[0m\u001b[1m University Rating \u001b[0m\u001b[1m SOP         \u001b[0m\u001b[1m LOR        \u001b[0m\u001b[1m CGPA       \u001b[0m\u001b[1m Research   \u001b[0m\u001b[1m Chance of Admit  \u001b[0m\n",
       "\u001b[1m     \u001b[0m│\u001b[90m Float64      \u001b[0m\u001b[90m Float64    \u001b[0m\u001b[90m Float64     \u001b[0m\u001b[90m Float64           \u001b[0m\u001b[90m Float64     \u001b[0m\u001b[90m Float64    \u001b[0m\u001b[90m Float64    \u001b[0m\u001b[90m Float64    \u001b[0m\u001b[90m Float64          \u001b[0m\n",
       "─────┼─────────────────────────────────────────────────────────────────────────────────────────────────────────────────────────────\n",
       "   1 │ 13300.0       -137.832     -108.887           -22.9874    -20.2852     -9.46231    -3.68548    -3.87437           0.586382\n",
       "   2 │  -137.832      131.315       57.9721            8.76363     7.03223     5.73984     5.67079     3.30857           1.30737\n",
       "   3 │  -108.887       57.9721      36.6999            4.81879     3.99251     3.09052     2.98024     1.47452           0.68145\n",
       "   4 │   -22.9874       8.76363      4.81879           1.3093      0.844312    0.678798    0.507957    0.254833          0.115782\n",
       "   5 │   -20.2852       7.03223      3.99251           0.844312    1.00988     0.659477    0.42799     0.221543          0.0963619\n",
       "   6 │    -9.46231      5.73984      3.09052           0.678798    0.659477    0.808535    0.358523    0.177523          0.0857382\n",
       "   7 │    -3.68548      5.67079      2.98024           0.507957    0.42799     0.358523    0.353652    0.154206          0.0738483\n",
       "   8 │    -3.87437      3.30857      1.47452           0.254833    0.221543    0.177523    0.154206    0.248473          0.0391583\n",
       "   9 │     0.586382     1.30737      0.68145           0.115782    0.0963619   0.0857382   0.0738483   0.0391583         0.0202603"
      ]
     },
     "execution_count": 66,
     "metadata": {},
     "output_type": "execute_result"
    }
   ],
   "source": [
    "DataFrame(cov(Matrix(df)), names(df)) # Compute pairwise covariances among the series in the DataFrame"
   ]
  },
  {
   "cell_type": "markdown",
   "metadata": {},
   "source": [
    "### Correlation"
   ]
  },
  {
   "cell_type": "code",
   "execution_count": 67,
   "metadata": {
    "ExecuteTime": {
     "end_time": "2021-05-22T12:24:04.349000+04:00",
     "start_time": "2021-05-22T08:24:04.237Z"
    }
   },
   "outputs": [
    {
     "data": {
      "text/html": [
       "<table class=\"data-frame\"><thead><tr><th></th><th>Serial No.</th><th>GRE Score</th><th>TOEFL Score</th><th>University Rating</th><th>SOP</th><th>LOR</th><th>CGPA</th><th>Research</th><th>Chance of Admit </th></tr><tr><th></th><th>Float64</th><th>Float64</th><th>Float64</th><th>Float64</th><th>Float64</th><th>Float64</th><th>Float64</th><th>Float64</th><th>Float64</th></tr></thead><tbody><p>9 rows × 9 columns</p><tr><th>1</th><td>1.0</td><td>-0.104296</td><td>-0.155854</td><td>-0.174199</td><td>-0.175032</td><td>-0.0912477</td><td>-0.0537378</td><td>-0.0673963</td><td>0.0357217</td></tr><tr><th>2</th><td>-0.104296</td><td>1.0</td><td>0.835083</td><td>0.668355</td><td>0.610661</td><td>0.557049</td><td>0.832144</td><td>0.579221</td><td>0.801527</td></tr><tr><th>3</th><td>-0.155854</td><td>0.835083</td><td>1.0</td><td>0.695161</td><td>0.655809</td><td>0.567348</td><td>0.827239</td><td>0.488292</td><td>0.790277</td></tr><tr><th>4</th><td>-0.174199</td><td>0.668355</td><td>0.695161</td><td>1.0</td><td>0.734256</td><td>0.659737</td><td>0.746482</td><td>0.446782</td><td>0.710885</td></tr><tr><th>5</th><td>-0.175032</td><td>0.610661</td><td>0.655809</td><td>0.734256</td><td>1.0</td><td>0.729818</td><td>0.71616</td><td>0.442266</td><td>0.67367</td></tr><tr><th>6</th><td>-0.0912477</td><td>0.557049</td><td>0.567348</td><td>0.659737</td><td>0.729818</td><td>1.0</td><td>0.670471</td><td>0.396064</td><td>0.669888</td></tr><tr><th>7</th><td>-0.0537378</td><td>0.832144</td><td>0.827239</td><td>0.746482</td><td>0.71616</td><td>0.670471</td><td>1.0</td><td>0.520205</td><td>0.87243</td></tr><tr><th>8</th><td>-0.0673963</td><td>0.579221</td><td>0.488292</td><td>0.446782</td><td>0.442266</td><td>0.396064</td><td>0.520205</td><td>1.0</td><td>0.551901</td></tr><tr><th>9</th><td>0.0357217</td><td>0.801527</td><td>0.790277</td><td>0.710885</td><td>0.67367</td><td>0.669888</td><td>0.87243</td><td>0.551901</td><td>1.0</td></tr></tbody></table>"
      ],
      "text/latex": [
       "\\begin{tabular}{r|ccccccccc}\n",
       "\t& Serial No. & GRE Score & TOEFL Score & University Rating & SOP & LOR & CGPA & Research & Chance of Admit \\\\\n",
       "\t\\hline\n",
       "\t& Float64 & Float64 & Float64 & Float64 & Float64 & Float64 & Float64 & Float64 & Float64\\\\\n",
       "\t\\hline\n",
       "\t1 & 1.0 & -0.104296 & -0.155854 & -0.174199 & -0.175032 & -0.0912477 & -0.0537378 & -0.0673963 & 0.0357217 \\\\\n",
       "\t2 & -0.104296 & 1.0 & 0.835083 & 0.668355 & 0.610661 & 0.557049 & 0.832144 & 0.579221 & 0.801527 \\\\\n",
       "\t3 & -0.155854 & 0.835083 & 1.0 & 0.695161 & 0.655809 & 0.567348 & 0.827239 & 0.488292 & 0.790277 \\\\\n",
       "\t4 & -0.174199 & 0.668355 & 0.695161 & 1.0 & 0.734256 & 0.659737 & 0.746482 & 0.446782 & 0.710885 \\\\\n",
       "\t5 & -0.175032 & 0.610661 & 0.655809 & 0.734256 & 1.0 & 0.729818 & 0.71616 & 0.442266 & 0.67367 \\\\\n",
       "\t6 & -0.0912477 & 0.557049 & 0.567348 & 0.659737 & 0.729818 & 1.0 & 0.670471 & 0.396064 & 0.669888 \\\\\n",
       "\t7 & -0.0537378 & 0.832144 & 0.827239 & 0.746482 & 0.71616 & 0.670471 & 1.0 & 0.520205 & 0.87243 \\\\\n",
       "\t8 & -0.0673963 & 0.579221 & 0.488292 & 0.446782 & 0.442266 & 0.396064 & 0.520205 & 1.0 & 0.551901 \\\\\n",
       "\t9 & 0.0357217 & 0.801527 & 0.790277 & 0.710885 & 0.67367 & 0.669888 & 0.87243 & 0.551901 & 1.0 \\\\\n",
       "\\end{tabular}\n"
      ],
      "text/plain": [
       "\u001b[1m9×9 DataFrame\u001b[0m\n",
       "\u001b[1m Row \u001b[0m│\u001b[1m Serial No. \u001b[0m\u001b[1m GRE Score \u001b[0m\u001b[1m TOEFL Score \u001b[0m\u001b[1m University Rating \u001b[0m\u001b[1m SOP       \u001b[0m\u001b[1m LOR        \u001b[0m\u001b[1m CGPA       \u001b[0m\u001b[1m Research   \u001b[0m\u001b[1m Chance of Admit  \u001b[0m\n",
       "\u001b[1m     \u001b[0m│\u001b[90m Float64    \u001b[0m\u001b[90m Float64   \u001b[0m\u001b[90m Float64     \u001b[0m\u001b[90m Float64           \u001b[0m\u001b[90m Float64   \u001b[0m\u001b[90m Float64    \u001b[0m\u001b[90m Float64    \u001b[0m\u001b[90m Float64    \u001b[0m\u001b[90m Float64          \u001b[0m\n",
       "─────┼────────────────────────────────────────────────────────────────────────────────────────────────────────────────────────\n",
       "   1 │  1.0        -0.104296    -0.155854          -0.174199  -0.175032  -0.0912477  -0.0537378  -0.0673963         0.0357217\n",
       "   2 │ -0.104296    1.0          0.835083           0.668355   0.610661   0.557049    0.832144    0.579221          0.801527\n",
       "   3 │ -0.155854    0.835083     1.0                0.695161   0.655809   0.567348    0.827239    0.488292          0.790277\n",
       "   4 │ -0.174199    0.668355     0.695161           1.0        0.734256   0.659737    0.746482    0.446782          0.710885\n",
       "   5 │ -0.175032    0.610661     0.655809           0.734256   1.0        0.729818    0.71616     0.442266          0.67367\n",
       "   6 │ -0.0912477   0.557049     0.567348           0.659737   0.729818   1.0         0.670471    0.396064          0.669888\n",
       "   7 │ -0.0537378   0.832144     0.827239           0.746482   0.71616    0.670471    1.0         0.520205          0.87243\n",
       "   8 │ -0.0673963   0.579221     0.488292           0.446782   0.442266   0.396064    0.520205    1.0               0.551901\n",
       "   9 │  0.0357217   0.801527     0.790277           0.710885   0.67367    0.669888    0.87243     0.551901          1.0"
      ]
     },
     "execution_count": 67,
     "metadata": {},
     "output_type": "execute_result"
    }
   ],
   "source": [
    "DataFrame(cor(Matrix(df)), names(df)) # Compute pairwise correlation among the series in the DataFrame"
   ]
  },
  {
   "cell_type": "markdown",
   "metadata": {},
   "source": [
    "We have the same situation as in case of covariance, or we see that above and below main diagonal there are the same elements. **Correlation is scaled form of the Covariance**, hence this result was expected too."
   ]
  },
  {
   "cell_type": "markdown",
   "metadata": {},
   "source": [
    "> **Covariance is a measure of correlation and it indicates direction of linear relationship between two variables.**\n",
    "\n",
    "\n",
    "> **Correlation is scaled Covariance or the values are standardized. Correlation measures both the strength and direction of the linear relationship between two variables**"
   ]
  },
  {
   "cell_type": "markdown",
   "metadata": {},
   "source": [
    "# Summary\n",
    "\n",
    "---\n",
    "\n",
    "In this class we've covered quite broad range of `DataFrames.jl` functionality. From the simplest operation of data creation or reading to performing statistical operations on DataFrames. In the next classes we dig deeper."
   ]
  }
 ],
 "metadata": {
  "kernelspec": {
   "display_name": "Julia 1.5.3",
   "language": "julia",
   "name": "julia-1.5"
  },
  "language_info": {
   "file_extension": ".jl",
   "mimetype": "application/julia",
   "name": "julia",
   "version": "1.5.3"
  },
  "varInspector": {
   "cols": {
    "lenName": 16,
    "lenType": 16,
    "lenVar": 40
   },
   "kernels_config": {
    "python": {
     "delete_cmd_postfix": "",
     "delete_cmd_prefix": "del ",
     "library": "var_list.py",
     "varRefreshCmd": "print(var_dic_list())"
    },
    "r": {
     "delete_cmd_postfix": ") ",
     "delete_cmd_prefix": "rm(",
     "library": "var_list.r",
     "varRefreshCmd": "cat(var_dic_list()) "
    }
   },
   "position": {
    "height": "144px",
    "left": "1548px",
    "right": "20px",
    "top": "121px",
    "width": "350px"
   },
   "types_to_exclude": [
    "module",
    "function",
    "builtin_function_or_method",
    "instance",
    "_Feature"
   ],
   "window_display": false
  }
 },
 "nbformat": 4,
 "nbformat_minor": 2
}
