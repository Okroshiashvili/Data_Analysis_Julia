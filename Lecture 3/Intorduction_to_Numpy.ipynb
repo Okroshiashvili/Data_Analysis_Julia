{
 "cells": [
  {
   "cell_type": "markdown",
   "metadata": {},
   "source": [
    "https://docs.julialang.org/en/v1/base/arrays/\n",
    "\n",
    "\n",
    "\n",
    "https://docs.julialang.org/en/v1/manual/arrays/\n",
    "\n",
    "\n",
    "\n",
    "https://docs.julialang.org/en/v1/stdlib/LinearAlgebra/\n",
    "\n",
    "\n",
    "\n",
    "https://cheatsheets.quantecon.org/julia-cheatsheet.html\n",
    "\n",
    "\n",
    "https://cheatsheets.quantecon.org/\n",
    "\n",
    "\n",
    "https://www.softcover.io/read/7b8eb7d0/juliabook/basics\n",
    "\n",
    "https://www.geeksforgeeks.org/arrays-in-julia/"
   ]
  },
  {
   "cell_type": "markdown",
   "metadata": {},
   "source": [
    "# Introduction to Array\n",
    "\n",
    "---\n",
    "\n",
    "Compared to Python, array operations in Julia is in standard library. Hence no need to use any external third party library. One more difference between arrays in Julia and arrays in Numpy is that, arrays in Julia are column oriented while in Numpy they are row oriented.\n",
    "\n",
    "In this lecture, we will talk about creating array with certain data types, manipulating array, selecting\n",
    "elements from arrays, as well as how to use its statistical and mathematical capabilities.\n",
    "\n",
    "\n",
    "### Lecture outline\n",
    "\n",
    "---\n",
    "\n",
    "* Scalar, Vector, Matrix, and N dimensional Array\n",
    "\n",
    "\n",
    "* Shape, Size, Dimension of matrices, and type of entries\n",
    "\n",
    "\n",
    "* Indexing and Slicing\n",
    "\n",
    "\n",
    "* Boolean Indexing\n",
    "\n",
    "\n",
    "* Element-wise Functions\n",
    "\n",
    "\n",
    "* Statistical Functions\n",
    "\n",
    "\n",
    "* Linear Algebra"
   ]
  },
  {
   "cell_type": "code",
   "execution_count": 79,
   "metadata": {
    "ExecuteTime": {
     "end_time": "2021-05-22T17:35:54.224000+04:00",
     "start_time": "2021-05-22T13:35:54.222Z"
    }
   },
   "outputs": [],
   "source": [
    "using LinearAlgebra\n",
    "using SparseArrays"
   ]
  },
  {
   "cell_type": "markdown",
   "metadata": {
    "collapsed": true,
    "heading_collapsed": true
   },
   "source": [
    "## Scalar, Vector, Matrix, NdArray or Tensor"
   ]
  },
  {
   "cell_type": "markdown",
   "metadata": {
    "ExecuteTime": {
     "end_time": "2020-12-13T10:56:24.457728Z",
     "start_time": "2020-12-13T10:56:24.343451Z"
    },
    "hidden": true
   },
   "source": [
    "![alt text](images/scalar-vector-matrix-tensor.png \"Title\")"
   ]
  },
  {
   "cell_type": "code",
   "execution_count": 1,
   "metadata": {
    "ExecuteTime": {
     "end_time": "2021-05-22T16:34:38.605000+04:00",
     "start_time": "2021-05-22T12:34:37.633Z"
    },
    "hidden": true
   },
   "outputs": [
    {
     "data": {
      "text/plain": [
       "5"
      ]
     },
     "execution_count": 1,
     "metadata": {},
     "output_type": "execute_result"
    }
   ],
   "source": [
    "# Scalar\n",
    "\n",
    "scalar = 5\n",
    "\n",
    "scalar"
   ]
  },
  {
   "cell_type": "code",
   "execution_count": 7,
   "metadata": {
    "ExecuteTime": {
     "end_time": "2021-05-22T16:38:10.171000+04:00",
     "start_time": "2021-05-22T12:38:10.166Z"
    },
    "hidden": true
   },
   "outputs": [
    {
     "data": {
      "text/plain": [
       "5-element Array{Int64,1}:\n",
       " 1\n",
       " 2\n",
       " 3\n",
       " 4\n",
       " 5"
      ]
     },
     "execution_count": 7,
     "metadata": {},
     "output_type": "execute_result"
    }
   ],
   "source": [
    "flat_array = [1, 2, 3, 4, 5]\n",
    "\n",
    "flat_array"
   ]
  },
  {
   "cell_type": "code",
   "execution_count": 8,
   "metadata": {
    "ExecuteTime": {
     "end_time": "2021-05-22T16:38:33.765000+04:00",
     "start_time": "2021-05-22T12:38:33.763Z"
    },
    "hidden": true
   },
   "outputs": [
    {
     "data": {
      "text/plain": [
       "1×5 Array{Int64,2}:\n",
       " 1  2  3  4  5"
      ]
     },
     "execution_count": 8,
     "metadata": {},
     "output_type": "execute_result"
    }
   ],
   "source": [
    "# Row vector: size (1, n)\n",
    "\n",
    "row_vector = [1 2 3 4 5]\n",
    "\n",
    "row_vector"
   ]
  },
  {
   "cell_type": "code",
   "execution_count": 11,
   "metadata": {
    "ExecuteTime": {
     "end_time": "2021-05-22T16:40:08.664000+04:00",
     "start_time": "2021-05-22T12:40:08.662Z"
    },
    "hidden": true
   },
   "outputs": [
    {
     "data": {
      "text/plain": [
       "5×1 LinearAlgebra.Adjoint{Int64,Array{Int64,2}}:\n",
       " 1\n",
       " 2\n",
       " 3\n",
       " 4\n",
       " 5"
      ]
     },
     "execution_count": 11,
     "metadata": {},
     "output_type": "execute_result"
    }
   ],
   "source": [
    "# Column vector: size (n, 1)\n",
    "\n",
    "column_vector = [1 2 3 4 5]'\n",
    "\n",
    "column_vector"
   ]
  },
  {
   "cell_type": "code",
   "execution_count": 12,
   "metadata": {
    "ExecuteTime": {
     "end_time": "2021-05-22T16:41:43.762000+04:00",
     "start_time": "2021-05-22T12:41:43.731Z"
    },
    "hidden": true
   },
   "outputs": [
    {
     "data": {
      "text/plain": [
       "5-element Array{Int64,1}:\n",
       " 1\n",
       " 2\n",
       " 3\n",
       " 4\n",
       " 5"
      ]
     },
     "execution_count": 12,
     "metadata": {},
     "output_type": "execute_result"
    }
   ],
   "source": [
    "# 1d array: size (n, )\n",
    "\n",
    "arr = [1; 2; 3; 4; 5]\n",
    "\n",
    "arr"
   ]
  },
  {
   "cell_type": "code",
   "execution_count": 18,
   "metadata": {
    "ExecuteTime": {
     "end_time": "2021-05-22T16:45:06.649000+04:00",
     "start_time": "2021-05-22T12:45:06.641Z"
    },
    "hidden": true
   },
   "outputs": [
    {
     "data": {
      "text/plain": [
       "3×3 Array{Int64,2}:\n",
       " 1  2  3\n",
       " 4  5  6\n",
       " 7  8  9"
      ]
     },
     "execution_count": 18,
     "metadata": {},
     "output_type": "execute_result"
    }
   ],
   "source": [
    "# Matrix - 2D array: size(n, m)\n",
    "\n",
    "matrix = [1 2 3;\n",
    "          4 5 6;\n",
    "          7 8 9]\n",
    "\n",
    "matrix"
   ]
  },
  {
   "cell_type": "markdown",
   "metadata": {
    "hidden": true
   },
   "source": [
    "#### Tensor\n",
    "\n",
    "![alt text](images/tensor.png \"Title\")"
   ]
  },
  {
   "cell_type": "code",
   "execution_count": 56,
   "metadata": {
    "ExecuteTime": {
     "end_time": "2021-05-22T17:07:32.409000+04:00",
     "start_time": "2021-05-22T13:07:32.376Z"
    },
    "hidden": true
   },
   "outputs": [
    {
     "data": {
      "text/plain": [
       "4×3×3 Array{Int64,3}:\n",
       "[:, :, 1] =\n",
       " 0   1   2\n",
       " 3   4   5\n",
       " 6   7   8\n",
       " 9  10  11\n",
       "\n",
       "[:, :, 2] =\n",
       " 12  13  14\n",
       " 15  16  17\n",
       " 18  19  20\n",
       " 21  22  23\n",
       "\n",
       "[:, :, 3] =\n",
       " 24  25  26\n",
       " 27  28  29\n",
       " 30  31  32\n",
       " 33  34  35"
      ]
     },
     "execution_count": 56,
     "metadata": {},
     "output_type": "execute_result"
    }
   ],
   "source": [
    "cat(reshape(0:11, 3, 4)', reshape(12:23, 3, 4)', reshape(24:35, 3, 4)', dims=3)"
   ]
  },
  {
   "cell_type": "markdown",
   "metadata": {
    "heading_collapsed": true,
    "hidden": true
   },
   "source": [
    "### Different types of matrices\n",
    "\n",
    "Julia have functions which can generate different matrices."
   ]
  },
  {
   "cell_type": "code",
   "execution_count": 59,
   "metadata": {
    "ExecuteTime": {
     "end_time": "2021-05-22T17:09:49.725000+04:00",
     "start_time": "2021-05-22T13:09:49.694Z"
    },
    "hidden": true
   },
   "outputs": [
    {
     "data": {
      "text/plain": [
       "3×3 Array{Float64,2}:\n",
       " 1.0  1.0  1.0\n",
       " 1.0  1.0  1.0\n",
       " 1.0  1.0  1.0"
      ]
     },
     "execution_count": 59,
     "metadata": {},
     "output_type": "execute_result"
    }
   ],
   "source": [
    "# Matrix of ones\n",
    "\n",
    "ones(3, 3)"
   ]
  },
  {
   "cell_type": "code",
   "execution_count": 60,
   "metadata": {
    "ExecuteTime": {
     "end_time": "2021-05-22T17:10:00.144000+04:00",
     "start_time": "2021-05-22T13:10:00.128Z"
    },
    "hidden": true
   },
   "outputs": [
    {
     "data": {
      "text/plain": [
       "3×3 Array{Float64,2}:\n",
       " 0.0  0.0  0.0\n",
       " 0.0  0.0  0.0\n",
       " 0.0  0.0  0.0"
      ]
     },
     "execution_count": 60,
     "metadata": {},
     "output_type": "execute_result"
    }
   ],
   "source": [
    "# Matrix of zeros\n",
    "\n",
    "zeros(3, 3)"
   ]
  },
  {
   "cell_type": "code",
   "execution_count": 78,
   "metadata": {
    "ExecuteTime": {
     "end_time": "2021-05-22T17:35:41.381000+04:00",
     "start_time": "2021-05-22T13:35:41.375Z"
    },
    "hidden": true
   },
   "outputs": [
    {
     "data": {
      "text/plain": [
       "3×3 Array{Bool,2}:\n",
       " 1  0  0\n",
       " 0  1  0\n",
       " 0  0  1"
      ]
     },
     "execution_count": 78,
     "metadata": {},
     "output_type": "execute_result"
    }
   ],
   "source": [
    "# Identity matrix\n",
    "\n",
    "Matrix(I, 3, 3)"
   ]
  },
  {
   "cell_type": "code",
   "execution_count": 80,
   "metadata": {
    "ExecuteTime": {
     "end_time": "2021-05-22T17:37:13.867000+04:00",
     "start_time": "2021-05-22T13:37:13.098Z"
    },
    "hidden": true
   },
   "outputs": [
    {
     "data": {
      "text/plain": [
       "3×3 Diagonal{Int64,Array{Int64,1}}:\n",
       " 1  ⋅  ⋅\n",
       " ⋅  2  ⋅\n",
       " ⋅  ⋅  3"
      ]
     },
     "execution_count": 80,
     "metadata": {},
     "output_type": "execute_result"
    }
   ],
   "source": [
    "# Diagonal matrix\n",
    "\n",
    "Diagonal([1, 2, 3])"
   ]
  },
  {
   "cell_type": "markdown",
   "metadata": {
    "hidden": true
   },
   "source": [
    "There exists `Sparse Matrices`, where most of the values are zeros and few of them are non-zero. If we represent sparse matrices in a usual way it will take huge amount of memory. Hence, it's better to represent them in a compact way. That's where the notion sparse matrix comes in."
   ]
  },
  {
   "cell_type": "code",
   "execution_count": 87,
   "metadata": {
    "ExecuteTime": {
     "end_time": "2021-05-22T17:40:44.410000+04:00",
     "start_time": "2021-05-22T13:40:43.896Z"
    },
    "hidden": true
   },
   "outputs": [
    {
     "data": {
      "text/plain": [
       "3×3 SparseMatrixCSC{Bool,Int64} with 3 stored entries:\n",
       "  [1, 1]  =  1\n",
       "  [2, 2]  =  1\n",
       "  [3, 3]  =  1"
      ]
     },
     "execution_count": 87,
     "metadata": {},
     "output_type": "execute_result"
    }
   ],
   "source": [
    "\n",
    "\n",
    "sparse(Matrix(I, 3, 3))"
   ]
  },
  {
   "cell_type": "markdown",
   "metadata": {
    "heading_collapsed": true
   },
   "source": [
    "## Shape, Size, Dimension of matrices, and type of entries"
   ]
  },
  {
   "cell_type": "code",
   "execution_count": 93,
   "metadata": {
    "ExecuteTime": {
     "end_time": "2021-05-22T17:52:13.617000+04:00",
     "start_time": "2021-05-22T13:52:13.612Z"
    },
    "hidden": true
   },
   "outputs": [
    {
     "data": {
      "text/plain": [
       "3×3 Array{Int64,2}:\n",
       " 1  2  3\n",
       " 4  5  6\n",
       " 7  8  9"
      ]
     },
     "execution_count": 93,
     "metadata": {},
     "output_type": "execute_result"
    }
   ],
   "source": [
    "matrix"
   ]
  },
  {
   "cell_type": "code",
   "execution_count": 94,
   "metadata": {
    "ExecuteTime": {
     "end_time": "2021-05-22T17:52:19.417000+04:00",
     "start_time": "2021-05-22T13:52:19.412Z"
    },
    "hidden": true
   },
   "outputs": [
    {
     "data": {
      "text/plain": [
       "(3, 3)"
      ]
     },
     "execution_count": 94,
     "metadata": {},
     "output_type": "execute_result"
    }
   ],
   "source": [
    "# Number of rows and columns\n",
    "\n",
    "size(matrix)"
   ]
  },
  {
   "cell_type": "code",
   "execution_count": 96,
   "metadata": {
    "ExecuteTime": {
     "end_time": "2021-05-22T17:53:37.072000+04:00",
     "start_time": "2021-05-22T13:53:37.060Z"
    },
    "hidden": true
   },
   "outputs": [
    {
     "data": {
      "text/plain": [
       "9"
      ]
     },
     "execution_count": 96,
     "metadata": {},
     "output_type": "execute_result"
    }
   ],
   "source": [
    "# Number of elements (rows * columns)\n",
    "\n",
    "length(matrix)"
   ]
  },
  {
   "cell_type": "code",
   "execution_count": 95,
   "metadata": {
    "ExecuteTime": {
     "end_time": "2021-05-22T17:52:48.423000+04:00",
     "start_time": "2021-05-22T13:52:48.418Z"
    },
    "hidden": true
   },
   "outputs": [
    {
     "data": {
      "text/plain": [
       "2"
      ]
     },
     "execution_count": 95,
     "metadata": {},
     "output_type": "execute_result"
    }
   ],
   "source": [
    "# Number of dimensions (axis)\n",
    "\n",
    "ndims(matrix)"
   ]
  },
  {
   "cell_type": "code",
   "execution_count": 97,
   "metadata": {
    "ExecuteTime": {
     "end_time": "2021-05-22T17:54:27.159000+04:00",
     "start_time": "2021-05-22T13:54:26.957Z"
    },
    "hidden": true
   },
   "outputs": [
    {
     "data": {
      "text/plain": [
       "Int64"
      ]
     },
     "execution_count": 97,
     "metadata": {},
     "output_type": "execute_result"
    }
   ],
   "source": [
    "# Check the type of entries\n",
    "\n",
    "eltype(matrix)"
   ]
  },
  {
   "cell_type": "markdown",
   "metadata": {
    "hidden": true
   },
   "source": [
    "### Numpy `arange` and `linspace`\n",
    "\n",
    "---\n",
    "\n",
    "They are used to generate sequence of numbers in some range"
   ]
  },
  {
   "cell_type": "markdown",
   "metadata": {
    "hidden": true
   },
   "source": [
    "![alt text](images/arange.png \"Title\")"
   ]
  },
  {
   "cell_type": "code",
   "execution_count": 19,
   "metadata": {
    "ExecuteTime": {
     "end_time": "2021-02-01T15:58:45.361220Z",
     "start_time": "2021-02-01T15:58:45.357059Z"
    },
    "hidden": true
   },
   "outputs": [
    {
     "data": {
      "text/plain": [
       "array([30. , 30.2, 30.4, 30.6, 30.8, 31. , 31.2, 31.4, 31.6, 31.8, 32. ,\n",
       "       32.2, 32.4, 32.6, 32.8, 33. , 33.2, 33.4, 33.6, 33.8, 34. , 34.2,\n",
       "       34.4, 34.6, 34.8, 35. , 35.2, 35.4, 35.6, 35.8, 36. , 36.2, 36.4,\n",
       "       36.6, 36.8, 37. , 37.2, 37.4, 37.6, 37.8, 38. , 38.2, 38.4, 38.6,\n",
       "       38.8, 39. , 39.2, 39.4, 39.6, 39.8])"
      ]
     },
     "execution_count": 19,
     "metadata": {},
     "output_type": "execute_result"
    }
   ],
   "source": [
    "np.arange(start=30, stop=40, step=1) # upper boundary is not included"
   ]
  },
  {
   "cell_type": "code",
   "execution_count": 21,
   "metadata": {
    "ExecuteTime": {
     "end_time": "2021-02-01T15:59:35.172977Z",
     "start_time": "2021-02-01T15:59:35.167954Z"
    },
    "hidden": true
   },
   "outputs": [
    {
     "data": {
      "text/plain": [
       "array([30.        , 30.71428571, 31.42857143, 32.14285714, 32.85714286,\n",
       "       33.57142857, 34.28571429, 35.        , 35.71428571, 36.42857143,\n",
       "       37.14285714, 37.85714286, 38.57142857, 39.28571429, 40.        ])"
      ]
     },
     "execution_count": 21,
     "metadata": {},
     "output_type": "execute_result"
    }
   ],
   "source": [
    "np.linspace(start=30, stop=40, num=15) # upper boundary is included"
   ]
  },
  {
   "cell_type": "markdown",
   "metadata": {},
   "source": [
    "## Indexing and Slicing\n",
    "\n",
    "---\n",
    "\n",
    "Indexing, slicing and iterating are extremely important for data manipulation and analysis because these techinques allow us to select data based on conditions, and copy or update data. Slicing is a way to create a sub-array based on the original array."
   ]
  },
  {
   "cell_type": "code",
   "execution_count": 110,
   "metadata": {
    "ExecuteTime": {
     "end_time": "2021-05-22T17:59:36.382000+04:00",
     "start_time": "2021-05-22T13:59:36.375Z"
    }
   },
   "outputs": [
    {
     "data": {
      "text/plain": [
       "4-element Array{Int64,1}:\n",
       " 15\n",
       " 20\n",
       " 25\n",
       " 30"
      ]
     },
     "execution_count": 110,
     "metadata": {},
     "output_type": "execute_result"
    }
   ],
   "source": [
    "# Indexing for vector\n",
    "\n",
    "row_vector = [5 15 20 25 30 35]\n",
    "\n",
    "row_vector[1]\n",
    "\n",
    "row_vector[3:end]\n",
    "\n",
    "row_vector[2:5]"
   ]
  },
  {
   "cell_type": "markdown",
   "metadata": {},
   "source": [
    "**Indexing for matrices is slightly different compared to vector because we have axis there and we have to figure out which axis do we need. In multidimensional arrays, the first argument is for selecting rows, and the second argument is for selecting columns.**"
   ]
  },
  {
   "cell_type": "code",
   "execution_count": 116,
   "metadata": {
    "ExecuteTime": {
     "end_time": "2021-05-22T18:01:00.505000+04:00",
     "start_time": "2021-05-22T14:01:00.501Z"
    }
   },
   "outputs": [
    {
     "data": {
      "text/plain": [
       "3×3 Array{Int64,2}:\n",
       " 1  2  3\n",
       " 4  5  6\n",
       " 7  8  9"
      ]
     },
     "execution_count": 116,
     "metadata": {},
     "output_type": "execute_result"
    }
   ],
   "source": [
    "matrix"
   ]
  },
  {
   "cell_type": "code",
   "execution_count": 125,
   "metadata": {
    "ExecuteTime": {
     "end_time": "2021-05-22T18:05:56.899000+04:00",
     "start_time": "2021-05-22T14:05:56.891Z"
    }
   },
   "outputs": [
    {
     "data": {
      "text/plain": [
       "9-element Array{Int64,1}:\n",
       " 1\n",
       " 4\n",
       " 7\n",
       " 2\n",
       " 5\n",
       " 8\n",
       " 3\n",
       " 6\n",
       " 9"
      ]
     },
     "execution_count": 125,
     "metadata": {},
     "output_type": "execute_result"
    }
   ],
   "source": [
    "# Indexing for matrices\n",
    "\n",
    "\n",
    "matrix[1, 1] # Select first element\n",
    "\n",
    "matrix[:, 1] # Select first column vector\n",
    "\n",
    "matrix[:2, :] # Select second row and all columns of a matrix\n",
    "\n",
    "matrix[:, 1:2] # Select all rows and first two columns\n",
    "\n",
    "matrix[:] # Convert matrix to a vector"
   ]
  },
  {
   "cell_type": "markdown",
   "metadata": {},
   "source": [
    "## Boolean Indexing\n",
    "\n",
    "---\n",
    "\n",
    "Boolean indexing allows us to select arbitrary elements based on conditions. For example, if we want to find elements that are greater than 5 in a matrix we set up a conditon and it returns boolean values"
   ]
  },
  {
   "cell_type": "code",
   "execution_count": 126,
   "metadata": {
    "ExecuteTime": {
     "end_time": "2021-05-22T18:06:02.314000+04:00",
     "start_time": "2021-05-22T14:06:02.309Z"
    }
   },
   "outputs": [
    {
     "data": {
      "text/plain": [
       "3×3 Array{Int64,2}:\n",
       " 1  2  3\n",
       " 4  5  6\n",
       " 7  8  9"
      ]
     },
     "execution_count": 126,
     "metadata": {},
     "output_type": "execute_result"
    }
   ],
   "source": [
    "matrix"
   ]
  },
  {
   "cell_type": "code",
   "execution_count": 128,
   "metadata": {
    "ExecuteTime": {
     "end_time": "2021-05-22T18:06:15.315000+04:00",
     "start_time": "2021-05-22T14:06:14.381Z"
    }
   },
   "outputs": [
    {
     "data": {
      "text/plain": [
       "3×3 BitArray{2}:\n",
       " 0  0  0\n",
       " 0  0  1\n",
       " 1  1  1"
      ]
     },
     "execution_count": 128,
     "metadata": {},
     "output_type": "execute_result"
    }
   ],
   "source": [
    "matrix .> 5"
   ]
  },
  {
   "cell_type": "code",
   "execution_count": 129,
   "metadata": {
    "ExecuteTime": {
     "end_time": "2021-05-22T18:06:21.243000+04:00",
     "start_time": "2021-05-22T14:06:21.175Z"
    }
   },
   "outputs": [
    {
     "data": {
      "text/plain": [
       "4-element Array{Int64,1}:\n",
       " 7\n",
       " 8\n",
       " 6\n",
       " 9"
      ]
     },
     "execution_count": 129,
     "metadata": {},
     "output_type": "execute_result"
    }
   ],
   "source": [
    "matrix[matrix .> 5]"
   ]
  },
  {
   "cell_type": "code",
   "execution_count": 130,
   "metadata": {
    "ExecuteTime": {
     "end_time": "2021-05-22T18:06:35.369000+04:00",
     "start_time": "2021-05-22T14:06:35.205Z"
    }
   },
   "outputs": [
    {
     "data": {
      "text/plain": [
       "5-element Array{Int64,1}:\n",
       " 1\n",
       " 4\n",
       " 2\n",
       " 5\n",
       " 3"
      ]
     },
     "execution_count": 130,
     "metadata": {},
     "output_type": "execute_result"
    }
   ],
   "source": [
    "# Tilde is the negation operator. It converts True to False and False to True\n",
    "\n",
    "matrix[.!(matrix .> 5)]"
   ]
  },
  {
   "cell_type": "markdown",
   "metadata": {},
   "source": [
    "We can combine several conditions by using boolean arithmetic operators such as & (and) and | (or)"
   ]
  },
  {
   "cell_type": "code",
   "execution_count": 133,
   "metadata": {
    "ExecuteTime": {
     "end_time": "2021-05-22T18:07:01.537000+04:00",
     "start_time": "2021-05-22T14:07:01.320Z"
    }
   },
   "outputs": [
    {
     "data": {
      "text/plain": [
       "3×3 BitArray{2}:\n",
       " 0  0  0\n",
       " 1  1  1\n",
       " 0  0  0"
      ]
     },
     "execution_count": 133,
     "metadata": {},
     "output_type": "execute_result"
    }
   ],
   "source": [
    "(matrix .> 3) .& (matrix .< 7)"
   ]
  },
  {
   "cell_type": "code",
   "execution_count": 134,
   "metadata": {
    "ExecuteTime": {
     "end_time": "2021-05-22T18:07:13.759000+04:00",
     "start_time": "2021-05-22T14:07:13.752Z"
    }
   },
   "outputs": [
    {
     "data": {
      "text/plain": [
       "3-element Array{Int64,1}:\n",
       " 4\n",
       " 5\n",
       " 6"
      ]
     },
     "execution_count": 134,
     "metadata": {},
     "output_type": "execute_result"
    }
   ],
   "source": [
    "matrix[(matrix .> 3) .& (matrix .< 7)]"
   ]
  },
  {
   "cell_type": "markdown",
   "metadata": {},
   "source": [
    "## Arithmetic Operations On Array\n",
    "\n",
    "---\n",
    "\n",
    "We can do many things on arrays, such as mathematical manipulation such as addition, subtraction, square, exponents. These operators on array apply elementwise."
   ]
  },
  {
   "cell_type": "code",
   "execution_count": 135,
   "metadata": {
    "ExecuteTime": {
     "end_time": "2021-05-22T18:09:20.707000+04:00",
     "start_time": "2021-05-22T14:09:20.701Z"
    }
   },
   "outputs": [
    {
     "data": {
      "text/plain": [
       "5-element Array{Int64,1}:\n",
       " 1\n",
       " 2\n",
       " 3\n",
       " 4\n",
       " 5"
      ]
     },
     "execution_count": 135,
     "metadata": {},
     "output_type": "execute_result"
    }
   ],
   "source": [
    "a = [10, 20, 30, 40, 50]\n",
    "\n",
    "b = [1, 2, 3, 4, 5]"
   ]
  },
  {
   "cell_type": "code",
   "execution_count": 147,
   "metadata": {
    "ExecuteTime": {
     "end_time": "2021-05-22T18:10:37.003000+04:00",
     "start_time": "2021-05-22T14:10:36.952Z"
    }
   },
   "outputs": [
    {
     "data": {
      "text/plain": [
       "5-element Array{Int64,1}:\n",
       "        10\n",
       "       400\n",
       "     27000\n",
       "   2560000\n",
       " 312500000"
      ]
     },
     "execution_count": 147,
     "metadata": {},
     "output_type": "execute_result"
    }
   ],
   "source": [
    "a - b\n",
    "\n",
    "a + b\n",
    "\n",
    "a ./ b\n",
    "\n",
    "a .* b\n",
    "\n",
    "a .^ b"
   ]
  },
  {
   "cell_type": "markdown",
   "metadata": {},
   "source": [
    "## Element-Wise Array Functions"
   ]
  },
  {
   "cell_type": "code",
   "execution_count": 150,
   "metadata": {
    "ExecuteTime": {
     "end_time": "2021-05-22T18:18:53.629000+04:00",
     "start_time": "2021-05-22T14:18:53.624Z"
    }
   },
   "outputs": [
    {
     "data": {
      "text/plain": [
       "5-element Array{Int64,1}:\n",
       "  4\n",
       "  8\n",
       " 16\n",
       " 20\n",
       " 25"
      ]
     },
     "execution_count": 150,
     "metadata": {},
     "output_type": "execute_result"
    }
   ],
   "source": [
    "arr = [4, 8, 16, 20, 25]\n",
    "\n",
    "\n",
    "arr"
   ]
  },
  {
   "cell_type": "code",
   "execution_count": 154,
   "metadata": {
    "ExecuteTime": {
     "end_time": "2021-05-22T18:36:25.613000+04:00",
     "start_time": "2021-05-22T14:36:25.558Z"
    }
   },
   "outputs": [
    {
     "data": {
      "text/plain": [
       "5-element Array{Float64,1}:\n",
       " 1.3862943611198906\n",
       " 2.0794415416798357\n",
       " 2.772588722239781\n",
       " 2.995732273553991\n",
       " 3.2188758248682006"
      ]
     },
     "execution_count": 154,
     "metadata": {},
     "output_type": "execute_result"
    }
   ],
   "source": [
    "sqrt.(arr) # Square root of array values\n",
    "\n",
    "exp.(arr) # Exponent of array values\n",
    "\n",
    "log.(arr) # Natural logarithm of array values"
   ]
  },
  {
   "cell_type": "markdown",
   "metadata": {},
   "source": [
    "## Statistical Methods"
   ]
  },
  {
   "cell_type": "code",
   "execution_count": 157,
   "metadata": {
    "ExecuteTime": {
     "end_time": "2021-05-22T18:38:19.425000+04:00",
     "start_time": "2021-05-22T14:38:19.421Z"
    }
   },
   "outputs": [
    {
     "data": {
      "text/plain": [
       "3×3 Array{Int64,2}:\n",
       " 1  2  3\n",
       " 4  5  6\n",
       " 7  8  9"
      ]
     },
     "execution_count": 157,
     "metadata": {},
     "output_type": "execute_result"
    }
   ],
   "source": [
    "matrix"
   ]
  },
  {
   "cell_type": "code",
   "execution_count": 159,
   "metadata": {
    "ExecuteTime": {
     "end_time": "2021-05-22T18:38:38.908000+04:00",
     "start_time": "2021-05-22T14:38:38.864Z"
    }
   },
   "outputs": [
    {
     "data": {
      "text/plain": [
       "1"
      ]
     },
     "execution_count": 159,
     "metadata": {},
     "output_type": "execute_result"
    }
   ],
   "source": [
    "maximum(matrix) # Maximum element in matrix\n",
    "\n",
    "minimum(matrix) # Minimum element in matrix"
   ]
  },
  {
   "cell_type": "markdown",
   "metadata": {},
   "source": [
    "Ofter, we need to know the maximum and minimum value along an axis."
   ]
  },
  {
   "cell_type": "code",
   "execution_count": 169,
   "metadata": {
    "ExecuteTime": {
     "end_time": "2021-05-22T18:41:54.479000+04:00",
     "start_time": "2021-05-22T14:41:54.472Z"
    }
   },
   "outputs": [
    {
     "data": {
      "text/plain": [
       "([3; 6; 9], CartesianIndex{2}[CartesianIndex(1, 3); CartesianIndex(2, 3); CartesianIndex(3, 3)])"
      ]
     },
     "execution_count": 169,
     "metadata": {},
     "output_type": "execute_result"
    }
   ],
   "source": [
    "findmax(matrix, dims=1) # Along x axis\n",
    "\n",
    "findmax(matrix, dims=2) # Along y axis"
   ]
  },
  {
   "cell_type": "markdown",
   "metadata": {},
   "source": [
    "We can calculate sum and cumulative sum of array elements"
   ]
  },
  {
   "cell_type": "code",
   "execution_count": 183,
   "metadata": {
    "ExecuteTime": {
     "end_time": "2021-05-22T21:12:09.162000+04:00",
     "start_time": "2021-05-22T17:12:09.157Z"
    }
   },
   "outputs": [
    {
     "data": {
      "text/plain": [
       "3×3 Array{Int64,2}:\n",
       " 1   3   6\n",
       " 4   9  15\n",
       " 7  15  24"
      ]
     },
     "execution_count": 183,
     "metadata": {},
     "output_type": "execute_result"
    }
   ],
   "source": [
    "sum(matrix) # Sum of the elements\n",
    "\n",
    "sum(matrix, dims=1) # Sum along x axis\n",
    "\n",
    "sum(matrix, dims=2) # Sum along y axis\n",
    "\n",
    "cumsum(matrix, dims=1) # Cumulative sum along x axis\n",
    "\n",
    "cumsum(matrix, dims=2) # Cumulative sum along y axis"
   ]
  },
  {
   "cell_type": "markdown",
   "metadata": {},
   "source": [
    "# ზემოთ კარგი ყველაფერი"
   ]
  },
  {
   "cell_type": "markdown",
   "metadata": {},
   "source": [
    "## Linear Algebra\n",
    "\n",
    "---\n",
    "\n",
    "Numpy is highly optimized for linear algebra operations. These are operations defined mostly on matrices and may differ from conventional operations. For example multiplication operations is different in case of matrices then for just two numbers."
   ]
  },
  {
   "cell_type": "code",
   "execution_count": 55,
   "metadata": {
    "ExecuteTime": {
     "end_time": "2021-02-01T16:24:11.476186Z",
     "start_time": "2021-02-01T16:24:11.472962Z"
    }
   },
   "outputs": [
    {
     "data": {
      "text/plain": [
       "array([[1, 2, 3],\n",
       "       [4, 5, 6],\n",
       "       [7, 8, 9]])"
      ]
     },
     "execution_count": 55,
     "metadata": {},
     "output_type": "execute_result"
    }
   ],
   "source": [
    "matrix"
   ]
  },
  {
   "cell_type": "code",
   "execution_count": 56,
   "metadata": {
    "ExecuteTime": {
     "end_time": "2021-02-01T16:24:36.362419Z",
     "start_time": "2021-02-01T16:24:36.356091Z"
    }
   },
   "outputs": [
    {
     "data": {
      "text/plain": [
       "array([[1, 4, 7],\n",
       "       [2, 5, 8],\n",
       "       [3, 6, 9]])"
      ]
     },
     "execution_count": 56,
     "metadata": {},
     "output_type": "execute_result"
    }
   ],
   "source": [
    "# Transposing a matrix means to exchange rows and columns\n",
    "\n",
    "matrix.T"
   ]
  },
  {
   "cell_type": "code",
   "execution_count": 57,
   "metadata": {
    "ExecuteTime": {
     "end_time": "2021-02-01T16:25:12.296367Z",
     "start_time": "2021-02-01T16:25:12.291570Z"
    }
   },
   "outputs": [
    {
     "data": {
      "text/plain": [
       "array([[ 1,  4,  9],\n",
       "       [16, 25, 36],\n",
       "       [49, 64, 81]])"
      ]
     },
     "execution_count": 57,
     "metadata": {},
     "output_type": "execute_result"
    }
   ],
   "source": [
    "# star (*) operator performs elementwise multiplications between matrices\n",
    "\n",
    "matrix * matrix"
   ]
  },
  {
   "cell_type": "code",
   "execution_count": 58,
   "metadata": {
    "ExecuteTime": {
     "end_time": "2021-02-01T16:25:53.766659Z",
     "start_time": "2021-02-01T16:25:53.762490Z"
    }
   },
   "outputs": [
    {
     "data": {
      "text/plain": [
       "array([[ 30,  36,  42],\n",
       "       [ 66,  81,  96],\n",
       "       [102, 126, 150]])"
      ]
     },
     "execution_count": 58,
     "metadata": {},
     "output_type": "execute_result"
    }
   ],
   "source": [
    "# To have proper matrix multiplication we have to use .dot() method or @ sign\n",
    "\n",
    "np.dot(matrix, matrix)\n",
    "\n",
    "matrix @ matrix"
   ]
  },
  {
   "cell_type": "code",
   "execution_count": 60,
   "metadata": {
    "ExecuteTime": {
     "end_time": "2021-02-01T16:27:38.416057Z",
     "start_time": "2021-02-01T16:27:38.412186Z"
    }
   },
   "outputs": [
    {
     "data": {
      "text/plain": [
       "array([[1, 2, 3],\n",
       "       [4, 5, 6],\n",
       "       [7, 8, 9]])"
      ]
     },
     "execution_count": 60,
     "metadata": {},
     "output_type": "execute_result"
    }
   ],
   "source": [
    "matrix"
   ]
  },
  {
   "cell_type": "code",
   "execution_count": 59,
   "metadata": {
    "ExecuteTime": {
     "end_time": "2021-02-01T16:27:32.533281Z",
     "start_time": "2021-02-01T16:27:32.530441Z"
    }
   },
   "outputs": [
    {
     "data": {
      "text/plain": [
       "array([1, 5, 9])"
      ]
     },
     "execution_count": 59,
     "metadata": {},
     "output_type": "execute_result"
    }
   ],
   "source": [
    "# Diagonal elements of a matrix\n",
    "\n",
    "np.diag(matrix)"
   ]
  },
  {
   "cell_type": "code",
   "execution_count": 61,
   "metadata": {
    "ExecuteTime": {
     "end_time": "2021-02-01T16:27:49.967765Z",
     "start_time": "2021-02-01T16:27:49.964552Z"
    }
   },
   "outputs": [
    {
     "data": {
      "text/plain": [
       "15"
      ]
     },
     "execution_count": 61,
     "metadata": {},
     "output_type": "execute_result"
    }
   ],
   "source": [
    "# Find the trace of a matrix - Trace is the sum of the main diagonal elements\n",
    "\n",
    "np.trace(matrix)"
   ]
  },
  {
   "cell_type": "markdown",
   "metadata": {},
   "source": [
    "NumPy has dedicated sub-package or sub-library for linear algebra operations. We can see few of them."
   ]
  },
  {
   "cell_type": "code",
   "execution_count": 62,
   "metadata": {
    "ExecuteTime": {
     "end_time": "2021-02-01T16:27:57.362604Z",
     "start_time": "2021-02-01T16:27:57.358723Z"
    }
   },
   "outputs": [
    {
     "data": {
      "text/plain": [
       "array([[1, 2, 3],\n",
       "       [4, 5, 6],\n",
       "       [7, 8, 9]])"
      ]
     },
     "execution_count": 62,
     "metadata": {},
     "output_type": "execute_result"
    }
   ],
   "source": [
    "matrix"
   ]
  },
  {
   "cell_type": "code",
   "execution_count": 63,
   "metadata": {
    "ExecuteTime": {
     "end_time": "2021-02-01T16:28:19.742879Z",
     "start_time": "2021-02-01T16:28:19.734087Z"
    }
   },
   "outputs": [
    {
     "data": {
      "text/plain": [
       "-9.51619735392994e-16"
      ]
     },
     "execution_count": 63,
     "metadata": {},
     "output_type": "execute_result"
    }
   ],
   "source": [
    "# Find the determinant of a matrix\n",
    "\n",
    "np.linalg.det(matrix)"
   ]
  },
  {
   "cell_type": "code",
   "execution_count": null,
   "metadata": {
    "ExecuteTime": {
     "end_time": "2020-12-13T19:31:33.699725Z",
     "start_time": "2020-12-13T19:31:33.687799Z"
    }
   },
   "outputs": [],
   "source": [
    "# Find the inverse of a matrix\n",
    "\n",
    "np.linalg.inv(matrix)"
   ]
  },
  {
   "cell_type": "markdown",
   "metadata": {},
   "source": [
    "# Summary\n",
    "\n",
    "---\n",
    "\n",
    "This lecture has to be a strong foundation of towards more advanced Pandas as Pandas is built on top of NumPy and many of the functions and capabilities of NumPy are available to you within Pandas."
   ]
  }
 ],
 "metadata": {
  "kernelspec": {
   "display_name": "Julia 1.5.3",
   "language": "julia",
   "name": "julia-1.5"
  },
  "language_info": {
   "file_extension": ".jl",
   "mimetype": "application/julia",
   "name": "julia",
   "version": "1.5.3"
  },
  "varInspector": {
   "cols": {
    "lenName": 16,
    "lenType": 16,
    "lenVar": 40
   },
   "kernels_config": {
    "python": {
     "delete_cmd_postfix": "",
     "delete_cmd_prefix": "del ",
     "library": "var_list.py",
     "varRefreshCmd": "print(var_dic_list())"
    },
    "r": {
     "delete_cmd_postfix": ") ",
     "delete_cmd_prefix": "rm(",
     "library": "var_list.r",
     "varRefreshCmd": "cat(var_dic_list()) "
    }
   },
   "types_to_exclude": [
    "module",
    "function",
    "builtin_function_or_method",
    "instance",
    "_Feature"
   ],
   "window_display": false
  }
 },
 "nbformat": 4,
 "nbformat_minor": 2
}
